{
  "cells": [
    {
      "cell_type": "code",
      "execution_count": null,
      "metadata": {
        "colab": {
          "base_uri": "https://localhost:8080/"
        },
        "id": "AKWqxr2aVt3v",
        "outputId": "3253f484-ced1-4174-d4e9-aa05fabc1bcb"
      },
      "outputs": [
        {
          "output_type": "stream",
          "name": "stdout",
          "text": [
            "Mounted at /content/drive\n"
          ]
        }
      ],
      "source": [
        "from google.colab import drive\n",
        "drive.mount('/content/drive')"
      ]
    },
    {
      "cell_type": "code",
      "execution_count": null,
      "metadata": {
        "id": "ZVBgQGtIBntF"
      },
      "outputs": [],
      "source": [
        "# unzip the dataset\n",
        "# import zipfile\n",
        "# zip_ref = zipfile.ZipFile(\"/content/drive/MyDrive/capstone/Echos.zip\", 'r')\n",
        "# zip_ref.extractall(\"/content/drive/MyDrive/capstone/Echos\")\n",
        "# zip_ref.close()\n"
      ]
    },
    {
      "cell_type": "code",
      "execution_count": null,
      "metadata": {
        "colab": {
          "base_uri": "https://localhost:8080/"
        },
        "id": "cql6dVSIK5i_",
        "outputId": "df4577cc-4a50-44cb-bf80-a235bdb650d4"
      },
      "outputs": [
        {
          "output_type": "stream",
          "name": "stdout",
          "text": [
            "Looking in indexes: https://pypi.org/simple, https://us-python.pkg.dev/colab-wheels/public/simple/\n",
            "Collecting pydicom\n",
            "  Downloading pydicom-2.3.1-py3-none-any.whl (2.0 MB)\n",
            "\u001b[2K     \u001b[90m━━━━━━━━━━━━━━━━━━━━━━━━━━━━━━━━━━━━━━━━\u001b[0m \u001b[32m2.0/2.0 MB\u001b[0m \u001b[31m37.3 MB/s\u001b[0m eta \u001b[36m0:00:00\u001b[0m\n",
            "\u001b[?25hInstalling collected packages: pydicom\n",
            "Successfully installed pydicom-2.3.1\n"
          ]
        }
      ],
      "source": [
        "# !pip install SimpleITK\n",
        "!pip install pydicom"
      ]
    },
    {
      "cell_type": "code",
      "source": [
        "# !pip install gdcm\n",
        "# !pip install pylibjpeg pylibjpeg-libjpeg\n"
      ],
      "metadata": {
        "id": "pauJ4XUU6s4i"
      },
      "execution_count": null,
      "outputs": []
    },
    {
      "cell_type": "code",
      "execution_count": null,
      "metadata": {
        "id": "UfIdkkvmBeI9"
      },
      "outputs": [],
      "source": [
        "import os\n",
        "# import SimpleITK as sikt\n",
        "# import pydicom\n",
        "import numpy as np\n",
        "import random\n",
        "import matplotlib.pyplot as plt\n",
        "from PIL import Image\n",
        "import cv2 as cv2\n",
        "import imageio\n",
        "from pathlib import Path\n",
        "from torchvision import transforms\n",
        "from pathlib import Path\n",
        "import scipy.misc\n",
        "from tqdm import tqdm"
      ]
    },
    {
      "cell_type": "markdown",
      "metadata": {
        "id": "mV9Tr8lyBeJB"
      },
      "source": [
        "define the path to the dicom files and also the path to store the processed npy files"
      ]
    },
    {
      "cell_type": "code",
      "execution_count": null,
      "metadata": {
        "id": "fwfdpkAmBeJC"
      },
      "outputs": [],
      "source": [
        "ROOT_PATH = Path(r\"/content/drive/MyDrive/capstone/dataset/Echos\")\n",
        "SAVE_PATH = Path(r\"/content/drive/MyDrive/capstone/dataset/Processed_with_pydicom\")"
      ]
    },
    {
      "cell_type": "code",
      "execution_count": null,
      "metadata": {
        "id": "ASLqHF5BIspo"
      },
      "outputs": [],
      "source": [
        "# # test on single dicom\n",
        "# dcm_path = '/content/drive/MyDrive/capstone/dataset/Echos/STEMI/0012/PT000000/ST000000/SE000001/IM000003'\n",
        "# # image = sitk.ReadImage(dcm_path)\n",
        "# # image_array = sitk.GetArrayFromImage(image)\n",
        "# dcm = pydicom.read_file(dcm_path).pixel_array"
      ]
    },
    {
      "cell_type": "markdown",
      "metadata": {
        "id": "yvhLZnSPBeJD"
      },
      "source": [
        "## Dicom Reading & Effective storage"
      ]
    },
    {
      "cell_type": "markdown",
      "metadata": {
        "id": "-WWAPsF4BeJD"
      },
      "source": [
        "存储为npy数组(float16)  [单通道]"
      ]
    },
    {
      "cell_type": "code",
      "execution_count": null,
      "metadata": {
        "id": "rAyy9sGmBeJE"
      },
      "outputs": [],
      "source": [
        "import logging\n",
        "\n",
        "def load_img(root_path,save_path):\n",
        "  \"\"\"\n",
        "  load data as npy template (e.g. LVT/XXX/PT000000/ST000000/SE000001 or STEMI/XXX/PT000000/ST000000/SE000000)\n",
        "  :param root_path\n",
        "  :return: None\n",
        "  \"\"\"\n",
        "  order = 1\n",
        "  patient = []\n",
        "  class_dict = {'STEMI':0, 'LVT': 1}\n",
        "\n",
        "  for root,dirs,files in tqdm(os.walk(root_path)): \n",
        "    if len(files) > 1:\n",
        "      print('processing:',root)\n",
        "      for file in files: # file: a video \"IM000000\"\n",
        "        root = Path(root)\n",
        "        dcm_path = root/file   \n",
        "        patient_id = str(dcm_path).split(\"/\")[-5] \n",
        "        if patient_id not in patient:\n",
        "          order = 1\n",
        "          patient.append(patient_id)\n",
        "        label = class_dict[str(dcm_path).split(\"/\")[-6]]\n",
        "        try: \n",
        "          dcm_array = pydicom.read_file(dcm_path).pixel_array         \n",
        "        except RuntimeError as e:\n",
        "          logging.error(f\"Error reading DICOM file: {dcm_path}, {e}\")\n",
        "          continue #skip the problematic file\n",
        "        except ValueError as e:\n",
        "          logging.error(f\"Error reading DICOM file: {dcm_path}, {e}\")\n",
        "          continue #skip the problematic file\n",
        "        else:\n",
        "          if len(dcm_array.shape) == 4:\n",
        "            current_save_path = save_path/str(label)/str(patient_id)\n",
        "            current_save_path.mkdir(parents=True,exist_ok=True)\n",
        "            \n",
        "            dcm_array = (dcm_array[:,:,:,0] ) #存储单通道数据\n",
        "            \n",
        "            np.save(current_save_path/str(order),dcm_array.astype(np.float16))  # Save the array in the corresponding directory\n",
        "            order += 1\n",
        "          "
      ]
    },
    {
      "cell_type": "code",
      "execution_count": null,
      "metadata": {
        "colab": {
          "base_uri": "https://localhost:8080/"
        },
        "id": "zaZfXW9HBeJF",
        "outputId": "da5a3329-fa14-40f5-fd60-871dbe3e2d14"
      },
      "outputs": [
        {
          "output_type": "stream",
          "name": "stderr",
          "text": [
            "10it [00:45,  3.89s/it]"
          ]
        },
        {
          "output_type": "stream",
          "name": "stdout",
          "text": [
            "processing: /content/drive/MyDrive/capstone/dataset/Echos/STEMI/0002/PT000000/ST000000/SE000001\n"
          ]
        },
        {
          "output_type": "stream",
          "name": "stderr",
          "text": [
            "15it [01:10,  3.44s/it]"
          ]
        },
        {
          "output_type": "stream",
          "name": "stdout",
          "text": [
            "processing: /content/drive/MyDrive/capstone/dataset/Echos/STEMI/0003/PT000000/ST000000/SE000001\n"
          ]
        },
        {
          "output_type": "stream",
          "name": "stderr",
          "text": [
            "20it [01:43,  3.95s/it]"
          ]
        },
        {
          "output_type": "stream",
          "name": "stdout",
          "text": [
            "processing: /content/drive/MyDrive/capstone/dataset/Echos/STEMI/0004/PT000000/ST000000/SE000001\n"
          ]
        },
        {
          "output_type": "stream",
          "name": "stderr",
          "text": [
            "25it [02:20,  4.48s/it]"
          ]
        },
        {
          "output_type": "stream",
          "name": "stdout",
          "text": [
            "processing: /content/drive/MyDrive/capstone/dataset/Echos/STEMI/0005/PT000000/ST000000/SE000001\n"
          ]
        },
        {
          "output_type": "stream",
          "name": "stderr",
          "text": [
            "30it [03:12,  5.81s/it]"
          ]
        },
        {
          "output_type": "stream",
          "name": "stdout",
          "text": [
            "processing: /content/drive/MyDrive/capstone/dataset/Echos/STEMI/0006/PT000000/ST000000/SE000001\n"
          ]
        },
        {
          "output_type": "stream",
          "name": "stderr",
          "text": [
            "35it [03:42,  4.41s/it]"
          ]
        },
        {
          "output_type": "stream",
          "name": "stdout",
          "text": [
            "processing: /content/drive/MyDrive/capstone/dataset/Echos/STEMI/0007/PT000000/ST000000/SE000001\n"
          ]
        },
        {
          "output_type": "stream",
          "name": "stderr",
          "text": [
            "40it [05:01,  7.79s/it]"
          ]
        },
        {
          "output_type": "stream",
          "name": "stdout",
          "text": [
            "processing: /content/drive/MyDrive/capstone/dataset/Echos/STEMI/0008/PT000000/ST000000/SE000001\n"
          ]
        },
        {
          "output_type": "stream",
          "name": "stderr",
          "text": [
            "45it [05:34,  4.81s/it]"
          ]
        },
        {
          "output_type": "stream",
          "name": "stdout",
          "text": [
            "processing: /content/drive/MyDrive/capstone/dataset/Echos/STEMI/0009/PT000000/ST000000/SE000001\n"
          ]
        },
        {
          "output_type": "stream",
          "name": "stderr",
          "text": [
            "50it [06:14,  4.66s/it]"
          ]
        },
        {
          "output_type": "stream",
          "name": "stdout",
          "text": [
            "processing: /content/drive/MyDrive/capstone/dataset/Echos/STEMI/0010/PT000000/ST000000/SE000001\n"
          ]
        },
        {
          "output_type": "stream",
          "name": "stderr",
          "text": [
            "55it [06:41,  3.72s/it]"
          ]
        },
        {
          "output_type": "stream",
          "name": "stdout",
          "text": [
            "processing: /content/drive/MyDrive/capstone/dataset/Echos/STEMI/0011/PT000000/ST000000/SE000001\n"
          ]
        },
        {
          "output_type": "stream",
          "name": "stderr",
          "text": [
            "\r56it [07:18, 10.96s/it]"
          ]
        },
        {
          "output_type": "stream",
          "name": "stdout",
          "text": [
            "processing: /content/drive/MyDrive/capstone/dataset/Echos/STEMI/0012/PT000000/ST000000/SE000001\n"
          ]
        },
        {
          "output_type": "stream",
          "name": "stderr",
          "text": [
            "ERROR:root:Error reading DICOM file: /content/drive/MyDrive/capstone/dataset/Echos/STEMI/0012/PT000000/ST000000/SE000001/IM000003, The following handlers are available to decode the pixel data however they are missing required dependencies: GDCM (req. ), pylibjpeg (req. )\n",
            "ERROR:root:Error reading DICOM file: /content/drive/MyDrive/capstone/dataset/Echos/STEMI/0012/PT000000/ST000000/SE000001/IM000006, The following handlers are available to decode the pixel data however they are missing required dependencies: GDCM (req. ), pylibjpeg (req. )\n",
            "ERROR:root:Error reading DICOM file: /content/drive/MyDrive/capstone/dataset/Echos/STEMI/0012/PT000000/ST000000/SE000001/IM000008, The following handlers are available to decode the pixel data however they are missing required dependencies: GDCM (req. ), pylibjpeg (req. )\n",
            "ERROR:root:Error reading DICOM file: /content/drive/MyDrive/capstone/dataset/Echos/STEMI/0012/PT000000/ST000000/SE000001/IM000013, The following handlers are available to decode the pixel data however they are missing required dependencies: GDCM (req. ), pylibjpeg (req. )\n",
            "ERROR:root:Error reading DICOM file: /content/drive/MyDrive/capstone/dataset/Echos/STEMI/0012/PT000000/ST000000/SE000001/IM000014, The following handlers are available to decode the pixel data however they are missing required dependencies: GDCM (req. ), pylibjpeg (req. )\n",
            "ERROR:root:Error reading DICOM file: /content/drive/MyDrive/capstone/dataset/Echos/STEMI/0012/PT000000/ST000000/SE000001/IM000015, The following handlers are available to decode the pixel data however they are missing required dependencies: GDCM (req. ), pylibjpeg (req. )\n",
            "ERROR:root:Error reading DICOM file: /content/drive/MyDrive/capstone/dataset/Echos/STEMI/0012/PT000000/ST000000/SE000001/IM000017, The following handlers are available to decode the pixel data however they are missing required dependencies: GDCM (req. ), pylibjpeg (req. )\n",
            "ERROR:root:Error reading DICOM file: /content/drive/MyDrive/capstone/dataset/Echos/STEMI/0012/PT000000/ST000000/SE000001/IM000018, The following handlers are available to decode the pixel data however they are missing required dependencies: GDCM (req. ), pylibjpeg (req. )\n",
            "ERROR:root:Error reading DICOM file: /content/drive/MyDrive/capstone/dataset/Echos/STEMI/0012/PT000000/ST000000/SE000001/IM000020, The following handlers are available to decode the pixel data however they are missing required dependencies: GDCM (req. ), pylibjpeg (req. )\n",
            "ERROR:root:Error reading DICOM file: /content/drive/MyDrive/capstone/dataset/Echos/STEMI/0012/PT000000/ST000000/SE000001/IM000021, The following handlers are available to decode the pixel data however they are missing required dependencies: GDCM (req. ), pylibjpeg (req. )\n",
            "ERROR:root:Error reading DICOM file: /content/drive/MyDrive/capstone/dataset/Echos/STEMI/0012/PT000000/ST000000/SE000001/IM000028, The following handlers are available to decode the pixel data however they are missing required dependencies: GDCM (req. ), pylibjpeg (req. )\n",
            "ERROR:root:Error reading DICOM file: /content/drive/MyDrive/capstone/dataset/Echos/STEMI/0012/PT000000/ST000000/SE000001/IM000036, The following handlers are available to decode the pixel data however they are missing required dependencies: GDCM (req. ), pylibjpeg (req. )\n",
            "ERROR:root:Error reading DICOM file: /content/drive/MyDrive/capstone/dataset/Echos/STEMI/0012/PT000000/ST000000/SE000001/IM000040, The following handlers are available to decode the pixel data however they are missing required dependencies: GDCM (req. ), pylibjpeg (req. )\n",
            "ERROR:root:Error reading DICOM file: /content/drive/MyDrive/capstone/dataset/Echos/STEMI/0012/PT000000/ST000000/SE000001/IM000041, The following handlers are available to decode the pixel data however they are missing required dependencies: GDCM (req. ), pylibjpeg (req. )\n",
            "ERROR:root:Error reading DICOM file: /content/drive/MyDrive/capstone/dataset/Echos/STEMI/0012/PT000000/ST000000/SE000001/IM000044, The following handlers are available to decode the pixel data however they are missing required dependencies: GDCM (req. ), pylibjpeg (req. )\n",
            "ERROR:root:Error reading DICOM file: /content/drive/MyDrive/capstone/dataset/Echos/STEMI/0012/PT000000/ST000000/SE000001/IM000045, The following handlers are available to decode the pixel data however they are missing required dependencies: GDCM (req. ), pylibjpeg (req. )\n",
            "ERROR:root:Error reading DICOM file: /content/drive/MyDrive/capstone/dataset/Echos/STEMI/0012/PT000000/ST000000/SE000001/IM000047, The following handlers are available to decode the pixel data however they are missing required dependencies: GDCM (req. ), pylibjpeg (req. )\n",
            "ERROR:root:Error reading DICOM file: /content/drive/MyDrive/capstone/dataset/Echos/STEMI/0012/PT000000/ST000000/SE000001/IM000053, The following handlers are available to decode the pixel data however they are missing required dependencies: GDCM (req. ), pylibjpeg (req. )\n",
            "ERROR:root:Error reading DICOM file: /content/drive/MyDrive/capstone/dataset/Echos/STEMI/0012/PT000000/ST000000/SE000001/IM000056, The following handlers are available to decode the pixel data however they are missing required dependencies: GDCM (req. ), pylibjpeg (req. )\n",
            "ERROR:root:Error reading DICOM file: /content/drive/MyDrive/capstone/dataset/Echos/STEMI/0012/PT000000/ST000000/SE000001/IM000057, The following handlers are available to decode the pixel data however they are missing required dependencies: GDCM (req. ), pylibjpeg (req. )\n",
            "ERROR:root:Error reading DICOM file: /content/drive/MyDrive/capstone/dataset/Echos/STEMI/0012/PT000000/ST000000/SE000001/IM000063, The following handlers are available to decode the pixel data however they are missing required dependencies: GDCM (req. ), pylibjpeg (req. )\n",
            "ERROR:root:Error reading DICOM file: /content/drive/MyDrive/capstone/dataset/Echos/STEMI/0012/PT000000/ST000000/SE000001/IM000065, The following handlers are available to decode the pixel data however they are missing required dependencies: GDCM (req. ), pylibjpeg (req. )\n",
            "ERROR:root:Error reading DICOM file: /content/drive/MyDrive/capstone/dataset/Echos/STEMI/0012/PT000000/ST000000/SE000001/IM000067, The following handlers are available to decode the pixel data however they are missing required dependencies: GDCM (req. ), pylibjpeg (req. )\n",
            "ERROR:root:Error reading DICOM file: /content/drive/MyDrive/capstone/dataset/Echos/STEMI/0012/PT000000/ST000000/SE000001/IM000069, The following handlers are available to decode the pixel data however they are missing required dependencies: GDCM (req. ), pylibjpeg (req. )\n",
            "ERROR:root:Error reading DICOM file: /content/drive/MyDrive/capstone/dataset/Echos/STEMI/0012/PT000000/ST000000/SE000001/IM000073, The following handlers are available to decode the pixel data however they are missing required dependencies: GDCM (req. ), pylibjpeg (req. )\n",
            "ERROR:root:Error reading DICOM file: /content/drive/MyDrive/capstone/dataset/Echos/STEMI/0012/PT000000/ST000000/SE000001/IM000076, The following handlers are available to decode the pixel data however they are missing required dependencies: GDCM (req. ), pylibjpeg (req. )\n",
            "ERROR:root:Error reading DICOM file: /content/drive/MyDrive/capstone/dataset/Echos/STEMI/0012/PT000000/ST000000/SE000001/IM000080, The following handlers are available to decode the pixel data however they are missing required dependencies: GDCM (req. ), pylibjpeg (req. )\n",
            "ERROR:root:Error reading DICOM file: /content/drive/MyDrive/capstone/dataset/Echos/STEMI/0012/PT000000/ST000000/SE000001/IM000087, The following handlers are available to decode the pixel data however they are missing required dependencies: GDCM (req. ), pylibjpeg (req. )\n",
            "ERROR:root:Error reading DICOM file: /content/drive/MyDrive/capstone/dataset/Echos/STEMI/0012/PT000000/ST000000/SE000001/IM000091, The following handlers are available to decode the pixel data however they are missing required dependencies: GDCM (req. ), pylibjpeg (req. )\n",
            "ERROR:root:Error reading DICOM file: /content/drive/MyDrive/capstone/dataset/Echos/STEMI/0012/PT000000/ST000000/SE000001/IM000095, The following handlers are available to decode the pixel data however they are missing required dependencies: GDCM (req. ), pylibjpeg (req. )\n",
            "ERROR:root:Error reading DICOM file: /content/drive/MyDrive/capstone/dataset/Echos/STEMI/0012/PT000000/ST000000/SE000001/IM000096, The following handlers are available to decode the pixel data however they are missing required dependencies: GDCM (req. ), pylibjpeg (req. )\n",
            "ERROR:root:Error reading DICOM file: /content/drive/MyDrive/capstone/dataset/Echos/STEMI/0012/PT000000/ST000000/SE000001/IM000097, The following handlers are available to decode the pixel data however they are missing required dependencies: GDCM (req. ), pylibjpeg (req. )\n",
            "ERROR:root:Error reading DICOM file: /content/drive/MyDrive/capstone/dataset/Echos/STEMI/0012/PT000000/ST000000/SE000001/IM000100, The following handlers are available to decode the pixel data however they are missing required dependencies: GDCM (req. ), pylibjpeg (req. )\n",
            "ERROR:root:Error reading DICOM file: /content/drive/MyDrive/capstone/dataset/Echos/STEMI/0012/PT000000/ST000000/SE000001/IM000101, The following handlers are available to decode the pixel data however they are missing required dependencies: GDCM (req. ), pylibjpeg (req. )\n",
            "ERROR:root:Error reading DICOM file: /content/drive/MyDrive/capstone/dataset/Echos/STEMI/0012/PT000000/ST000000/SE000001/IM000102, The following handlers are available to decode the pixel data however they are missing required dependencies: GDCM (req. ), pylibjpeg (req. )\n",
            "65it [08:17,  5.93s/it]"
          ]
        },
        {
          "output_type": "stream",
          "name": "stdout",
          "text": [
            "processing: /content/drive/MyDrive/capstone/dataset/Echos/STEMI/0013/PT000000/ST000000/SE000001\n"
          ]
        },
        {
          "output_type": "stream",
          "name": "stderr",
          "text": [
            "70it [09:20,  6.80s/it]"
          ]
        },
        {
          "output_type": "stream",
          "name": "stdout",
          "text": [
            "processing: /content/drive/MyDrive/capstone/dataset/Echos/STEMI/0014/PT000000/ST000000/SE000001\n"
          ]
        },
        {
          "output_type": "stream",
          "name": "stderr",
          "text": [
            "75it [09:49,  4.22s/it]"
          ]
        },
        {
          "output_type": "stream",
          "name": "stdout",
          "text": [
            "processing: /content/drive/MyDrive/capstone/dataset/Echos/STEMI/0015/PT000000/ST000000/SE000001\n"
          ]
        },
        {
          "output_type": "stream",
          "name": "stderr",
          "text": [
            "80it [10:22,  3.96s/it]"
          ]
        },
        {
          "output_type": "stream",
          "name": "stdout",
          "text": [
            "processing: /content/drive/MyDrive/capstone/dataset/Echos/STEMI/0016/PT000000/ST000000/SE000001\n"
          ]
        },
        {
          "output_type": "stream",
          "name": "stderr",
          "text": [
            "85it [10:55,  3.77s/it]"
          ]
        },
        {
          "output_type": "stream",
          "name": "stdout",
          "text": [
            "processing: /content/drive/MyDrive/capstone/dataset/Echos/STEMI/0018/PT000000/ST000000/SE000001\n"
          ]
        },
        {
          "output_type": "stream",
          "name": "stderr",
          "text": [
            "89it [11:29,  5.18s/it]"
          ]
        },
        {
          "output_type": "stream",
          "name": "stdout",
          "text": [
            "processing: /content/drive/MyDrive/capstone/dataset/Echos/STEMI/0019/PT000000/ST000000/SE000000\n"
          ]
        },
        {
          "output_type": "stream",
          "name": "stderr",
          "text": [
            "95it [12:12,  4.74s/it]"
          ]
        },
        {
          "output_type": "stream",
          "name": "stdout",
          "text": [
            "processing: /content/drive/MyDrive/capstone/dataset/Echos/STEMI/0020/PT000000/ST000000/SE000001\n"
          ]
        },
        {
          "output_type": "stream",
          "name": "stderr",
          "text": [
            "100it [12:36,  3.72s/it]"
          ]
        },
        {
          "output_type": "stream",
          "name": "stdout",
          "text": [
            "processing: /content/drive/MyDrive/capstone/dataset/Echos/STEMI/0021/PT000000/ST000000/SE000001\n"
          ]
        },
        {
          "output_type": "stream",
          "name": "stderr",
          "text": [
            "105it [13:18,  4.47s/it]"
          ]
        },
        {
          "output_type": "stream",
          "name": "stdout",
          "text": [
            "processing: /content/drive/MyDrive/capstone/dataset/Echos/STEMI/0023/PT000000/ST000000/SE000001\n"
          ]
        },
        {
          "output_type": "stream",
          "name": "stderr",
          "text": [
            "109it [13:50,  5.08s/it]"
          ]
        },
        {
          "output_type": "stream",
          "name": "stdout",
          "text": [
            "processing: /content/drive/MyDrive/capstone/dataset/Echos/STEMI/0025/PT000000/ST000000/SE000000\n"
          ]
        },
        {
          "output_type": "stream",
          "name": "stderr",
          "text": [
            "113it [14:14,  4.72s/it]"
          ]
        },
        {
          "output_type": "stream",
          "name": "stdout",
          "text": [
            "processing: /content/drive/MyDrive/capstone/dataset/Echos/STEMI/0026/PT000000/ST000000/SE000000\n"
          ]
        },
        {
          "output_type": "stream",
          "name": "stderr",
          "text": [
            "120it [14:38,  3.07s/it]"
          ]
        },
        {
          "output_type": "stream",
          "name": "stdout",
          "text": [
            "processing: /content/drive/MyDrive/capstone/dataset/Echos/STEMI/0027/PT000000/ST000000/SE000001\n"
          ]
        },
        {
          "output_type": "stream",
          "name": "stderr",
          "text": [
            "123it [15:20,  6.47s/it]"
          ]
        },
        {
          "output_type": "stream",
          "name": "stdout",
          "text": [
            "processing: /content/drive/MyDrive/capstone/dataset/Echos/STEMI/0028/PT000000/ST000000/SE000000\n"
          ]
        },
        {
          "output_type": "stream",
          "name": "stderr",
          "text": [
            "130it [15:48,  3.84s/it]"
          ]
        },
        {
          "output_type": "stream",
          "name": "stdout",
          "text": [
            "processing: /content/drive/MyDrive/capstone/dataset/Echos/STEMI/0031/PT000000/ST000000/SE000001\n"
          ]
        },
        {
          "output_type": "stream",
          "name": "stderr",
          "text": [
            "135it [16:27,  4.91s/it]"
          ]
        },
        {
          "output_type": "stream",
          "name": "stdout",
          "text": [
            "processing: /content/drive/MyDrive/capstone/dataset/Echos/STEMI/0032/PT000000/ST000000/SE000001\n"
          ]
        },
        {
          "output_type": "stream",
          "name": "stderr",
          "text": [
            "140it [16:59,  3.99s/it]"
          ]
        },
        {
          "output_type": "stream",
          "name": "stdout",
          "text": [
            "processing: /content/drive/MyDrive/capstone/dataset/Echos/STEMI/0033/PT000000/ST000000/SE000001\n"
          ]
        },
        {
          "output_type": "stream",
          "name": "stderr",
          "text": [
            "145it [17:39,  4.49s/it]"
          ]
        },
        {
          "output_type": "stream",
          "name": "stdout",
          "text": [
            "processing: /content/drive/MyDrive/capstone/dataset/Echos/STEMI/0035/PT000000/ST000000/SE000001\n"
          ]
        },
        {
          "output_type": "stream",
          "name": "stderr",
          "text": [
            "150it [18:14,  4.14s/it]"
          ]
        },
        {
          "output_type": "stream",
          "name": "stdout",
          "text": [
            "processing: /content/drive/MyDrive/capstone/dataset/Echos/STEMI/0036/PT000000/ST000000/SE000001\n"
          ]
        },
        {
          "output_type": "stream",
          "name": "stderr",
          "text": [
            "155it [18:47,  3.87s/it]"
          ]
        },
        {
          "output_type": "stream",
          "name": "stdout",
          "text": [
            "processing: /content/drive/MyDrive/capstone/dataset/Echos/STEMI/0038/PT000000/ST000000/SE000001\n"
          ]
        },
        {
          "output_type": "stream",
          "name": "stderr",
          "text": [
            "159it [19:26,  5.82s/it]"
          ]
        },
        {
          "output_type": "stream",
          "name": "stdout",
          "text": [
            "processing: /content/drive/MyDrive/capstone/dataset/Echos/STEMI/0039/PT000000/ST000000/SE000000\n"
          ]
        },
        {
          "output_type": "stream",
          "name": "stderr",
          "text": [
            "ERROR:root:Error reading DICOM file: /content/drive/MyDrive/capstone/dataset/Echos/STEMI/0039/PT000000/ST000000/SE000000/IM000003, The RLE header specifies an invalid number of segments (3774863615)\n",
            "ERROR:root:Error reading DICOM file: /content/drive/MyDrive/capstone/dataset/Echos/STEMI/0039/PT000000/ST000000/SE000000/IM000007, The RLE header specifies an invalid number of segments (3774863615)\n",
            "ERROR:root:Error reading DICOM file: /content/drive/MyDrive/capstone/dataset/Echos/STEMI/0039/PT000000/ST000000/SE000000/IM000009, The RLE header specifies an invalid number of segments (3774863615)\n",
            "ERROR:root:Error reading DICOM file: /content/drive/MyDrive/capstone/dataset/Echos/STEMI/0039/PT000000/ST000000/SE000000/IM000011, The RLE header specifies an invalid number of segments (3774863615)\n",
            "ERROR:root:Error reading DICOM file: /content/drive/MyDrive/capstone/dataset/Echos/STEMI/0039/PT000000/ST000000/SE000000/IM000015, The RLE header specifies an invalid number of segments (3774863615)\n",
            "ERROR:root:Error reading DICOM file: /content/drive/MyDrive/capstone/dataset/Echos/STEMI/0039/PT000000/ST000000/SE000000/IM000020, The RLE header specifies an invalid number of segments (3774863615)\n",
            "ERROR:root:Error reading DICOM file: /content/drive/MyDrive/capstone/dataset/Echos/STEMI/0039/PT000000/ST000000/SE000000/IM000023, The RLE header specifies an invalid number of segments (3774863615)\n",
            "ERROR:root:Error reading DICOM file: /content/drive/MyDrive/capstone/dataset/Echos/STEMI/0039/PT000000/ST000000/SE000000/IM000030, The RLE header specifies an invalid number of segments (3774863615)\n",
            "ERROR:root:Error reading DICOM file: /content/drive/MyDrive/capstone/dataset/Echos/STEMI/0039/PT000000/ST000000/SE000000/IM000031, The RLE header specifies an invalid number of segments (3774863615)\n",
            "ERROR:root:Error reading DICOM file: /content/drive/MyDrive/capstone/dataset/Echos/STEMI/0039/PT000000/ST000000/SE000000/IM000032, The RLE header specifies an invalid number of segments (3774863615)\n",
            "ERROR:root:Error reading DICOM file: /content/drive/MyDrive/capstone/dataset/Echos/STEMI/0039/PT000000/ST000000/SE000000/IM000036, The RLE header specifies an invalid number of segments (3774863615)\n",
            "ERROR:root:Error reading DICOM file: /content/drive/MyDrive/capstone/dataset/Echos/STEMI/0039/PT000000/ST000000/SE000000/IM000038, The RLE header specifies an invalid number of segments (3774863615)\n",
            "ERROR:root:Error reading DICOM file: /content/drive/MyDrive/capstone/dataset/Echos/STEMI/0039/PT000000/ST000000/SE000000/IM000042, The RLE header specifies an invalid number of segments (3774863615)\n",
            "ERROR:root:Error reading DICOM file: /content/drive/MyDrive/capstone/dataset/Echos/STEMI/0039/PT000000/ST000000/SE000000/IM000046, The RLE header specifies an invalid number of segments (3774863615)\n",
            "ERROR:root:Error reading DICOM file: /content/drive/MyDrive/capstone/dataset/Echos/STEMI/0039/PT000000/ST000000/SE000000/IM000051, The RLE header specifies an invalid number of segments (3774863615)\n",
            "ERROR:root:Error reading DICOM file: /content/drive/MyDrive/capstone/dataset/Echos/STEMI/0039/PT000000/ST000000/SE000000/IM000053, The RLE header specifies an invalid number of segments (3774863615)\n",
            "ERROR:root:Error reading DICOM file: /content/drive/MyDrive/capstone/dataset/Echos/STEMI/0039/PT000000/ST000000/SE000000/IM000054, The RLE header specifies an invalid number of segments (3774863615)\n",
            "ERROR:root:Error reading DICOM file: /content/drive/MyDrive/capstone/dataset/Echos/STEMI/0039/PT000000/ST000000/SE000000/IM000057, The RLE header specifies an invalid number of segments (3774863615)\n",
            "ERROR:root:Error reading DICOM file: /content/drive/MyDrive/capstone/dataset/Echos/STEMI/0039/PT000000/ST000000/SE000000/IM000058, The RLE header specifies an invalid number of segments (3774863615)\n",
            "ERROR:root:Error reading DICOM file: /content/drive/MyDrive/capstone/dataset/Echos/STEMI/0039/PT000000/ST000000/SE000000/IM000060, The RLE header specifies an invalid number of segments (3774863615)\n",
            "ERROR:root:Error reading DICOM file: /content/drive/MyDrive/capstone/dataset/Echos/STEMI/0039/PT000000/ST000000/SE000000/IM000061, The RLE header specifies an invalid number of segments (3774863615)\n",
            "ERROR:root:Error reading DICOM file: /content/drive/MyDrive/capstone/dataset/Echos/STEMI/0039/PT000000/ST000000/SE000000/IM000062, The RLE header specifies an invalid number of segments (3774863615)\n",
            "ERROR:root:Error reading DICOM file: /content/drive/MyDrive/capstone/dataset/Echos/STEMI/0039/PT000000/ST000000/SE000000/IM000063, The RLE header specifies an invalid number of segments (3774863615)\n",
            "ERROR:root:Error reading DICOM file: /content/drive/MyDrive/capstone/dataset/Echos/STEMI/0039/PT000000/ST000000/SE000000/IM000071, The RLE header specifies an invalid number of segments (3774863615)\n",
            "ERROR:root:Error reading DICOM file: /content/drive/MyDrive/capstone/dataset/Echos/STEMI/0039/PT000000/ST000000/SE000000/IM000072, The RLE header specifies an invalid number of segments (3774863615)\n",
            "ERROR:root:Error reading DICOM file: /content/drive/MyDrive/capstone/dataset/Echos/STEMI/0039/PT000000/ST000000/SE000000/IM000073, The RLE header specifies an invalid number of segments (3774863615)\n",
            "ERROR:root:Error reading DICOM file: /content/drive/MyDrive/capstone/dataset/Echos/STEMI/0039/PT000000/ST000000/SE000000/IM000080, The RLE header specifies an invalid number of segments (3774863615)\n",
            "ERROR:root:Error reading DICOM file: /content/drive/MyDrive/capstone/dataset/Echos/STEMI/0039/PT000000/ST000000/SE000000/IM000081, The RLE header specifies an invalid number of segments (3774863615)\n",
            "ERROR:root:Error reading DICOM file: /content/drive/MyDrive/capstone/dataset/Echos/STEMI/0039/PT000000/ST000000/SE000000/IM000082, The RLE header specifies an invalid number of segments (3774863615)\n",
            "ERROR:root:Error reading DICOM file: /content/drive/MyDrive/capstone/dataset/Echos/STEMI/0039/PT000000/ST000000/SE000000/IM000083, The RLE header specifies an invalid number of segments (3774863615)\n",
            "ERROR:root:Error reading DICOM file: /content/drive/MyDrive/capstone/dataset/Echos/STEMI/0039/PT000000/ST000000/SE000000/IM000084, The RLE header specifies an invalid number of segments (3774863615)\n",
            "ERROR:root:Error reading DICOM file: /content/drive/MyDrive/capstone/dataset/Echos/STEMI/0039/PT000000/ST000000/SE000000/IM000085, The RLE header specifies an invalid number of segments (3774863615)\n",
            "ERROR:root:Error reading DICOM file: /content/drive/MyDrive/capstone/dataset/Echos/STEMI/0039/PT000000/ST000000/SE000000/IM000086, The RLE header specifies an invalid number of segments (3774863615)\n",
            "ERROR:root:Error reading DICOM file: /content/drive/MyDrive/capstone/dataset/Echos/STEMI/0039/PT000000/ST000000/SE000000/IM000087, The RLE header specifies an invalid number of segments (3774863615)\n",
            "165it [19:34,  2.07s/it]"
          ]
        },
        {
          "output_type": "stream",
          "name": "stdout",
          "text": [
            "processing: /content/drive/MyDrive/capstone/dataset/Echos/STEMI/0041/PT000000/ST000000/SE000001\n"
          ]
        },
        {
          "output_type": "stream",
          "name": "stderr",
          "text": [
            "170it [20:08,  3.53s/it]"
          ]
        },
        {
          "output_type": "stream",
          "name": "stdout",
          "text": [
            "processing: /content/drive/MyDrive/capstone/dataset/Echos/STEMI/0045/PT000000/ST000000/SE000001\n"
          ]
        },
        {
          "output_type": "stream",
          "name": "stderr",
          "text": [
            "173it [20:56,  7.82s/it]"
          ]
        },
        {
          "output_type": "stream",
          "name": "stdout",
          "text": [
            "processing: /content/drive/MyDrive/capstone/dataset/Echos/STEMI/0046/PT000000/ST000000/SE000000\n"
          ]
        },
        {
          "output_type": "stream",
          "name": "stderr",
          "text": [
            "179it [21:36,  5.48s/it]"
          ]
        },
        {
          "output_type": "stream",
          "name": "stdout",
          "text": [
            "processing: /content/drive/MyDrive/capstone/dataset/Echos/STEMI/0047/PT000000/ST000000/SE000001\n"
          ]
        },
        {
          "output_type": "stream",
          "name": "stderr",
          "text": [
            "183it [22:17,  6.82s/it]"
          ]
        },
        {
          "output_type": "stream",
          "name": "stdout",
          "text": [
            "processing: /content/drive/MyDrive/capstone/dataset/Echos/STEMI/0048/PT000000/ST000000/SE000000\n"
          ]
        },
        {
          "output_type": "stream",
          "name": "stderr",
          "text": [
            "ERROR:root:Error reading DICOM file: /content/drive/MyDrive/capstone/dataset/Echos/STEMI/0048/PT000000/ST000000/SE000000/IM000003, The following handlers are available to decode the pixel data however they are missing required dependencies: GDCM (req. ), pylibjpeg (req. )\n",
            "183it [22:30,  6.82s/it]ERROR:root:Error reading DICOM file: /content/drive/MyDrive/capstone/dataset/Echos/STEMI/0048/PT000000/ST000000/SE000000/IM000013, The following handlers are available to decode the pixel data however they are missing required dependencies: GDCM (req. ), pylibjpeg (req. )\n",
            "ERROR:root:Error reading DICOM file: /content/drive/MyDrive/capstone/dataset/Echos/STEMI/0048/PT000000/ST000000/SE000000/IM000017, The following handlers are available to decode the pixel data however they are missing required dependencies: GDCM (req. ), pylibjpeg (req. )\n",
            "ERROR:root:Error reading DICOM file: /content/drive/MyDrive/capstone/dataset/Echos/STEMI/0048/PT000000/ST000000/SE000000/IM000019, The following handlers are available to decode the pixel data however they are missing required dependencies: GDCM (req. ), pylibjpeg (req. )\n",
            "ERROR:root:Error reading DICOM file: /content/drive/MyDrive/capstone/dataset/Echos/STEMI/0048/PT000000/ST000000/SE000000/IM000021, The following handlers are available to decode the pixel data however they are missing required dependencies: GDCM (req. ), pylibjpeg (req. )\n",
            "ERROR:root:Error reading DICOM file: /content/drive/MyDrive/capstone/dataset/Echos/STEMI/0048/PT000000/ST000000/SE000000/IM000023, The following handlers are available to decode the pixel data however they are missing required dependencies: GDCM (req. ), pylibjpeg (req. )\n",
            "ERROR:root:Error reading DICOM file: /content/drive/MyDrive/capstone/dataset/Echos/STEMI/0048/PT000000/ST000000/SE000000/IM000024, The following handlers are available to decode the pixel data however they are missing required dependencies: GDCM (req. ), pylibjpeg (req. )\n",
            "ERROR:root:Error reading DICOM file: /content/drive/MyDrive/capstone/dataset/Echos/STEMI/0048/PT000000/ST000000/SE000000/IM000025, The following handlers are available to decode the pixel data however they are missing required dependencies: GDCM (req. ), pylibjpeg (req. )\n",
            "ERROR:root:Error reading DICOM file: /content/drive/MyDrive/capstone/dataset/Echos/STEMI/0048/PT000000/ST000000/SE000000/IM000029, The following handlers are available to decode the pixel data however they are missing required dependencies: GDCM (req. ), pylibjpeg (req. )\n",
            "ERROR:root:Error reading DICOM file: /content/drive/MyDrive/capstone/dataset/Echos/STEMI/0048/PT000000/ST000000/SE000000/IM000033, The following handlers are available to decode the pixel data however they are missing required dependencies: GDCM (req. ), pylibjpeg (req. )\n",
            "ERROR:root:Error reading DICOM file: /content/drive/MyDrive/capstone/dataset/Echos/STEMI/0048/PT000000/ST000000/SE000000/IM000034, The following handlers are available to decode the pixel data however they are missing required dependencies: GDCM (req. ), pylibjpeg (req. )\n",
            "ERROR:root:Error reading DICOM file: /content/drive/MyDrive/capstone/dataset/Echos/STEMI/0048/PT000000/ST000000/SE000000/IM000037, The following handlers are available to decode the pixel data however they are missing required dependencies: GDCM (req. ), pylibjpeg (req. )\n",
            "ERROR:root:Error reading DICOM file: /content/drive/MyDrive/capstone/dataset/Echos/STEMI/0048/PT000000/ST000000/SE000000/IM000049, The following handlers are available to decode the pixel data however they are missing required dependencies: GDCM (req. ), pylibjpeg (req. )\n",
            "ERROR:root:Error reading DICOM file: /content/drive/MyDrive/capstone/dataset/Echos/STEMI/0048/PT000000/ST000000/SE000000/IM000051, The following handlers are available to decode the pixel data however they are missing required dependencies: GDCM (req. ), pylibjpeg (req. )\n",
            "ERROR:root:Error reading DICOM file: /content/drive/MyDrive/capstone/dataset/Echos/STEMI/0048/PT000000/ST000000/SE000000/IM000052, The following handlers are available to decode the pixel data however they are missing required dependencies: GDCM (req. ), pylibjpeg (req. )\n",
            "ERROR:root:Error reading DICOM file: /content/drive/MyDrive/capstone/dataset/Echos/STEMI/0048/PT000000/ST000000/SE000000/IM000061, The following handlers are available to decode the pixel data however they are missing required dependencies: GDCM (req. ), pylibjpeg (req. )\n",
            "ERROR:root:Error reading DICOM file: /content/drive/MyDrive/capstone/dataset/Echos/STEMI/0048/PT000000/ST000000/SE000000/IM000062, The following handlers are available to decode the pixel data however they are missing required dependencies: GDCM (req. ), pylibjpeg (req. )\n",
            "ERROR:root:Error reading DICOM file: /content/drive/MyDrive/capstone/dataset/Echos/STEMI/0048/PT000000/ST000000/SE000000/IM000067, The following handlers are available to decode the pixel data however they are missing required dependencies: GDCM (req. ), pylibjpeg (req. )\n",
            "ERROR:root:Error reading DICOM file: /content/drive/MyDrive/capstone/dataset/Echos/STEMI/0048/PT000000/ST000000/SE000000/IM000068, The following handlers are available to decode the pixel data however they are missing required dependencies: GDCM (req. ), pylibjpeg (req. )\n",
            "ERROR:root:Error reading DICOM file: /content/drive/MyDrive/capstone/dataset/Echos/STEMI/0048/PT000000/ST000000/SE000000/IM000070, The following handlers are available to decode the pixel data however they are missing required dependencies: GDCM (req. ), pylibjpeg (req. )\n",
            "ERROR:root:Error reading DICOM file: /content/drive/MyDrive/capstone/dataset/Echos/STEMI/0048/PT000000/ST000000/SE000000/IM000073, The following handlers are available to decode the pixel data however they are missing required dependencies: GDCM (req. ), pylibjpeg (req. )\n",
            "ERROR:root:Error reading DICOM file: /content/drive/MyDrive/capstone/dataset/Echos/STEMI/0048/PT000000/ST000000/SE000000/IM000080, The following handlers are available to decode the pixel data however they are missing required dependencies: GDCM (req. ), pylibjpeg (req. )\n",
            "ERROR:root:Error reading DICOM file: /content/drive/MyDrive/capstone/dataset/Echos/STEMI/0048/PT000000/ST000000/SE000000/IM000081, The following handlers are available to decode the pixel data however they are missing required dependencies: GDCM (req. ), pylibjpeg (req. )\n",
            "ERROR:root:Error reading DICOM file: /content/drive/MyDrive/capstone/dataset/Echos/STEMI/0048/PT000000/ST000000/SE000000/IM000090, The following handlers are available to decode the pixel data however they are missing required dependencies: GDCM (req. ), pylibjpeg (req. )\n",
            "ERROR:root:Error reading DICOM file: /content/drive/MyDrive/capstone/dataset/Echos/STEMI/0048/PT000000/ST000000/SE000000/IM000093, The following handlers are available to decode the pixel data however they are missing required dependencies: GDCM (req. ), pylibjpeg (req. )\n",
            "ERROR:root:Error reading DICOM file: /content/drive/MyDrive/capstone/dataset/Echos/STEMI/0048/PT000000/ST000000/SE000000/IM000097, The following handlers are available to decode the pixel data however they are missing required dependencies: GDCM (req. ), pylibjpeg (req. )\n",
            "ERROR:root:Error reading DICOM file: /content/drive/MyDrive/capstone/dataset/Echos/STEMI/0048/PT000000/ST000000/SE000000/IM000098, The following handlers are available to decode the pixel data however they are missing required dependencies: GDCM (req. ), pylibjpeg (req. )\n",
            "190it [24:27, 10.72s/it]"
          ]
        },
        {
          "output_type": "stream",
          "name": "stdout",
          "text": [
            "processing: /content/drive/MyDrive/capstone/dataset/Echos/STEMI/0049/PT000000/ST000000/SE000001\n"
          ]
        },
        {
          "output_type": "stream",
          "name": "stderr",
          "text": [
            "193it [24:54,  9.14s/it]"
          ]
        },
        {
          "output_type": "stream",
          "name": "stdout",
          "text": [
            "processing: /content/drive/MyDrive/capstone/dataset/Echos/STEMI/0050/PT000000/ST000000/SE000000\n"
          ]
        },
        {
          "output_type": "stream",
          "name": "stderr",
          "text": [
            "200it [25:30,  5.24s/it]"
          ]
        },
        {
          "output_type": "stream",
          "name": "stdout",
          "text": [
            "processing: /content/drive/MyDrive/capstone/dataset/Echos/STEMI/0051/PT000000/ST000000/SE000001\n"
          ]
        },
        {
          "output_type": "stream",
          "name": "stderr",
          "text": [
            "205it [26:09,  5.02s/it]"
          ]
        },
        {
          "output_type": "stream",
          "name": "stdout",
          "text": [
            "processing: /content/drive/MyDrive/capstone/dataset/Echos/STEMI/0052/PT000000/ST000000/SE000001\n"
          ]
        },
        {
          "output_type": "stream",
          "name": "stderr",
          "text": [
            "211it [26:34,  2.80s/it]"
          ]
        },
        {
          "output_type": "stream",
          "name": "stdout",
          "text": [
            "processing: /content/drive/MyDrive/capstone/dataset/Echos/STEMI/0054/PT000000/ST000000/SE000001\n"
          ]
        },
        {
          "output_type": "stream",
          "name": "stderr",
          "text": [
            "216it [27:11,  3.92s/it]"
          ]
        },
        {
          "output_type": "stream",
          "name": "stdout",
          "text": [
            "processing: /content/drive/MyDrive/capstone/dataset/Echos/STEMI/0055/PT000000/ST000000/SE000001\n"
          ]
        },
        {
          "output_type": "stream",
          "name": "stderr",
          "text": [
            "222it [27:39,  3.00s/it]"
          ]
        },
        {
          "output_type": "stream",
          "name": "stdout",
          "text": [
            "processing: /content/drive/MyDrive/capstone/dataset/Echos/STEMI/0056/PT000000/ST000000/SE000001\n"
          ]
        },
        {
          "output_type": "stream",
          "name": "stderr",
          "text": [
            "226it [28:14,  4.97s/it]"
          ]
        },
        {
          "output_type": "stream",
          "name": "stdout",
          "text": [
            "processing: /content/drive/MyDrive/capstone/dataset/Echos/STEMI/0057/PT000000/ST000000/SE000000\n"
          ]
        },
        {
          "output_type": "stream",
          "name": "stderr",
          "text": [
            "230it [30:29, 16.69s/it]"
          ]
        },
        {
          "output_type": "stream",
          "name": "stdout",
          "text": [
            "processing: /content/drive/MyDrive/capstone/dataset/Echos/STEMI/0058/PT000000/ST000000/SE000000\n"
          ]
        },
        {
          "output_type": "stream",
          "name": "stderr",
          "text": [
            "234it [30:59,  9.09s/it]"
          ]
        },
        {
          "output_type": "stream",
          "name": "stdout",
          "text": [
            "processing: /content/drive/MyDrive/capstone/dataset/Echos/STEMI/0059/PT000000/ST000000/SE000000\n"
          ]
        },
        {
          "output_type": "stream",
          "name": "stderr",
          "text": [
            "238it [32:14, 11.52s/it]"
          ]
        },
        {
          "output_type": "stream",
          "name": "stdout",
          "text": [
            "processing: /content/drive/MyDrive/capstone/dataset/Echos/STEMI/0060/PT000000/ST000000/SE000000\n"
          ]
        },
        {
          "output_type": "stream",
          "name": "stderr",
          "text": [
            "241it [32:57, 11.42s/it]"
          ]
        },
        {
          "output_type": "stream",
          "name": "stdout",
          "text": [
            "processing: /content/drive/MyDrive/capstone/dataset/Echos/STEMI/0061/PT000000/ST000000/SE000000\n"
          ]
        },
        {
          "output_type": "stream",
          "name": "stderr",
          "text": [
            "245it [33:19,  7.37s/it]"
          ]
        },
        {
          "output_type": "stream",
          "name": "stdout",
          "text": [
            "processing: /content/drive/MyDrive/capstone/dataset/Echos/STEMI/0062/PT000000/ST000000/SE000000\n"
          ]
        },
        {
          "output_type": "stream",
          "name": "stderr",
          "text": [
            "249it [33:54,  7.23s/it]"
          ]
        },
        {
          "output_type": "stream",
          "name": "stdout",
          "text": [
            "processing: /content/drive/MyDrive/capstone/dataset/Echos/STEMI/0063/PT000000/ST000000/SE000000\n"
          ]
        },
        {
          "output_type": "stream",
          "name": "stderr",
          "text": [
            "253it [34:22,  6.51s/it]"
          ]
        },
        {
          "output_type": "stream",
          "name": "stdout",
          "text": [
            "processing: /content/drive/MyDrive/capstone/dataset/Echos/STEMI/0064/PT000000/ST000000/SE000000\n"
          ]
        },
        {
          "output_type": "stream",
          "name": "stderr",
          "text": [
            "257it [34:48,  5.85s/it]"
          ]
        },
        {
          "output_type": "stream",
          "name": "stdout",
          "text": [
            "processing: /content/drive/MyDrive/capstone/dataset/Echos/STEMI/0066/PT000000/ST000000/SE000000\n"
          ]
        },
        {
          "output_type": "stream",
          "name": "stderr",
          "text": [
            "ERROR:root:Error reading DICOM file: /content/drive/MyDrive/capstone/dataset/Echos/STEMI/0066/PT000000/ST000000/SE000000/IM000000, The RLE header specifies an invalid number of segments (3774863615)\n",
            "ERROR:root:Error reading DICOM file: /content/drive/MyDrive/capstone/dataset/Echos/STEMI/0066/PT000000/ST000000/SE000000/IM000001, The RLE header specifies an invalid number of segments (3774863615)\n",
            "ERROR:root:Error reading DICOM file: /content/drive/MyDrive/capstone/dataset/Echos/STEMI/0066/PT000000/ST000000/SE000000/IM000002, The RLE header specifies an invalid number of segments (3774863615)\n",
            "ERROR:root:Error reading DICOM file: /content/drive/MyDrive/capstone/dataset/Echos/STEMI/0066/PT000000/ST000000/SE000000/IM000003, The RLE header specifies an invalid number of segments (3774863615)\n",
            "ERROR:root:Error reading DICOM file: /content/drive/MyDrive/capstone/dataset/Echos/STEMI/0066/PT000000/ST000000/SE000000/IM000004, The RLE header specifies an invalid number of segments (3774863615)\n",
            "ERROR:root:Error reading DICOM file: /content/drive/MyDrive/capstone/dataset/Echos/STEMI/0066/PT000000/ST000000/SE000000/IM000005, The RLE header specifies an invalid number of segments (3774863615)\n",
            "ERROR:root:Error reading DICOM file: /content/drive/MyDrive/capstone/dataset/Echos/STEMI/0066/PT000000/ST000000/SE000000/IM000006, The RLE header specifies an invalid number of segments (3774863615)\n",
            "ERROR:root:Error reading DICOM file: /content/drive/MyDrive/capstone/dataset/Echos/STEMI/0066/PT000000/ST000000/SE000000/IM000007, The RLE header specifies an invalid number of segments (3774863615)\n",
            "ERROR:root:Error reading DICOM file: /content/drive/MyDrive/capstone/dataset/Echos/STEMI/0066/PT000000/ST000000/SE000000/IM000008, The RLE header specifies an invalid number of segments (3774863615)\n",
            "ERROR:root:Error reading DICOM file: /content/drive/MyDrive/capstone/dataset/Echos/STEMI/0066/PT000000/ST000000/SE000000/IM000009, The RLE header specifies an invalid number of segments (3774863615)\n",
            "ERROR:root:Error reading DICOM file: /content/drive/MyDrive/capstone/dataset/Echos/STEMI/0066/PT000000/ST000000/SE000000/IM000010, The RLE header specifies an invalid number of segments (3774863615)\n",
            "ERROR:root:Error reading DICOM file: /content/drive/MyDrive/capstone/dataset/Echos/STEMI/0066/PT000000/ST000000/SE000000/IM000011, The RLE header specifies an invalid number of segments (3774863615)\n",
            "ERROR:root:Error reading DICOM file: /content/drive/MyDrive/capstone/dataset/Echos/STEMI/0066/PT000000/ST000000/SE000000/IM000012, The RLE header specifies an invalid number of segments (3774863615)\n",
            "ERROR:root:Error reading DICOM file: /content/drive/MyDrive/capstone/dataset/Echos/STEMI/0066/PT000000/ST000000/SE000000/IM000013, The RLE header specifies an invalid number of segments (3774863615)\n",
            "ERROR:root:Error reading DICOM file: /content/drive/MyDrive/capstone/dataset/Echos/STEMI/0066/PT000000/ST000000/SE000000/IM000014, The RLE header specifies an invalid number of segments (3774863615)\n",
            "ERROR:root:Error reading DICOM file: /content/drive/MyDrive/capstone/dataset/Echos/STEMI/0066/PT000000/ST000000/SE000000/IM000015, The RLE header specifies an invalid number of segments (3774863615)\n",
            "ERROR:root:Error reading DICOM file: /content/drive/MyDrive/capstone/dataset/Echos/STEMI/0066/PT000000/ST000000/SE000000/IM000016, The RLE header specifies an invalid number of segments (3774863615)\n",
            "ERROR:root:Error reading DICOM file: /content/drive/MyDrive/capstone/dataset/Echos/STEMI/0066/PT000000/ST000000/SE000000/IM000017, The RLE header specifies an invalid number of segments (3774863615)\n",
            "ERROR:root:Error reading DICOM file: /content/drive/MyDrive/capstone/dataset/Echos/STEMI/0066/PT000000/ST000000/SE000000/IM000018, The RLE header specifies an invalid number of segments (3774863615)\n",
            "ERROR:root:Error reading DICOM file: /content/drive/MyDrive/capstone/dataset/Echos/STEMI/0066/PT000000/ST000000/SE000000/IM000019, The RLE header specifies an invalid number of segments (3774863615)\n",
            "ERROR:root:Error reading DICOM file: /content/drive/MyDrive/capstone/dataset/Echos/STEMI/0066/PT000000/ST000000/SE000000/IM000020, The RLE header specifies an invalid number of segments (3774863615)\n",
            "ERROR:root:Error reading DICOM file: /content/drive/MyDrive/capstone/dataset/Echos/STEMI/0066/PT000000/ST000000/SE000000/IM000021, The RLE header specifies an invalid number of segments (3774863615)\n",
            "ERROR:root:Error reading DICOM file: /content/drive/MyDrive/capstone/dataset/Echos/STEMI/0066/PT000000/ST000000/SE000000/IM000022, The RLE header specifies an invalid number of segments (3774863615)\n",
            "ERROR:root:Error reading DICOM file: /content/drive/MyDrive/capstone/dataset/Echos/STEMI/0066/PT000000/ST000000/SE000000/IM000023, The RLE header specifies an invalid number of segments (3774863615)\n",
            "ERROR:root:Error reading DICOM file: /content/drive/MyDrive/capstone/dataset/Echos/STEMI/0066/PT000000/ST000000/SE000000/IM000024, The RLE header specifies an invalid number of segments (3774863615)\n",
            "ERROR:root:Error reading DICOM file: /content/drive/MyDrive/capstone/dataset/Echos/STEMI/0066/PT000000/ST000000/SE000000/IM000025, The RLE header specifies an invalid number of segments (3774863615)\n",
            "ERROR:root:Error reading DICOM file: /content/drive/MyDrive/capstone/dataset/Echos/STEMI/0066/PT000000/ST000000/SE000000/IM000026, The RLE header specifies an invalid number of segments (3774863615)\n",
            "ERROR:root:Error reading DICOM file: /content/drive/MyDrive/capstone/dataset/Echos/STEMI/0066/PT000000/ST000000/SE000000/IM000027, The RLE header specifies an invalid number of segments (3774863615)\n",
            "ERROR:root:Error reading DICOM file: /content/drive/MyDrive/capstone/dataset/Echos/STEMI/0066/PT000000/ST000000/SE000000/IM000028, The RLE header specifies an invalid number of segments (3774863615)\n",
            "ERROR:root:Error reading DICOM file: /content/drive/MyDrive/capstone/dataset/Echos/STEMI/0066/PT000000/ST000000/SE000000/IM000029, The RLE header specifies an invalid number of segments (3774863615)\n",
            "ERROR:root:Error reading DICOM file: /content/drive/MyDrive/capstone/dataset/Echos/STEMI/0066/PT000000/ST000000/SE000000/IM000030, The RLE header specifies an invalid number of segments (3774863615)\n",
            "ERROR:root:Error reading DICOM file: /content/drive/MyDrive/capstone/dataset/Echos/STEMI/0066/PT000000/ST000000/SE000000/IM000031, The RLE header specifies an invalid number of segments (3774863615)\n",
            "ERROR:root:Error reading DICOM file: /content/drive/MyDrive/capstone/dataset/Echos/STEMI/0066/PT000000/ST000000/SE000000/IM000032, The RLE header specifies an invalid number of segments (3774863615)\n",
            "ERROR:root:Error reading DICOM file: /content/drive/MyDrive/capstone/dataset/Echos/STEMI/0066/PT000000/ST000000/SE000000/IM000033, The RLE header specifies an invalid number of segments (3774863615)\n",
            "ERROR:root:Error reading DICOM file: /content/drive/MyDrive/capstone/dataset/Echos/STEMI/0066/PT000000/ST000000/SE000000/IM000034, The RLE header specifies an invalid number of segments (3774863615)\n",
            "ERROR:root:Error reading DICOM file: /content/drive/MyDrive/capstone/dataset/Echos/STEMI/0066/PT000000/ST000000/SE000000/IM000035, The RLE header specifies an invalid number of segments (3774863615)\n",
            "ERROR:root:Error reading DICOM file: /content/drive/MyDrive/capstone/dataset/Echos/STEMI/0066/PT000000/ST000000/SE000000/IM000036, The RLE header specifies an invalid number of segments (3774863615)\n",
            "ERROR:root:Error reading DICOM file: /content/drive/MyDrive/capstone/dataset/Echos/STEMI/0066/PT000000/ST000000/SE000000/IM000037, The RLE header specifies an invalid number of segments (3774863615)\n",
            "ERROR:root:Error reading DICOM file: /content/drive/MyDrive/capstone/dataset/Echos/STEMI/0066/PT000000/ST000000/SE000000/IM000038, The RLE header specifies an invalid number of segments (3774863615)\n",
            "ERROR:root:Error reading DICOM file: /content/drive/MyDrive/capstone/dataset/Echos/STEMI/0066/PT000000/ST000000/SE000000/IM000039, The RLE header specifies an invalid number of segments (3774863615)\n",
            "ERROR:root:Error reading DICOM file: /content/drive/MyDrive/capstone/dataset/Echos/STEMI/0066/PT000000/ST000000/SE000000/IM000040, The RLE header specifies an invalid number of segments (3774863615)\n",
            "ERROR:root:Error reading DICOM file: /content/drive/MyDrive/capstone/dataset/Echos/STEMI/0066/PT000000/ST000000/SE000000/IM000041, The RLE header specifies an invalid number of segments (3774863615)\n",
            "ERROR:root:Error reading DICOM file: /content/drive/MyDrive/capstone/dataset/Echos/STEMI/0066/PT000000/ST000000/SE000000/IM000042, The RLE header specifies an invalid number of segments (3774863615)\n",
            "ERROR:root:Error reading DICOM file: /content/drive/MyDrive/capstone/dataset/Echos/STEMI/0066/PT000000/ST000000/SE000000/IM000043, The RLE header specifies an invalid number of segments (3774863615)\n",
            "ERROR:root:Error reading DICOM file: /content/drive/MyDrive/capstone/dataset/Echos/STEMI/0066/PT000000/ST000000/SE000000/IM000044, The RLE header specifies an invalid number of segments (3774863615)\n",
            "ERROR:root:Error reading DICOM file: /content/drive/MyDrive/capstone/dataset/Echos/STEMI/0066/PT000000/ST000000/SE000000/IM000045, The RLE header specifies an invalid number of segments (3774863615)\n",
            "ERROR:root:Error reading DICOM file: /content/drive/MyDrive/capstone/dataset/Echos/STEMI/0066/PT000000/ST000000/SE000000/IM000046, The RLE header specifies an invalid number of segments (3774863615)\n",
            "ERROR:root:Error reading DICOM file: /content/drive/MyDrive/capstone/dataset/Echos/STEMI/0066/PT000000/ST000000/SE000000/IM000047, The RLE header specifies an invalid number of segments (3774863615)\n",
            "ERROR:root:Error reading DICOM file: /content/drive/MyDrive/capstone/dataset/Echos/STEMI/0066/PT000000/ST000000/SE000000/IM000048, The RLE header specifies an invalid number of segments (3774863615)\n",
            "ERROR:root:Error reading DICOM file: /content/drive/MyDrive/capstone/dataset/Echos/STEMI/0066/PT000000/ST000000/SE000000/IM000049, The RLE header specifies an invalid number of segments (3774863615)\n",
            "ERROR:root:Error reading DICOM file: /content/drive/MyDrive/capstone/dataset/Echos/STEMI/0066/PT000000/ST000000/SE000000/IM000050, The RLE header specifies an invalid number of segments (3774863615)\n",
            "ERROR:root:Error reading DICOM file: /content/drive/MyDrive/capstone/dataset/Echos/STEMI/0066/PT000000/ST000000/SE000000/IM000051, The RLE header specifies an invalid number of segments (3774863615)\n",
            "ERROR:root:Error reading DICOM file: /content/drive/MyDrive/capstone/dataset/Echos/STEMI/0066/PT000000/ST000000/SE000000/IM000052, The RLE header specifies an invalid number of segments (3774863615)\n",
            "ERROR:root:Error reading DICOM file: /content/drive/MyDrive/capstone/dataset/Echos/STEMI/0066/PT000000/ST000000/SE000000/IM000053, The RLE header specifies an invalid number of segments (3774863615)\n",
            "ERROR:root:Error reading DICOM file: /content/drive/MyDrive/capstone/dataset/Echos/STEMI/0066/PT000000/ST000000/SE000000/IM000054, The RLE header specifies an invalid number of segments (3774863615)\n",
            "ERROR:root:Error reading DICOM file: /content/drive/MyDrive/capstone/dataset/Echos/STEMI/0066/PT000000/ST000000/SE000000/IM000055, The RLE header specifies an invalid number of segments (3774863615)\n",
            "ERROR:root:Error reading DICOM file: /content/drive/MyDrive/capstone/dataset/Echos/STEMI/0066/PT000000/ST000000/SE000000/IM000056, The RLE header specifies an invalid number of segments (3774863615)\n",
            "ERROR:root:Error reading DICOM file: /content/drive/MyDrive/capstone/dataset/Echos/STEMI/0066/PT000000/ST000000/SE000000/IM000057, The RLE header specifies an invalid number of segments (3774863615)\n",
            "ERROR:root:Error reading DICOM file: /content/drive/MyDrive/capstone/dataset/Echos/STEMI/0066/PT000000/ST000000/SE000000/IM000058, The RLE header specifies an invalid number of segments (3774863615)\n",
            "ERROR:root:Error reading DICOM file: /content/drive/MyDrive/capstone/dataset/Echos/STEMI/0066/PT000000/ST000000/SE000000/IM000060, The RLE header specifies an invalid number of segments (3774863615)\n",
            "ERROR:root:Error reading DICOM file: /content/drive/MyDrive/capstone/dataset/Echos/STEMI/0066/PT000000/ST000000/SE000000/IM000062, The RLE header specifies an invalid number of segments (3774863615)\n",
            "ERROR:root:Error reading DICOM file: /content/drive/MyDrive/capstone/dataset/Echos/STEMI/0066/PT000000/ST000000/SE000000/IM000063, The RLE header specifies an invalid number of segments (3774863615)\n",
            "ERROR:root:Error reading DICOM file: /content/drive/MyDrive/capstone/dataset/Echos/STEMI/0066/PT000000/ST000000/SE000000/IM000064, The RLE header specifies an invalid number of segments (3774863615)\n",
            "261it [35:00,  4.12s/it]"
          ]
        },
        {
          "output_type": "stream",
          "name": "stdout",
          "text": [
            "processing: /content/drive/MyDrive/capstone/dataset/Echos/STEMI/0067/PT000000/ST000000/SE000000\n"
          ]
        },
        {
          "output_type": "stream",
          "name": "stderr",
          "text": [
            "ERROR:root:Error reading DICOM file: /content/drive/MyDrive/capstone/dataset/Echos/STEMI/0067/PT000000/ST000000/SE000000/IM000005, The length of the pixel data in the dataset (62862 bytes) doesn't match the expected length (2359296 bytes). The dataset may be corrupted or there may be an issue with the pixel data handler.\n",
            "ERROR:root:Error reading DICOM file: /content/drive/MyDrive/capstone/dataset/Echos/STEMI/0067/PT000000/ST000000/SE000000/IM000006, The length of the pixel data in the dataset (62332 bytes) doesn't match the expected length (2359296 bytes). The dataset may be corrupted or there may be an issue with the pixel data handler.\n",
            "ERROR:root:Error reading DICOM file: /content/drive/MyDrive/capstone/dataset/Echos/STEMI/0067/PT000000/ST000000/SE000000/IM000009, The length of the pixel data in the dataset (65538 bytes) doesn't match the expected length (2359296 bytes). The dataset may be corrupted or there may be an issue with the pixel data handler.\n",
            "ERROR:root:Error reading DICOM file: /content/drive/MyDrive/capstone/dataset/Echos/STEMI/0067/PT000000/ST000000/SE000000/IM000010, The length of the pixel data in the dataset (73306 bytes) doesn't match the expected length (2359296 bytes). The dataset may be corrupted or there may be an issue with the pixel data handler.\n",
            "ERROR:root:Error reading DICOM file: /content/drive/MyDrive/capstone/dataset/Echos/STEMI/0067/PT000000/ST000000/SE000000/IM000019, The length of the pixel data in the dataset (96152 bytes) doesn't match the expected length (2359296 bytes). The dataset may be corrupted or there may be an issue with the pixel data handler.\n",
            "ERROR:root:Error reading DICOM file: /content/drive/MyDrive/capstone/dataset/Echos/STEMI/0067/PT000000/ST000000/SE000000/IM000022, The length of the pixel data in the dataset (96320 bytes) doesn't match the expected length (2359296 bytes). The dataset may be corrupted or there may be an issue with the pixel data handler.\n",
            "261it [35:10,  4.12s/it]ERROR:root:Error reading DICOM file: /content/drive/MyDrive/capstone/dataset/Echos/STEMI/0067/PT000000/ST000000/SE000000/IM000024, The length of the pixel data in the dataset (78790 bytes) doesn't match the expected length (2359296 bytes). The dataset may be corrupted or there may be an issue with the pixel data handler.\n",
            "ERROR:root:Error reading DICOM file: /content/drive/MyDrive/capstone/dataset/Echos/STEMI/0067/PT000000/ST000000/SE000000/IM000029, The length of the pixel data in the dataset (90284 bytes) doesn't match the expected length (2359296 bytes). The dataset may be corrupted or there may be an issue with the pixel data handler.\n",
            "ERROR:root:Error reading DICOM file: /content/drive/MyDrive/capstone/dataset/Echos/STEMI/0067/PT000000/ST000000/SE000000/IM000030, The length of the pixel data in the dataset (77646 bytes) doesn't match the expected length (2359296 bytes). The dataset may be corrupted or there may be an issue with the pixel data handler.\n",
            "ERROR:root:Error reading DICOM file: /content/drive/MyDrive/capstone/dataset/Echos/STEMI/0067/PT000000/ST000000/SE000000/IM000036, The length of the pixel data in the dataset (98148 bytes) doesn't match the expected length (2359296 bytes). The dataset may be corrupted or there may be an issue with the pixel data handler.\n",
            "ERROR:root:Error reading DICOM file: /content/drive/MyDrive/capstone/dataset/Echos/STEMI/0067/PT000000/ST000000/SE000000/IM000042, The length of the pixel data in the dataset (111076 bytes) doesn't match the expected length (2359296 bytes). The dataset may be corrupted or there may be an issue with the pixel data handler.\n",
            "ERROR:root:Error reading DICOM file: /content/drive/MyDrive/capstone/dataset/Echos/STEMI/0067/PT000000/ST000000/SE000000/IM000046, The length of the pixel data in the dataset (112034 bytes) doesn't match the expected length (2359296 bytes). The dataset may be corrupted or there may be an issue with the pixel data handler.\n",
            "ERROR:root:Error reading DICOM file: /content/drive/MyDrive/capstone/dataset/Echos/STEMI/0067/PT000000/ST000000/SE000000/IM000062, The length of the pixel data in the dataset (95864 bytes) doesn't match the expected length (2359296 bytes). The dataset may be corrupted or there may be an issue with the pixel data handler.\n",
            "ERROR:root:Error reading DICOM file: /content/drive/MyDrive/capstone/dataset/Echos/STEMI/0067/PT000000/ST000000/SE000000/IM000073, The length of the pixel data in the dataset (95046 bytes) doesn't match the expected length (2359296 bytes). The dataset may be corrupted or there may be an issue with the pixel data handler.\n",
            "ERROR:root:Error reading DICOM file: /content/drive/MyDrive/capstone/dataset/Echos/STEMI/0067/PT000000/ST000000/SE000000/IM000074, The length of the pixel data in the dataset (99470 bytes) doesn't match the expected length (2359296 bytes). The dataset may be corrupted or there may be an issue with the pixel data handler.\n",
            "ERROR:root:Error reading DICOM file: /content/drive/MyDrive/capstone/dataset/Echos/STEMI/0067/PT000000/ST000000/SE000000/IM000075, The length of the pixel data in the dataset (88216 bytes) doesn't match the expected length (2359296 bytes). The dataset may be corrupted or there may be an issue with the pixel data handler.\n",
            "ERROR:root:Error reading DICOM file: /content/drive/MyDrive/capstone/dataset/Echos/STEMI/0067/PT000000/ST000000/SE000000/IM000076, The length of the pixel data in the dataset (69020 bytes) doesn't match the expected length (2359296 bytes). The dataset may be corrupted or there may be an issue with the pixel data handler.\n",
            "ERROR:root:Error reading DICOM file: /content/drive/MyDrive/capstone/dataset/Echos/STEMI/0067/PT000000/ST000000/SE000000/IM000077, The length of the pixel data in the dataset (68126 bytes) doesn't match the expected length (2359296 bytes). The dataset may be corrupted or there may be an issue with the pixel data handler.\n",
            "ERROR:root:Error reading DICOM file: /content/drive/MyDrive/capstone/dataset/Echos/STEMI/0067/PT000000/ST000000/SE000000/IM000078, The length of the pixel data in the dataset (76836 bytes) doesn't match the expected length (2359296 bytes). The dataset may be corrupted or there may be an issue with the pixel data handler.\n",
            "ERROR:root:Error reading DICOM file: /content/drive/MyDrive/capstone/dataset/Echos/STEMI/0067/PT000000/ST000000/SE000000/IM000087, The length of the pixel data in the dataset (97892 bytes) doesn't match the expected length (2359296 bytes). The dataset may be corrupted or there may be an issue with the pixel data handler.\n",
            "ERROR:root:Error reading DICOM file: /content/drive/MyDrive/capstone/dataset/Echos/STEMI/0067/PT000000/ST000000/SE000000/IM000088, The length of the pixel data in the dataset (81560 bytes) doesn't match the expected length (2359296 bytes). The dataset may be corrupted or there may be an issue with the pixel data handler.\n",
            "ERROR:root:Error reading DICOM file: /content/drive/MyDrive/capstone/dataset/Echos/STEMI/0067/PT000000/ST000000/SE000000/IM000100, The length of the pixel data in the dataset (96076 bytes) doesn't match the expected length (2359296 bytes). The dataset may be corrupted or there may be an issue with the pixel data handler.\n",
            "ERROR:root:Error reading DICOM file: /content/drive/MyDrive/capstone/dataset/Echos/STEMI/0067/PT000000/ST000000/SE000000/IM000101, The length of the pixel data in the dataset (100696 bytes) doesn't match the expected length (2359296 bytes). The dataset may be corrupted or there may be an issue with the pixel data handler.\n",
            "ERROR:root:Error reading DICOM file: /content/drive/MyDrive/capstone/dataset/Echos/STEMI/0067/PT000000/ST000000/SE000000/IM000102, The length of the pixel data in the dataset (89428 bytes) doesn't match the expected length (2359296 bytes). The dataset may be corrupted or there may be an issue with the pixel data handler.\n",
            "ERROR:root:Error reading DICOM file: /content/drive/MyDrive/capstone/dataset/Echos/STEMI/0067/PT000000/ST000000/SE000000/IM000109, The length of the pixel data in the dataset (82074 bytes) doesn't match the expected length (2359296 bytes). The dataset may be corrupted or there may be an issue with the pixel data handler.\n",
            "ERROR:root:Error reading DICOM file: /content/drive/MyDrive/capstone/dataset/Echos/STEMI/0067/PT000000/ST000000/SE000000/IM000117, The length of the pixel data in the dataset (96760 bytes) doesn't match the expected length (2359296 bytes). The dataset may be corrupted or there may be an issue with the pixel data handler.\n",
            "ERROR:root:Error reading DICOM file: /content/drive/MyDrive/capstone/dataset/Echos/STEMI/0067/PT000000/ST000000/SE000000/IM000118, The length of the pixel data in the dataset (78834 bytes) doesn't match the expected length (2359296 bytes). The dataset may be corrupted or there may be an issue with the pixel data handler.\n",
            "266it [35:59,  7.16s/it]"
          ]
        },
        {
          "output_type": "stream",
          "name": "stdout",
          "text": [
            "processing: /content/drive/MyDrive/capstone/dataset/Echos/STEMI/0068/PT000000/ST000000/SE000000\n"
          ]
        },
        {
          "output_type": "stream",
          "name": "stderr",
          "text": [
            "270it [36:26,  6.41s/it]"
          ]
        },
        {
          "output_type": "stream",
          "name": "stdout",
          "text": [
            "processing: /content/drive/MyDrive/capstone/dataset/Echos/STEMI/0069/PT000000/ST000000/SE000000\n"
          ]
        },
        {
          "output_type": "stream",
          "name": "stderr",
          "text": [
            "274it [37:42, 11.03s/it]"
          ]
        },
        {
          "output_type": "stream",
          "name": "stdout",
          "text": [
            "processing: /content/drive/MyDrive/capstone/dataset/Echos/STEMI/0070/PT000000/ST000000/SE000000\n"
          ]
        },
        {
          "output_type": "stream",
          "name": "stderr",
          "text": [
            "ERROR:root:Error reading DICOM file: /content/drive/MyDrive/capstone/dataset/Echos/STEMI/0070/PT000000/ST000000/SE000000/IM000006, The length of the pixel data in the dataset (62462 bytes) doesn't match the expected length (2359296 bytes). The dataset may be corrupted or there may be an issue with the pixel data handler.\n",
            "ERROR:root:Error reading DICOM file: /content/drive/MyDrive/capstone/dataset/Echos/STEMI/0070/PT000000/ST000000/SE000000/IM000007, The length of the pixel data in the dataset (61468 bytes) doesn't match the expected length (2359296 bytes). The dataset may be corrupted or there may be an issue with the pixel data handler.\n",
            "ERROR:root:Error reading DICOM file: /content/drive/MyDrive/capstone/dataset/Echos/STEMI/0070/PT000000/ST000000/SE000000/IM000010, The length of the pixel data in the dataset (64566 bytes) doesn't match the expected length (2359296 bytes). The dataset may be corrupted or there may be an issue with the pixel data handler.\n",
            "ERROR:root:Error reading DICOM file: /content/drive/MyDrive/capstone/dataset/Echos/STEMI/0070/PT000000/ST000000/SE000000/IM000013, The length of the pixel data in the dataset (61116 bytes) doesn't match the expected length (2359296 bytes). The dataset may be corrupted or there may be an issue with the pixel data handler.\n",
            "ERROR:root:Error reading DICOM file: /content/drive/MyDrive/capstone/dataset/Echos/STEMI/0070/PT000000/ST000000/SE000000/IM000014, The length of the pixel data in the dataset (62856 bytes) doesn't match the expected length (2359296 bytes). The dataset may be corrupted or there may be an issue with the pixel data handler.\n",
            "ERROR:root:Error reading DICOM file: /content/drive/MyDrive/capstone/dataset/Echos/STEMI/0070/PT000000/ST000000/SE000000/IM000021, The length of the pixel data in the dataset (93862 bytes) doesn't match the expected length (2359296 bytes). The dataset may be corrupted or there may be an issue with the pixel data handler.\n",
            "ERROR:root:Error reading DICOM file: /content/drive/MyDrive/capstone/dataset/Echos/STEMI/0070/PT000000/ST000000/SE000000/IM000024, The length of the pixel data in the dataset (86494 bytes) doesn't match the expected length (2359296 bytes). The dataset may be corrupted or there may be an issue with the pixel data handler.\n",
            "ERROR:root:Error reading DICOM file: /content/drive/MyDrive/capstone/dataset/Echos/STEMI/0070/PT000000/ST000000/SE000000/IM000025, The length of the pixel data in the dataset (95444 bytes) doesn't match the expected length (2359296 bytes). The dataset may be corrupted or there may be an issue with the pixel data handler.\n",
            "ERROR:root:Error reading DICOM file: /content/drive/MyDrive/capstone/dataset/Echos/STEMI/0070/PT000000/ST000000/SE000000/IM000028, The length of the pixel data in the dataset (94084 bytes) doesn't match the expected length (2359296 bytes). The dataset may be corrupted or there may be an issue with the pixel data handler.\n",
            "274it [38:00, 11.03s/it]ERROR:root:Error reading DICOM file: /content/drive/MyDrive/capstone/dataset/Echos/STEMI/0070/PT000000/ST000000/SE000000/IM000031, The length of the pixel data in the dataset (86798 bytes) doesn't match the expected length (2359296 bytes). The dataset may be corrupted or there may be an issue with the pixel data handler.\n",
            "ERROR:root:Error reading DICOM file: /content/drive/MyDrive/capstone/dataset/Echos/STEMI/0070/PT000000/ST000000/SE000000/IM000032, The length of the pixel data in the dataset (76610 bytes) doesn't match the expected length (2359296 bytes). The dataset may be corrupted or there may be an issue with the pixel data handler.\n",
            "ERROR:root:Error reading DICOM file: /content/drive/MyDrive/capstone/dataset/Echos/STEMI/0070/PT000000/ST000000/SE000000/IM000039, The length of the pixel data in the dataset (113986 bytes) doesn't match the expected length (2359296 bytes). The dataset may be corrupted or there may be an issue with the pixel data handler.\n",
            "ERROR:root:Error reading DICOM file: /content/drive/MyDrive/capstone/dataset/Echos/STEMI/0070/PT000000/ST000000/SE000000/IM000042, The length of the pixel data in the dataset (107734 bytes) doesn't match the expected length (2359296 bytes). The dataset may be corrupted or there may be an issue with the pixel data handler.\n",
            "ERROR:root:Error reading DICOM file: /content/drive/MyDrive/capstone/dataset/Echos/STEMI/0070/PT000000/ST000000/SE000000/IM000046, The length of the pixel data in the dataset (119822 bytes) doesn't match the expected length (2359296 bytes). The dataset may be corrupted or there may be an issue with the pixel data handler.\n",
            "ERROR:root:Error reading DICOM file: /content/drive/MyDrive/capstone/dataset/Echos/STEMI/0070/PT000000/ST000000/SE000000/IM000053, The length of the pixel data in the dataset (113884 bytes) doesn't match the expected length (2359296 bytes). The dataset may be corrupted or there may be an issue with the pixel data handler.\n",
            "ERROR:root:Error reading DICOM file: /content/drive/MyDrive/capstone/dataset/Echos/STEMI/0070/PT000000/ST000000/SE000000/IM000068, The length of the pixel data in the dataset (105660 bytes) doesn't match the expected length (2359296 bytes). The dataset may be corrupted or there may be an issue with the pixel data handler.\n",
            "ERROR:root:Error reading DICOM file: /content/drive/MyDrive/capstone/dataset/Echos/STEMI/0070/PT000000/ST000000/SE000000/IM000069, The length of the pixel data in the dataset (92902 bytes) doesn't match the expected length (2359296 bytes). The dataset may be corrupted or there may be an issue with the pixel data handler.\n",
            "ERROR:root:Error reading DICOM file: /content/drive/MyDrive/capstone/dataset/Echos/STEMI/0070/PT000000/ST000000/SE000000/IM000070, The length of the pixel data in the dataset (70222 bytes) doesn't match the expected length (2359296 bytes). The dataset may be corrupted or there may be an issue with the pixel data handler.\n",
            "ERROR:root:Error reading DICOM file: /content/drive/MyDrive/capstone/dataset/Echos/STEMI/0070/PT000000/ST000000/SE000000/IM000071, The length of the pixel data in the dataset (69550 bytes) doesn't match the expected length (2359296 bytes). The dataset may be corrupted or there may be an issue with the pixel data handler.\n",
            "ERROR:root:Error reading DICOM file: /content/drive/MyDrive/capstone/dataset/Echos/STEMI/0070/PT000000/ST000000/SE000000/IM000072, The length of the pixel data in the dataset (72958 bytes) doesn't match the expected length (2359296 bytes). The dataset may be corrupted or there may be an issue with the pixel data handler.\n",
            "ERROR:root:Error reading DICOM file: /content/drive/MyDrive/capstone/dataset/Echos/STEMI/0070/PT000000/ST000000/SE000000/IM000073, The length of the pixel data in the dataset (88768 bytes) doesn't match the expected length (2359296 bytes). The dataset may be corrupted or there may be an issue with the pixel data handler.\n",
            "ERROR:root:Error reading DICOM file: /content/drive/MyDrive/capstone/dataset/Echos/STEMI/0070/PT000000/ST000000/SE000000/IM000098, The length of the pixel data in the dataset (89818 bytes) doesn't match the expected length (2359296 bytes). The dataset may be corrupted or there may be an issue with the pixel data handler.\n",
            "ERROR:root:Error reading DICOM file: /content/drive/MyDrive/capstone/dataset/Echos/STEMI/0070/PT000000/ST000000/SE000000/IM000099, The length of the pixel data in the dataset (84906 bytes) doesn't match the expected length (2359296 bytes). The dataset may be corrupted or there may be an issue with the pixel data handler.\n",
            "ERROR:root:Error reading DICOM file: /content/drive/MyDrive/capstone/dataset/Echos/STEMI/0070/PT000000/ST000000/SE000000/IM000112, The length of the pixel data in the dataset (95278 bytes) doesn't match the expected length (2359296 bytes). The dataset may be corrupted or there may be an issue with the pixel data handler.\n",
            "ERROR:root:Error reading DICOM file: /content/drive/MyDrive/capstone/dataset/Echos/STEMI/0070/PT000000/ST000000/SE000000/IM000113, The length of the pixel data in the dataset (85868 bytes) doesn't match the expected length (2359296 bytes). The dataset may be corrupted or there may be an issue with the pixel data handler.\n",
            "ERROR:root:Error reading DICOM file: /content/drive/MyDrive/capstone/dataset/Echos/STEMI/0070/PT000000/ST000000/SE000000/IM000114, The length of the pixel data in the dataset (96192 bytes) doesn't match the expected length (2359296 bytes). The dataset may be corrupted or there may be an issue with the pixel data handler.\n",
            "ERROR:root:Error reading DICOM file: /content/drive/MyDrive/capstone/dataset/Echos/STEMI/0070/PT000000/ST000000/SE000000/IM000115, The length of the pixel data in the dataset (81428 bytes) doesn't match the expected length (2359296 bytes). The dataset may be corrupted or there may be an issue with the pixel data handler.\n",
            "ERROR:root:Error reading DICOM file: /content/drive/MyDrive/capstone/dataset/Echos/STEMI/0070/PT000000/ST000000/SE000000/IM000134, The length of the pixel data in the dataset (92042 bytes) doesn't match the expected length (2359296 bytes). The dataset may be corrupted or there may be an issue with the pixel data handler.\n",
            "ERROR:root:Error reading DICOM file: /content/drive/MyDrive/capstone/dataset/Echos/STEMI/0070/PT000000/ST000000/SE000000/IM000156, The length of the pixel data in the dataset (71322 bytes) doesn't match the expected length (2359296 bytes). The dataset may be corrupted or there may be an issue with the pixel data handler.\n",
            "ERROR:root:Error reading DICOM file: /content/drive/MyDrive/capstone/dataset/Echos/STEMI/0070/PT000000/ST000000/SE000000/IM000157, The length of the pixel data in the dataset (82166 bytes) doesn't match the expected length (2359296 bytes). The dataset may be corrupted or there may be an issue with the pixel data handler.\n",
            "281it [39:58, 12.49s/it]"
          ]
        },
        {
          "output_type": "stream",
          "name": "stdout",
          "text": [
            "processing: /content/drive/MyDrive/capstone/dataset/Echos/STEMI/0071/PT000000/ST000000/SE000001\n"
          ]
        },
        {
          "output_type": "stream",
          "name": "stderr",
          "text": [
            "287it [40:39,  7.25s/it]"
          ]
        },
        {
          "output_type": "stream",
          "name": "stdout",
          "text": [
            "processing: /content/drive/MyDrive/capstone/dataset/Echos/STEMI/0072/PT000000/ST000000/SE000001\n"
          ]
        },
        {
          "output_type": "stream",
          "name": "stderr",
          "text": [
            "ERROR:root:Error reading DICOM file: /content/drive/MyDrive/capstone/dataset/Echos/STEMI/0072/PT000000/ST000000/SE000001/IM000000, The RLE header specifies an invalid number of segments (3774863615)\n",
            "ERROR:root:Error reading DICOM file: /content/drive/MyDrive/capstone/dataset/Echos/STEMI/0072/PT000000/ST000000/SE000001/IM000001, The RLE header specifies an invalid number of segments (3774863615)\n",
            "ERROR:root:Error reading DICOM file: /content/drive/MyDrive/capstone/dataset/Echos/STEMI/0072/PT000000/ST000000/SE000001/IM000004, The RLE header specifies an invalid number of segments (3774863615)\n",
            "ERROR:root:Error reading DICOM file: /content/drive/MyDrive/capstone/dataset/Echos/STEMI/0072/PT000000/ST000000/SE000001/IM000005, The RLE header specifies an invalid number of segments (3774863615)\n",
            "ERROR:root:Error reading DICOM file: /content/drive/MyDrive/capstone/dataset/Echos/STEMI/0072/PT000000/ST000000/SE000001/IM000006, The RLE header specifies an invalid number of segments (3774863615)\n",
            "ERROR:root:Error reading DICOM file: /content/drive/MyDrive/capstone/dataset/Echos/STEMI/0072/PT000000/ST000000/SE000001/IM000007, The RLE header specifies an invalid number of segments (3774863615)\n",
            "ERROR:root:Error reading DICOM file: /content/drive/MyDrive/capstone/dataset/Echos/STEMI/0072/PT000000/ST000000/SE000001/IM000009, The RLE header specifies an invalid number of segments (3774863615)\n",
            "ERROR:root:Error reading DICOM file: /content/drive/MyDrive/capstone/dataset/Echos/STEMI/0072/PT000000/ST000000/SE000001/IM000011, The RLE header specifies an invalid number of segments (3774863615)\n",
            "ERROR:root:Error reading DICOM file: /content/drive/MyDrive/capstone/dataset/Echos/STEMI/0072/PT000000/ST000000/SE000001/IM000012, The RLE header specifies an invalid number of segments (3774863615)\n",
            "ERROR:root:Error reading DICOM file: /content/drive/MyDrive/capstone/dataset/Echos/STEMI/0072/PT000000/ST000000/SE000001/IM000013, The RLE header specifies an invalid number of segments (3774863615)\n",
            "ERROR:root:Error reading DICOM file: /content/drive/MyDrive/capstone/dataset/Echos/STEMI/0072/PT000000/ST000000/SE000001/IM000014, The RLE header specifies an invalid number of segments (3774863615)\n",
            "ERROR:root:Error reading DICOM file: /content/drive/MyDrive/capstone/dataset/Echos/STEMI/0072/PT000000/ST000000/SE000001/IM000015, The RLE header specifies an invalid number of segments (3774863615)\n",
            "ERROR:root:Error reading DICOM file: /content/drive/MyDrive/capstone/dataset/Echos/STEMI/0072/PT000000/ST000000/SE000001/IM000016, The RLE header specifies an invalid number of segments (3774863615)\n",
            "ERROR:root:Error reading DICOM file: /content/drive/MyDrive/capstone/dataset/Echos/STEMI/0072/PT000000/ST000000/SE000001/IM000017, The RLE header specifies an invalid number of segments (3774863615)\n",
            "ERROR:root:Error reading DICOM file: /content/drive/MyDrive/capstone/dataset/Echos/STEMI/0072/PT000000/ST000000/SE000001/IM000018, The RLE header specifies an invalid number of segments (3774863615)\n",
            "ERROR:root:Error reading DICOM file: /content/drive/MyDrive/capstone/dataset/Echos/STEMI/0072/PT000000/ST000000/SE000001/IM000019, The RLE header specifies an invalid number of segments (3774863615)\n",
            "ERROR:root:Error reading DICOM file: /content/drive/MyDrive/capstone/dataset/Echos/STEMI/0072/PT000000/ST000000/SE000001/IM000020, The RLE header specifies an invalid number of segments (3774863615)\n",
            "ERROR:root:Error reading DICOM file: /content/drive/MyDrive/capstone/dataset/Echos/STEMI/0072/PT000000/ST000000/SE000001/IM000021, The RLE header specifies an invalid number of segments (3774863615)\n",
            "ERROR:root:Error reading DICOM file: /content/drive/MyDrive/capstone/dataset/Echos/STEMI/0072/PT000000/ST000000/SE000001/IM000022, The RLE header specifies an invalid number of segments (3774863615)\n",
            "ERROR:root:Error reading DICOM file: /content/drive/MyDrive/capstone/dataset/Echos/STEMI/0072/PT000000/ST000000/SE000001/IM000023, The RLE header specifies an invalid number of segments (3774863615)\n",
            "ERROR:root:Error reading DICOM file: /content/drive/MyDrive/capstone/dataset/Echos/STEMI/0072/PT000000/ST000000/SE000001/IM000024, The RLE header specifies an invalid number of segments (3774863615)\n",
            "ERROR:root:Error reading DICOM file: /content/drive/MyDrive/capstone/dataset/Echos/STEMI/0072/PT000000/ST000000/SE000001/IM000025, The RLE header specifies an invalid number of segments (3774863615)\n",
            "ERROR:root:Error reading DICOM file: /content/drive/MyDrive/capstone/dataset/Echos/STEMI/0072/PT000000/ST000000/SE000001/IM000026, The RLE header specifies an invalid number of segments (3774863615)\n",
            "ERROR:root:Error reading DICOM file: /content/drive/MyDrive/capstone/dataset/Echos/STEMI/0072/PT000000/ST000000/SE000001/IM000027, The RLE header specifies an invalid number of segments (3774863615)\n",
            "ERROR:root:Error reading DICOM file: /content/drive/MyDrive/capstone/dataset/Echos/STEMI/0072/PT000000/ST000000/SE000001/IM000028, The RLE header specifies an invalid number of segments (3774863615)\n",
            "ERROR:root:Error reading DICOM file: /content/drive/MyDrive/capstone/dataset/Echos/STEMI/0072/PT000000/ST000000/SE000001/IM000029, The RLE header specifies an invalid number of segments (3774863615)\n",
            "ERROR:root:Error reading DICOM file: /content/drive/MyDrive/capstone/dataset/Echos/STEMI/0072/PT000000/ST000000/SE000001/IM000030, The RLE header specifies an invalid number of segments (3774863615)\n",
            "ERROR:root:Error reading DICOM file: /content/drive/MyDrive/capstone/dataset/Echos/STEMI/0072/PT000000/ST000000/SE000001/IM000031, The RLE header specifies an invalid number of segments (3774863615)\n",
            "ERROR:root:Error reading DICOM file: /content/drive/MyDrive/capstone/dataset/Echos/STEMI/0072/PT000000/ST000000/SE000001/IM000032, The RLE header specifies an invalid number of segments (3774863615)\n",
            "ERROR:root:Error reading DICOM file: /content/drive/MyDrive/capstone/dataset/Echos/STEMI/0072/PT000000/ST000000/SE000001/IM000033, The RLE header specifies an invalid number of segments (3774863615)\n",
            "ERROR:root:Error reading DICOM file: /content/drive/MyDrive/capstone/dataset/Echos/STEMI/0072/PT000000/ST000000/SE000001/IM000034, The RLE header specifies an invalid number of segments (3774863615)\n",
            "ERROR:root:Error reading DICOM file: /content/drive/MyDrive/capstone/dataset/Echos/STEMI/0072/PT000000/ST000000/SE000001/IM000035, The RLE header specifies an invalid number of segments (3774863615)\n",
            "ERROR:root:Error reading DICOM file: /content/drive/MyDrive/capstone/dataset/Echos/STEMI/0072/PT000000/ST000000/SE000001/IM000036, The RLE header specifies an invalid number of segments (3774863615)\n",
            "ERROR:root:Error reading DICOM file: /content/drive/MyDrive/capstone/dataset/Echos/STEMI/0072/PT000000/ST000000/SE000001/IM000037, The RLE header specifies an invalid number of segments (3774863615)\n",
            "ERROR:root:Error reading DICOM file: /content/drive/MyDrive/capstone/dataset/Echos/STEMI/0072/PT000000/ST000000/SE000001/IM000038, The RLE header specifies an invalid number of segments (3774863615)\n",
            "ERROR:root:Error reading DICOM file: /content/drive/MyDrive/capstone/dataset/Echos/STEMI/0072/PT000000/ST000000/SE000001/IM000039, The RLE header specifies an invalid number of segments (3774863615)\n",
            "ERROR:root:Error reading DICOM file: /content/drive/MyDrive/capstone/dataset/Echos/STEMI/0072/PT000000/ST000000/SE000001/IM000040, The RLE header specifies an invalid number of segments (3774863615)\n",
            "ERROR:root:Error reading DICOM file: /content/drive/MyDrive/capstone/dataset/Echos/STEMI/0072/PT000000/ST000000/SE000001/IM000044, The RLE header specifies an invalid number of segments (3774863615)\n",
            "ERROR:root:Error reading DICOM file: /content/drive/MyDrive/capstone/dataset/Echos/STEMI/0072/PT000000/ST000000/SE000001/IM000045, The RLE header specifies an invalid number of segments (3774863615)\n",
            "ERROR:root:Error reading DICOM file: /content/drive/MyDrive/capstone/dataset/Echos/STEMI/0072/PT000000/ST000000/SE000001/IM000046, The RLE header specifies an invalid number of segments (3774863615)\n",
            "ERROR:root:Error reading DICOM file: /content/drive/MyDrive/capstone/dataset/Echos/STEMI/0072/PT000000/ST000000/SE000001/IM000050, The RLE header specifies an invalid number of segments (3774863615)\n",
            "ERROR:root:Error reading DICOM file: /content/drive/MyDrive/capstone/dataset/Echos/STEMI/0072/PT000000/ST000000/SE000001/IM000052, The RLE header specifies an invalid number of segments (3774863615)\n",
            "ERROR:root:Error reading DICOM file: /content/drive/MyDrive/capstone/dataset/Echos/STEMI/0072/PT000000/ST000000/SE000001/IM000053, The RLE header specifies an invalid number of segments (3774863615)\n",
            "ERROR:root:Error reading DICOM file: /content/drive/MyDrive/capstone/dataset/Echos/STEMI/0072/PT000000/ST000000/SE000001/IM000054, The RLE header specifies an invalid number of segments (3774863615)\n",
            "ERROR:root:Error reading DICOM file: /content/drive/MyDrive/capstone/dataset/Echos/STEMI/0072/PT000000/ST000000/SE000001/IM000055, The RLE header specifies an invalid number of segments (3774863615)\n",
            "ERROR:root:Error reading DICOM file: /content/drive/MyDrive/capstone/dataset/Echos/STEMI/0072/PT000000/ST000000/SE000001/IM000056, The RLE header specifies an invalid number of segments (3774863615)\n",
            "ERROR:root:Error reading DICOM file: /content/drive/MyDrive/capstone/dataset/Echos/STEMI/0072/PT000000/ST000000/SE000001/IM000057, The RLE header specifies an invalid number of segments (3774863615)\n",
            "ERROR:root:Error reading DICOM file: /content/drive/MyDrive/capstone/dataset/Echos/STEMI/0072/PT000000/ST000000/SE000001/IM000059, The RLE header specifies an invalid number of segments (3774863615)\n",
            "ERROR:root:Error reading DICOM file: /content/drive/MyDrive/capstone/dataset/Echos/STEMI/0072/PT000000/ST000000/SE000001/IM000060, The RLE header specifies an invalid number of segments (3774863615)\n",
            "ERROR:root:Error reading DICOM file: /content/drive/MyDrive/capstone/dataset/Echos/STEMI/0072/PT000000/ST000000/SE000001/IM000062, The RLE header specifies an invalid number of segments (3774863615)\n",
            "ERROR:root:Error reading DICOM file: /content/drive/MyDrive/capstone/dataset/Echos/STEMI/0072/PT000000/ST000000/SE000001/IM000063, The RLE header specifies an invalid number of segments (3774863615)\n",
            "ERROR:root:Error reading DICOM file: /content/drive/MyDrive/capstone/dataset/Echos/STEMI/0072/PT000000/ST000000/SE000001/IM000064, The RLE header specifies an invalid number of segments (3774863615)\n",
            "ERROR:root:Error reading DICOM file: /content/drive/MyDrive/capstone/dataset/Echos/STEMI/0072/PT000000/ST000000/SE000001/IM000065, The RLE header specifies an invalid number of segments (3774863615)\n",
            "ERROR:root:Error reading DICOM file: /content/drive/MyDrive/capstone/dataset/Echos/STEMI/0072/PT000000/ST000000/SE000001/IM000066, The RLE header specifies an invalid number of segments (3774863615)\n",
            "ERROR:root:Error reading DICOM file: /content/drive/MyDrive/capstone/dataset/Echos/STEMI/0072/PT000000/ST000000/SE000001/IM000067, The RLE header specifies an invalid number of segments (3774863615)\n",
            "287it [40:50,  7.25s/it]ERROR:root:Error reading DICOM file: /content/drive/MyDrive/capstone/dataset/Echos/STEMI/0072/PT000000/ST000000/SE000001/IM000068, The RLE header specifies an invalid number of segments (3774863615)\n",
            "ERROR:root:Error reading DICOM file: /content/drive/MyDrive/capstone/dataset/Echos/STEMI/0072/PT000000/ST000000/SE000001/IM000071, The RLE header specifies an invalid number of segments (3774863615)\n",
            "ERROR:root:Error reading DICOM file: /content/drive/MyDrive/capstone/dataset/Echos/STEMI/0072/PT000000/ST000000/SE000001/IM000072, The RLE header specifies an invalid number of segments (3774863615)\n",
            "ERROR:root:Error reading DICOM file: /content/drive/MyDrive/capstone/dataset/Echos/STEMI/0072/PT000000/ST000000/SE000001/IM000074, The RLE header specifies an invalid number of segments (3774863615)\n",
            "ERROR:root:Error reading DICOM file: /content/drive/MyDrive/capstone/dataset/Echos/STEMI/0072/PT000000/ST000000/SE000001/IM000075, The RLE header specifies an invalid number of segments (3774863615)\n",
            "ERROR:root:Error reading DICOM file: /content/drive/MyDrive/capstone/dataset/Echos/STEMI/0072/PT000000/ST000000/SE000001/IM000076, The RLE header specifies an invalid number of segments (3774863615)\n",
            "ERROR:root:Error reading DICOM file: /content/drive/MyDrive/capstone/dataset/Echos/STEMI/0072/PT000000/ST000000/SE000001/IM000077, The RLE header specifies an invalid number of segments (3774863615)\n",
            "ERROR:root:Error reading DICOM file: /content/drive/MyDrive/capstone/dataset/Echos/STEMI/0072/PT000000/ST000000/SE000001/IM000078, The RLE header specifies an invalid number of segments (3774863615)\n",
            "ERROR:root:Error reading DICOM file: /content/drive/MyDrive/capstone/dataset/Echos/STEMI/0072/PT000000/ST000000/SE000001/IM000079, The RLE header specifies an invalid number of segments (3774863615)\n",
            "ERROR:root:Error reading DICOM file: /content/drive/MyDrive/capstone/dataset/Echos/STEMI/0072/PT000000/ST000000/SE000001/IM000080, The RLE header specifies an invalid number of segments (3774863615)\n",
            "ERROR:root:Error reading DICOM file: /content/drive/MyDrive/capstone/dataset/Echos/STEMI/0072/PT000000/ST000000/SE000001/IM000081, The RLE header specifies an invalid number of segments (3774863615)\n",
            "ERROR:root:Error reading DICOM file: /content/drive/MyDrive/capstone/dataset/Echos/STEMI/0072/PT000000/ST000000/SE000001/IM000082, The RLE header specifies an invalid number of segments (3774863615)\n",
            "ERROR:root:Error reading DICOM file: /content/drive/MyDrive/capstone/dataset/Echos/STEMI/0072/PT000000/ST000000/SE000001/IM000083, The RLE header specifies an invalid number of segments (3774863615)\n",
            "ERROR:root:Error reading DICOM file: /content/drive/MyDrive/capstone/dataset/Echos/STEMI/0072/PT000000/ST000000/SE000001/IM000084, The RLE header specifies an invalid number of segments (3774863615)\n",
            "ERROR:root:Error reading DICOM file: /content/drive/MyDrive/capstone/dataset/Echos/STEMI/0072/PT000000/ST000000/SE000001/IM000085, The RLE header specifies an invalid number of segments (3774863615)\n",
            "ERROR:root:Error reading DICOM file: /content/drive/MyDrive/capstone/dataset/Echos/STEMI/0072/PT000000/ST000000/SE000001/IM000087, The RLE header specifies an invalid number of segments (3774863615)\n",
            "ERROR:root:Error reading DICOM file: /content/drive/MyDrive/capstone/dataset/Echos/STEMI/0072/PT000000/ST000000/SE000001/IM000088, The RLE header specifies an invalid number of segments (3774863615)\n",
            "ERROR:root:Error reading DICOM file: /content/drive/MyDrive/capstone/dataset/Echos/STEMI/0072/PT000000/ST000000/SE000001/IM000089, The RLE header specifies an invalid number of segments (3774863615)\n",
            "ERROR:root:Error reading DICOM file: /content/drive/MyDrive/capstone/dataset/Echos/STEMI/0072/PT000000/ST000000/SE000001/IM000090, The RLE header specifies an invalid number of segments (3774863615)\n",
            "ERROR:root:Error reading DICOM file: /content/drive/MyDrive/capstone/dataset/Echos/STEMI/0072/PT000000/ST000000/SE000001/IM000091, The RLE header specifies an invalid number of segments (3774863615)\n",
            "ERROR:root:Error reading DICOM file: /content/drive/MyDrive/capstone/dataset/Echos/STEMI/0072/PT000000/ST000000/SE000001/IM000092, The RLE header specifies an invalid number of segments (3774863615)\n",
            "292it [40:54,  4.02s/it]"
          ]
        },
        {
          "output_type": "stream",
          "name": "stdout",
          "text": [
            "processing: /content/drive/MyDrive/capstone/dataset/Echos/STEMI/0073/PT000000/ST000000/SE000001\n"
          ]
        },
        {
          "output_type": "stream",
          "name": "stderr",
          "text": [
            "297it [41:30,  4.36s/it]"
          ]
        },
        {
          "output_type": "stream",
          "name": "stdout",
          "text": [
            "processing: /content/drive/MyDrive/capstone/dataset/Echos/STEMI/0075/PT000000/ST000000/SE000001\n"
          ]
        },
        {
          "output_type": "stream",
          "name": "stderr",
          "text": [
            "302it [42:06,  4.53s/it]"
          ]
        },
        {
          "output_type": "stream",
          "name": "stdout",
          "text": [
            "processing: /content/drive/MyDrive/capstone/dataset/Echos/STEMI/0076/PT000000/ST000000/SE000001\n"
          ]
        },
        {
          "output_type": "stream",
          "name": "stderr",
          "text": [
            "307it [42:38,  4.00s/it]"
          ]
        },
        {
          "output_type": "stream",
          "name": "stdout",
          "text": [
            "processing: /content/drive/MyDrive/capstone/dataset/Echos/STEMI/0077/PT000000/ST000000/SE000001\n"
          ]
        },
        {
          "output_type": "stream",
          "name": "stderr",
          "text": [
            "311it [43:13,  5.29s/it]"
          ]
        },
        {
          "output_type": "stream",
          "name": "stdout",
          "text": [
            "processing: /content/drive/MyDrive/capstone/dataset/Echos/STEMI/0078/PT000000/ST000000/SE000000\n"
          ]
        },
        {
          "output_type": "stream",
          "name": "stderr",
          "text": [
            "316it [45:24, 12.42s/it]"
          ]
        },
        {
          "output_type": "stream",
          "name": "stdout",
          "text": [
            "processing: /content/drive/MyDrive/capstone/dataset/Echos/STEMI/0079/PT000000/ST000000/SE000001\n"
          ]
        },
        {
          "output_type": "stream",
          "name": "stderr",
          "text": [
            "320it [46:14,  9.75s/it]"
          ]
        },
        {
          "output_type": "stream",
          "name": "stdout",
          "text": [
            "processing: /content/drive/MyDrive/capstone/dataset/Echos/STEMI/0080/PT000000/ST000000/SE000000\n"
          ]
        },
        {
          "output_type": "stream",
          "name": "stderr",
          "text": [
            "324it [47:46, 13.65s/it]"
          ]
        },
        {
          "output_type": "stream",
          "name": "stdout",
          "text": [
            "processing: /content/drive/MyDrive/capstone/dataset/Echos/STEMI/0081/PT000000/ST000000/SE000000\n"
          ]
        },
        {
          "output_type": "stream",
          "name": "stderr",
          "text": [
            "329it [49:06, 11.11s/it]"
          ]
        },
        {
          "output_type": "stream",
          "name": "stdout",
          "text": [
            "processing: /content/drive/MyDrive/capstone/dataset/Echos/STEMI/0082/PT000000/ST000000/SE000001\n"
          ]
        },
        {
          "output_type": "stream",
          "name": "stderr",
          "text": [
            "334it [49:27,  5.02s/it]"
          ]
        },
        {
          "output_type": "stream",
          "name": "stdout",
          "text": [
            "processing: /content/drive/MyDrive/capstone/dataset/Echos/STEMI/0083/PT000000/ST000000/SE000001\n"
          ]
        },
        {
          "output_type": "stream",
          "name": "stderr",
          "text": [
            "339it [50:02,  4.29s/it]"
          ]
        },
        {
          "output_type": "stream",
          "name": "stdout",
          "text": [
            "processing: /content/drive/MyDrive/capstone/dataset/Echos/STEMI/0084/PT000000/ST000000/SE000001\n"
          ]
        },
        {
          "output_type": "stream",
          "name": "stderr",
          "text": [
            "343it [50:24,  3.98s/it]"
          ]
        },
        {
          "output_type": "stream",
          "name": "stdout",
          "text": [
            "processing: /content/drive/MyDrive/capstone/dataset/Echos/STEMI/0085/PT000000/ST000000/SE000000\n"
          ]
        },
        {
          "output_type": "stream",
          "name": "stderr",
          "text": [
            "347it [51:43, 10.28s/it]"
          ]
        },
        {
          "output_type": "stream",
          "name": "stdout",
          "text": [
            "processing: /content/drive/MyDrive/capstone/dataset/Echos/STEMI/0086/PT000000/ST000000/SE000000\n"
          ]
        },
        {
          "output_type": "stream",
          "name": "stderr",
          "text": [
            "351it [52:34,  9.20s/it]"
          ]
        },
        {
          "output_type": "stream",
          "name": "stdout",
          "text": [
            "processing: /content/drive/MyDrive/capstone/dataset/Echos/STEMI/0087/PT000000/ST000000/SE000000\n"
          ]
        },
        {
          "output_type": "stream",
          "name": "stderr",
          "text": [
            "356it [53:18,  6.12s/it]"
          ]
        },
        {
          "output_type": "stream",
          "name": "stdout",
          "text": [
            "processing: /content/drive/MyDrive/capstone/dataset/Echos/STEMI/0088/PT000000/ST000000/SE000001\n"
          ]
        },
        {
          "output_type": "stream",
          "name": "stderr",
          "text": [
            "360it [53:45,  5.51s/it]"
          ]
        },
        {
          "output_type": "stream",
          "name": "stdout",
          "text": [
            "processing: /content/drive/MyDrive/capstone/dataset/Echos/STEMI/0089/PT000000/ST000000/SE000000\n"
          ]
        },
        {
          "output_type": "stream",
          "name": "stderr",
          "text": [
            "366it [54:31,  5.27s/it]"
          ]
        },
        {
          "output_type": "stream",
          "name": "stdout",
          "text": [
            "processing: /content/drive/MyDrive/capstone/dataset/Echos/STEMI/0091/PT000000/ST000000/SE000001\n"
          ]
        },
        {
          "output_type": "stream",
          "name": "stderr",
          "text": [
            "369it [55:03,  6.69s/it]"
          ]
        },
        {
          "output_type": "stream",
          "name": "stdout",
          "text": [
            "processing: /content/drive/MyDrive/capstone/dataset/Echos/STEMI/0092/PT000000/ST000000/SE000000\n"
          ]
        },
        {
          "output_type": "stream",
          "name": "stderr",
          "text": [
            "375it [55:58,  6.37s/it]"
          ]
        },
        {
          "output_type": "stream",
          "name": "stdout",
          "text": [
            "processing: /content/drive/MyDrive/capstone/dataset/Echos/STEMI/0093/PT000000/ST000000/SE000001\n"
          ]
        },
        {
          "output_type": "stream",
          "name": "stderr",
          "text": [
            "380it [56:37,  5.43s/it]"
          ]
        },
        {
          "output_type": "stream",
          "name": "stdout",
          "text": [
            "processing: /content/drive/MyDrive/capstone/dataset/Echos/STEMI/0094/PT000000/ST000000/SE000001\n"
          ]
        },
        {
          "output_type": "stream",
          "name": "stderr",
          "text": [
            "383it [57:07,  6.61s/it]"
          ]
        },
        {
          "output_type": "stream",
          "name": "stdout",
          "text": [
            "processing: /content/drive/MyDrive/capstone/dataset/Echos/STEMI/0095/PT000000/ST000000/SE000000\n"
          ]
        },
        {
          "output_type": "stream",
          "name": "stderr",
          "text": [
            "ERROR:root:Error reading DICOM file: /content/drive/MyDrive/capstone/dataset/Echos/STEMI/0095/PT000000/ST000000/SE000000/IM000003, The length of the pixel data in the dataset (72584 bytes) doesn't match the expected length (2359296 bytes). The dataset may be corrupted or there may be an issue with the pixel data handler.\n",
            "ERROR:root:Error reading DICOM file: /content/drive/MyDrive/capstone/dataset/Echos/STEMI/0095/PT000000/ST000000/SE000000/IM000005, The length of the pixel data in the dataset (65354 bytes) doesn't match the expected length (2359296 bytes). The dataset may be corrupted or there may be an issue with the pixel data handler.\n",
            "ERROR:root:Error reading DICOM file: /content/drive/MyDrive/capstone/dataset/Echos/STEMI/0095/PT000000/ST000000/SE000000/IM000010, The length of the pixel data in the dataset (97804 bytes) doesn't match the expected length (2359296 bytes). The dataset may be corrupted or there may be an issue with the pixel data handler.\n",
            "ERROR:root:Error reading DICOM file: /content/drive/MyDrive/capstone/dataset/Echos/STEMI/0095/PT000000/ST000000/SE000000/IM000016, The length of the pixel data in the dataset (100598 bytes) doesn't match the expected length (2359296 bytes). The dataset may be corrupted or there may be an issue with the pixel data handler.\n",
            "ERROR:root:Error reading DICOM file: /content/drive/MyDrive/capstone/dataset/Echos/STEMI/0095/PT000000/ST000000/SE000000/IM000017, The length of the pixel data in the dataset (82432 bytes) doesn't match the expected length (2359296 bytes). The dataset may be corrupted or there may be an issue with the pixel data handler.\n",
            "ERROR:root:Error reading DICOM file: /content/drive/MyDrive/capstone/dataset/Echos/STEMI/0095/PT000000/ST000000/SE000000/IM000020, The length of the pixel data in the dataset (104366 bytes) doesn't match the expected length (2359296 bytes). The dataset may be corrupted or there may be an issue with the pixel data handler.\n",
            "383it [57:20,  6.61s/it]ERROR:root:Error reading DICOM file: /content/drive/MyDrive/capstone/dataset/Echos/STEMI/0095/PT000000/ST000000/SE000000/IM000021, The length of the pixel data in the dataset (78276 bytes) doesn't match the expected length (2359296 bytes). The dataset may be corrupted or there may be an issue with the pixel data handler.\n",
            "ERROR:root:Error reading DICOM file: /content/drive/MyDrive/capstone/dataset/Echos/STEMI/0095/PT000000/ST000000/SE000000/IM000022, The length of the pixel data in the dataset (84030 bytes) doesn't match the expected length (2359296 bytes). The dataset may be corrupted or there may be an issue with the pixel data handler.\n",
            "ERROR:root:Error reading DICOM file: /content/drive/MyDrive/capstone/dataset/Echos/STEMI/0095/PT000000/ST000000/SE000000/IM000024, The length of the pixel data in the dataset (101382 bytes) doesn't match the expected length (2359296 bytes). The dataset may be corrupted or there may be an issue with the pixel data handler.\n",
            "ERROR:root:Error reading DICOM file: /content/drive/MyDrive/capstone/dataset/Echos/STEMI/0095/PT000000/ST000000/SE000000/IM000033, The length of the pixel data in the dataset (102478 bytes) doesn't match the expected length (2359296 bytes). The dataset may be corrupted or there may be an issue with the pixel data handler.\n",
            "ERROR:root:Error reading DICOM file: /content/drive/MyDrive/capstone/dataset/Echos/STEMI/0095/PT000000/ST000000/SE000000/IM000034, The length of the pixel data in the dataset (103770 bytes) doesn't match the expected length (2359296 bytes). The dataset may be corrupted or there may be an issue with the pixel data handler.\n",
            "ERROR:root:Error reading DICOM file: /content/drive/MyDrive/capstone/dataset/Echos/STEMI/0095/PT000000/ST000000/SE000000/IM000039, The length of the pixel data in the dataset (92656 bytes) doesn't match the expected length (2359296 bytes). The dataset may be corrupted or there may be an issue with the pixel data handler.\n",
            "ERROR:root:Error reading DICOM file: /content/drive/MyDrive/capstone/dataset/Echos/STEMI/0095/PT000000/ST000000/SE000000/IM000040, The length of the pixel data in the dataset (96612 bytes) doesn't match the expected length (2359296 bytes). The dataset may be corrupted or there may be an issue with the pixel data handler.\n",
            "ERROR:root:Error reading DICOM file: /content/drive/MyDrive/capstone/dataset/Echos/STEMI/0095/PT000000/ST000000/SE000000/IM000041, The length of the pixel data in the dataset (85128 bytes) doesn't match the expected length (2359296 bytes). The dataset may be corrupted or there may be an issue with the pixel data handler.\n",
            "ERROR:root:Error reading DICOM file: /content/drive/MyDrive/capstone/dataset/Echos/STEMI/0095/PT000000/ST000000/SE000000/IM000045, The length of the pixel data in the dataset (103826 bytes) doesn't match the expected length (2359296 bytes). The dataset may be corrupted or there may be an issue with the pixel data handler.\n",
            "ERROR:root:Error reading DICOM file: /content/drive/MyDrive/capstone/dataset/Echos/STEMI/0095/PT000000/ST000000/SE000000/IM000049, The length of the pixel data in the dataset (69800 bytes) doesn't match the expected length (2359296 bytes). The dataset may be corrupted or there may be an issue with the pixel data handler.\n",
            "ERROR:root:Error reading DICOM file: /content/drive/MyDrive/capstone/dataset/Echos/STEMI/0095/PT000000/ST000000/SE000000/IM000050, The length of the pixel data in the dataset (71746 bytes) doesn't match the expected length (2359296 bytes). The dataset may be corrupted or there may be an issue with the pixel data handler.\n",
            "ERROR:root:Error reading DICOM file: /content/drive/MyDrive/capstone/dataset/Echos/STEMI/0095/PT000000/ST000000/SE000000/IM000051, The length of the pixel data in the dataset (69904 bytes) doesn't match the expected length (2359296 bytes). The dataset may be corrupted or there may be an issue with the pixel data handler.\n",
            "ERROR:root:Error reading DICOM file: /content/drive/MyDrive/capstone/dataset/Echos/STEMI/0095/PT000000/ST000000/SE000000/IM000054, The length of the pixel data in the dataset (107156 bytes) doesn't match the expected length (2359296 bytes). The dataset may be corrupted or there may be an issue with the pixel data handler.\n",
            "ERROR:root:Error reading DICOM file: /content/drive/MyDrive/capstone/dataset/Echos/STEMI/0095/PT000000/ST000000/SE000000/IM000061, The length of the pixel data in the dataset (108902 bytes) doesn't match the expected length (2359296 bytes). The dataset may be corrupted or there may be an issue with the pixel data handler.\n",
            "ERROR:root:Error reading DICOM file: /content/drive/MyDrive/capstone/dataset/Echos/STEMI/0095/PT000000/ST000000/SE000000/IM000062, The length of the pixel data in the dataset (106392 bytes) doesn't match the expected length (2359296 bytes). The dataset may be corrupted or there may be an issue with the pixel data handler.\n",
            "ERROR:root:Error reading DICOM file: /content/drive/MyDrive/capstone/dataset/Echos/STEMI/0095/PT000000/ST000000/SE000000/IM000063, The length of the pixel data in the dataset (92694 bytes) doesn't match the expected length (2359296 bytes). The dataset may be corrupted or there may be an issue with the pixel data handler.\n",
            "ERROR:root:Error reading DICOM file: /content/drive/MyDrive/capstone/dataset/Echos/STEMI/0095/PT000000/ST000000/SE000000/IM000064, The length of the pixel data in the dataset (88700 bytes) doesn't match the expected length (2359296 bytes). The dataset may be corrupted or there may be an issue with the pixel data handler.\n",
            "ERROR:root:Error reading DICOM file: /content/drive/MyDrive/capstone/dataset/Echos/STEMI/0095/PT000000/ST000000/SE000000/IM000065, The length of the pixel data in the dataset (106522 bytes) doesn't match the expected length (2359296 bytes). The dataset may be corrupted or there may be an issue with the pixel data handler.\n",
            "ERROR:root:Error reading DICOM file: /content/drive/MyDrive/capstone/dataset/Echos/STEMI/0095/PT000000/ST000000/SE000000/IM000077, The length of the pixel data in the dataset (106260 bytes) doesn't match the expected length (2359296 bytes). The dataset may be corrupted or there may be an issue with the pixel data handler.\n",
            "390it [57:52,  4.98s/it]"
          ]
        },
        {
          "output_type": "stream",
          "name": "stdout",
          "text": [
            "processing: /content/drive/MyDrive/capstone/dataset/Echos/STEMI/0096/PT000000/ST000000/SE000001\n"
          ]
        },
        {
          "output_type": "stream",
          "name": "stderr",
          "text": [
            "395it [58:19,  4.04s/it]"
          ]
        },
        {
          "output_type": "stream",
          "name": "stdout",
          "text": [
            "processing: /content/drive/MyDrive/capstone/dataset/Echos/STEMI/0097/PT000000/ST000000/SE000001\n"
          ]
        },
        {
          "output_type": "stream",
          "name": "stderr",
          "text": [
            "400it [58:54,  4.32s/it]"
          ]
        },
        {
          "output_type": "stream",
          "name": "stdout",
          "text": [
            "processing: /content/drive/MyDrive/capstone/dataset/Echos/STEMI/0098/PT000000/ST000000/SE000001\n"
          ]
        },
        {
          "output_type": "stream",
          "name": "stderr",
          "text": [
            "404it [59:14,  3.74s/it]"
          ]
        },
        {
          "output_type": "stream",
          "name": "stdout",
          "text": [
            "processing: /content/drive/MyDrive/capstone/dataset/Echos/STEMI/0099/PT000000/ST000000/SE000000\n"
          ]
        },
        {
          "output_type": "stream",
          "name": "stderr",
          "text": [
            "ERROR:root:Error reading DICOM file: /content/drive/MyDrive/capstone/dataset/Echos/STEMI/0099/PT000000/ST000000/SE000000/IM000008, The length of the pixel data in the dataset (53494 bytes) doesn't match the expected length (2359296 bytes). The dataset may be corrupted or there may be an issue with the pixel data handler.\n",
            "ERROR:root:Error reading DICOM file: /content/drive/MyDrive/capstone/dataset/Echos/STEMI/0099/PT000000/ST000000/SE000000/IM000009, The length of the pixel data in the dataset (56864 bytes) doesn't match the expected length (2359296 bytes). The dataset may be corrupted or there may be an issue with the pixel data handler.\n",
            "ERROR:root:Error reading DICOM file: /content/drive/MyDrive/capstone/dataset/Echos/STEMI/0099/PT000000/ST000000/SE000000/IM000010, The length of the pixel data in the dataset (47980 bytes) doesn't match the expected length (2359296 bytes). The dataset may be corrupted or there may be an issue with the pixel data handler.\n",
            "ERROR:root:Error reading DICOM file: /content/drive/MyDrive/capstone/dataset/Echos/STEMI/0099/PT000000/ST000000/SE000000/IM000011, The length of the pixel data in the dataset (47016 bytes) doesn't match the expected length (2359296 bytes). The dataset may be corrupted or there may be an issue with the pixel data handler.\n",
            "ERROR:root:Error reading DICOM file: /content/drive/MyDrive/capstone/dataset/Echos/STEMI/0099/PT000000/ST000000/SE000000/IM000017, The length of the pixel data in the dataset (109962 bytes) doesn't match the expected length (2359296 bytes). The dataset may be corrupted or there may be an issue with the pixel data handler.\n",
            "ERROR:root:Error reading DICOM file: /content/drive/MyDrive/capstone/dataset/Echos/STEMI/0099/PT000000/ST000000/SE000000/IM000030, The length of the pixel data in the dataset (138210 bytes) doesn't match the expected length (2359296 bytes). The dataset may be corrupted or there may be an issue with the pixel data handler.\n",
            "ERROR:root:Error reading DICOM file: /content/drive/MyDrive/capstone/dataset/Echos/STEMI/0099/PT000000/ST000000/SE000000/IM000032, The length of the pixel data in the dataset (111762 bytes) doesn't match the expected length (2359296 bytes). The dataset may be corrupted or there may be an issue with the pixel data handler.\n",
            "ERROR:root:Error reading DICOM file: /content/drive/MyDrive/capstone/dataset/Echos/STEMI/0099/PT000000/ST000000/SE000000/IM000041, The length of the pixel data in the dataset (92028 bytes) doesn't match the expected length (2359296 bytes). The dataset may be corrupted or there may be an issue with the pixel data handler.\n",
            "ERROR:root:Error reading DICOM file: /content/drive/MyDrive/capstone/dataset/Echos/STEMI/0099/PT000000/ST000000/SE000000/IM000042, The length of the pixel data in the dataset (86020 bytes) doesn't match the expected length (2359296 bytes). The dataset may be corrupted or there may be an issue with the pixel data handler.\n",
            "ERROR:root:Error reading DICOM file: /content/drive/MyDrive/capstone/dataset/Echos/STEMI/0099/PT000000/ST000000/SE000000/IM000045, The length of the pixel data in the dataset (137866 bytes) doesn't match the expected length (2359296 bytes). The dataset may be corrupted or there may be an issue with the pixel data handler.\n",
            "ERROR:root:Error reading DICOM file: /content/drive/MyDrive/capstone/dataset/Echos/STEMI/0099/PT000000/ST000000/SE000000/IM000047, The length of the pixel data in the dataset (112722 bytes) doesn't match the expected length (2359296 bytes). The dataset may be corrupted or there may be an issue with the pixel data handler.\n",
            "ERROR:root:Error reading DICOM file: /content/drive/MyDrive/capstone/dataset/Echos/STEMI/0099/PT000000/ST000000/SE000000/IM000056, The length of the pixel data in the dataset (122766 bytes) doesn't match the expected length (2359296 bytes). The dataset may be corrupted or there may be an issue with the pixel data handler.\n",
            "ERROR:root:Error reading DICOM file: /content/drive/MyDrive/capstone/dataset/Echos/STEMI/0099/PT000000/ST000000/SE000000/IM000057, The length of the pixel data in the dataset (110104 bytes) doesn't match the expected length (2359296 bytes). The dataset may be corrupted or there may be an issue with the pixel data handler.\n",
            "ERROR:root:Error reading DICOM file: /content/drive/MyDrive/capstone/dataset/Echos/STEMI/0099/PT000000/ST000000/SE000000/IM000058, The length of the pixel data in the dataset (104962 bytes) doesn't match the expected length (2359296 bytes). The dataset may be corrupted or there may be an issue with the pixel data handler.\n",
            "ERROR:root:Error reading DICOM file: /content/drive/MyDrive/capstone/dataset/Echos/STEMI/0099/PT000000/ST000000/SE000000/IM000064, The length of the pixel data in the dataset (134240 bytes) doesn't match the expected length (2359296 bytes). The dataset may be corrupted or there may be an issue with the pixel data handler.\n",
            "ERROR:root:Error reading DICOM file: /content/drive/MyDrive/capstone/dataset/Echos/STEMI/0099/PT000000/ST000000/SE000000/IM000065, The length of the pixel data in the dataset (131750 bytes) doesn't match the expected length (2359296 bytes). The dataset may be corrupted or there may be an issue with the pixel data handler.\n",
            "ERROR:root:Error reading DICOM file: /content/drive/MyDrive/capstone/dataset/Echos/STEMI/0099/PT000000/ST000000/SE000000/IM000067, The length of the pixel data in the dataset (134706 bytes) doesn't match the expected length (2359296 bytes). The dataset may be corrupted or there may be an issue with the pixel data handler.\n",
            "ERROR:root:Error reading DICOM file: /content/drive/MyDrive/capstone/dataset/Echos/STEMI/0099/PT000000/ST000000/SE000000/IM000068, The length of the pixel data in the dataset (126894 bytes) doesn't match the expected length (2359296 bytes). The dataset may be corrupted or there may be an issue with the pixel data handler.\n",
            "ERROR:root:Error reading DICOM file: /content/drive/MyDrive/capstone/dataset/Echos/STEMI/0099/PT000000/ST000000/SE000000/IM000072, The length of the pixel data in the dataset (81432 bytes) doesn't match the expected length (2359296 bytes). The dataset may be corrupted or there may be an issue with the pixel data handler.\n",
            "ERROR:root:Error reading DICOM file: /content/drive/MyDrive/capstone/dataset/Echos/STEMI/0099/PT000000/ST000000/SE000000/IM000073, The length of the pixel data in the dataset (73596 bytes) doesn't match the expected length (2359296 bytes). The dataset may be corrupted or there may be an issue with the pixel data handler.\n",
            "ERROR:root:Error reading DICOM file: /content/drive/MyDrive/capstone/dataset/Echos/STEMI/0099/PT000000/ST000000/SE000000/IM000074, The length of the pixel data in the dataset (78794 bytes) doesn't match the expected length (2359296 bytes). The dataset may be corrupted or there may be an issue with the pixel data handler.\n",
            "ERROR:root:Error reading DICOM file: /content/drive/MyDrive/capstone/dataset/Echos/STEMI/0099/PT000000/ST000000/SE000000/IM000087, The length of the pixel data in the dataset (122316 bytes) doesn't match the expected length (2359296 bytes). The dataset may be corrupted or there may be an issue with the pixel data handler.\n",
            "ERROR:root:Error reading DICOM file: /content/drive/MyDrive/capstone/dataset/Echos/STEMI/0099/PT000000/ST000000/SE000000/IM000088, The length of the pixel data in the dataset (115816 bytes) doesn't match the expected length (2359296 bytes). The dataset may be corrupted or there may be an issue with the pixel data handler.\n",
            "ERROR:root:Error reading DICOM file: /content/drive/MyDrive/capstone/dataset/Echos/STEMI/0099/PT000000/ST000000/SE000000/IM000089, The length of the pixel data in the dataset (132184 bytes) doesn't match the expected length (2359296 bytes). The dataset may be corrupted or there may be an issue with the pixel data handler.\n",
            "ERROR:root:Error reading DICOM file: /content/drive/MyDrive/capstone/dataset/Echos/STEMI/0099/PT000000/ST000000/SE000000/IM000090, The length of the pixel data in the dataset (132516 bytes) doesn't match the expected length (2359296 bytes). The dataset may be corrupted or there may be an issue with the pixel data handler.\n",
            "ERROR:root:Error reading DICOM file: /content/drive/MyDrive/capstone/dataset/Echos/STEMI/0099/PT000000/ST000000/SE000000/IM000099, The length of the pixel data in the dataset (119618 bytes) doesn't match the expected length (2359296 bytes). The dataset may be corrupted or there may be an issue with the pixel data handler.\n",
            "ERROR:root:Error reading DICOM file: /content/drive/MyDrive/capstone/dataset/Echos/STEMI/0099/PT000000/ST000000/SE000000/IM000106, The length of the pixel data in the dataset (133306 bytes) doesn't match the expected length (2359296 bytes). The dataset may be corrupted or there may be an issue with the pixel data handler.\n",
            "410it [1:00:40,  7.80s/it]"
          ]
        },
        {
          "output_type": "stream",
          "name": "stdout",
          "text": [
            "processing: /content/drive/MyDrive/capstone/dataset/Echos/STEMI/0100/PT000000/ST000000/SE000001\n"
          ]
        },
        {
          "output_type": "stream",
          "name": "stderr",
          "text": [
            "415it [1:01:15,  5.65s/it]"
          ]
        },
        {
          "output_type": "stream",
          "name": "stdout",
          "text": [
            "processing: /content/drive/MyDrive/capstone/dataset/Echos/STEMI/0101/PT000000/ST000000/SE000001\n"
          ]
        },
        {
          "output_type": "stream",
          "name": "stderr",
          "text": [
            "422it [1:01:53,  4.16s/it]"
          ]
        },
        {
          "output_type": "stream",
          "name": "stdout",
          "text": [
            "processing: /content/drive/MyDrive/capstone/dataset/Echos/STEMI/0102/PT000000/ST000000/SE000001\n"
          ]
        },
        {
          "output_type": "stream",
          "name": "stderr",
          "text": [
            "428it [1:02:16,  3.07s/it]"
          ]
        },
        {
          "output_type": "stream",
          "name": "stdout",
          "text": [
            "processing: /content/drive/MyDrive/capstone/dataset/Echos/STEMI/0103/PT000000/ST000000/SE000001\n"
          ]
        },
        {
          "output_type": "stream",
          "name": "stderr",
          "text": [
            "433it [1:02:56,  4.29s/it]"
          ]
        },
        {
          "output_type": "stream",
          "name": "stdout",
          "text": [
            "processing: /content/drive/MyDrive/capstone/dataset/Echos/STEMI/0104/PT000000/ST000000/SE000001\n"
          ]
        },
        {
          "output_type": "stream",
          "name": "stderr",
          "text": [
            "438it [1:03:58,  6.20s/it]"
          ]
        },
        {
          "output_type": "stream",
          "name": "stdout",
          "text": [
            "processing: /content/drive/MyDrive/capstone/dataset/Echos/STEMI/0105/PT000000/ST000000/SE000001\n"
          ]
        },
        {
          "output_type": "stream",
          "name": "stderr",
          "text": [
            "443it [1:04:23,  3.72s/it]"
          ]
        },
        {
          "output_type": "stream",
          "name": "stdout",
          "text": [
            "processing: /content/drive/MyDrive/capstone/dataset/Echos/STEMI/0106/PT000000/ST000000/SE000001\n"
          ]
        },
        {
          "output_type": "stream",
          "name": "stderr",
          "text": [
            "448it [1:05:20,  5.87s/it]"
          ]
        },
        {
          "output_type": "stream",
          "name": "stdout",
          "text": [
            "processing: /content/drive/MyDrive/capstone/dataset/Echos/STEMI/0107/PT000000/ST000000/SE000001\n"
          ]
        },
        {
          "output_type": "stream",
          "name": "stderr",
          "text": [
            "453it [1:05:50,  3.31s/it]"
          ]
        },
        {
          "output_type": "stream",
          "name": "stdout",
          "text": [
            "processing: /content/drive/MyDrive/capstone/dataset/Echos/STEMI/0108/PT000000/ST000000/SE000001\n"
          ]
        },
        {
          "output_type": "stream",
          "name": "stderr",
          "text": [
            "458it [1:06:33,  4.55s/it]"
          ]
        },
        {
          "output_type": "stream",
          "name": "stdout",
          "text": [
            "processing: /content/drive/MyDrive/capstone/dataset/Echos/STEMI/0109/PT000000/ST000000/SE000001\n"
          ]
        },
        {
          "output_type": "stream",
          "name": "stderr",
          "text": [
            "464it [1:07:11,  3.98s/it]"
          ]
        },
        {
          "output_type": "stream",
          "name": "stdout",
          "text": [
            "processing: /content/drive/MyDrive/capstone/dataset/Echos/STEMI/0110/PT000000/ST000000/SE000001\n"
          ]
        },
        {
          "output_type": "stream",
          "name": "stderr",
          "text": [
            "469it [1:07:40,  3.75s/it]"
          ]
        },
        {
          "output_type": "stream",
          "name": "stdout",
          "text": [
            "processing: /content/drive/MyDrive/capstone/dataset/Echos/STEMI/0111/PT000000/ST000000/SE000001\n"
          ]
        },
        {
          "output_type": "stream",
          "name": "stderr",
          "text": [
            "474it [1:08:18,  4.52s/it]"
          ]
        },
        {
          "output_type": "stream",
          "name": "stdout",
          "text": [
            "processing: /content/drive/MyDrive/capstone/dataset/Echos/STEMI/0112/PT000000/ST000000/SE000001\n"
          ]
        },
        {
          "output_type": "stream",
          "name": "stderr",
          "text": [
            "479it [1:08:49,  3.84s/it]"
          ]
        },
        {
          "output_type": "stream",
          "name": "stdout",
          "text": [
            "processing: /content/drive/MyDrive/capstone/dataset/Echos/STEMI/0113/PT000000/ST000000/SE000001\n"
          ]
        },
        {
          "output_type": "stream",
          "name": "stderr",
          "text": [
            "484it [1:09:16,  3.31s/it]"
          ]
        },
        {
          "output_type": "stream",
          "name": "stdout",
          "text": [
            "processing: /content/drive/MyDrive/capstone/dataset/Echos/STEMI/0114/PT000000/ST000000/SE000001\n"
          ]
        },
        {
          "output_type": "stream",
          "name": "stderr",
          "text": [
            "489it [1:09:43,  3.16s/it]"
          ]
        },
        {
          "output_type": "stream",
          "name": "stdout",
          "text": [
            "processing: /content/drive/MyDrive/capstone/dataset/Echos/STEMI/0115/PT000000/ST000000/SE000001\n"
          ]
        },
        {
          "output_type": "stream",
          "name": "stderr",
          "text": [
            "494it [1:10:31,  4.94s/it]"
          ]
        },
        {
          "output_type": "stream",
          "name": "stdout",
          "text": [
            "processing: /content/drive/MyDrive/capstone/dataset/Echos/STEMI/0116/PT000000/ST000000/SE000001\n"
          ]
        },
        {
          "output_type": "stream",
          "name": "stderr",
          "text": [
            "500it [1:11:06,  3.80s/it]"
          ]
        },
        {
          "output_type": "stream",
          "name": "stdout",
          "text": [
            "processing: /content/drive/MyDrive/capstone/dataset/Echos/STEMI/0117/PT000000/ST000000/SE000001\n"
          ]
        },
        {
          "output_type": "stream",
          "name": "stderr",
          "text": [
            "505it [1:11:40,  3.92s/it]"
          ]
        },
        {
          "output_type": "stream",
          "name": "stdout",
          "text": [
            "processing: /content/drive/MyDrive/capstone/dataset/Echos/STEMI/0119/PT000000/ST000000/SE000001\n"
          ]
        },
        {
          "output_type": "stream",
          "name": "stderr",
          "text": [
            "510it [1:12:21,  4.47s/it]"
          ]
        },
        {
          "output_type": "stream",
          "name": "stdout",
          "text": [
            "processing: /content/drive/MyDrive/capstone/dataset/Echos/STEMI/0120/PT000000/ST000000/SE000001\n"
          ]
        },
        {
          "output_type": "stream",
          "name": "stderr",
          "text": [
            "516it [1:12:53,  3.75s/it]"
          ]
        },
        {
          "output_type": "stream",
          "name": "stdout",
          "text": [
            "processing: /content/drive/MyDrive/capstone/dataset/Echos/STEMI/0121/PT000000/ST000000/SE000001\n"
          ]
        },
        {
          "output_type": "stream",
          "name": "stderr",
          "text": [
            "520it [1:13:16,  3.79s/it]"
          ]
        },
        {
          "output_type": "stream",
          "name": "stdout",
          "text": [
            "processing: /content/drive/MyDrive/capstone/dataset/Echos/STEMI/0122/PT000000/ST000000/SE000000\n"
          ]
        },
        {
          "output_type": "stream",
          "name": "stderr",
          "text": [
            "ERROR:root:Error reading DICOM file: /content/drive/MyDrive/capstone/dataset/Echos/STEMI/0122/PT000000/ST000000/SE000000/IM000005, The length of the pixel data in the dataset (90154 bytes) doesn't match the expected length (2359296 bytes). The dataset may be corrupted or there may be an issue with the pixel data handler.\n",
            "ERROR:root:Error reading DICOM file: /content/drive/MyDrive/capstone/dataset/Echos/STEMI/0122/PT000000/ST000000/SE000000/IM000007, The length of the pixel data in the dataset (89006 bytes) doesn't match the expected length (2359296 bytes). The dataset may be corrupted or there may be an issue with the pixel data handler.\n",
            "ERROR:root:Error reading DICOM file: /content/drive/MyDrive/capstone/dataset/Echos/STEMI/0122/PT000000/ST000000/SE000000/IM000012, The length of the pixel data in the dataset (108694 bytes) doesn't match the expected length (2359296 bytes). The dataset may be corrupted or there may be an issue with the pixel data handler.\n",
            "ERROR:root:Error reading DICOM file: /content/drive/MyDrive/capstone/dataset/Echos/STEMI/0122/PT000000/ST000000/SE000000/IM000014, The length of the pixel data in the dataset (80274 bytes) doesn't match the expected length (2359296 bytes). The dataset may be corrupted or there may be an issue with the pixel data handler.\n",
            "ERROR:root:Error reading DICOM file: /content/drive/MyDrive/capstone/dataset/Echos/STEMI/0122/PT000000/ST000000/SE000000/IM000019, The length of the pixel data in the dataset (132834 bytes) doesn't match the expected length (2359296 bytes). The dataset may be corrupted or there may be an issue with the pixel data handler.\n",
            "ERROR:root:Error reading DICOM file: /content/drive/MyDrive/capstone/dataset/Echos/STEMI/0122/PT000000/ST000000/SE000000/IM000022, The length of the pixel data in the dataset (95568 bytes) doesn't match the expected length (2359296 bytes). The dataset may be corrupted or there may be an issue with the pixel data handler.\n",
            "ERROR:root:Error reading DICOM file: /content/drive/MyDrive/capstone/dataset/Echos/STEMI/0122/PT000000/ST000000/SE000000/IM000023, The length of the pixel data in the dataset (95092 bytes) doesn't match the expected length (2359296 bytes). The dataset may be corrupted or there may be an issue with the pixel data handler.\n",
            "ERROR:root:Error reading DICOM file: /content/drive/MyDrive/capstone/dataset/Echos/STEMI/0122/PT000000/ST000000/SE000000/IM000024, The length of the pixel data in the dataset (99586 bytes) doesn't match the expected length (2359296 bytes). The dataset may be corrupted or there may be an issue with the pixel data handler.\n",
            "ERROR:root:Error reading DICOM file: /content/drive/MyDrive/capstone/dataset/Echos/STEMI/0122/PT000000/ST000000/SE000000/IM000027, The length of the pixel data in the dataset (103340 bytes) doesn't match the expected length (2359296 bytes). The dataset may be corrupted or there may be an issue with the pixel data handler.\n",
            "ERROR:root:Error reading DICOM file: /content/drive/MyDrive/capstone/dataset/Echos/STEMI/0122/PT000000/ST000000/SE000000/IM000030, The length of the pixel data in the dataset (114496 bytes) doesn't match the expected length (2359296 bytes). The dataset may be corrupted or there may be an issue with the pixel data handler.\n",
            "ERROR:root:Error reading DICOM file: /content/drive/MyDrive/capstone/dataset/Echos/STEMI/0122/PT000000/ST000000/SE000000/IM000034, The length of the pixel data in the dataset (119224 bytes) doesn't match the expected length (2359296 bytes). The dataset may be corrupted or there may be an issue with the pixel data handler.\n",
            "ERROR:root:Error reading DICOM file: /content/drive/MyDrive/capstone/dataset/Echos/STEMI/0122/PT000000/ST000000/SE000000/IM000035, The length of the pixel data in the dataset (110052 bytes) doesn't match the expected length (2359296 bytes). The dataset may be corrupted or there may be an issue with the pixel data handler.\n",
            "ERROR:root:Error reading DICOM file: /content/drive/MyDrive/capstone/dataset/Echos/STEMI/0122/PT000000/ST000000/SE000000/IM000043, The length of the pixel data in the dataset (103090 bytes) doesn't match the expected length (2359296 bytes). The dataset may be corrupted or there may be an issue with the pixel data handler.\n",
            "ERROR:root:Error reading DICOM file: /content/drive/MyDrive/capstone/dataset/Echos/STEMI/0122/PT000000/ST000000/SE000000/IM000044, The length of the pixel data in the dataset (98396 bytes) doesn't match the expected length (2359296 bytes). The dataset may be corrupted or there may be an issue with the pixel data handler.\n",
            "ERROR:root:Error reading DICOM file: /content/drive/MyDrive/capstone/dataset/Echos/STEMI/0122/PT000000/ST000000/SE000000/IM000045, The length of the pixel data in the dataset (89476 bytes) doesn't match the expected length (2359296 bytes). The dataset may be corrupted or there may be an issue with the pixel data handler.\n",
            "ERROR:root:Error reading DICOM file: /content/drive/MyDrive/capstone/dataset/Echos/STEMI/0122/PT000000/ST000000/SE000000/IM000046, The length of the pixel data in the dataset (92112 bytes) doesn't match the expected length (2359296 bytes). The dataset may be corrupted or there may be an issue with the pixel data handler.\n",
            "ERROR:root:Error reading DICOM file: /content/drive/MyDrive/capstone/dataset/Echos/STEMI/0122/PT000000/ST000000/SE000000/IM000054, The length of the pixel data in the dataset (111260 bytes) doesn't match the expected length (2359296 bytes). The dataset may be corrupted or there may be an issue with the pixel data handler.\n",
            "ERROR:root:Error reading DICOM file: /content/drive/MyDrive/capstone/dataset/Echos/STEMI/0122/PT000000/ST000000/SE000000/IM000055, The length of the pixel data in the dataset (101958 bytes) doesn't match the expected length (2359296 bytes). The dataset may be corrupted or there may be an issue with the pixel data handler.\n",
            "ERROR:root:Error reading DICOM file: /content/drive/MyDrive/capstone/dataset/Echos/STEMI/0122/PT000000/ST000000/SE000000/IM000056, The length of the pixel data in the dataset (80588 bytes) doesn't match the expected length (2359296 bytes). The dataset may be corrupted or there may be an issue with the pixel data handler.\n",
            "ERROR:root:Error reading DICOM file: /content/drive/MyDrive/capstone/dataset/Echos/STEMI/0122/PT000000/ST000000/SE000000/IM000057, The length of the pixel data in the dataset (79670 bytes) doesn't match the expected length (2359296 bytes). The dataset may be corrupted or there may be an issue with the pixel data handler.\n",
            "ERROR:root:Error reading DICOM file: /content/drive/MyDrive/capstone/dataset/Echos/STEMI/0122/PT000000/ST000000/SE000000/IM000058, The length of the pixel data in the dataset (80070 bytes) doesn't match the expected length (2359296 bytes). The dataset may be corrupted or there may be an issue with the pixel data handler.\n",
            "ERROR:root:Error reading DICOM file: /content/drive/MyDrive/capstone/dataset/Echos/STEMI/0122/PT000000/ST000000/SE000000/IM000065, The length of the pixel data in the dataset (100702 bytes) doesn't match the expected length (2359296 bytes). The dataset may be corrupted or there may be an issue with the pixel data handler.\n",
            "ERROR:root:Error reading DICOM file: /content/drive/MyDrive/capstone/dataset/Echos/STEMI/0122/PT000000/ST000000/SE000000/IM000066, The length of the pixel data in the dataset (104422 bytes) doesn't match the expected length (2359296 bytes). The dataset may be corrupted or there may be an issue with the pixel data handler.\n",
            "ERROR:root:Error reading DICOM file: /content/drive/MyDrive/capstone/dataset/Echos/STEMI/0122/PT000000/ST000000/SE000000/IM000067, The length of the pixel data in the dataset (87632 bytes) doesn't match the expected length (2359296 bytes). The dataset may be corrupted or there may be an issue with the pixel data handler.\n",
            "ERROR:root:Error reading DICOM file: /content/drive/MyDrive/capstone/dataset/Echos/STEMI/0122/PT000000/ST000000/SE000000/IM000068, The length of the pixel data in the dataset (83028 bytes) doesn't match the expected length (2359296 bytes). The dataset may be corrupted or there may be an issue with the pixel data handler.\n",
            "ERROR:root:Error reading DICOM file: /content/drive/MyDrive/capstone/dataset/Echos/STEMI/0122/PT000000/ST000000/SE000000/IM000069, The length of the pixel data in the dataset (108076 bytes) doesn't match the expected length (2359296 bytes). The dataset may be corrupted or there may be an issue with the pixel data handler.\n",
            "ERROR:root:Error reading DICOM file: /content/drive/MyDrive/capstone/dataset/Echos/STEMI/0122/PT000000/ST000000/SE000000/IM000070, The length of the pixel data in the dataset (107380 bytes) doesn't match the expected length (2359296 bytes). The dataset may be corrupted or there may be an issue with the pixel data handler.\n",
            "ERROR:root:Error reading DICOM file: /content/drive/MyDrive/capstone/dataset/Echos/STEMI/0122/PT000000/ST000000/SE000000/IM000071, The length of the pixel data in the dataset (109362 bytes) doesn't match the expected length (2359296 bytes). The dataset may be corrupted or there may be an issue with the pixel data handler.\n",
            "ERROR:root:Error reading DICOM file: /content/drive/MyDrive/capstone/dataset/Echos/STEMI/0122/PT000000/ST000000/SE000000/IM000083, The length of the pixel data in the dataset (105632 bytes) doesn't match the expected length (2359296 bytes). The dataset may be corrupted or there may be an issue with the pixel data handler.\n",
            "ERROR:root:Error reading DICOM file: /content/drive/MyDrive/capstone/dataset/Echos/STEMI/0122/PT000000/ST000000/SE000000/IM000089, The length of the pixel data in the dataset (78658 bytes) doesn't match the expected length (2359296 bytes). The dataset may be corrupted or there may be an issue with the pixel data handler.\n",
            "ERROR:root:Error reading DICOM file: /content/drive/MyDrive/capstone/dataset/Echos/STEMI/0122/PT000000/ST000000/SE000000/IM000090, The length of the pixel data in the dataset (81396 bytes) doesn't match the expected length (2359296 bytes). The dataset may be corrupted or there may be an issue with the pixel data handler.\n",
            "526it [1:14:23,  6.27s/it]"
          ]
        },
        {
          "output_type": "stream",
          "name": "stdout",
          "text": [
            "processing: /content/drive/MyDrive/capstone/dataset/Echos/LVT/1270/PT000000/ST000000/SE000001\n"
          ]
        },
        {
          "output_type": "stream",
          "name": "stderr",
          "text": [
            "531it [1:14:53,  5.15s/it]"
          ]
        },
        {
          "output_type": "stream",
          "name": "stdout",
          "text": [
            "processing: /content/drive/MyDrive/capstone/dataset/Echos/LVT/1271/PT000000/ST000000/SE000000\n"
          ]
        },
        {
          "output_type": "stream",
          "name": "stderr",
          "text": [
            "ERROR:root:Error reading DICOM file: /content/drive/MyDrive/capstone/dataset/Echos/LVT/1271/PT000000/ST000000/SE000000/IM000019, The length of the pixel data in the dataset (69972 bytes) doesn't match the expected length (2359296 bytes). The dataset may be corrupted or there may be an issue with the pixel data handler.\n",
            "ERROR:root:Error reading DICOM file: /content/drive/MyDrive/capstone/dataset/Echos/LVT/1271/PT000000/ST000000/SE000000/IM000022, The length of the pixel data in the dataset (67806 bytes) doesn't match the expected length (2359296 bytes). The dataset may be corrupted or there may be an issue with the pixel data handler.\n",
            "ERROR:root:Error reading DICOM file: /content/drive/MyDrive/capstone/dataset/Echos/LVT/1271/PT000000/ST000000/SE000000/IM000023, The length of the pixel data in the dataset (96840 bytes) doesn't match the expected length (2359296 bytes). The dataset may be corrupted or there may be an issue with the pixel data handler.\n",
            "ERROR:root:Error reading DICOM file: /content/drive/MyDrive/capstone/dataset/Echos/LVT/1271/PT000000/ST000000/SE000000/IM000024, The length of the pixel data in the dataset (104300 bytes) doesn't match the expected length (2359296 bytes). The dataset may be corrupted or there may be an issue with the pixel data handler.\n",
            "ERROR:root:Error reading DICOM file: /content/drive/MyDrive/capstone/dataset/Echos/LVT/1271/PT000000/ST000000/SE000000/IM000025, The length of the pixel data in the dataset (119554 bytes) doesn't match the expected length (2359296 bytes). The dataset may be corrupted or there may be an issue with the pixel data handler.\n",
            "ERROR:root:Error reading DICOM file: /content/drive/MyDrive/capstone/dataset/Echos/LVT/1271/PT000000/ST000000/SE000000/IM000026, The length of the pixel data in the dataset (119164 bytes) doesn't match the expected length (2359296 bytes). The dataset may be corrupted or there may be an issue with the pixel data handler.\n",
            "ERROR:root:Error reading DICOM file: /content/drive/MyDrive/capstone/dataset/Echos/LVT/1271/PT000000/ST000000/SE000000/IM000035, The length of the pixel data in the dataset (91572 bytes) doesn't match the expected length (2359296 bytes). The dataset may be corrupted or there may be an issue with the pixel data handler.\n",
            "ERROR:root:Error reading DICOM file: /content/drive/MyDrive/capstone/dataset/Echos/LVT/1271/PT000000/ST000000/SE000000/IM000036, The length of the pixel data in the dataset (93346 bytes) doesn't match the expected length (2359296 bytes). The dataset may be corrupted or there may be an issue with the pixel data handler.\n",
            "ERROR:root:Error reading DICOM file: /content/drive/MyDrive/capstone/dataset/Echos/LVT/1271/PT000000/ST000000/SE000000/IM000045, The length of the pixel data in the dataset (98458 bytes) doesn't match the expected length (2359296 bytes). The dataset may be corrupted or there may be an issue with the pixel data handler.\n",
            "ERROR:root:Error reading DICOM file: /content/drive/MyDrive/capstone/dataset/Echos/LVT/1271/PT000000/ST000000/SE000000/IM000046, The length of the pixel data in the dataset (91906 bytes) doesn't match the expected length (2359296 bytes). The dataset may be corrupted or there may be an issue with the pixel data handler.\n",
            "ERROR:root:Error reading DICOM file: /content/drive/MyDrive/capstone/dataset/Echos/LVT/1271/PT000000/ST000000/SE000000/IM000065, The length of the pixel data in the dataset (98000 bytes) doesn't match the expected length (2359296 bytes). The dataset may be corrupted or there may be an issue with the pixel data handler.\n",
            "ERROR:root:Error reading DICOM file: /content/drive/MyDrive/capstone/dataset/Echos/LVT/1271/PT000000/ST000000/SE000000/IM000066, The length of the pixel data in the dataset (93056 bytes) doesn't match the expected length (2359296 bytes). The dataset may be corrupted or there may be an issue with the pixel data handler.\n",
            "ERROR:root:Error reading DICOM file: /content/drive/MyDrive/capstone/dataset/Echos/LVT/1271/PT000000/ST000000/SE000000/IM000067, The length of the pixel data in the dataset (96186 bytes) doesn't match the expected length (2359296 bytes). The dataset may be corrupted or there may be an issue with the pixel data handler.\n",
            "ERROR:root:Error reading DICOM file: /content/drive/MyDrive/capstone/dataset/Echos/LVT/1271/PT000000/ST000000/SE000000/IM000068, The length of the pixel data in the dataset (63250 bytes) doesn't match the expected length (2359296 bytes). The dataset may be corrupted or there may be an issue with the pixel data handler.\n",
            "ERROR:root:Error reading DICOM file: /content/drive/MyDrive/capstone/dataset/Echos/LVT/1271/PT000000/ST000000/SE000000/IM000090, The length of the pixel data in the dataset (107040 bytes) doesn't match the expected length (2359296 bytes). The dataset may be corrupted or there may be an issue with the pixel data handler.\n",
            "ERROR:root:Error reading DICOM file: /content/drive/MyDrive/capstone/dataset/Echos/LVT/1271/PT000000/ST000000/SE000000/IM000091, The length of the pixel data in the dataset (91404 bytes) doesn't match the expected length (2359296 bytes). The dataset may be corrupted or there may be an issue with the pixel data handler.\n",
            "ERROR:root:Error reading DICOM file: /content/drive/MyDrive/capstone/dataset/Echos/LVT/1271/PT000000/ST000000/SE000000/IM000095, The length of the pixel data in the dataset (108260 bytes) doesn't match the expected length (2359296 bytes). The dataset may be corrupted or there may be an issue with the pixel data handler.\n",
            "ERROR:root:Error reading DICOM file: /content/drive/MyDrive/capstone/dataset/Echos/LVT/1271/PT000000/ST000000/SE000000/IM000096, The length of the pixel data in the dataset (69334 bytes) doesn't match the expected length (2359296 bytes). The dataset may be corrupted or there may be an issue with the pixel data handler.\n",
            "ERROR:root:Error reading DICOM file: /content/drive/MyDrive/capstone/dataset/Echos/LVT/1271/PT000000/ST000000/SE000000/IM000097, The length of the pixel data in the dataset (70828 bytes) doesn't match the expected length (2359296 bytes). The dataset may be corrupted or there may be an issue with the pixel data handler.\n",
            "ERROR:root:Error reading DICOM file: /content/drive/MyDrive/capstone/dataset/Echos/LVT/1271/PT000000/ST000000/SE000000/IM000098, The length of the pixel data in the dataset (72668 bytes) doesn't match the expected length (2359296 bytes). The dataset may be corrupted or there may be an issue with the pixel data handler.\n",
            "ERROR:root:Error reading DICOM file: /content/drive/MyDrive/capstone/dataset/Echos/LVT/1271/PT000000/ST000000/SE000000/IM000100, The length of the pixel data in the dataset (108228 bytes) doesn't match the expected length (2359296 bytes). The dataset may be corrupted or there may be an issue with the pixel data handler.\n",
            "ERROR:root:Error reading DICOM file: /content/drive/MyDrive/capstone/dataset/Echos/LVT/1271/PT000000/ST000000/SE000000/IM000104, The length of the pixel data in the dataset (84106 bytes) doesn't match the expected length (2359296 bytes). The dataset may be corrupted or there may be an issue with the pixel data handler.\n",
            "ERROR:root:Error reading DICOM file: /content/drive/MyDrive/capstone/dataset/Echos/LVT/1271/PT000000/ST000000/SE000000/IM000116, The length of the pixel data in the dataset (97950 bytes) doesn't match the expected length (2359296 bytes). The dataset may be corrupted or there may be an issue with the pixel data handler.\n",
            "ERROR:root:Error reading DICOM file: /content/drive/MyDrive/capstone/dataset/Echos/LVT/1271/PT000000/ST000000/SE000000/IM000117, The length of the pixel data in the dataset (84744 bytes) doesn't match the expected length (2359296 bytes). The dataset may be corrupted or there may be an issue with the pixel data handler.\n",
            "ERROR:root:Error reading DICOM file: /content/drive/MyDrive/capstone/dataset/Echos/LVT/1271/PT000000/ST000000/SE000000/IM000118, The length of the pixel data in the dataset (86246 bytes) doesn't match the expected length (2359296 bytes). The dataset may be corrupted or there may be an issue with the pixel data handler.\n",
            "ERROR:root:Error reading DICOM file: /content/drive/MyDrive/capstone/dataset/Echos/LVT/1271/PT000000/ST000000/SE000000/IM000123, The length of the pixel data in the dataset (69628 bytes) doesn't match the expected length (2359296 bytes). The dataset may be corrupted or there may be an issue with the pixel data handler.\n",
            "ERROR:root:Error reading DICOM file: /content/drive/MyDrive/capstone/dataset/Echos/LVT/1271/PT000000/ST000000/SE000000/IM000127, The length of the pixel data in the dataset (75502 bytes) doesn't match the expected length (2359296 bytes). The dataset may be corrupted or there may be an issue with the pixel data handler.\n",
            "ERROR:root:Error reading DICOM file: /content/drive/MyDrive/capstone/dataset/Echos/LVT/1271/PT000000/ST000000/SE000000/IM000134, The length of the pixel data in the dataset (81142 bytes) doesn't match the expected length (2359296 bytes). The dataset may be corrupted or there may be an issue with the pixel data handler.\n",
            "ERROR:root:Error reading DICOM file: /content/drive/MyDrive/capstone/dataset/Echos/LVT/1271/PT000000/ST000000/SE000000/IM000138, The length of the pixel data in the dataset (71094 bytes) doesn't match the expected length (2359296 bytes). The dataset may be corrupted or there may be an issue with the pixel data handler.\n",
            "537it [1:16:42,  9.80s/it]"
          ]
        },
        {
          "output_type": "stream",
          "name": "stdout",
          "text": [
            "processing: /content/drive/MyDrive/capstone/dataset/Echos/LVT/1272/PT000000/ST000000/SE000001\n"
          ]
        },
        {
          "output_type": "stream",
          "name": "stderr",
          "text": [
            "542it [1:17:23,  6.41s/it]"
          ]
        },
        {
          "output_type": "stream",
          "name": "stdout",
          "text": [
            "processing: /content/drive/MyDrive/capstone/dataset/Echos/LVT/1273/PT000000/ST000000/SE000001\n"
          ]
        },
        {
          "output_type": "stream",
          "name": "stderr",
          "text": [
            "547it [1:18:10,  5.68s/it]"
          ]
        },
        {
          "output_type": "stream",
          "name": "stdout",
          "text": [
            "processing: /content/drive/MyDrive/capstone/dataset/Echos/LVT/1274/PT000000/ST000000/SE000001\n"
          ]
        },
        {
          "output_type": "stream",
          "name": "stderr",
          "text": [
            "552it [1:18:47,  4.67s/it]"
          ]
        },
        {
          "output_type": "stream",
          "name": "stdout",
          "text": [
            "processing: /content/drive/MyDrive/capstone/dataset/Echos/LVT/1275/PT000000/ST000000/SE000001\n"
          ]
        },
        {
          "output_type": "stream",
          "name": "stderr",
          "text": [
            "556it [1:19:41,  7.72s/it]"
          ]
        },
        {
          "output_type": "stream",
          "name": "stdout",
          "text": [
            "processing: /content/drive/MyDrive/capstone/dataset/Echos/LVT/1276/PT000000/ST000000/SE000000\n"
          ]
        },
        {
          "output_type": "stream",
          "name": "stderr",
          "text": [
            "ERROR:root:Error reading DICOM file: /content/drive/MyDrive/capstone/dataset/Echos/LVT/1276/PT000000/ST000000/SE000000/IM000005, The length of the pixel data in the dataset (65392 bytes) doesn't match the expected length (2359296 bytes). The dataset may be corrupted or there may be an issue with the pixel data handler.\n",
            "ERROR:root:Error reading DICOM file: /content/drive/MyDrive/capstone/dataset/Echos/LVT/1276/PT000000/ST000000/SE000000/IM000008, The length of the pixel data in the dataset (70508 bytes) doesn't match the expected length (2359296 bytes). The dataset may be corrupted or there may be an issue with the pixel data handler.\n",
            "ERROR:root:Error reading DICOM file: /content/drive/MyDrive/capstone/dataset/Echos/LVT/1276/PT000000/ST000000/SE000000/IM000009, The length of the pixel data in the dataset (68508 bytes) doesn't match the expected length (2359296 bytes). The dataset may be corrupted or there may be an issue with the pixel data handler.\n",
            "ERROR:root:Error reading DICOM file: /content/drive/MyDrive/capstone/dataset/Echos/LVT/1276/PT000000/ST000000/SE000000/IM000014, The length of the pixel data in the dataset (98922 bytes) doesn't match the expected length (2359296 bytes). The dataset may be corrupted or there may be an issue with the pixel data handler.\n",
            "ERROR:root:Error reading DICOM file: /content/drive/MyDrive/capstone/dataset/Echos/LVT/1276/PT000000/ST000000/SE000000/IM000015, The length of the pixel data in the dataset (93524 bytes) doesn't match the expected length (2359296 bytes). The dataset may be corrupted or there may be an issue with the pixel data handler.\n",
            "ERROR:root:Error reading DICOM file: /content/drive/MyDrive/capstone/dataset/Echos/LVT/1276/PT000000/ST000000/SE000000/IM000016, The length of the pixel data in the dataset (85790 bytes) doesn't match the expected length (2359296 bytes). The dataset may be corrupted or there may be an issue with the pixel data handler.\n",
            "ERROR:root:Error reading DICOM file: /content/drive/MyDrive/capstone/dataset/Echos/LVT/1276/PT000000/ST000000/SE000000/IM000020, The length of the pixel data in the dataset (98338 bytes) doesn't match the expected length (2359296 bytes). The dataset may be corrupted or there may be an issue with the pixel data handler.\n",
            "ERROR:root:Error reading DICOM file: /content/drive/MyDrive/capstone/dataset/Echos/LVT/1276/PT000000/ST000000/SE000000/IM000021, The length of the pixel data in the dataset (86514 bytes) doesn't match the expected length (2359296 bytes). The dataset may be corrupted or there may be an issue with the pixel data handler.\n",
            "ERROR:root:Error reading DICOM file: /content/drive/MyDrive/capstone/dataset/Echos/LVT/1276/PT000000/ST000000/SE000000/IM000027, The length of the pixel data in the dataset (98072 bytes) doesn't match the expected length (2359296 bytes). The dataset may be corrupted or there may be an issue with the pixel data handler.\n",
            "ERROR:root:Error reading DICOM file: /content/drive/MyDrive/capstone/dataset/Echos/LVT/1276/PT000000/ST000000/SE000000/IM000030, The length of the pixel data in the dataset (81508 bytes) doesn't match the expected length (2359296 bytes). The dataset may be corrupted or there may be an issue with the pixel data handler.\n",
            "ERROR:root:Error reading DICOM file: /content/drive/MyDrive/capstone/dataset/Echos/LVT/1276/PT000000/ST000000/SE000000/IM000033, The length of the pixel data in the dataset (100152 bytes) doesn't match the expected length (2359296 bytes). The dataset may be corrupted or there may be an issue with the pixel data handler.\n",
            "ERROR:root:Error reading DICOM file: /content/drive/MyDrive/capstone/dataset/Echos/LVT/1276/PT000000/ST000000/SE000000/IM000034, The length of the pixel data in the dataset (94728 bytes) doesn't match the expected length (2359296 bytes). The dataset may be corrupted or there may be an issue with the pixel data handler.\n",
            "ERROR:root:Error reading DICOM file: /content/drive/MyDrive/capstone/dataset/Echos/LVT/1276/PT000000/ST000000/SE000000/IM000036, The length of the pixel data in the dataset (90004 bytes) doesn't match the expected length (2359296 bytes). The dataset may be corrupted or there may be an issue with the pixel data handler.\n",
            "ERROR:root:Error reading DICOM file: /content/drive/MyDrive/capstone/dataset/Echos/LVT/1276/PT000000/ST000000/SE000000/IM000037, The length of the pixel data in the dataset (91420 bytes) doesn't match the expected length (2359296 bytes). The dataset may be corrupted or there may be an issue with the pixel data handler.\n",
            "ERROR:root:Error reading DICOM file: /content/drive/MyDrive/capstone/dataset/Echos/LVT/1276/PT000000/ST000000/SE000000/IM000038, The length of the pixel data in the dataset (91574 bytes) doesn't match the expected length (2359296 bytes). The dataset may be corrupted or there may be an issue with the pixel data handler.\n",
            "ERROR:root:Error reading DICOM file: /content/drive/MyDrive/capstone/dataset/Echos/LVT/1276/PT000000/ST000000/SE000000/IM000043, The length of the pixel data in the dataset (95594 bytes) doesn't match the expected length (2359296 bytes). The dataset may be corrupted or there may be an issue with the pixel data handler.\n",
            "ERROR:root:Error reading DICOM file: /content/drive/MyDrive/capstone/dataset/Echos/LVT/1276/PT000000/ST000000/SE000000/IM000056, The length of the pixel data in the dataset (80068 bytes) doesn't match the expected length (2359296 bytes). The dataset may be corrupted or there may be an issue with the pixel data handler.\n",
            "ERROR:root:Error reading DICOM file: /content/drive/MyDrive/capstone/dataset/Echos/LVT/1276/PT000000/ST000000/SE000000/IM000058, The length of the pixel data in the dataset (78332 bytes) doesn't match the expected length (2359296 bytes). The dataset may be corrupted or there may be an issue with the pixel data handler.\n",
            "ERROR:root:Error reading DICOM file: /content/drive/MyDrive/capstone/dataset/Echos/LVT/1276/PT000000/ST000000/SE000000/IM000061, The length of the pixel data in the dataset (81802 bytes) doesn't match the expected length (2359296 bytes). The dataset may be corrupted or there may be an issue with the pixel data handler.\n",
            "ERROR:root:Error reading DICOM file: /content/drive/MyDrive/capstone/dataset/Echos/LVT/1276/PT000000/ST000000/SE000000/IM000062, The length of the pixel data in the dataset (85552 bytes) doesn't match the expected length (2359296 bytes). The dataset may be corrupted or there may be an issue with the pixel data handler.\n",
            "ERROR:root:Error reading DICOM file: /content/drive/MyDrive/capstone/dataset/Echos/LVT/1276/PT000000/ST000000/SE000000/IM000063, The length of the pixel data in the dataset (75330 bytes) doesn't match the expected length (2359296 bytes). The dataset may be corrupted or there may be an issue with the pixel data handler.\n",
            "ERROR:root:Error reading DICOM file: /content/drive/MyDrive/capstone/dataset/Echos/LVT/1276/PT000000/ST000000/SE000000/IM000064, The length of the pixel data in the dataset (68424 bytes) doesn't match the expected length (2359296 bytes). The dataset may be corrupted or there may be an issue with the pixel data handler.\n",
            "ERROR:root:Error reading DICOM file: /content/drive/MyDrive/capstone/dataset/Echos/LVT/1276/PT000000/ST000000/SE000000/IM000065, The length of the pixel data in the dataset (74240 bytes) doesn't match the expected length (2359296 bytes). The dataset may be corrupted or there may be an issue with the pixel data handler.\n",
            "ERROR:root:Error reading DICOM file: /content/drive/MyDrive/capstone/dataset/Echos/LVT/1276/PT000000/ST000000/SE000000/IM000066, The length of the pixel data in the dataset (67682 bytes) doesn't match the expected length (2359296 bytes). The dataset may be corrupted or there may be an issue with the pixel data handler.\n",
            "ERROR:root:Error reading DICOM file: /content/drive/MyDrive/capstone/dataset/Echos/LVT/1276/PT000000/ST000000/SE000000/IM000067, The length of the pixel data in the dataset (74490 bytes) doesn't match the expected length (2359296 bytes). The dataset may be corrupted or there may be an issue with the pixel data handler.\n",
            "ERROR:root:Error reading DICOM file: /content/drive/MyDrive/capstone/dataset/Echos/LVT/1276/PT000000/ST000000/SE000000/IM000068, The length of the pixel data in the dataset (69338 bytes) doesn't match the expected length (2359296 bytes). The dataset may be corrupted or there may be an issue with the pixel data handler.\n",
            "ERROR:root:Error reading DICOM file: /content/drive/MyDrive/capstone/dataset/Echos/LVT/1276/PT000000/ST000000/SE000000/IM000071, The length of the pixel data in the dataset (86742 bytes) doesn't match the expected length (2359296 bytes). The dataset may be corrupted or there may be an issue with the pixel data handler.\n",
            "ERROR:root:Error reading DICOM file: /content/drive/MyDrive/capstone/dataset/Echos/LVT/1276/PT000000/ST000000/SE000000/IM000072, The length of the pixel data in the dataset (77024 bytes) doesn't match the expected length (2359296 bytes). The dataset may be corrupted or there may be an issue with the pixel data handler.\n",
            "ERROR:root:Error reading DICOM file: /content/drive/MyDrive/capstone/dataset/Echos/LVT/1276/PT000000/ST000000/SE000000/IM000073, The length of the pixel data in the dataset (95994 bytes) doesn't match the expected length (2359296 bytes). The dataset may be corrupted or there may be an issue with the pixel data handler.\n",
            "ERROR:root:Error reading DICOM file: /content/drive/MyDrive/capstone/dataset/Echos/LVT/1276/PT000000/ST000000/SE000000/IM000074, The length of the pixel data in the dataset (107464 bytes) doesn't match the expected length (2359296 bytes). The dataset may be corrupted or there may be an issue with the pixel data handler.\n",
            "ERROR:root:Error reading DICOM file: /content/drive/MyDrive/capstone/dataset/Echos/LVT/1276/PT000000/ST000000/SE000000/IM000075, The length of the pixel data in the dataset (98588 bytes) doesn't match the expected length (2359296 bytes). The dataset may be corrupted or there may be an issue with the pixel data handler.\n",
            "ERROR:root:Error reading DICOM file: /content/drive/MyDrive/capstone/dataset/Echos/LVT/1276/PT000000/ST000000/SE000000/IM000077, The length of the pixel data in the dataset (93290 bytes) doesn't match the expected length (2359296 bytes). The dataset may be corrupted or there may be an issue with the pixel data handler.\n",
            "ERROR:root:Error reading DICOM file: /content/drive/MyDrive/capstone/dataset/Echos/LVT/1276/PT000000/ST000000/SE000000/IM000079, The length of the pixel data in the dataset (82212 bytes) doesn't match the expected length (2359296 bytes). The dataset may be corrupted or there may be an issue with the pixel data handler.\n",
            "ERROR:root:Error reading DICOM file: /content/drive/MyDrive/capstone/dataset/Echos/LVT/1276/PT000000/ST000000/SE000000/IM000083, The length of the pixel data in the dataset (95722 bytes) doesn't match the expected length (2359296 bytes). The dataset may be corrupted or there may be an issue with the pixel data handler.\n",
            "ERROR:root:Error reading DICOM file: /content/drive/MyDrive/capstone/dataset/Echos/LVT/1276/PT000000/ST000000/SE000000/IM000086, The length of the pixel data in the dataset (95468 bytes) doesn't match the expected length (2359296 bytes). The dataset may be corrupted or there may be an issue with the pixel data handler.\n",
            "ERROR:root:Error reading DICOM file: /content/drive/MyDrive/capstone/dataset/Echos/LVT/1276/PT000000/ST000000/SE000000/IM000114, The length of the pixel data in the dataset (89196 bytes) doesn't match the expected length (2359296 bytes). The dataset may be corrupted or there may be an issue with the pixel data handler.\n",
            "ERROR:root:Error reading DICOM file: /content/drive/MyDrive/capstone/dataset/Echos/LVT/1276/PT000000/ST000000/SE000000/IM000115, The length of the pixel data in the dataset (78020 bytes) doesn't match the expected length (2359296 bytes). The dataset may be corrupted or there may be an issue with the pixel data handler.\n",
            "ERROR:root:Error reading DICOM file: /content/drive/MyDrive/capstone/dataset/Echos/LVT/1276/PT000000/ST000000/SE000000/IM000116, The length of the pixel data in the dataset (103264 bytes) doesn't match the expected length (2359296 bytes). The dataset may be corrupted or there may be an issue with the pixel data handler.\n",
            "ERROR:root:Error reading DICOM file: /content/drive/MyDrive/capstone/dataset/Echos/LVT/1276/PT000000/ST000000/SE000000/IM000117, The length of the pixel data in the dataset (101532 bytes) doesn't match the expected length (2359296 bytes). The dataset may be corrupted or there may be an issue with the pixel data handler.\n",
            "ERROR:root:Error reading DICOM file: /content/drive/MyDrive/capstone/dataset/Echos/LVT/1276/PT000000/ST000000/SE000000/IM000118, The length of the pixel data in the dataset (68030 bytes) doesn't match the expected length (2359296 bytes). The dataset may be corrupted or there may be an issue with the pixel data handler.\n",
            "ERROR:root:Error reading DICOM file: /content/drive/MyDrive/capstone/dataset/Echos/LVT/1276/PT000000/ST000000/SE000000/IM000129, The length of the pixel data in the dataset (82642 bytes) doesn't match the expected length (2359296 bytes). The dataset may be corrupted or there may be an issue with the pixel data handler.\n",
            "ERROR:root:Error reading DICOM file: /content/drive/MyDrive/capstone/dataset/Echos/LVT/1276/PT000000/ST000000/SE000000/IM000130, The length of the pixel data in the dataset (79480 bytes) doesn't match the expected length (2359296 bytes). The dataset may be corrupted or there may be an issue with the pixel data handler.\n",
            "560it [1:20:48, 10.87s/it]"
          ]
        },
        {
          "output_type": "stream",
          "name": "stdout",
          "text": [
            "processing: /content/drive/MyDrive/capstone/dataset/Echos/LVT/1277/PT000000/ST000000/SE000000\n"
          ]
        },
        {
          "output_type": "stream",
          "name": "stderr",
          "text": [
            "567it [1:21:44,  6.95s/it]"
          ]
        },
        {
          "output_type": "stream",
          "name": "stdout",
          "text": [
            "processing: /content/drive/MyDrive/capstone/dataset/Echos/LVT/1278/PT000000/ST000000/SE000001\n"
          ]
        },
        {
          "output_type": "stream",
          "name": "stderr",
          "text": [
            "ERROR:root:Error reading DICOM file: /content/drive/MyDrive/capstone/dataset/Echos/LVT/1278/PT000000/ST000000/SE000001/IM000007, The following handlers are available to decode the pixel data however they are missing required dependencies: GDCM (req. ), pylibjpeg (req. )\n",
            "ERROR:root:Error reading DICOM file: /content/drive/MyDrive/capstone/dataset/Echos/LVT/1278/PT000000/ST000000/SE000001/IM000008, The following handlers are available to decode the pixel data however they are missing required dependencies: GDCM (req. ), pylibjpeg (req. )\n",
            "ERROR:root:Error reading DICOM file: /content/drive/MyDrive/capstone/dataset/Echos/LVT/1278/PT000000/ST000000/SE000001/IM000009, The following handlers are available to decode the pixel data however they are missing required dependencies: GDCM (req. ), pylibjpeg (req. )\n",
            "ERROR:root:Error reading DICOM file: /content/drive/MyDrive/capstone/dataset/Echos/LVT/1278/PT000000/ST000000/SE000001/IM000011, The following handlers are available to decode the pixel data however they are missing required dependencies: GDCM (req. ), pylibjpeg (req. )\n",
            "ERROR:root:Error reading DICOM file: /content/drive/MyDrive/capstone/dataset/Echos/LVT/1278/PT000000/ST000000/SE000001/IM000012, The following handlers are available to decode the pixel data however they are missing required dependencies: GDCM (req. ), pylibjpeg (req. )\n",
            "ERROR:root:Error reading DICOM file: /content/drive/MyDrive/capstone/dataset/Echos/LVT/1278/PT000000/ST000000/SE000001/IM000014, The following handlers are available to decode the pixel data however they are missing required dependencies: GDCM (req. ), pylibjpeg (req. )\n",
            "ERROR:root:Error reading DICOM file: /content/drive/MyDrive/capstone/dataset/Echos/LVT/1278/PT000000/ST000000/SE000001/IM000019, The following handlers are available to decode the pixel data however they are missing required dependencies: GDCM (req. ), pylibjpeg (req. )\n",
            "ERROR:root:Error reading DICOM file: /content/drive/MyDrive/capstone/dataset/Echos/LVT/1278/PT000000/ST000000/SE000001/IM000020, The following handlers are available to decode the pixel data however they are missing required dependencies: GDCM (req. ), pylibjpeg (req. )\n",
            "ERROR:root:Error reading DICOM file: /content/drive/MyDrive/capstone/dataset/Echos/LVT/1278/PT000000/ST000000/SE000001/IM000023, The following handlers are available to decode the pixel data however they are missing required dependencies: GDCM (req. ), pylibjpeg (req. )\n",
            "ERROR:root:Error reading DICOM file: /content/drive/MyDrive/capstone/dataset/Echos/LVT/1278/PT000000/ST000000/SE000001/IM000028, The following handlers are available to decode the pixel data however they are missing required dependencies: GDCM (req. ), pylibjpeg (req. )\n",
            "ERROR:root:Error reading DICOM file: /content/drive/MyDrive/capstone/dataset/Echos/LVT/1278/PT000000/ST000000/SE000001/IM000029, The following handlers are available to decode the pixel data however they are missing required dependencies: GDCM (req. ), pylibjpeg (req. )\n",
            "ERROR:root:Error reading DICOM file: /content/drive/MyDrive/capstone/dataset/Echos/LVT/1278/PT000000/ST000000/SE000001/IM000030, The following handlers are available to decode the pixel data however they are missing required dependencies: GDCM (req. ), pylibjpeg (req. )\n",
            "ERROR:root:Error reading DICOM file: /content/drive/MyDrive/capstone/dataset/Echos/LVT/1278/PT000000/ST000000/SE000001/IM000031, The following handlers are available to decode the pixel data however they are missing required dependencies: GDCM (req. ), pylibjpeg (req. )\n",
            "ERROR:root:Error reading DICOM file: /content/drive/MyDrive/capstone/dataset/Echos/LVT/1278/PT000000/ST000000/SE000001/IM000033, The following handlers are available to decode the pixel data however they are missing required dependencies: GDCM (req. ), pylibjpeg (req. )\n",
            "567it [1:22:00,  6.95s/it]ERROR:root:Error reading DICOM file: /content/drive/MyDrive/capstone/dataset/Echos/LVT/1278/PT000000/ST000000/SE000001/IM000038, The following handlers are available to decode the pixel data however they are missing required dependencies: GDCM (req. ), pylibjpeg (req. )\n",
            "ERROR:root:Error reading DICOM file: /content/drive/MyDrive/capstone/dataset/Echos/LVT/1278/PT000000/ST000000/SE000001/IM000040, The following handlers are available to decode the pixel data however they are missing required dependencies: GDCM (req. ), pylibjpeg (req. )\n",
            "ERROR:root:Error reading DICOM file: /content/drive/MyDrive/capstone/dataset/Echos/LVT/1278/PT000000/ST000000/SE000001/IM000047, The following handlers are available to decode the pixel data however they are missing required dependencies: GDCM (req. ), pylibjpeg (req. )\n",
            "ERROR:root:Error reading DICOM file: /content/drive/MyDrive/capstone/dataset/Echos/LVT/1278/PT000000/ST000000/SE000001/IM000048, The following handlers are available to decode the pixel data however they are missing required dependencies: GDCM (req. ), pylibjpeg (req. )\n",
            "ERROR:root:Error reading DICOM file: /content/drive/MyDrive/capstone/dataset/Echos/LVT/1278/PT000000/ST000000/SE000001/IM000050, The following handlers are available to decode the pixel data however they are missing required dependencies: GDCM (req. ), pylibjpeg (req. )\n",
            "ERROR:root:Error reading DICOM file: /content/drive/MyDrive/capstone/dataset/Echos/LVT/1278/PT000000/ST000000/SE000001/IM000061, The following handlers are available to decode the pixel data however they are missing required dependencies: GDCM (req. ), pylibjpeg (req. )\n",
            "ERROR:root:Error reading DICOM file: /content/drive/MyDrive/capstone/dataset/Echos/LVT/1278/PT000000/ST000000/SE000001/IM000066, The following handlers are available to decode the pixel data however they are missing required dependencies: GDCM (req. ), pylibjpeg (req. )\n",
            "ERROR:root:Error reading DICOM file: /content/drive/MyDrive/capstone/dataset/Echos/LVT/1278/PT000000/ST000000/SE000001/IM000073, The following handlers are available to decode the pixel data however they are missing required dependencies: GDCM (req. ), pylibjpeg (req. )\n",
            "ERROR:root:Error reading DICOM file: /content/drive/MyDrive/capstone/dataset/Echos/LVT/1278/PT000000/ST000000/SE000001/IM000074, The following handlers are available to decode the pixel data however they are missing required dependencies: GDCM (req. ), pylibjpeg (req. )\n",
            "ERROR:root:Error reading DICOM file: /content/drive/MyDrive/capstone/dataset/Echos/LVT/1278/PT000000/ST000000/SE000001/IM000076, The following handlers are available to decode the pixel data however they are missing required dependencies: GDCM (req. ), pylibjpeg (req. )\n",
            "ERROR:root:Error reading DICOM file: /content/drive/MyDrive/capstone/dataset/Echos/LVT/1278/PT000000/ST000000/SE000001/IM000079, The following handlers are available to decode the pixel data however they are missing required dependencies: GDCM (req. ), pylibjpeg (req. )\n",
            "ERROR:root:Error reading DICOM file: /content/drive/MyDrive/capstone/dataset/Echos/LVT/1278/PT000000/ST000000/SE000001/IM000082, The following handlers are available to decode the pixel data however they are missing required dependencies: GDCM (req. ), pylibjpeg (req. )\n",
            "ERROR:root:Error reading DICOM file: /content/drive/MyDrive/capstone/dataset/Echos/LVT/1278/PT000000/ST000000/SE000001/IM000083, The following handlers are available to decode the pixel data however they are missing required dependencies: GDCM (req. ), pylibjpeg (req. )\n",
            "ERROR:root:Error reading DICOM file: /content/drive/MyDrive/capstone/dataset/Echos/LVT/1278/PT000000/ST000000/SE000001/IM000085, The following handlers are available to decode the pixel data however they are missing required dependencies: GDCM (req. ), pylibjpeg (req. )\n",
            "ERROR:root:Error reading DICOM file: /content/drive/MyDrive/capstone/dataset/Echos/LVT/1278/PT000000/ST000000/SE000001/IM000089, The following handlers are available to decode the pixel data however they are missing required dependencies: GDCM (req. ), pylibjpeg (req. )\n",
            "ERROR:root:Error reading DICOM file: /content/drive/MyDrive/capstone/dataset/Echos/LVT/1278/PT000000/ST000000/SE000001/IM000095, The following handlers are available to decode the pixel data however they are missing required dependencies: GDCM (req. ), pylibjpeg (req. )\n",
            "ERROR:root:Error reading DICOM file: /content/drive/MyDrive/capstone/dataset/Echos/LVT/1278/PT000000/ST000000/SE000001/IM000097, The following handlers are available to decode the pixel data however they are missing required dependencies: GDCM (req. ), pylibjpeg (req. )\n",
            "ERROR:root:Error reading DICOM file: /content/drive/MyDrive/capstone/dataset/Echos/LVT/1278/PT000000/ST000000/SE000001/IM000100, The following handlers are available to decode the pixel data however they are missing required dependencies: GDCM (req. ), pylibjpeg (req. )\n",
            "ERROR:root:Error reading DICOM file: /content/drive/MyDrive/capstone/dataset/Echos/LVT/1278/PT000000/ST000000/SE000001/IM000117, The following handlers are available to decode the pixel data however they are missing required dependencies: GDCM (req. ), pylibjpeg (req. )\n",
            "ERROR:root:Error reading DICOM file: /content/drive/MyDrive/capstone/dataset/Echos/LVT/1278/PT000000/ST000000/SE000001/IM000119, The following handlers are available to decode the pixel data however they are missing required dependencies: GDCM (req. ), pylibjpeg (req. )\n",
            "570it [1:22:40, 10.26s/it]"
          ]
        },
        {
          "output_type": "stream",
          "name": "stdout",
          "text": [
            "processing: /content/drive/MyDrive/capstone/dataset/Echos/LVT/1279/PT000000/ST000000/SE000000\n"
          ]
        },
        {
          "output_type": "stream",
          "name": "stderr",
          "text": [
            "ERROR:root:Error reading DICOM file: /content/drive/MyDrive/capstone/dataset/Echos/LVT/1279/PT000000/ST000000/SE000000/IM000006, The length of the pixel data in the dataset (75772 bytes) doesn't match the expected length (2359296 bytes). The dataset may be corrupted or there may be an issue with the pixel data handler.\n",
            "ERROR:root:Error reading DICOM file: /content/drive/MyDrive/capstone/dataset/Echos/LVT/1279/PT000000/ST000000/SE000000/IM000009, The length of the pixel data in the dataset (72900 bytes) doesn't match the expected length (2359296 bytes). The dataset may be corrupted or there may be an issue with the pixel data handler.\n",
            "ERROR:root:Error reading DICOM file: /content/drive/MyDrive/capstone/dataset/Echos/LVT/1279/PT000000/ST000000/SE000000/IM000010, The length of the pixel data in the dataset (106708 bytes) doesn't match the expected length (2359296 bytes). The dataset may be corrupted or there may be an issue with the pixel data handler.\n",
            "ERROR:root:Error reading DICOM file: /content/drive/MyDrive/capstone/dataset/Echos/LVT/1279/PT000000/ST000000/SE000000/IM000011, The length of the pixel data in the dataset (117434 bytes) doesn't match the expected length (2359296 bytes). The dataset may be corrupted or there may be an issue with the pixel data handler.\n",
            "ERROR:root:Error reading DICOM file: /content/drive/MyDrive/capstone/dataset/Echos/LVT/1279/PT000000/ST000000/SE000000/IM000012, The length of the pixel data in the dataset (122238 bytes) doesn't match the expected length (2359296 bytes). The dataset may be corrupted or there may be an issue with the pixel data handler.\n",
            "ERROR:root:Error reading DICOM file: /content/drive/MyDrive/capstone/dataset/Echos/LVT/1279/PT000000/ST000000/SE000000/IM000013, The length of the pixel data in the dataset (127446 bytes) doesn't match the expected length (2359296 bytes). The dataset may be corrupted or there may be an issue with the pixel data handler.\n",
            "ERROR:root:Error reading DICOM file: /content/drive/MyDrive/capstone/dataset/Echos/LVT/1279/PT000000/ST000000/SE000000/IM000014, The length of the pixel data in the dataset (78314 bytes) doesn't match the expected length (2359296 bytes). The dataset may be corrupted or there may be an issue with the pixel data handler.\n",
            "ERROR:root:Error reading DICOM file: /content/drive/MyDrive/capstone/dataset/Echos/LVT/1279/PT000000/ST000000/SE000000/IM000015, The length of the pixel data in the dataset (78398 bytes) doesn't match the expected length (2359296 bytes). The dataset may be corrupted or there may be an issue with the pixel data handler.\n",
            "570it [1:22:50, 10.26s/it]ERROR:root:Error reading DICOM file: /content/drive/MyDrive/capstone/dataset/Echos/LVT/1279/PT000000/ST000000/SE000000/IM000018, The length of the pixel data in the dataset (95724 bytes) doesn't match the expected length (2359296 bytes). The dataset may be corrupted or there may be an issue with the pixel data handler.\n",
            "ERROR:root:Error reading DICOM file: /content/drive/MyDrive/capstone/dataset/Echos/LVT/1279/PT000000/ST000000/SE000000/IM000028, The length of the pixel data in the dataset (106922 bytes) doesn't match the expected length (2359296 bytes). The dataset may be corrupted or there may be an issue with the pixel data handler.\n",
            "ERROR:root:Error reading DICOM file: /content/drive/MyDrive/capstone/dataset/Echos/LVT/1279/PT000000/ST000000/SE000000/IM000029, The length of the pixel data in the dataset (93008 bytes) doesn't match the expected length (2359296 bytes). The dataset may be corrupted or there may be an issue with the pixel data handler.\n",
            "ERROR:root:Error reading DICOM file: /content/drive/MyDrive/capstone/dataset/Echos/LVT/1279/PT000000/ST000000/SE000000/IM000053, The length of the pixel data in the dataset (105504 bytes) doesn't match the expected length (2359296 bytes). The dataset may be corrupted or there may be an issue with the pixel data handler.\n",
            "ERROR:root:Error reading DICOM file: /content/drive/MyDrive/capstone/dataset/Echos/LVT/1279/PT000000/ST000000/SE000000/IM000054, The length of the pixel data in the dataset (110858 bytes) doesn't match the expected length (2359296 bytes). The dataset may be corrupted or there may be an issue with the pixel data handler.\n",
            "ERROR:root:Error reading DICOM file: /content/drive/MyDrive/capstone/dataset/Echos/LVT/1279/PT000000/ST000000/SE000000/IM000055, The length of the pixel data in the dataset (90688 bytes) doesn't match the expected length (2359296 bytes). The dataset may be corrupted or there may be an issue with the pixel data handler.\n",
            "ERROR:root:Error reading DICOM file: /content/drive/MyDrive/capstone/dataset/Echos/LVT/1279/PT000000/ST000000/SE000000/IM000062, The length of the pixel data in the dataset (108916 bytes) doesn't match the expected length (2359296 bytes). The dataset may be corrupted or there may be an issue with the pixel data handler.\n",
            "ERROR:root:Error reading DICOM file: /content/drive/MyDrive/capstone/dataset/Echos/LVT/1279/PT000000/ST000000/SE000000/IM000063, The length of the pixel data in the dataset (121434 bytes) doesn't match the expected length (2359296 bytes). The dataset may be corrupted or there may be an issue with the pixel data handler.\n",
            "ERROR:root:Error reading DICOM file: /content/drive/MyDrive/capstone/dataset/Echos/LVT/1279/PT000000/ST000000/SE000000/IM000064, The length of the pixel data in the dataset (75522 bytes) doesn't match the expected length (2359296 bytes). The dataset may be corrupted or there may be an issue with the pixel data handler.\n",
            "ERROR:root:Error reading DICOM file: /content/drive/MyDrive/capstone/dataset/Echos/LVT/1279/PT000000/ST000000/SE000000/IM000065, The length of the pixel data in the dataset (77532 bytes) doesn't match the expected length (2359296 bytes). The dataset may be corrupted or there may be an issue with the pixel data handler.\n",
            "ERROR:root:Error reading DICOM file: /content/drive/MyDrive/capstone/dataset/Echos/LVT/1279/PT000000/ST000000/SE000000/IM000066, The length of the pixel data in the dataset (78540 bytes) doesn't match the expected length (2359296 bytes). The dataset may be corrupted or there may be an issue with the pixel data handler.\n",
            "ERROR:root:Error reading DICOM file: /content/drive/MyDrive/capstone/dataset/Echos/LVT/1279/PT000000/ST000000/SE000000/IM000072, The length of the pixel data in the dataset (92118 bytes) doesn't match the expected length (2359296 bytes). The dataset may be corrupted or there may be an issue with the pixel data handler.\n",
            "ERROR:root:Error reading DICOM file: /content/drive/MyDrive/capstone/dataset/Echos/LVT/1279/PT000000/ST000000/SE000000/IM000078, The length of the pixel data in the dataset (113752 bytes) doesn't match the expected length (2359296 bytes). The dataset may be corrupted or there may be an issue with the pixel data handler.\n",
            "ERROR:root:Error reading DICOM file: /content/drive/MyDrive/capstone/dataset/Echos/LVT/1279/PT000000/ST000000/SE000000/IM000079, The length of the pixel data in the dataset (98872 bytes) doesn't match the expected length (2359296 bytes). The dataset may be corrupted or there may be an issue with the pixel data handler.\n",
            "ERROR:root:Error reading DICOM file: /content/drive/MyDrive/capstone/dataset/Echos/LVT/1279/PT000000/ST000000/SE000000/IM000080, The length of the pixel data in the dataset (98114 bytes) doesn't match the expected length (2359296 bytes). The dataset may be corrupted or there may be an issue with the pixel data handler.\n",
            "ERROR:root:Error reading DICOM file: /content/drive/MyDrive/capstone/dataset/Echos/LVT/1279/PT000000/ST000000/SE000000/IM000090, The length of the pixel data in the dataset (99660 bytes) doesn't match the expected length (2359296 bytes). The dataset may be corrupted or there may be an issue with the pixel data handler.\n",
            "ERROR:root:Error reading DICOM file: /content/drive/MyDrive/capstone/dataset/Echos/LVT/1279/PT000000/ST000000/SE000000/IM000091, The length of the pixel data in the dataset (111332 bytes) doesn't match the expected length (2359296 bytes). The dataset may be corrupted or there may be an issue with the pixel data handler.\n",
            "ERROR:root:Error reading DICOM file: /content/drive/MyDrive/capstone/dataset/Echos/LVT/1279/PT000000/ST000000/SE000000/IM000092, The length of the pixel data in the dataset (120964 bytes) doesn't match the expected length (2359296 bytes). The dataset may be corrupted or there may be an issue with the pixel data handler.\n",
            "ERROR:root:Error reading DICOM file: /content/drive/MyDrive/capstone/dataset/Echos/LVT/1279/PT000000/ST000000/SE000000/IM000096, The length of the pixel data in the dataset (92424 bytes) doesn't match the expected length (2359296 bytes). The dataset may be corrupted or there may be an issue with the pixel data handler.\n",
            "575it [1:23:52, 11.03s/it]"
          ]
        },
        {
          "output_type": "stream",
          "name": "stdout",
          "text": [
            "processing: /content/drive/MyDrive/capstone/dataset/Echos/LVT/1280/PT000000/ST000000/SE000000\n"
          ]
        },
        {
          "output_type": "stream",
          "name": "stderr",
          "text": [
            "582it [1:24:24,  5.73s/it]"
          ]
        },
        {
          "output_type": "stream",
          "name": "stdout",
          "text": [
            "processing: /content/drive/MyDrive/capstone/dataset/Echos/LVT/1281/PT000000/ST000000/SE000001\n"
          ]
        },
        {
          "output_type": "stream",
          "name": "stderr",
          "text": [
            "585it [1:25:26, 10.15s/it]"
          ]
        },
        {
          "output_type": "stream",
          "name": "stdout",
          "text": [
            "processing: /content/drive/MyDrive/capstone/dataset/Echos/LVT/1282/PT000000/ST000000/SE000000\n"
          ]
        },
        {
          "output_type": "stream",
          "name": "stderr",
          "text": [
            "592it [1:26:15,  6.40s/it]"
          ]
        },
        {
          "output_type": "stream",
          "name": "stdout",
          "text": [
            "processing: /content/drive/MyDrive/capstone/dataset/Echos/LVT/1283/PT000000/ST000000/SE000001\n"
          ]
        },
        {
          "output_type": "stream",
          "name": "stderr",
          "text": [
            "597it [1:27:01,  6.04s/it]"
          ]
        },
        {
          "output_type": "stream",
          "name": "stdout",
          "text": [
            "processing: /content/drive/MyDrive/capstone/dataset/Echos/LVT/1284/PT000000/ST000000/SE000001\n"
          ]
        },
        {
          "output_type": "stream",
          "name": "stderr",
          "text": [
            "602it [1:27:36,  5.04s/it]"
          ]
        },
        {
          "output_type": "stream",
          "name": "stdout",
          "text": [
            "processing: /content/drive/MyDrive/capstone/dataset/Echos/LVT/1285/PT000000/ST000000/SE000001\n"
          ]
        },
        {
          "output_type": "stream",
          "name": "stderr",
          "text": [
            "605it [1:28:07,  6.44s/it]"
          ]
        },
        {
          "output_type": "stream",
          "name": "stdout",
          "text": [
            "processing: /content/drive/MyDrive/capstone/dataset/Echos/LVT/1286/PT000000/ST000000/SE000000\n"
          ]
        },
        {
          "output_type": "stream",
          "name": "stderr",
          "text": [
            "612it [1:28:35,  3.82s/it]"
          ]
        },
        {
          "output_type": "stream",
          "name": "stdout",
          "text": [
            "processing: /content/drive/MyDrive/capstone/dataset/Echos/LVT/1287/PT000000/ST000000/SE000001\n"
          ]
        },
        {
          "output_type": "stream",
          "name": "stderr",
          "text": [
            "617it [1:29:07,  3.96s/it]"
          ]
        },
        {
          "output_type": "stream",
          "name": "stdout",
          "text": [
            "processing: /content/drive/MyDrive/capstone/dataset/Echos/LVT/1288/PT000000/ST000000/SE000001\n"
          ]
        },
        {
          "output_type": "stream",
          "name": "stderr",
          "text": [
            "620it [1:29:58,  8.24s/it]"
          ]
        },
        {
          "output_type": "stream",
          "name": "stdout",
          "text": [
            "processing: /content/drive/MyDrive/capstone/dataset/Echos/LVT/1289/PT000000/ST000000/SE000000\n"
          ]
        },
        {
          "output_type": "stream",
          "name": "stderr",
          "text": [
            "ERROR:root:Error reading DICOM file: /content/drive/MyDrive/capstone/dataset/Echos/LVT/1289/PT000000/ST000000/SE000000/IM000004, The length of the pixel data in the dataset (63994 bytes) doesn't match the expected length (2359296 bytes). The dataset may be corrupted or there may be an issue with the pixel data handler.\n",
            "ERROR:root:Error reading DICOM file: /content/drive/MyDrive/capstone/dataset/Echos/LVT/1289/PT000000/ST000000/SE000000/IM000005, The length of the pixel data in the dataset (68012 bytes) doesn't match the expected length (2359296 bytes). The dataset may be corrupted or there may be an issue with the pixel data handler.\n",
            "ERROR:root:Error reading DICOM file: /content/drive/MyDrive/capstone/dataset/Echos/LVT/1289/PT000000/ST000000/SE000000/IM000009, The length of the pixel data in the dataset (83452 bytes) doesn't match the expected length (2359296 bytes). The dataset may be corrupted or there may be an issue with the pixel data handler.\n",
            "ERROR:root:Error reading DICOM file: /content/drive/MyDrive/capstone/dataset/Echos/LVT/1289/PT000000/ST000000/SE000000/IM000012, The length of the pixel data in the dataset (79664 bytes) doesn't match the expected length (2359296 bytes). The dataset may be corrupted or there may be an issue with the pixel data handler.\n",
            "ERROR:root:Error reading DICOM file: /content/drive/MyDrive/capstone/dataset/Echos/LVT/1289/PT000000/ST000000/SE000000/IM000013, The length of the pixel data in the dataset (113840 bytes) doesn't match the expected length (2359296 bytes). The dataset may be corrupted or there may be an issue with the pixel data handler.\n",
            "ERROR:root:Error reading DICOM file: /content/drive/MyDrive/capstone/dataset/Echos/LVT/1289/PT000000/ST000000/SE000000/IM000014, The length of the pixel data in the dataset (107400 bytes) doesn't match the expected length (2359296 bytes). The dataset may be corrupted or there may be an issue with the pixel data handler.\n",
            "620it [1:30:10,  8.24s/it]ERROR:root:Error reading DICOM file: /content/drive/MyDrive/capstone/dataset/Echos/LVT/1289/PT000000/ST000000/SE000000/IM000020, The length of the pixel data in the dataset (73760 bytes) doesn't match the expected length (2359296 bytes). The dataset may be corrupted or there may be an issue with the pixel data handler.\n",
            "ERROR:root:Error reading DICOM file: /content/drive/MyDrive/capstone/dataset/Echos/LVT/1289/PT000000/ST000000/SE000000/IM000021, The length of the pixel data in the dataset (111214 bytes) doesn't match the expected length (2359296 bytes). The dataset may be corrupted or there may be an issue with the pixel data handler.\n",
            "ERROR:root:Error reading DICOM file: /content/drive/MyDrive/capstone/dataset/Echos/LVT/1289/PT000000/ST000000/SE000000/IM000022, The length of the pixel data in the dataset (84058 bytes) doesn't match the expected length (2359296 bytes). The dataset may be corrupted or there may be an issue with the pixel data handler.\n",
            "ERROR:root:Error reading DICOM file: /content/drive/MyDrive/capstone/dataset/Echos/LVT/1289/PT000000/ST000000/SE000000/IM000025, The length of the pixel data in the dataset (104756 bytes) doesn't match the expected length (2359296 bytes). The dataset may be corrupted or there may be an issue with the pixel data handler.\n",
            "ERROR:root:Error reading DICOM file: /content/drive/MyDrive/capstone/dataset/Echos/LVT/1289/PT000000/ST000000/SE000000/IM000026, The length of the pixel data in the dataset (111156 bytes) doesn't match the expected length (2359296 bytes). The dataset may be corrupted or there may be an issue with the pixel data handler.\n",
            "ERROR:root:Error reading DICOM file: /content/drive/MyDrive/capstone/dataset/Echos/LVT/1289/PT000000/ST000000/SE000000/IM000027, The length of the pixel data in the dataset (103314 bytes) doesn't match the expected length (2359296 bytes). The dataset may be corrupted or there may be an issue with the pixel data handler.\n",
            "ERROR:root:Error reading DICOM file: /content/drive/MyDrive/capstone/dataset/Echos/LVT/1289/PT000000/ST000000/SE000000/IM000029, The length of the pixel data in the dataset (65550 bytes) doesn't match the expected length (2359296 bytes). The dataset may be corrupted or there may be an issue with the pixel data handler.\n",
            "ERROR:root:Error reading DICOM file: /content/drive/MyDrive/capstone/dataset/Echos/LVT/1289/PT000000/ST000000/SE000000/IM000043, The length of the pixel data in the dataset (97260 bytes) doesn't match the expected length (2359296 bytes). The dataset may be corrupted or there may be an issue with the pixel data handler.\n",
            "ERROR:root:Error reading DICOM file: /content/drive/MyDrive/capstone/dataset/Echos/LVT/1289/PT000000/ST000000/SE000000/IM000044, The length of the pixel data in the dataset (98446 bytes) doesn't match the expected length (2359296 bytes). The dataset may be corrupted or there may be an issue with the pixel data handler.\n",
            "ERROR:root:Error reading DICOM file: /content/drive/MyDrive/capstone/dataset/Echos/LVT/1289/PT000000/ST000000/SE000000/IM000045, The length of the pixel data in the dataset (102086 bytes) doesn't match the expected length (2359296 bytes). The dataset may be corrupted or there may be an issue with the pixel data handler.\n",
            "ERROR:root:Error reading DICOM file: /content/drive/MyDrive/capstone/dataset/Echos/LVT/1289/PT000000/ST000000/SE000000/IM000048, The length of the pixel data in the dataset (90974 bytes) doesn't match the expected length (2359296 bytes). The dataset may be corrupted or there may be an issue with the pixel data handler.\n",
            "ERROR:root:Error reading DICOM file: /content/drive/MyDrive/capstone/dataset/Echos/LVT/1289/PT000000/ST000000/SE000000/IM000049, The length of the pixel data in the dataset (93946 bytes) doesn't match the expected length (2359296 bytes). The dataset may be corrupted or there may be an issue with the pixel data handler.\n",
            "ERROR:root:Error reading DICOM file: /content/drive/MyDrive/capstone/dataset/Echos/LVT/1289/PT000000/ST000000/SE000000/IM000051, The length of the pixel data in the dataset (86112 bytes) doesn't match the expected length (2359296 bytes). The dataset may be corrupted or there may be an issue with the pixel data handler.\n",
            "ERROR:root:Error reading DICOM file: /content/drive/MyDrive/capstone/dataset/Echos/LVT/1289/PT000000/ST000000/SE000000/IM000053, The length of the pixel data in the dataset (89448 bytes) doesn't match the expected length (2359296 bytes). The dataset may be corrupted or there may be an issue with the pixel data handler.\n",
            "ERROR:root:Error reading DICOM file: /content/drive/MyDrive/capstone/dataset/Echos/LVT/1289/PT000000/ST000000/SE000000/IM000056, The length of the pixel data in the dataset (117112 bytes) doesn't match the expected length (2359296 bytes). The dataset may be corrupted or there may be an issue with the pixel data handler.\n",
            "ERROR:root:Error reading DICOM file: /content/drive/MyDrive/capstone/dataset/Echos/LVT/1289/PT000000/ST000000/SE000000/IM000057, The length of the pixel data in the dataset (112748 bytes) doesn't match the expected length (2359296 bytes). The dataset may be corrupted or there may be an issue with the pixel data handler.\n",
            "ERROR:root:Error reading DICOM file: /content/drive/MyDrive/capstone/dataset/Echos/LVT/1289/PT000000/ST000000/SE000000/IM000059, The length of the pixel data in the dataset (74090 bytes) doesn't match the expected length (2359296 bytes). The dataset may be corrupted or there may be an issue with the pixel data handler.\n",
            "ERROR:root:Error reading DICOM file: /content/drive/MyDrive/capstone/dataset/Echos/LVT/1289/PT000000/ST000000/SE000000/IM000062, The length of the pixel data in the dataset (82408 bytes) doesn't match the expected length (2359296 bytes). The dataset may be corrupted or there may be an issue with the pixel data handler.\n",
            "ERROR:root:Error reading DICOM file: /content/drive/MyDrive/capstone/dataset/Echos/LVT/1289/PT000000/ST000000/SE000000/IM000063, The length of the pixel data in the dataset (82430 bytes) doesn't match the expected length (2359296 bytes). The dataset may be corrupted or there may be an issue with the pixel data handler.\n",
            "ERROR:root:Error reading DICOM file: /content/drive/MyDrive/capstone/dataset/Echos/LVT/1289/PT000000/ST000000/SE000000/IM000066, The length of the pixel data in the dataset (105782 bytes) doesn't match the expected length (2359296 bytes). The dataset may be corrupted or there may be an issue with the pixel data handler.\n",
            "ERROR:root:Error reading DICOM file: /content/drive/MyDrive/capstone/dataset/Echos/LVT/1289/PT000000/ST000000/SE000000/IM000067, The length of the pixel data in the dataset (94056 bytes) doesn't match the expected length (2359296 bytes). The dataset may be corrupted or there may be an issue with the pixel data handler.\n",
            "ERROR:root:Error reading DICOM file: /content/drive/MyDrive/capstone/dataset/Echos/LVT/1289/PT000000/ST000000/SE000000/IM000072, The length of the pixel data in the dataset (104952 bytes) doesn't match the expected length (2359296 bytes). The dataset may be corrupted or there may be an issue with the pixel data handler.\n",
            "ERROR:root:Error reading DICOM file: /content/drive/MyDrive/capstone/dataset/Echos/LVT/1289/PT000000/ST000000/SE000000/IM000073, The length of the pixel data in the dataset (70398 bytes) doesn't match the expected length (2359296 bytes). The dataset may be corrupted or there may be an issue with the pixel data handler.\n",
            "ERROR:root:Error reading DICOM file: /content/drive/MyDrive/capstone/dataset/Echos/LVT/1289/PT000000/ST000000/SE000000/IM000074, The length of the pixel data in the dataset (72752 bytes) doesn't match the expected length (2359296 bytes). The dataset may be corrupted or there may be an issue with the pixel data handler.\n",
            "ERROR:root:Error reading DICOM file: /content/drive/MyDrive/capstone/dataset/Echos/LVT/1289/PT000000/ST000000/SE000000/IM000075, The length of the pixel data in the dataset (65688 bytes) doesn't match the expected length (2359296 bytes). The dataset may be corrupted or there may be an issue with the pixel data handler.\n",
            "ERROR:root:Error reading DICOM file: /content/drive/MyDrive/capstone/dataset/Echos/LVT/1289/PT000000/ST000000/SE000000/IM000077, The length of the pixel data in the dataset (83814 bytes) doesn't match the expected length (2359296 bytes). The dataset may be corrupted or there may be an issue with the pixel data handler.\n",
            "ERROR:root:Error reading DICOM file: /content/drive/MyDrive/capstone/dataset/Echos/LVT/1289/PT000000/ST000000/SE000000/IM000078, The length of the pixel data in the dataset (82918 bytes) doesn't match the expected length (2359296 bytes). The dataset may be corrupted or there may be an issue with the pixel data handler.\n",
            "ERROR:root:Error reading DICOM file: /content/drive/MyDrive/capstone/dataset/Echos/LVT/1289/PT000000/ST000000/SE000000/IM000080, The length of the pixel data in the dataset (89742 bytes) doesn't match the expected length (2359296 bytes). The dataset may be corrupted or there may be an issue with the pixel data handler.\n",
            "ERROR:root:Error reading DICOM file: /content/drive/MyDrive/capstone/dataset/Echos/LVT/1289/PT000000/ST000000/SE000000/IM000081, The length of the pixel data in the dataset (91894 bytes) doesn't match the expected length (2359296 bytes). The dataset may be corrupted or there may be an issue with the pixel data handler.\n",
            "ERROR:root:Error reading DICOM file: /content/drive/MyDrive/capstone/dataset/Echos/LVT/1289/PT000000/ST000000/SE000000/IM000086, The length of the pixel data in the dataset (74248 bytes) doesn't match the expected length (2359296 bytes). The dataset may be corrupted or there may be an issue with the pixel data handler.\n",
            "ERROR:root:Error reading DICOM file: /content/drive/MyDrive/capstone/dataset/Echos/LVT/1289/PT000000/ST000000/SE000000/IM000093, The length of the pixel data in the dataset (72124 bytes) doesn't match the expected length (2359296 bytes). The dataset may be corrupted or there may be an issue with the pixel data handler.\n",
            "ERROR:root:Error reading DICOM file: /content/drive/MyDrive/capstone/dataset/Echos/LVT/1289/PT000000/ST000000/SE000000/IM000097, The length of the pixel data in the dataset (75030 bytes) doesn't match the expected length (2359296 bytes). The dataset may be corrupted or there may be an issue with the pixel data handler.\n",
            "ERROR:root:Error reading DICOM file: /content/drive/MyDrive/capstone/dataset/Echos/LVT/1289/PT000000/ST000000/SE000000/IM000110, The length of the pixel data in the dataset (82340 bytes) doesn't match the expected length (2359296 bytes). The dataset may be corrupted or there may be an issue with the pixel data handler.\n",
            "ERROR:root:Error reading DICOM file: /content/drive/MyDrive/capstone/dataset/Echos/LVT/1289/PT000000/ST000000/SE000000/IM000125, The length of the pixel data in the dataset (88350 bytes) doesn't match the expected length (2359296 bytes). The dataset may be corrupted or there may be an issue with the pixel data handler.\n",
            "ERROR:root:Error reading DICOM file: /content/drive/MyDrive/capstone/dataset/Echos/LVT/1289/PT000000/ST000000/SE000000/IM000126, The length of the pixel data in the dataset (78386 bytes) doesn't match the expected length (2359296 bytes). The dataset may be corrupted or there may be an issue with the pixel data handler.\n",
            "ERROR:root:Error reading DICOM file: /content/drive/MyDrive/capstone/dataset/Echos/LVT/1289/PT000000/ST000000/SE000000/IM000127, The length of the pixel data in the dataset (82684 bytes) doesn't match the expected length (2359296 bytes). The dataset may be corrupted or there may be an issue with the pixel data handler.\n",
            "ERROR:root:Error reading DICOM file: /content/drive/MyDrive/capstone/dataset/Echos/LVT/1289/PT000000/ST000000/SE000000/IM000131, The length of the pixel data in the dataset (103200 bytes) doesn't match the expected length (2359296 bytes). The dataset may be corrupted or there may be an issue with the pixel data handler.\n",
            "ERROR:root:Error reading DICOM file: /content/drive/MyDrive/capstone/dataset/Echos/LVT/1289/PT000000/ST000000/SE000000/IM000132, The length of the pixel data in the dataset (108668 bytes) doesn't match the expected length (2359296 bytes). The dataset may be corrupted or there may be an issue with the pixel data handler.\n",
            "ERROR:root:Error reading DICOM file: /content/drive/MyDrive/capstone/dataset/Echos/LVT/1289/PT000000/ST000000/SE000000/IM000134, The length of the pixel data in the dataset (87584 bytes) doesn't match the expected length (2359296 bytes). The dataset may be corrupted or there may be an issue with the pixel data handler.\n",
            "ERROR:root:Error reading DICOM file: /content/drive/MyDrive/capstone/dataset/Echos/LVT/1289/PT000000/ST000000/SE000000/IM000136, The length of the pixel data in the dataset (99782 bytes) doesn't match the expected length (2359296 bytes). The dataset may be corrupted or there may be an issue with the pixel data handler.\n",
            "627it [1:31:33,  8.94s/it]"
          ]
        },
        {
          "output_type": "stream",
          "name": "stdout",
          "text": [
            "processing: /content/drive/MyDrive/capstone/dataset/Echos/LVT/1290/PT000000/ST000000/SE000001\n"
          ]
        },
        {
          "output_type": "stream",
          "name": "stderr",
          "text": [
            "630it [1:32:14,  9.64s/it]"
          ]
        },
        {
          "output_type": "stream",
          "name": "stdout",
          "text": [
            "processing: /content/drive/MyDrive/capstone/dataset/Echos/LVT/1291/PT000000/ST000000/SE000000\n"
          ]
        },
        {
          "output_type": "stream",
          "name": "stderr",
          "text": [
            "637it [1:33:25,  7.71s/it]"
          ]
        },
        {
          "output_type": "stream",
          "name": "stdout",
          "text": [
            "processing: /content/drive/MyDrive/capstone/dataset/Echos/LVT/1292/PT000000/ST000000/SE000001\n"
          ]
        },
        {
          "output_type": "stream",
          "name": "stderr",
          "text": [
            "642it [1:33:57,  5.49s/it]"
          ]
        },
        {
          "output_type": "stream",
          "name": "stdout",
          "text": [
            "processing: /content/drive/MyDrive/capstone/dataset/Echos/LVT/1293/PT000000/ST000000/SE000001\n"
          ]
        },
        {
          "output_type": "stream",
          "name": "stderr",
          "text": [
            "646it [1:34:25,  5.07s/it]"
          ]
        },
        {
          "output_type": "stream",
          "name": "stdout",
          "text": [
            "processing: /content/drive/MyDrive/capstone/dataset/Echos/LVT/1294/PT000000/ST000000/SE000000\n"
          ]
        },
        {
          "output_type": "stream",
          "name": "stderr",
          "text": [
            "ERROR:root:Error reading DICOM file: /content/drive/MyDrive/capstone/dataset/Echos/LVT/1294/PT000000/ST000000/SE000000/IM000006, The length of the pixel data in the dataset (73626 bytes) doesn't match the expected length (2359296 bytes). The dataset may be corrupted or there may be an issue with the pixel data handler.\n",
            "ERROR:root:Error reading DICOM file: /content/drive/MyDrive/capstone/dataset/Echos/LVT/1294/PT000000/ST000000/SE000000/IM000009, The length of the pixel data in the dataset (82426 bytes) doesn't match the expected length (2359296 bytes). The dataset may be corrupted or there may be an issue with the pixel data handler.\n",
            "ERROR:root:Error reading DICOM file: /content/drive/MyDrive/capstone/dataset/Echos/LVT/1294/PT000000/ST000000/SE000000/IM000010, The length of the pixel data in the dataset (116012 bytes) doesn't match the expected length (2359296 bytes). The dataset may be corrupted or there may be an issue with the pixel data handler.\n",
            "ERROR:root:Error reading DICOM file: /content/drive/MyDrive/capstone/dataset/Echos/LVT/1294/PT000000/ST000000/SE000000/IM000014, The length of the pixel data in the dataset (128510 bytes) doesn't match the expected length (2359296 bytes). The dataset may be corrupted or there may be an issue with the pixel data handler.\n",
            "ERROR:root:Error reading DICOM file: /content/drive/MyDrive/capstone/dataset/Echos/LVT/1294/PT000000/ST000000/SE000000/IM000015, The length of the pixel data in the dataset (122292 bytes) doesn't match the expected length (2359296 bytes). The dataset may be corrupted or there may be an issue with the pixel data handler.\n",
            "ERROR:root:Error reading DICOM file: /content/drive/MyDrive/capstone/dataset/Echos/LVT/1294/PT000000/ST000000/SE000000/IM000016, The length of the pixel data in the dataset (139596 bytes) doesn't match the expected length (2359296 bytes). The dataset may be corrupted or there may be an issue with the pixel data handler.\n",
            "ERROR:root:Error reading DICOM file: /content/drive/MyDrive/capstone/dataset/Echos/LVT/1294/PT000000/ST000000/SE000000/IM000020, The length of the pixel data in the dataset (86402 bytes) doesn't match the expected length (2359296 bytes). The dataset may be corrupted or there may be an issue with the pixel data handler.\n",
            "ERROR:root:Error reading DICOM file: /content/drive/MyDrive/capstone/dataset/Echos/LVT/1294/PT000000/ST000000/SE000000/IM000021, The length of the pixel data in the dataset (93626 bytes) doesn't match the expected length (2359296 bytes). The dataset may be corrupted or there may be an issue with the pixel data handler.\n",
            "ERROR:root:Error reading DICOM file: /content/drive/MyDrive/capstone/dataset/Echos/LVT/1294/PT000000/ST000000/SE000000/IM000026, The length of the pixel data in the dataset (98788 bytes) doesn't match the expected length (2359296 bytes). The dataset may be corrupted or there may be an issue with the pixel data handler.\n",
            "ERROR:root:Error reading DICOM file: /content/drive/MyDrive/capstone/dataset/Echos/LVT/1294/PT000000/ST000000/SE000000/IM000029, The length of the pixel data in the dataset (125208 bytes) doesn't match the expected length (2359296 bytes). The dataset may be corrupted or there may be an issue with the pixel data handler.\n",
            "ERROR:root:Error reading DICOM file: /content/drive/MyDrive/capstone/dataset/Echos/LVT/1294/PT000000/ST000000/SE000000/IM000034, The length of the pixel data in the dataset (104004 bytes) doesn't match the expected length (2359296 bytes). The dataset may be corrupted or there may be an issue with the pixel data handler.\n",
            "ERROR:root:Error reading DICOM file: /content/drive/MyDrive/capstone/dataset/Echos/LVT/1294/PT000000/ST000000/SE000000/IM000035, The length of the pixel data in the dataset (100938 bytes) doesn't match the expected length (2359296 bytes). The dataset may be corrupted or there may be an issue with the pixel data handler.\n",
            "ERROR:root:Error reading DICOM file: /content/drive/MyDrive/capstone/dataset/Echos/LVT/1294/PT000000/ST000000/SE000000/IM000036, The length of the pixel data in the dataset (97692 bytes) doesn't match the expected length (2359296 bytes). The dataset may be corrupted or there may be an issue with the pixel data handler.\n",
            "ERROR:root:Error reading DICOM file: /content/drive/MyDrive/capstone/dataset/Echos/LVT/1294/PT000000/ST000000/SE000000/IM000044, The length of the pixel data in the dataset (123464 bytes) doesn't match the expected length (2359296 bytes). The dataset may be corrupted or there may be an issue with the pixel data handler.\n",
            "ERROR:root:Error reading DICOM file: /content/drive/MyDrive/capstone/dataset/Echos/LVT/1294/PT000000/ST000000/SE000000/IM000058, The length of the pixel data in the dataset (98338 bytes) doesn't match the expected length (2359296 bytes). The dataset may be corrupted or there may be an issue with the pixel data handler.\n",
            "ERROR:root:Error reading DICOM file: /content/drive/MyDrive/capstone/dataset/Echos/LVT/1294/PT000000/ST000000/SE000000/IM000059, The length of the pixel data in the dataset (104898 bytes) doesn't match the expected length (2359296 bytes). The dataset may be corrupted or there may be an issue with the pixel data handler.\n",
            "ERROR:root:Error reading DICOM file: /content/drive/MyDrive/capstone/dataset/Echos/LVT/1294/PT000000/ST000000/SE000000/IM000062, The length of the pixel data in the dataset (103788 bytes) doesn't match the expected length (2359296 bytes). The dataset may be corrupted or there may be an issue with the pixel data handler.\n",
            "ERROR:root:Error reading DICOM file: /content/drive/MyDrive/capstone/dataset/Echos/LVT/1294/PT000000/ST000000/SE000000/IM000063, The length of the pixel data in the dataset (107012 bytes) doesn't match the expected length (2359296 bytes). The dataset may be corrupted or there may be an issue with the pixel data handler.\n",
            "ERROR:root:Error reading DICOM file: /content/drive/MyDrive/capstone/dataset/Echos/LVT/1294/PT000000/ST000000/SE000000/IM000065, The length of the pixel data in the dataset (70522 bytes) doesn't match the expected length (2359296 bytes). The dataset may be corrupted or there may be an issue with the pixel data handler.\n",
            "ERROR:root:Error reading DICOM file: /content/drive/MyDrive/capstone/dataset/Echos/LVT/1294/PT000000/ST000000/SE000000/IM000066, The length of the pixel data in the dataset (85660 bytes) doesn't match the expected length (2359296 bytes). The dataset may be corrupted or there may be an issue with the pixel data handler.\n",
            "ERROR:root:Error reading DICOM file: /content/drive/MyDrive/capstone/dataset/Echos/LVT/1294/PT000000/ST000000/SE000000/IM000067, The length of the pixel data in the dataset (84490 bytes) doesn't match the expected length (2359296 bytes). The dataset may be corrupted or there may be an issue with the pixel data handler.\n",
            "ERROR:root:Error reading DICOM file: /content/drive/MyDrive/capstone/dataset/Echos/LVT/1294/PT000000/ST000000/SE000000/IM000068, The length of the pixel data in the dataset (79548 bytes) doesn't match the expected length (2359296 bytes). The dataset may be corrupted or there may be an issue with the pixel data handler.\n",
            "ERROR:root:Error reading DICOM file: /content/drive/MyDrive/capstone/dataset/Echos/LVT/1294/PT000000/ST000000/SE000000/IM000073, The length of the pixel data in the dataset (109252 bytes) doesn't match the expected length (2359296 bytes). The dataset may be corrupted or there may be an issue with the pixel data handler.\n",
            "ERROR:root:Error reading DICOM file: /content/drive/MyDrive/capstone/dataset/Echos/LVT/1294/PT000000/ST000000/SE000000/IM000075, The length of the pixel data in the dataset (134096 bytes) doesn't match the expected length (2359296 bytes). The dataset may be corrupted or there may be an issue with the pixel data handler.\n",
            "ERROR:root:Error reading DICOM file: /content/drive/MyDrive/capstone/dataset/Echos/LVT/1294/PT000000/ST000000/SE000000/IM000090, The length of the pixel data in the dataset (107994 bytes) doesn't match the expected length (2359296 bytes). The dataset may be corrupted or there may be an issue with the pixel data handler.\n",
            "ERROR:root:Error reading DICOM file: /content/drive/MyDrive/capstone/dataset/Echos/LVT/1294/PT000000/ST000000/SE000000/IM000091, The length of the pixel data in the dataset (103648 bytes) doesn't match the expected length (2359296 bytes). The dataset may be corrupted or there may be an issue with the pixel data handler.\n",
            "ERROR:root:Error reading DICOM file: /content/drive/MyDrive/capstone/dataset/Echos/LVT/1294/PT000000/ST000000/SE000000/IM000106, The length of the pixel data in the dataset (104866 bytes) doesn't match the expected length (2359296 bytes). The dataset may be corrupted or there may be an issue with the pixel data handler.\n",
            "ERROR:root:Error reading DICOM file: /content/drive/MyDrive/capstone/dataset/Echos/LVT/1294/PT000000/ST000000/SE000000/IM000107, The length of the pixel data in the dataset (99840 bytes) doesn't match the expected length (2359296 bytes). The dataset may be corrupted or there may be an issue with the pixel data handler.\n",
            "ERROR:root:Error reading DICOM file: /content/drive/MyDrive/capstone/dataset/Echos/LVT/1294/PT000000/ST000000/SE000000/IM000108, The length of the pixel data in the dataset (93100 bytes) doesn't match the expected length (2359296 bytes). The dataset may be corrupted or there may be an issue with the pixel data handler.\n",
            "ERROR:root:Error reading DICOM file: /content/drive/MyDrive/capstone/dataset/Echos/LVT/1294/PT000000/ST000000/SE000000/IM000119, The length of the pixel data in the dataset (81948 bytes) doesn't match the expected length (2359296 bytes). The dataset may be corrupted or there may be an issue with the pixel data handler.\n",
            "ERROR:root:Error reading DICOM file: /content/drive/MyDrive/capstone/dataset/Echos/LVT/1294/PT000000/ST000000/SE000000/IM000123, The length of the pixel data in the dataset (98068 bytes) doesn't match the expected length (2359296 bytes). The dataset may be corrupted or there may be an issue with the pixel data handler.\n",
            "ERROR:root:Error reading DICOM file: /content/drive/MyDrive/capstone/dataset/Echos/LVT/1294/PT000000/ST000000/SE000000/IM000128, The length of the pixel data in the dataset (88464 bytes) doesn't match the expected length (2359296 bytes). The dataset may be corrupted or there may be an issue with the pixel data handler.\n",
            "ERROR:root:Error reading DICOM file: /content/drive/MyDrive/capstone/dataset/Echos/LVT/1294/PT000000/ST000000/SE000000/IM000131, The length of the pixel data in the dataset (93186 bytes) doesn't match the expected length (2359296 bytes). The dataset may be corrupted or there may be an issue with the pixel data handler.\n",
            "ERROR:root:Error reading DICOM file: /content/drive/MyDrive/capstone/dataset/Echos/LVT/1294/PT000000/ST000000/SE000000/IM000133, The length of the pixel data in the dataset (70266 bytes) doesn't match the expected length (2359296 bytes). The dataset may be corrupted or there may be an issue with the pixel data handler.\n",
            "ERROR:root:Error reading DICOM file: /content/drive/MyDrive/capstone/dataset/Echos/LVT/1294/PT000000/ST000000/SE000000/IM000136, The length of the pixel data in the dataset (77362 bytes) doesn't match the expected length (2359296 bytes). The dataset may be corrupted or there may be an issue with the pixel data handler.\n",
            "ERROR:root:Error reading DICOM file: /content/drive/MyDrive/capstone/dataset/Echos/LVT/1294/PT000000/ST000000/SE000000/IM000137, The length of the pixel data in the dataset (70042 bytes) doesn't match the expected length (2359296 bytes). The dataset may be corrupted or there may be an issue with the pixel data handler.\n",
            "652it [1:35:21,  5.76s/it]"
          ]
        },
        {
          "output_type": "stream",
          "name": "stdout",
          "text": [
            "processing: /content/drive/MyDrive/capstone/dataset/Echos/LVT/1295/PT000000/ST000000/SE000001\n"
          ]
        },
        {
          "output_type": "stream",
          "name": "stderr",
          "text": [
            "657it [1:36:20,  6.47s/it]"
          ]
        },
        {
          "output_type": "stream",
          "name": "stdout",
          "text": [
            "processing: /content/drive/MyDrive/capstone/dataset/Echos/LVT/1296/PT000000/ST000000/SE000001\n"
          ]
        },
        {
          "output_type": "stream",
          "name": "stderr",
          "text": [
            "662it [1:37:18,  6.57s/it]"
          ]
        },
        {
          "output_type": "stream",
          "name": "stdout",
          "text": [
            "processing: /content/drive/MyDrive/capstone/dataset/Echos/LVT/1297/PT000000/ST000000/SE000001\n"
          ]
        },
        {
          "output_type": "stream",
          "name": "stderr",
          "text": [
            "666it [1:37:49,  5.75s/it]"
          ]
        },
        {
          "output_type": "stream",
          "name": "stdout",
          "text": [
            "processing: /content/drive/MyDrive/capstone/dataset/Echos/LVT/1298/PT000000/ST000000/SE000000\n"
          ]
        },
        {
          "output_type": "stream",
          "name": "stderr",
          "text": [
            "ERROR:root:Error reading DICOM file: /content/drive/MyDrive/capstone/dataset/Echos/LVT/1298/PT000000/ST000000/SE000000/IM000007, The length of the pixel data in the dataset (81170 bytes) doesn't match the expected length (2359296 bytes). The dataset may be corrupted or there may be an issue with the pixel data handler.\n",
            "ERROR:root:Error reading DICOM file: /content/drive/MyDrive/capstone/dataset/Echos/LVT/1298/PT000000/ST000000/SE000000/IM000008, The length of the pixel data in the dataset (80472 bytes) doesn't match the expected length (2359296 bytes). The dataset may be corrupted or there may be an issue with the pixel data handler.\n",
            "ERROR:root:Error reading DICOM file: /content/drive/MyDrive/capstone/dataset/Echos/LVT/1298/PT000000/ST000000/SE000000/IM000009, The length of the pixel data in the dataset (76418 bytes) doesn't match the expected length (2359296 bytes). The dataset may be corrupted or there may be an issue with the pixel data handler.\n",
            "ERROR:root:Error reading DICOM file: /content/drive/MyDrive/capstone/dataset/Echos/LVT/1298/PT000000/ST000000/SE000000/IM000010, The length of the pixel data in the dataset (108374 bytes) doesn't match the expected length (2359296 bytes). The dataset may be corrupted or there may be an issue with the pixel data handler.\n",
            "ERROR:root:Error reading DICOM file: /content/drive/MyDrive/capstone/dataset/Echos/LVT/1298/PT000000/ST000000/SE000000/IM000014, The length of the pixel data in the dataset (115056 bytes) doesn't match the expected length (2359296 bytes). The dataset may be corrupted or there may be an issue with the pixel data handler.\n",
            "ERROR:root:Error reading DICOM file: /content/drive/MyDrive/capstone/dataset/Echos/LVT/1298/PT000000/ST000000/SE000000/IM000015, The length of the pixel data in the dataset (134110 bytes) doesn't match the expected length (2359296 bytes). The dataset may be corrupted or there may be an issue with the pixel data handler.\n",
            "ERROR:root:Error reading DICOM file: /content/drive/MyDrive/capstone/dataset/Echos/LVT/1298/PT000000/ST000000/SE000000/IM000016, The length of the pixel data in the dataset (114748 bytes) doesn't match the expected length (2359296 bytes). The dataset may be corrupted or there may be an issue with the pixel data handler.\n",
            "ERROR:root:Error reading DICOM file: /content/drive/MyDrive/capstone/dataset/Echos/LVT/1298/PT000000/ST000000/SE000000/IM000021, The length of the pixel data in the dataset (81128 bytes) doesn't match the expected length (2359296 bytes). The dataset may be corrupted or there may be an issue with the pixel data handler.\n",
            "ERROR:root:Error reading DICOM file: /content/drive/MyDrive/capstone/dataset/Echos/LVT/1298/PT000000/ST000000/SE000000/IM000022, The length of the pixel data in the dataset (90214 bytes) doesn't match the expected length (2359296 bytes). The dataset may be corrupted or there may be an issue with the pixel data handler.\n",
            "ERROR:root:Error reading DICOM file: /content/drive/MyDrive/capstone/dataset/Echos/LVT/1298/PT000000/ST000000/SE000000/IM000029, The length of the pixel data in the dataset (94134 bytes) doesn't match the expected length (2359296 bytes). The dataset may be corrupted or there may be an issue with the pixel data handler.\n",
            "ERROR:root:Error reading DICOM file: /content/drive/MyDrive/capstone/dataset/Echos/LVT/1298/PT000000/ST000000/SE000000/IM000032, The length of the pixel data in the dataset (115550 bytes) doesn't match the expected length (2359296 bytes). The dataset may be corrupted or there may be an issue with the pixel data handler.\n",
            "ERROR:root:Error reading DICOM file: /content/drive/MyDrive/capstone/dataset/Echos/LVT/1298/PT000000/ST000000/SE000000/IM000037, The length of the pixel data in the dataset (88784 bytes) doesn't match the expected length (2359296 bytes). The dataset may be corrupted or there may be an issue with the pixel data handler.\n",
            "ERROR:root:Error reading DICOM file: /content/drive/MyDrive/capstone/dataset/Echos/LVT/1298/PT000000/ST000000/SE000000/IM000038, The length of the pixel data in the dataset (90860 bytes) doesn't match the expected length (2359296 bytes). The dataset may be corrupted or there may be an issue with the pixel data handler.\n",
            "ERROR:root:Error reading DICOM file: /content/drive/MyDrive/capstone/dataset/Echos/LVT/1298/PT000000/ST000000/SE000000/IM000047, The length of the pixel data in the dataset (100108 bytes) doesn't match the expected length (2359296 bytes). The dataset may be corrupted or there may be an issue with the pixel data handler.\n",
            "ERROR:root:Error reading DICOM file: /content/drive/MyDrive/capstone/dataset/Echos/LVT/1298/PT000000/ST000000/SE000000/IM000059, The length of the pixel data in the dataset (92732 bytes) doesn't match the expected length (2359296 bytes). The dataset may be corrupted or there may be an issue with the pixel data handler.\n",
            "ERROR:root:Error reading DICOM file: /content/drive/MyDrive/capstone/dataset/Echos/LVT/1298/PT000000/ST000000/SE000000/IM000060, The length of the pixel data in the dataset (82362 bytes) doesn't match the expected length (2359296 bytes). The dataset may be corrupted or there may be an issue with the pixel data handler.\n",
            "ERROR:root:Error reading DICOM file: /content/drive/MyDrive/capstone/dataset/Echos/LVT/1298/PT000000/ST000000/SE000000/IM000061, The length of the pixel data in the dataset (99300 bytes) doesn't match the expected length (2359296 bytes). The dataset may be corrupted or there may be an issue with the pixel data handler.\n",
            "ERROR:root:Error reading DICOM file: /content/drive/MyDrive/capstone/dataset/Echos/LVT/1298/PT000000/ST000000/SE000000/IM000062, The length of the pixel data in the dataset (91804 bytes) doesn't match the expected length (2359296 bytes). The dataset may be corrupted or there may be an issue with the pixel data handler.\n",
            "ERROR:root:Error reading DICOM file: /content/drive/MyDrive/capstone/dataset/Echos/LVT/1298/PT000000/ST000000/SE000000/IM000066, The length of the pixel data in the dataset (84692 bytes) doesn't match the expected length (2359296 bytes). The dataset may be corrupted or there may be an issue with the pixel data handler.\n",
            "ERROR:root:Error reading DICOM file: /content/drive/MyDrive/capstone/dataset/Echos/LVT/1298/PT000000/ST000000/SE000000/IM000067, The length of the pixel data in the dataset (72816 bytes) doesn't match the expected length (2359296 bytes). The dataset may be corrupted or there may be an issue with the pixel data handler.\n",
            "ERROR:root:Error reading DICOM file: /content/drive/MyDrive/capstone/dataset/Echos/LVT/1298/PT000000/ST000000/SE000000/IM000068, The length of the pixel data in the dataset (75514 bytes) doesn't match the expected length (2359296 bytes). The dataset may be corrupted or there may be an issue with the pixel data handler.\n",
            "ERROR:root:Error reading DICOM file: /content/drive/MyDrive/capstone/dataset/Echos/LVT/1298/PT000000/ST000000/SE000000/IM000069, The length of the pixel data in the dataset (72432 bytes) doesn't match the expected length (2359296 bytes). The dataset may be corrupted or there may be an issue with the pixel data handler.\n",
            "ERROR:root:Error reading DICOM file: /content/drive/MyDrive/capstone/dataset/Echos/LVT/1298/PT000000/ST000000/SE000000/IM000073, The length of the pixel data in the dataset (91736 bytes) doesn't match the expected length (2359296 bytes). The dataset may be corrupted or there may be an issue with the pixel data handler.\n",
            "ERROR:root:Error reading DICOM file: /content/drive/MyDrive/capstone/dataset/Echos/LVT/1298/PT000000/ST000000/SE000000/IM000074, The length of the pixel data in the dataset (119530 bytes) doesn't match the expected length (2359296 bytes). The dataset may be corrupted or there may be an issue with the pixel data handler.\n",
            "ERROR:root:Error reading DICOM file: /content/drive/MyDrive/capstone/dataset/Echos/LVT/1298/PT000000/ST000000/SE000000/IM000086, The length of the pixel data in the dataset (92356 bytes) doesn't match the expected length (2359296 bytes). The dataset may be corrupted or there may be an issue with the pixel data handler.\n",
            "ERROR:root:Error reading DICOM file: /content/drive/MyDrive/capstone/dataset/Echos/LVT/1298/PT000000/ST000000/SE000000/IM000087, The length of the pixel data in the dataset (88280 bytes) doesn't match the expected length (2359296 bytes). The dataset may be corrupted or there may be an issue with the pixel data handler.\n",
            "ERROR:root:Error reading DICOM file: /content/drive/MyDrive/capstone/dataset/Echos/LVT/1298/PT000000/ST000000/SE000000/IM000088, The length of the pixel data in the dataset (92738 bytes) doesn't match the expected length (2359296 bytes). The dataset may be corrupted or there may be an issue with the pixel data handler.\n",
            "ERROR:root:Error reading DICOM file: /content/drive/MyDrive/capstone/dataset/Echos/LVT/1298/PT000000/ST000000/SE000000/IM000089, The length of the pixel data in the dataset (87176 bytes) doesn't match the expected length (2359296 bytes). The dataset may be corrupted or there may be an issue with the pixel data handler.\n",
            "ERROR:root:Error reading DICOM file: /content/drive/MyDrive/capstone/dataset/Echos/LVT/1298/PT000000/ST000000/SE000000/IM000104, The length of the pixel data in the dataset (80198 bytes) doesn't match the expected length (2359296 bytes). The dataset may be corrupted or there may be an issue with the pixel data handler.\n",
            "ERROR:root:Error reading DICOM file: /content/drive/MyDrive/capstone/dataset/Echos/LVT/1298/PT000000/ST000000/SE000000/IM000105, The length of the pixel data in the dataset (91304 bytes) doesn't match the expected length (2359296 bytes). The dataset may be corrupted or there may be an issue with the pixel data handler.\n",
            "ERROR:root:Error reading DICOM file: /content/drive/MyDrive/capstone/dataset/Echos/LVT/1298/PT000000/ST000000/SE000000/IM000106, The length of the pixel data in the dataset (97612 bytes) doesn't match the expected length (2359296 bytes). The dataset may be corrupted or there may be an issue with the pixel data handler.\n",
            "ERROR:root:Error reading DICOM file: /content/drive/MyDrive/capstone/dataset/Echos/LVT/1298/PT000000/ST000000/SE000000/IM000120, The length of the pixel data in the dataset (94662 bytes) doesn't match the expected length (2359296 bytes). The dataset may be corrupted or there may be an issue with the pixel data handler.\n",
            "ERROR:root:Error reading DICOM file: /content/drive/MyDrive/capstone/dataset/Echos/LVT/1298/PT000000/ST000000/SE000000/IM000129, The length of the pixel data in the dataset (86828 bytes) doesn't match the expected length (2359296 bytes). The dataset may be corrupted or there may be an issue with the pixel data handler.\n",
            "ERROR:root:Error reading DICOM file: /content/drive/MyDrive/capstone/dataset/Echos/LVT/1298/PT000000/ST000000/SE000000/IM000131, The length of the pixel data in the dataset (77350 bytes) doesn't match the expected length (2359296 bytes). The dataset may be corrupted or there may be an issue with the pixel data handler.\n",
            "ERROR:root:Error reading DICOM file: /content/drive/MyDrive/capstone/dataset/Echos/LVT/1298/PT000000/ST000000/SE000000/IM000134, The length of the pixel data in the dataset (70634 bytes) doesn't match the expected length (2359296 bytes). The dataset may be corrupted or there may be an issue with the pixel data handler.\n",
            "ERROR:root:Error reading DICOM file: /content/drive/MyDrive/capstone/dataset/Echos/LVT/1298/PT000000/ST000000/SE000000/IM000135, The length of the pixel data in the dataset (83194 bytes) doesn't match the expected length (2359296 bytes). The dataset may be corrupted or there may be an issue with the pixel data handler.\n",
            "672it [1:38:53,  6.61s/it]"
          ]
        },
        {
          "output_type": "stream",
          "name": "stdout",
          "text": [
            "processing: /content/drive/MyDrive/capstone/dataset/Echos/LVT/1299/PT000000/ST000000/SE000001\n"
          ]
        },
        {
          "output_type": "stream",
          "name": "stderr",
          "text": [
            "677it [1:40:09,  8.56s/it]"
          ]
        },
        {
          "output_type": "stream",
          "name": "stdout",
          "text": [
            "processing: /content/drive/MyDrive/capstone/dataset/Echos/LVT/1300/PT000000/ST000000/SE000001\n"
          ]
        },
        {
          "output_type": "stream",
          "name": "stderr",
          "text": [
            "682it [1:41:08,  7.84s/it]"
          ]
        },
        {
          "output_type": "stream",
          "name": "stdout",
          "text": [
            "processing: /content/drive/MyDrive/capstone/dataset/Echos/LVT/1301/PT000000/ST000000/SE000001\n"
          ]
        },
        {
          "output_type": "stream",
          "name": "stderr",
          "text": [
            "687it [1:41:42,  5.55s/it]"
          ]
        },
        {
          "output_type": "stream",
          "name": "stdout",
          "text": [
            "processing: /content/drive/MyDrive/capstone/dataset/Echos/LVT/1302/PT000000/ST000000/SE000001\n"
          ]
        },
        {
          "output_type": "stream",
          "name": "stderr",
          "text": [
            "692it [1:42:16,  4.76s/it]"
          ]
        },
        {
          "output_type": "stream",
          "name": "stdout",
          "text": [
            "processing: /content/drive/MyDrive/capstone/dataset/Echos/LVT/1303/PT000000/ST000000/SE000001\n"
          ]
        },
        {
          "output_type": "stream",
          "name": "stderr",
          "text": [
            "696it [1:42:43,  4.91s/it]"
          ]
        },
        {
          "output_type": "stream",
          "name": "stdout",
          "text": [
            "processing: /content/drive/MyDrive/capstone/dataset/Echos/LVT/1304/PT000000/ST000000/SE000000\n"
          ]
        },
        {
          "output_type": "stream",
          "name": "stderr",
          "text": [
            "ERROR:root:Error reading DICOM file: /content/drive/MyDrive/capstone/dataset/Echos/LVT/1304/PT000000/ST000000/SE000000/IM000001, The length of the pixel data in the dataset (70130 bytes) doesn't match the expected length (2359296 bytes). The dataset may be corrupted or there may be an issue with the pixel data handler.\n",
            "701it [1:42:45,  2.20s/it]"
          ]
        },
        {
          "output_type": "stream",
          "name": "stdout",
          "text": [
            "processing: /content/drive/MyDrive/capstone/dataset/Echos/LVT/1305/PT000000/ST000000/SE000000\n"
          ]
        },
        {
          "output_type": "stream",
          "name": "stderr",
          "text": [
            "ERROR:root:Error reading DICOM file: /content/drive/MyDrive/capstone/dataset/Echos/LVT/1305/PT000000/ST000000/SE000000/IM000004, The length of the pixel data in the dataset (71148 bytes) doesn't match the expected length (2359296 bytes). The dataset may be corrupted or there may be an issue with the pixel data handler.\n",
            "ERROR:root:Error reading DICOM file: /content/drive/MyDrive/capstone/dataset/Echos/LVT/1305/PT000000/ST000000/SE000000/IM000006, The length of the pixel data in the dataset (62922 bytes) doesn't match the expected length (2359296 bytes). The dataset may be corrupted or there may be an issue with the pixel data handler.\n",
            "ERROR:root:Error reading DICOM file: /content/drive/MyDrive/capstone/dataset/Echos/LVT/1305/PT000000/ST000000/SE000000/IM000009, The length of the pixel data in the dataset (121766 bytes) doesn't match the expected length (2359296 bytes). The dataset may be corrupted or there may be an issue with the pixel data handler.\n",
            "ERROR:root:Error reading DICOM file: /content/drive/MyDrive/capstone/dataset/Echos/LVT/1305/PT000000/ST000000/SE000000/IM000019, The length of the pixel data in the dataset (113354 bytes) doesn't match the expected length (2359296 bytes). The dataset may be corrupted or there may be an issue with the pixel data handler.\n",
            "ERROR:root:Error reading DICOM file: /content/drive/MyDrive/capstone/dataset/Echos/LVT/1305/PT000000/ST000000/SE000000/IM000020, The length of the pixel data in the dataset (111690 bytes) doesn't match the expected length (2359296 bytes). The dataset may be corrupted or there may be an issue with the pixel data handler.\n",
            "ERROR:root:Error reading DICOM file: /content/drive/MyDrive/capstone/dataset/Echos/LVT/1305/PT000000/ST000000/SE000000/IM000021, The length of the pixel data in the dataset (84684 bytes) doesn't match the expected length (2359296 bytes). The dataset may be corrupted or there may be an issue with the pixel data handler.\n",
            "ERROR:root:Error reading DICOM file: /content/drive/MyDrive/capstone/dataset/Echos/LVT/1305/PT000000/ST000000/SE000000/IM000022, The length of the pixel data in the dataset (84684 bytes) doesn't match the expected length (2359296 bytes). The dataset may be corrupted or there may be an issue with the pixel data handler.\n",
            "ERROR:root:Error reading DICOM file: /content/drive/MyDrive/capstone/dataset/Echos/LVT/1305/PT000000/ST000000/SE000000/IM000025, The length of the pixel data in the dataset (100148 bytes) doesn't match the expected length (2359296 bytes). The dataset may be corrupted or there may be an issue with the pixel data handler.\n",
            "ERROR:root:Error reading DICOM file: /content/drive/MyDrive/capstone/dataset/Echos/LVT/1305/PT000000/ST000000/SE000000/IM000026, The length of the pixel data in the dataset (101266 bytes) doesn't match the expected length (2359296 bytes). The dataset may be corrupted or there may be an issue with the pixel data handler.\n",
            "ERROR:root:Error reading DICOM file: /content/drive/MyDrive/capstone/dataset/Echos/LVT/1305/PT000000/ST000000/SE000000/IM000027, The length of the pixel data in the dataset (78686 bytes) doesn't match the expected length (2359296 bytes). The dataset may be corrupted or there may be an issue with the pixel data handler.\n",
            "ERROR:root:Error reading DICOM file: /content/drive/MyDrive/capstone/dataset/Echos/LVT/1305/PT000000/ST000000/SE000000/IM000028, The length of the pixel data in the dataset (79422 bytes) doesn't match the expected length (2359296 bytes). The dataset may be corrupted or there may be an issue with the pixel data handler.\n",
            "ERROR:root:Error reading DICOM file: /content/drive/MyDrive/capstone/dataset/Echos/LVT/1305/PT000000/ST000000/SE000000/IM000029, The length of the pixel data in the dataset (99596 bytes) doesn't match the expected length (2359296 bytes). The dataset may be corrupted or there may be an issue with the pixel data handler.\n",
            "ERROR:root:Error reading DICOM file: /content/drive/MyDrive/capstone/dataset/Echos/LVT/1305/PT000000/ST000000/SE000000/IM000032, The length of the pixel data in the dataset (113080 bytes) doesn't match the expected length (2359296 bytes). The dataset may be corrupted or there may be an issue with the pixel data handler.\n",
            "ERROR:root:Error reading DICOM file: /content/drive/MyDrive/capstone/dataset/Echos/LVT/1305/PT000000/ST000000/SE000000/IM000036, The length of the pixel data in the dataset (89572 bytes) doesn't match the expected length (2359296 bytes). The dataset may be corrupted or there may be an issue with the pixel data handler.\n",
            "ERROR:root:Error reading DICOM file: /content/drive/MyDrive/capstone/dataset/Echos/LVT/1305/PT000000/ST000000/SE000000/IM000045, The length of the pixel data in the dataset (70830 bytes) doesn't match the expected length (2359296 bytes). The dataset may be corrupted or there may be an issue with the pixel data handler.\n",
            "ERROR:root:Error reading DICOM file: /content/drive/MyDrive/capstone/dataset/Echos/LVT/1305/PT000000/ST000000/SE000000/IM000046, The length of the pixel data in the dataset (72252 bytes) doesn't match the expected length (2359296 bytes). The dataset may be corrupted or there may be an issue with the pixel data handler.\n",
            "ERROR:root:Error reading DICOM file: /content/drive/MyDrive/capstone/dataset/Echos/LVT/1305/PT000000/ST000000/SE000000/IM000054, The length of the pixel data in the dataset (102136 bytes) doesn't match the expected length (2359296 bytes). The dataset may be corrupted or there may be an issue with the pixel data handler.\n",
            "ERROR:root:Error reading DICOM file: /content/drive/MyDrive/capstone/dataset/Echos/LVT/1305/PT000000/ST000000/SE000000/IM000055, The length of the pixel data in the dataset (94104 bytes) doesn't match the expected length (2359296 bytes). The dataset may be corrupted or there may be an issue with the pixel data handler.\n",
            "ERROR:root:Error reading DICOM file: /content/drive/MyDrive/capstone/dataset/Echos/LVT/1305/PT000000/ST000000/SE000000/IM000056, The length of the pixel data in the dataset (90170 bytes) doesn't match the expected length (2359296 bytes). The dataset may be corrupted or there may be an issue with the pixel data handler.\n",
            "ERROR:root:Error reading DICOM file: /content/drive/MyDrive/capstone/dataset/Echos/LVT/1305/PT000000/ST000000/SE000000/IM000057, The length of the pixel data in the dataset (84382 bytes) doesn't match the expected length (2359296 bytes). The dataset may be corrupted or there may be an issue with the pixel data handler.\n",
            "ERROR:root:Error reading DICOM file: /content/drive/MyDrive/capstone/dataset/Echos/LVT/1305/PT000000/ST000000/SE000000/IM000060, The length of the pixel data in the dataset (107702 bytes) doesn't match the expected length (2359296 bytes). The dataset may be corrupted or there may be an issue with the pixel data handler.\n",
            "ERROR:root:Error reading DICOM file: /content/drive/MyDrive/capstone/dataset/Echos/LVT/1305/PT000000/ST000000/SE000000/IM000061, The length of the pixel data in the dataset (107962 bytes) doesn't match the expected length (2359296 bytes). The dataset may be corrupted or there may be an issue with the pixel data handler.\n",
            "ERROR:root:Error reading DICOM file: /content/drive/MyDrive/capstone/dataset/Echos/LVT/1305/PT000000/ST000000/SE000000/IM000062, The length of the pixel data in the dataset (125446 bytes) doesn't match the expected length (2359296 bytes). The dataset may be corrupted or there may be an issue with the pixel data handler.\n",
            "ERROR:root:Error reading DICOM file: /content/drive/MyDrive/capstone/dataset/Echos/LVT/1305/PT000000/ST000000/SE000000/IM000068, The length of the pixel data in the dataset (104632 bytes) doesn't match the expected length (2359296 bytes). The dataset may be corrupted or there may be an issue with the pixel data handler.\n",
            "ERROR:root:Error reading DICOM file: /content/drive/MyDrive/capstone/dataset/Echos/LVT/1305/PT000000/ST000000/SE000000/IM000069, The length of the pixel data in the dataset (105146 bytes) doesn't match the expected length (2359296 bytes). The dataset may be corrupted or there may be an issue with the pixel data handler.\n",
            "ERROR:root:Error reading DICOM file: /content/drive/MyDrive/capstone/dataset/Echos/LVT/1305/PT000000/ST000000/SE000000/IM000070, The length of the pixel data in the dataset (70224 bytes) doesn't match the expected length (2359296 bytes). The dataset may be corrupted or there may be an issue with the pixel data handler.\n",
            "ERROR:root:Error reading DICOM file: /content/drive/MyDrive/capstone/dataset/Echos/LVT/1305/PT000000/ST000000/SE000000/IM000071, The length of the pixel data in the dataset (72220 bytes) doesn't match the expected length (2359296 bytes). The dataset may be corrupted or there may be an issue with the pixel data handler.\n",
            "ERROR:root:Error reading DICOM file: /content/drive/MyDrive/capstone/dataset/Echos/LVT/1305/PT000000/ST000000/SE000000/IM000072, The length of the pixel data in the dataset (85984 bytes) doesn't match the expected length (2359296 bytes). The dataset may be corrupted or there may be an issue with the pixel data handler.\n",
            "ERROR:root:Error reading DICOM file: /content/drive/MyDrive/capstone/dataset/Echos/LVT/1305/PT000000/ST000000/SE000000/IM000076, The length of the pixel data in the dataset (62546 bytes) doesn't match the expected length (2359296 bytes). The dataset may be corrupted or there may be an issue with the pixel data handler.\n",
            "ERROR:root:Error reading DICOM file: /content/drive/MyDrive/capstone/dataset/Echos/LVT/1305/PT000000/ST000000/SE000000/IM000088, The length of the pixel data in the dataset (105374 bytes) doesn't match the expected length (2359296 bytes). The dataset may be corrupted or there may be an issue with the pixel data handler.\n",
            "ERROR:root:Error reading DICOM file: /content/drive/MyDrive/capstone/dataset/Echos/LVT/1305/PT000000/ST000000/SE000000/IM000089, The length of the pixel data in the dataset (105100 bytes) doesn't match the expected length (2359296 bytes). The dataset may be corrupted or there may be an issue with the pixel data handler.\n",
            "ERROR:root:Error reading DICOM file: /content/drive/MyDrive/capstone/dataset/Echos/LVT/1305/PT000000/ST000000/SE000000/IM000090, The length of the pixel data in the dataset (94550 bytes) doesn't match the expected length (2359296 bytes). The dataset may be corrupted or there may be an issue with the pixel data handler.\n",
            "ERROR:root:Error reading DICOM file: /content/drive/MyDrive/capstone/dataset/Echos/LVT/1305/PT000000/ST000000/SE000000/IM000091, The length of the pixel data in the dataset (86648 bytes) doesn't match the expected length (2359296 bytes). The dataset may be corrupted or there may be an issue with the pixel data handler.\n",
            "ERROR:root:Error reading DICOM file: /content/drive/MyDrive/capstone/dataset/Echos/LVT/1305/PT000000/ST000000/SE000000/IM000092, The length of the pixel data in the dataset (106834 bytes) doesn't match the expected length (2359296 bytes). The dataset may be corrupted or there may be an issue with the pixel data handler.\n",
            "ERROR:root:Error reading DICOM file: /content/drive/MyDrive/capstone/dataset/Echos/LVT/1305/PT000000/ST000000/SE000000/IM000099, The length of the pixel data in the dataset (78286 bytes) doesn't match the expected length (2359296 bytes). The dataset may be corrupted or there may be an issue with the pixel data handler.\n",
            "ERROR:root:Error reading DICOM file: /content/drive/MyDrive/capstone/dataset/Echos/LVT/1305/PT000000/ST000000/SE000000/IM000105, The length of the pixel data in the dataset (76470 bytes) doesn't match the expected length (2359296 bytes). The dataset may be corrupted or there may be an issue with the pixel data handler.\n",
            "ERROR:root:Error reading DICOM file: /content/drive/MyDrive/capstone/dataset/Echos/LVT/1305/PT000000/ST000000/SE000000/IM000106, The length of the pixel data in the dataset (95460 bytes) doesn't match the expected length (2359296 bytes). The dataset may be corrupted or there may be an issue with the pixel data handler.\n",
            "707it [1:43:57,  6.11s/it]"
          ]
        },
        {
          "output_type": "stream",
          "name": "stdout",
          "text": [
            "processing: /content/drive/MyDrive/capstone/dataset/Echos/LVT/1306/PT000000/ST000000/SE000001\n"
          ]
        },
        {
          "output_type": "stream",
          "name": "stderr",
          "text": [
            "712it [1:44:23,  4.00s/it]"
          ]
        },
        {
          "output_type": "stream",
          "name": "stdout",
          "text": [
            "processing: /content/drive/MyDrive/capstone/dataset/Echos/LVT/1307/PT000000/ST000000/SE000001\n"
          ]
        },
        {
          "output_type": "stream",
          "name": "stderr",
          "text": [
            "717it [1:45:05,  4.63s/it]"
          ]
        },
        {
          "output_type": "stream",
          "name": "stdout",
          "text": [
            "processing: /content/drive/MyDrive/capstone/dataset/Echos/LVT/1308/PT000000/ST000000/SE000001\n"
          ]
        },
        {
          "output_type": "stream",
          "name": "stderr",
          "text": [
            "722it [1:45:31,  3.45s/it]"
          ]
        },
        {
          "output_type": "stream",
          "name": "stdout",
          "text": [
            "processing: /content/drive/MyDrive/capstone/dataset/Echos/LVT/1309/PT000000/ST000000/SE000001\n"
          ]
        },
        {
          "output_type": "stream",
          "name": "stderr",
          "text": [
            "726it [1:45:55,  3.93s/it]"
          ]
        },
        {
          "output_type": "stream",
          "name": "stdout",
          "text": [
            "processing: /content/drive/MyDrive/capstone/dataset/Echos/LVT/1310/PT000000/ST000000/SE000000\n"
          ]
        },
        {
          "output_type": "stream",
          "name": "stderr",
          "text": [
            "ERROR:root:Error reading DICOM file: /content/drive/MyDrive/capstone/dataset/Echos/LVT/1310/PT000000/ST000000/SE000000/IM000002, The length of the pixel data in the dataset (63954 bytes) doesn't match the expected length (2359296 bytes). The dataset may be corrupted or there may be an issue with the pixel data handler.\n",
            "ERROR:root:Error reading DICOM file: /content/drive/MyDrive/capstone/dataset/Echos/LVT/1310/PT000000/ST000000/SE000000/IM000003, The length of the pixel data in the dataset (63912 bytes) doesn't match the expected length (2359296 bytes). The dataset may be corrupted or there may be an issue with the pixel data handler.\n",
            "ERROR:root:Error reading DICOM file: /content/drive/MyDrive/capstone/dataset/Echos/LVT/1310/PT000000/ST000000/SE000000/IM000006, The length of the pixel data in the dataset (64882 bytes) doesn't match the expected length (2359296 bytes). The dataset may be corrupted or there may be an issue with the pixel data handler.\n",
            "ERROR:root:Error reading DICOM file: /content/drive/MyDrive/capstone/dataset/Echos/LVT/1310/PT000000/ST000000/SE000000/IM000017, The length of the pixel data in the dataset (102628 bytes) doesn't match the expected length (2359296 bytes). The dataset may be corrupted or there may be an issue with the pixel data handler.\n",
            "ERROR:root:Error reading DICOM file: /content/drive/MyDrive/capstone/dataset/Echos/LVT/1310/PT000000/ST000000/SE000000/IM000018, The length of the pixel data in the dataset (110264 bytes) doesn't match the expected length (2359296 bytes). The dataset may be corrupted or there may be an issue with the pixel data handler.\n",
            "ERROR:root:Error reading DICOM file: /content/drive/MyDrive/capstone/dataset/Echos/LVT/1310/PT000000/ST000000/SE000000/IM000019, The length of the pixel data in the dataset (90460 bytes) doesn't match the expected length (2359296 bytes). The dataset may be corrupted or there may be an issue with the pixel data handler.\n",
            "ERROR:root:Error reading DICOM file: /content/drive/MyDrive/capstone/dataset/Echos/LVT/1310/PT000000/ST000000/SE000000/IM000022, The length of the pixel data in the dataset (74910 bytes) doesn't match the expected length (2359296 bytes). The dataset may be corrupted or there may be an issue with the pixel data handler.\n",
            "ERROR:root:Error reading DICOM file: /content/drive/MyDrive/capstone/dataset/Echos/LVT/1310/PT000000/ST000000/SE000000/IM000034, The length of the pixel data in the dataset (90188 bytes) doesn't match the expected length (2359296 bytes). The dataset may be corrupted or there may be an issue with the pixel data handler.\n",
            "ERROR:root:Error reading DICOM file: /content/drive/MyDrive/capstone/dataset/Echos/LVT/1310/PT000000/ST000000/SE000000/IM000044, The length of the pixel data in the dataset (100226 bytes) doesn't match the expected length (2359296 bytes). The dataset may be corrupted or there may be an issue with the pixel data handler.\n",
            "ERROR:root:Error reading DICOM file: /content/drive/MyDrive/capstone/dataset/Echos/LVT/1310/PT000000/ST000000/SE000000/IM000045, The length of the pixel data in the dataset (103980 bytes) doesn't match the expected length (2359296 bytes). The dataset may be corrupted or there may be an issue with the pixel data handler.\n",
            "ERROR:root:Error reading DICOM file: /content/drive/MyDrive/capstone/dataset/Echos/LVT/1310/PT000000/ST000000/SE000000/IM000046, The length of the pixel data in the dataset (102972 bytes) doesn't match the expected length (2359296 bytes). The dataset may be corrupted or there may be an issue with the pixel data handler.\n",
            "ERROR:root:Error reading DICOM file: /content/drive/MyDrive/capstone/dataset/Echos/LVT/1310/PT000000/ST000000/SE000000/IM000049, The length of the pixel data in the dataset (91044 bytes) doesn't match the expected length (2359296 bytes). The dataset may be corrupted or there may be an issue with the pixel data handler.\n",
            "ERROR:root:Error reading DICOM file: /content/drive/MyDrive/capstone/dataset/Echos/LVT/1310/PT000000/ST000000/SE000000/IM000050, The length of the pixel data in the dataset (102062 bytes) doesn't match the expected length (2359296 bytes). The dataset may be corrupted or there may be an issue with the pixel data handler.\n",
            "ERROR:root:Error reading DICOM file: /content/drive/MyDrive/capstone/dataset/Echos/LVT/1310/PT000000/ST000000/SE000000/IM000051, The length of the pixel data in the dataset (122408 bytes) doesn't match the expected length (2359296 bytes). The dataset may be corrupted or there may be an issue with the pixel data handler.\n",
            "ERROR:root:Error reading DICOM file: /content/drive/MyDrive/capstone/dataset/Echos/LVT/1310/PT000000/ST000000/SE000000/IM000052, The length of the pixel data in the dataset (114970 bytes) doesn't match the expected length (2359296 bytes). The dataset may be corrupted or there may be an issue with the pixel data handler.\n",
            "ERROR:root:Error reading DICOM file: /content/drive/MyDrive/capstone/dataset/Echos/LVT/1310/PT000000/ST000000/SE000000/IM000054, The length of the pixel data in the dataset (85796 bytes) doesn't match the expected length (2359296 bytes). The dataset may be corrupted or there may be an issue with the pixel data handler.\n",
            "ERROR:root:Error reading DICOM file: /content/drive/MyDrive/capstone/dataset/Echos/LVT/1310/PT000000/ST000000/SE000000/IM000056, The length of the pixel data in the dataset (87526 bytes) doesn't match the expected length (2359296 bytes). The dataset may be corrupted or there may be an issue with the pixel data handler.\n",
            "ERROR:root:Error reading DICOM file: /content/drive/MyDrive/capstone/dataset/Echos/LVT/1310/PT000000/ST000000/SE000000/IM000059, The length of the pixel data in the dataset (105908 bytes) doesn't match the expected length (2359296 bytes). The dataset may be corrupted or there may be an issue with the pixel data handler.\n",
            "ERROR:root:Error reading DICOM file: /content/drive/MyDrive/capstone/dataset/Echos/LVT/1310/PT000000/ST000000/SE000000/IM000062, The length of the pixel data in the dataset (87864 bytes) doesn't match the expected length (2359296 bytes). The dataset may be corrupted or there may be an issue with the pixel data handler.\n",
            "ERROR:root:Error reading DICOM file: /content/drive/MyDrive/capstone/dataset/Echos/LVT/1310/PT000000/ST000000/SE000000/IM000063, The length of the pixel data in the dataset (66842 bytes) doesn't match the expected length (2359296 bytes). The dataset may be corrupted or there may be an issue with the pixel data handler.\n",
            "ERROR:root:Error reading DICOM file: /content/drive/MyDrive/capstone/dataset/Echos/LVT/1310/PT000000/ST000000/SE000000/IM000066, The length of the pixel data in the dataset (102782 bytes) doesn't match the expected length (2359296 bytes). The dataset may be corrupted or there may be an issue with the pixel data handler.\n",
            "ERROR:root:Error reading DICOM file: /content/drive/MyDrive/capstone/dataset/Echos/LVT/1310/PT000000/ST000000/SE000000/IM000067, The length of the pixel data in the dataset (86626 bytes) doesn't match the expected length (2359296 bytes). The dataset may be corrupted or there may be an issue with the pixel data handler.\n",
            "ERROR:root:Error reading DICOM file: /content/drive/MyDrive/capstone/dataset/Echos/LVT/1310/PT000000/ST000000/SE000000/IM000070, The length of the pixel data in the dataset (68456 bytes) doesn't match the expected length (2359296 bytes). The dataset may be corrupted or there may be an issue with the pixel data handler.\n",
            "ERROR:root:Error reading DICOM file: /content/drive/MyDrive/capstone/dataset/Echos/LVT/1310/PT000000/ST000000/SE000000/IM000071, The length of the pixel data in the dataset (69496 bytes) doesn't match the expected length (2359296 bytes). The dataset may be corrupted or there may be an issue with the pixel data handler.\n",
            "ERROR:root:Error reading DICOM file: /content/drive/MyDrive/capstone/dataset/Echos/LVT/1310/PT000000/ST000000/SE000000/IM000072, The length of the pixel data in the dataset (69564 bytes) doesn't match the expected length (2359296 bytes). The dataset may be corrupted or there may be an issue with the pixel data handler.\n",
            "ERROR:root:Error reading DICOM file: /content/drive/MyDrive/capstone/dataset/Echos/LVT/1310/PT000000/ST000000/SE000000/IM000073, The length of the pixel data in the dataset (107786 bytes) doesn't match the expected length (2359296 bytes). The dataset may be corrupted or there may be an issue with the pixel data handler.\n",
            "ERROR:root:Error reading DICOM file: /content/drive/MyDrive/capstone/dataset/Echos/LVT/1310/PT000000/ST000000/SE000000/IM000082, The length of the pixel data in the dataset (74552 bytes) doesn't match the expected length (2359296 bytes). The dataset may be corrupted or there may be an issue with the pixel data handler.\n",
            "ERROR:root:Error reading DICOM file: /content/drive/MyDrive/capstone/dataset/Echos/LVT/1310/PT000000/ST000000/SE000000/IM000088, The length of the pixel data in the dataset (68220 bytes) doesn't match the expected length (2359296 bytes). The dataset may be corrupted or there may be an issue with the pixel data handler.\n",
            "ERROR:root:Error reading DICOM file: /content/drive/MyDrive/capstone/dataset/Echos/LVT/1310/PT000000/ST000000/SE000000/IM000092, The length of the pixel data in the dataset (75748 bytes) doesn't match the expected length (2359296 bytes). The dataset may be corrupted or there may be an issue with the pixel data handler.\n",
            "ERROR:root:Error reading DICOM file: /content/drive/MyDrive/capstone/dataset/Echos/LVT/1310/PT000000/ST000000/SE000000/IM000098, The length of the pixel data in the dataset (77746 bytes) doesn't match the expected length (2359296 bytes). The dataset may be corrupted or there may be an issue with the pixel data handler.\n",
            "ERROR:root:Error reading DICOM file: /content/drive/MyDrive/capstone/dataset/Echos/LVT/1310/PT000000/ST000000/SE000000/IM000102, The length of the pixel data in the dataset (88036 bytes) doesn't match the expected length (2359296 bytes). The dataset may be corrupted or there may be an issue with the pixel data handler.\n",
            "ERROR:root:Error reading DICOM file: /content/drive/MyDrive/capstone/dataset/Echos/LVT/1310/PT000000/ST000000/SE000000/IM000103, The length of the pixel data in the dataset (87378 bytes) doesn't match the expected length (2359296 bytes). The dataset may be corrupted or there may be an issue with the pixel data handler.\n",
            "ERROR:root:Error reading DICOM file: /content/drive/MyDrive/capstone/dataset/Echos/LVT/1310/PT000000/ST000000/SE000000/IM000105, The length of the pixel data in the dataset (88630 bytes) doesn't match the expected length (2359296 bytes). The dataset may be corrupted or there may be an issue with the pixel data handler.\n",
            "ERROR:root:Error reading DICOM file: /content/drive/MyDrive/capstone/dataset/Echos/LVT/1310/PT000000/ST000000/SE000000/IM000106, The length of the pixel data in the dataset (90894 bytes) doesn't match the expected length (2359296 bytes). The dataset may be corrupted or there may be an issue with the pixel data handler.\n",
            "ERROR:root:Error reading DICOM file: /content/drive/MyDrive/capstone/dataset/Echos/LVT/1310/PT000000/ST000000/SE000000/IM000111, The length of the pixel data in the dataset (95244 bytes) doesn't match the expected length (2359296 bytes). The dataset may be corrupted or there may be an issue with the pixel data handler.\n",
            "ERROR:root:Error reading DICOM file: /content/drive/MyDrive/capstone/dataset/Echos/LVT/1310/PT000000/ST000000/SE000000/IM000112, The length of the pixel data in the dataset (79056 bytes) doesn't match the expected length (2359296 bytes). The dataset may be corrupted or there may be an issue with the pixel data handler.\n",
            "ERROR:root:Error reading DICOM file: /content/drive/MyDrive/capstone/dataset/Echos/LVT/1310/PT000000/ST000000/SE000000/IM000117, The length of the pixel data in the dataset (75736 bytes) doesn't match the expected length (2359296 bytes). The dataset may be corrupted or there may be an issue with the pixel data handler.\n",
            "ERROR:root:Error reading DICOM file: /content/drive/MyDrive/capstone/dataset/Echos/LVT/1310/PT000000/ST000000/SE000000/IM000119, The length of the pixel data in the dataset (84154 bytes) doesn't match the expected length (2359296 bytes). The dataset may be corrupted or there may be an issue with the pixel data handler.\n",
            "ERROR:root:Error reading DICOM file: /content/drive/MyDrive/capstone/dataset/Echos/LVT/1310/PT000000/ST000000/SE000000/IM000120, The length of the pixel data in the dataset (100876 bytes) doesn't match the expected length (2359296 bytes). The dataset may be corrupted or there may be an issue with the pixel data handler.\n",
            "730it [1:46:58,  8.99s/it]"
          ]
        },
        {
          "output_type": "stream",
          "name": "stdout",
          "text": [
            "processing: /content/drive/MyDrive/capstone/dataset/Echos/LVT/1311/PT000000/ST000000/SE000000\n"
          ]
        },
        {
          "output_type": "stream",
          "name": "stderr",
          "text": [
            "ERROR:root:Error reading DICOM file: /content/drive/MyDrive/capstone/dataset/Echos/LVT/1311/PT000000/ST000000/SE000000/IM000006, The length of the pixel data in the dataset (63852 bytes) doesn't match the expected length (2359296 bytes). The dataset may be corrupted or there may be an issue with the pixel data handler.\n",
            "ERROR:root:Error reading DICOM file: /content/drive/MyDrive/capstone/dataset/Echos/LVT/1311/PT000000/ST000000/SE000000/IM000007, The length of the pixel data in the dataset (66710 bytes) doesn't match the expected length (2359296 bytes). The dataset may be corrupted or there may be an issue with the pixel data handler.\n",
            "ERROR:root:Error reading DICOM file: /content/drive/MyDrive/capstone/dataset/Echos/LVT/1311/PT000000/ST000000/SE000000/IM000010, The length of the pixel data in the dataset (68344 bytes) doesn't match the expected length (2359296 bytes). The dataset may be corrupted or there may be an issue with the pixel data handler.\n",
            "ERROR:root:Error reading DICOM file: /content/drive/MyDrive/capstone/dataset/Echos/LVT/1311/PT000000/ST000000/SE000000/IM000011, The length of the pixel data in the dataset (102358 bytes) doesn't match the expected length (2359296 bytes). The dataset may be corrupted or there may be an issue with the pixel data handler.\n",
            "ERROR:root:Error reading DICOM file: /content/drive/MyDrive/capstone/dataset/Echos/LVT/1311/PT000000/ST000000/SE000000/IM000014, The length of the pixel data in the dataset (117222 bytes) doesn't match the expected length (2359296 bytes). The dataset may be corrupted or there may be an issue with the pixel data handler.\n",
            "ERROR:root:Error reading DICOM file: /content/drive/MyDrive/capstone/dataset/Echos/LVT/1311/PT000000/ST000000/SE000000/IM000016, The length of the pixel data in the dataset (103808 bytes) doesn't match the expected length (2359296 bytes). The dataset may be corrupted or there may be an issue with the pixel data handler.\n",
            "ERROR:root:Error reading DICOM file: /content/drive/MyDrive/capstone/dataset/Echos/LVT/1311/PT000000/ST000000/SE000000/IM000017, The length of the pixel data in the dataset (80588 bytes) doesn't match the expected length (2359296 bytes). The dataset may be corrupted or there may be an issue with the pixel data handler.\n",
            "ERROR:root:Error reading DICOM file: /content/drive/MyDrive/capstone/dataset/Echos/LVT/1311/PT000000/ST000000/SE000000/IM000018, The length of the pixel data in the dataset (81870 bytes) doesn't match the expected length (2359296 bytes). The dataset may be corrupted or there may be an issue with the pixel data handler.\n",
            "ERROR:root:Error reading DICOM file: /content/drive/MyDrive/capstone/dataset/Echos/LVT/1311/PT000000/ST000000/SE000000/IM000019, The length of the pixel data in the dataset (112746 bytes) doesn't match the expected length (2359296 bytes). The dataset may be corrupted or there may be an issue with the pixel data handler.\n",
            "ERROR:root:Error reading DICOM file: /content/drive/MyDrive/capstone/dataset/Echos/LVT/1311/PT000000/ST000000/SE000000/IM000023, The length of the pixel data in the dataset (102520 bytes) doesn't match the expected length (2359296 bytes). The dataset may be corrupted or there may be an issue with the pixel data handler.\n",
            "ERROR:root:Error reading DICOM file: /content/drive/MyDrive/capstone/dataset/Echos/LVT/1311/PT000000/ST000000/SE000000/IM000024, The length of the pixel data in the dataset (83302 bytes) doesn't match the expected length (2359296 bytes). The dataset may be corrupted or there may be an issue with the pixel data handler.\n",
            "ERROR:root:Error reading DICOM file: /content/drive/MyDrive/capstone/dataset/Echos/LVT/1311/PT000000/ST000000/SE000000/IM000025, The length of the pixel data in the dataset (83768 bytes) doesn't match the expected length (2359296 bytes). The dataset may be corrupted or there may be an issue with the pixel data handler.\n",
            "ERROR:root:Error reading DICOM file: /content/drive/MyDrive/capstone/dataset/Echos/LVT/1311/PT000000/ST000000/SE000000/IM000031, The length of the pixel data in the dataset (104990 bytes) doesn't match the expected length (2359296 bytes). The dataset may be corrupted or there may be an issue with the pixel data handler.\n",
            "730it [1:47:10,  8.99s/it]ERROR:root:Error reading DICOM file: /content/drive/MyDrive/capstone/dataset/Echos/LVT/1311/PT000000/ST000000/SE000000/IM000037, The length of the pixel data in the dataset (113338 bytes) doesn't match the expected length (2359296 bytes). The dataset may be corrupted or there may be an issue with the pixel data handler.\n",
            "ERROR:root:Error reading DICOM file: /content/drive/MyDrive/capstone/dataset/Echos/LVT/1311/PT000000/ST000000/SE000000/IM000038, The length of the pixel data in the dataset (103240 bytes) doesn't match the expected length (2359296 bytes). The dataset may be corrupted or there may be an issue with the pixel data handler.\n",
            "ERROR:root:Error reading DICOM file: /content/drive/MyDrive/capstone/dataset/Echos/LVT/1311/PT000000/ST000000/SE000000/IM000039, The length of the pixel data in the dataset (99688 bytes) doesn't match the expected length (2359296 bytes). The dataset may be corrupted or there may be an issue with the pixel data handler.\n",
            "ERROR:root:Error reading DICOM file: /content/drive/MyDrive/capstone/dataset/Echos/LVT/1311/PT000000/ST000000/SE000000/IM000040, The length of the pixel data in the dataset (83014 bytes) doesn't match the expected length (2359296 bytes). The dataset may be corrupted or there may be an issue with the pixel data handler.\n",
            "ERROR:root:Error reading DICOM file: /content/drive/MyDrive/capstone/dataset/Echos/LVT/1311/PT000000/ST000000/SE000000/IM000055, The length of the pixel data in the dataset (89406 bytes) doesn't match the expected length (2359296 bytes). The dataset may be corrupted or there may be an issue with the pixel data handler.\n",
            "ERROR:root:Error reading DICOM file: /content/drive/MyDrive/capstone/dataset/Echos/LVT/1311/PT000000/ST000000/SE000000/IM000056, The length of the pixel data in the dataset (86494 bytes) doesn't match the expected length (2359296 bytes). The dataset may be corrupted or there may be an issue with the pixel data handler.\n",
            "ERROR:root:Error reading DICOM file: /content/drive/MyDrive/capstone/dataset/Echos/LVT/1311/PT000000/ST000000/SE000000/IM000057, The length of the pixel data in the dataset (94790 bytes) doesn't match the expected length (2359296 bytes). The dataset may be corrupted or there may be an issue with the pixel data handler.\n",
            "ERROR:root:Error reading DICOM file: /content/drive/MyDrive/capstone/dataset/Echos/LVT/1311/PT000000/ST000000/SE000000/IM000069, The length of the pixel data in the dataset (81198 bytes) doesn't match the expected length (2359296 bytes). The dataset may be corrupted or there may be an issue with the pixel data handler.\n",
            "ERROR:root:Error reading DICOM file: /content/drive/MyDrive/capstone/dataset/Echos/LVT/1311/PT000000/ST000000/SE000000/IM000070, The length of the pixel data in the dataset (77214 bytes) doesn't match the expected length (2359296 bytes). The dataset may be corrupted or there may be an issue with the pixel data handler.\n",
            "ERROR:root:Error reading DICOM file: /content/drive/MyDrive/capstone/dataset/Echos/LVT/1311/PT000000/ST000000/SE000000/IM000071, The length of the pixel data in the dataset (77608 bytes) doesn't match the expected length (2359296 bytes). The dataset may be corrupted or there may be an issue with the pixel data handler.\n",
            "ERROR:root:Error reading DICOM file: /content/drive/MyDrive/capstone/dataset/Echos/LVT/1311/PT000000/ST000000/SE000000/IM000072, The length of the pixel data in the dataset (107728 bytes) doesn't match the expected length (2359296 bytes). The dataset may be corrupted or there may be an issue with the pixel data handler.\n",
            "ERROR:root:Error reading DICOM file: /content/drive/MyDrive/capstone/dataset/Echos/LVT/1311/PT000000/ST000000/SE000000/IM000075, The length of the pixel data in the dataset (91736 bytes) doesn't match the expected length (2359296 bytes). The dataset may be corrupted or there may be an issue with the pixel data handler.\n",
            "ERROR:root:Error reading DICOM file: /content/drive/MyDrive/capstone/dataset/Echos/LVT/1311/PT000000/ST000000/SE000000/IM000078, The length of the pixel data in the dataset (90626 bytes) doesn't match the expected length (2359296 bytes). The dataset may be corrupted or there may be an issue with the pixel data handler.\n",
            "ERROR:root:Error reading DICOM file: /content/drive/MyDrive/capstone/dataset/Echos/LVT/1311/PT000000/ST000000/SE000000/IM000081, The length of the pixel data in the dataset (95888 bytes) doesn't match the expected length (2359296 bytes). The dataset may be corrupted or there may be an issue with the pixel data handler.\n",
            "ERROR:root:Error reading DICOM file: /content/drive/MyDrive/capstone/dataset/Echos/LVT/1311/PT000000/ST000000/SE000000/IM000082, The length of the pixel data in the dataset (77562 bytes) doesn't match the expected length (2359296 bytes). The dataset may be corrupted or there may be an issue with the pixel data handler.\n",
            "ERROR:root:Error reading DICOM file: /content/drive/MyDrive/capstone/dataset/Echos/LVT/1311/PT000000/ST000000/SE000000/IM000086, The length of the pixel data in the dataset (100484 bytes) doesn't match the expected length (2359296 bytes). The dataset may be corrupted or there may be an issue with the pixel data handler.\n",
            "ERROR:root:Error reading DICOM file: /content/drive/MyDrive/capstone/dataset/Echos/LVT/1311/PT000000/ST000000/SE000000/IM000087, The length of the pixel data in the dataset (84902 bytes) doesn't match the expected length (2359296 bytes). The dataset may be corrupted or there may be an issue with the pixel data handler.\n",
            "ERROR:root:Error reading DICOM file: /content/drive/MyDrive/capstone/dataset/Echos/LVT/1311/PT000000/ST000000/SE000000/IM000088, The length of the pixel data in the dataset (90370 bytes) doesn't match the expected length (2359296 bytes). The dataset may be corrupted or there may be an issue with the pixel data handler.\n",
            "ERROR:root:Error reading DICOM file: /content/drive/MyDrive/capstone/dataset/Echos/LVT/1311/PT000000/ST000000/SE000000/IM000089, The length of the pixel data in the dataset (89584 bytes) doesn't match the expected length (2359296 bytes). The dataset may be corrupted or there may be an issue with the pixel data handler.\n",
            "ERROR:root:Error reading DICOM file: /content/drive/MyDrive/capstone/dataset/Echos/LVT/1311/PT000000/ST000000/SE000000/IM000108, The length of the pixel data in the dataset (80706 bytes) doesn't match the expected length (2359296 bytes). The dataset may be corrupted or there may be an issue with the pixel data handler.\n",
            "ERROR:root:Error reading DICOM file: /content/drive/MyDrive/capstone/dataset/Echos/LVT/1311/PT000000/ST000000/SE000000/IM000113, The length of the pixel data in the dataset (81526 bytes) doesn't match the expected length (2359296 bytes). The dataset may be corrupted or there may be an issue with the pixel data handler.\n",
            "735it [1:47:33,  6.99s/it]ERROR:root:Error reading DICOM file: /content/drive/MyDrive/capstone/dataset/Echos/LVT/1312/PT000000/ST000000/SE000000/IM000000, The length of the pixel data in the dataset (88064 bytes) doesn't match the expected length (2359296 bytes). The dataset may be corrupted or there may be an issue with the pixel data handler.\n"
          ]
        },
        {
          "output_type": "stream",
          "name": "stdout",
          "text": [
            "processing: /content/drive/MyDrive/capstone/dataset/Echos/LVT/1312/PT000000/ST000000/SE000000\n"
          ]
        },
        {
          "output_type": "stream",
          "name": "stderr",
          "text": [
            "ERROR:root:Error reading DICOM file: /content/drive/MyDrive/capstone/dataset/Echos/LVT/1312/PT000000/ST000000/SE000000/IM000001, The length of the pixel data in the dataset (78510 bytes) doesn't match the expected length (2359296 bytes). The dataset may be corrupted or there may be an issue with the pixel data handler.\n",
            "ERROR:root:Error reading DICOM file: /content/drive/MyDrive/capstone/dataset/Echos/LVT/1312/PT000000/ST000000/SE000000/IM000002, The length of the pixel data in the dataset (84238 bytes) doesn't match the expected length (2359296 bytes). The dataset may be corrupted or there may be an issue with the pixel data handler.\n",
            "ERROR:root:Error reading DICOM file: /content/drive/MyDrive/capstone/dataset/Echos/LVT/1312/PT000000/ST000000/SE000000/IM000003, The length of the pixel data in the dataset (72552 bytes) doesn't match the expected length (2359296 bytes). The dataset may be corrupted or there may be an issue with the pixel data handler.\n",
            "ERROR:root:Error reading DICOM file: /content/drive/MyDrive/capstone/dataset/Echos/LVT/1312/PT000000/ST000000/SE000000/IM000004, The length of the pixel data in the dataset (83152 bytes) doesn't match the expected length (2359296 bytes). The dataset may be corrupted or there may be an issue with the pixel data handler.\n",
            "ERROR:root:Error reading DICOM file: /content/drive/MyDrive/capstone/dataset/Echos/LVT/1312/PT000000/ST000000/SE000000/IM000005, The length of the pixel data in the dataset (69602 bytes) doesn't match the expected length (2359296 bytes). The dataset may be corrupted or there may be an issue with the pixel data handler.\n",
            "ERROR:root:Error reading DICOM file: /content/drive/MyDrive/capstone/dataset/Echos/LVT/1312/PT000000/ST000000/SE000000/IM000006, The length of the pixel data in the dataset (73198 bytes) doesn't match the expected length (2359296 bytes). The dataset may be corrupted or there may be an issue with the pixel data handler.\n",
            "ERROR:root:Error reading DICOM file: /content/drive/MyDrive/capstone/dataset/Echos/LVT/1312/PT000000/ST000000/SE000000/IM000007, The length of the pixel data in the dataset (72814 bytes) doesn't match the expected length (2359296 bytes). The dataset may be corrupted or there may be an issue with the pixel data handler.\n",
            "ERROR:root:Error reading DICOM file: /content/drive/MyDrive/capstone/dataset/Echos/LVT/1312/PT000000/ST000000/SE000000/IM000008, The length of the pixel data in the dataset (72544 bytes) doesn't match the expected length (2359296 bytes). The dataset may be corrupted or there may be an issue with the pixel data handler.\n",
            "ERROR:root:Error reading DICOM file: /content/drive/MyDrive/capstone/dataset/Echos/LVT/1312/PT000000/ST000000/SE000000/IM000009, The length of the pixel data in the dataset (72842 bytes) doesn't match the expected length (2359296 bytes). The dataset may be corrupted or there may be an issue with the pixel data handler.\n",
            "ERROR:root:Error reading DICOM file: /content/drive/MyDrive/capstone/dataset/Echos/LVT/1312/PT000000/ST000000/SE000000/IM000010, The length of the pixel data in the dataset (78374 bytes) doesn't match the expected length (2359296 bytes). The dataset may be corrupted or there may be an issue with the pixel data handler.\n",
            "ERROR:root:Error reading DICOM file: /content/drive/MyDrive/capstone/dataset/Echos/LVT/1312/PT000000/ST000000/SE000000/IM000011, The length of the pixel data in the dataset (76034 bytes) doesn't match the expected length (2359296 bytes). The dataset may be corrupted or there may be an issue with the pixel data handler.\n",
            "ERROR:root:Error reading DICOM file: /content/drive/MyDrive/capstone/dataset/Echos/LVT/1312/PT000000/ST000000/SE000000/IM000012, The length of the pixel data in the dataset (72978 bytes) doesn't match the expected length (2359296 bytes). The dataset may be corrupted or there may be an issue with the pixel data handler.\n",
            "ERROR:root:Error reading DICOM file: /content/drive/MyDrive/capstone/dataset/Echos/LVT/1312/PT000000/ST000000/SE000000/IM000013, The length of the pixel data in the dataset (72982 bytes) doesn't match the expected length (2359296 bytes). The dataset may be corrupted or there may be an issue with the pixel data handler.\n",
            "ERROR:root:Error reading DICOM file: /content/drive/MyDrive/capstone/dataset/Echos/LVT/1312/PT000000/ST000000/SE000000/IM000016, The length of the pixel data in the dataset (73314 bytes) doesn't match the expected length (2359296 bytes). The dataset may be corrupted or there may be an issue with the pixel data handler.\n",
            "ERROR:root:Error reading DICOM file: /content/drive/MyDrive/capstone/dataset/Echos/LVT/1312/PT000000/ST000000/SE000000/IM000017, The length of the pixel data in the dataset (69140 bytes) doesn't match the expected length (2359296 bytes). The dataset may be corrupted or there may be an issue with the pixel data handler.\n",
            "ERROR:root:Error reading DICOM file: /content/drive/MyDrive/capstone/dataset/Echos/LVT/1312/PT000000/ST000000/SE000000/IM000019, The length of the pixel data in the dataset (60482 bytes) doesn't match the expected length (2359296 bytes). The dataset may be corrupted or there may be an issue with the pixel data handler.\n",
            "ERROR:root:Error reading DICOM file: /content/drive/MyDrive/capstone/dataset/Echos/LVT/1312/PT000000/ST000000/SE000000/IM000020, The length of the pixel data in the dataset (71116 bytes) doesn't match the expected length (2359296 bytes). The dataset may be corrupted or there may be an issue with the pixel data handler.\n",
            "ERROR:root:Error reading DICOM file: /content/drive/MyDrive/capstone/dataset/Echos/LVT/1312/PT000000/ST000000/SE000000/IM000022, The length of the pixel data in the dataset (87632 bytes) doesn't match the expected length (2359296 bytes). The dataset may be corrupted or there may be an issue with the pixel data handler.\n",
            "ERROR:root:Error reading DICOM file: /content/drive/MyDrive/capstone/dataset/Echos/LVT/1312/PT000000/ST000000/SE000000/IM000023, The length of the pixel data in the dataset (72176 bytes) doesn't match the expected length (2359296 bytes). The dataset may be corrupted or there may be an issue with the pixel data handler.\n",
            "ERROR:root:Error reading DICOM file: /content/drive/MyDrive/capstone/dataset/Echos/LVT/1312/PT000000/ST000000/SE000000/IM000025, The length of the pixel data in the dataset (77106 bytes) doesn't match the expected length (2359296 bytes). The dataset may be corrupted or there may be an issue with the pixel data handler.\n",
            "ERROR:root:Error reading DICOM file: /content/drive/MyDrive/capstone/dataset/Echos/LVT/1312/PT000000/ST000000/SE000000/IM000026, The length of the pixel data in the dataset (75216 bytes) doesn't match the expected length (2359296 bytes). The dataset may be corrupted or there may be an issue with the pixel data handler.\n",
            "ERROR:root:Error reading DICOM file: /content/drive/MyDrive/capstone/dataset/Echos/LVT/1312/PT000000/ST000000/SE000000/IM000028, The length of the pixel data in the dataset (66858 bytes) doesn't match the expected length (2359296 bytes). The dataset may be corrupted or there may be an issue with the pixel data handler.\n",
            "ERROR:root:Error reading DICOM file: /content/drive/MyDrive/capstone/dataset/Echos/LVT/1312/PT000000/ST000000/SE000000/IM000029, The length of the pixel data in the dataset (74092 bytes) doesn't match the expected length (2359296 bytes). The dataset may be corrupted or there may be an issue with the pixel data handler.\n",
            "ERROR:root:Error reading DICOM file: /content/drive/MyDrive/capstone/dataset/Echos/LVT/1312/PT000000/ST000000/SE000000/IM000030, The length of the pixel data in the dataset (76058 bytes) doesn't match the expected length (2359296 bytes). The dataset may be corrupted or there may be an issue with the pixel data handler.\n",
            "ERROR:root:Error reading DICOM file: /content/drive/MyDrive/capstone/dataset/Echos/LVT/1312/PT000000/ST000000/SE000000/IM000031, The length of the pixel data in the dataset (78748 bytes) doesn't match the expected length (2359296 bytes). The dataset may be corrupted or there may be an issue with the pixel data handler.\n",
            "ERROR:root:Error reading DICOM file: /content/drive/MyDrive/capstone/dataset/Echos/LVT/1312/PT000000/ST000000/SE000000/IM000032, The length of the pixel data in the dataset (76390 bytes) doesn't match the expected length (2359296 bytes). The dataset may be corrupted or there may be an issue with the pixel data handler.\n",
            "741it [1:47:40,  2.87s/it]"
          ]
        },
        {
          "output_type": "stream",
          "name": "stdout",
          "text": [
            "processing: /content/drive/MyDrive/capstone/dataset/Echos/LVT/1313/PT000000/ST000000/SE000001\n"
          ]
        },
        {
          "output_type": "stream",
          "name": "stderr",
          "text": [
            "746it [1:48:20,  4.09s/it]"
          ]
        },
        {
          "output_type": "stream",
          "name": "stdout",
          "text": [
            "processing: /content/drive/MyDrive/capstone/dataset/Echos/LVT/1314/PT000000/ST000000/SE000001\n"
          ]
        },
        {
          "output_type": "stream",
          "name": "stderr",
          "text": [
            "751it [1:49:05,  4.87s/it]"
          ]
        },
        {
          "output_type": "stream",
          "name": "stdout",
          "text": [
            "processing: /content/drive/MyDrive/capstone/dataset/Echos/LVT/1315/PT000000/ST000000/SE000001\n"
          ]
        },
        {
          "output_type": "stream",
          "name": "stderr",
          "text": [
            "756it [1:50:08,  6.71s/it]"
          ]
        },
        {
          "output_type": "stream",
          "name": "stdout",
          "text": [
            "processing: /content/drive/MyDrive/capstone/dataset/Echos/LVT/1316/PT000000/ST000000/SE000001\n"
          ]
        },
        {
          "output_type": "stream",
          "name": "stderr",
          "text": [
            "761it [1:51:02,  6.31s/it]"
          ]
        },
        {
          "output_type": "stream",
          "name": "stdout",
          "text": [
            "processing: /content/drive/MyDrive/capstone/dataset/Echos/LVT/1317/PT000000/ST000000/SE000001\n"
          ]
        },
        {
          "output_type": "stream",
          "name": "stderr",
          "text": [
            "766it [1:52:21,  8.39s/it]"
          ]
        },
        {
          "output_type": "stream",
          "name": "stdout",
          "text": [
            "processing: /content/drive/MyDrive/capstone/dataset/Echos/LVT/1318/PT000000/ST000000/SE000001\n"
          ]
        },
        {
          "output_type": "stream",
          "name": "stderr",
          "text": [
            "771it [1:53:10,  6.24s/it]"
          ]
        },
        {
          "output_type": "stream",
          "name": "stdout",
          "text": [
            "processing: /content/drive/MyDrive/capstone/dataset/Echos/LVT/1319/PT000000/ST000000/SE000001\n"
          ]
        },
        {
          "output_type": "stream",
          "name": "stderr",
          "text": [
            "776it [1:53:46,  4.69s/it]"
          ]
        },
        {
          "output_type": "stream",
          "name": "stdout",
          "text": [
            "processing: /content/drive/MyDrive/capstone/dataset/Echos/LVT/1320/PT000000/ST000000/SE000001\n"
          ]
        },
        {
          "output_type": "stream",
          "name": "stderr",
          "text": [
            "781it [1:54:07,  2.99s/it]"
          ]
        },
        {
          "output_type": "stream",
          "name": "stdout",
          "text": [
            "processing: /content/drive/MyDrive/capstone/dataset/Echos/LVT/1321/PT000000/ST000000/SE000001\n"
          ]
        },
        {
          "output_type": "stream",
          "name": "stderr",
          "text": [
            "ERROR:root:Error reading DICOM file: /content/drive/MyDrive/capstone/dataset/Echos/LVT/1321/PT000000/ST000000/SE000001/IM000001, The following handlers are available to decode the pixel data however they are missing required dependencies: GDCM (req. ), pylibjpeg (req. )\n",
            "ERROR:root:Error reading DICOM file: /content/drive/MyDrive/capstone/dataset/Echos/LVT/1321/PT000000/ST000000/SE000001/IM000002, The following handlers are available to decode the pixel data however they are missing required dependencies: GDCM (req. ), pylibjpeg (req. )\n",
            "ERROR:root:Error reading DICOM file: /content/drive/MyDrive/capstone/dataset/Echos/LVT/1321/PT000000/ST000000/SE000001/IM000005, The following handlers are available to decode the pixel data however they are missing required dependencies: GDCM (req. ), pylibjpeg (req. )\n",
            "ERROR:root:Error reading DICOM file: /content/drive/MyDrive/capstone/dataset/Echos/LVT/1321/PT000000/ST000000/SE000001/IM000006, The following handlers are available to decode the pixel data however they are missing required dependencies: GDCM (req. ), pylibjpeg (req. )\n",
            "ERROR:root:Error reading DICOM file: /content/drive/MyDrive/capstone/dataset/Echos/LVT/1321/PT000000/ST000000/SE000001/IM000008, The following handlers are available to decode the pixel data however they are missing required dependencies: GDCM (req. ), pylibjpeg (req. )\n",
            "ERROR:root:Error reading DICOM file: /content/drive/MyDrive/capstone/dataset/Echos/LVT/1321/PT000000/ST000000/SE000001/IM000025, The following handlers are available to decode the pixel data however they are missing required dependencies: GDCM (req. ), pylibjpeg (req. )\n",
            "ERROR:root:Error reading DICOM file: /content/drive/MyDrive/capstone/dataset/Echos/LVT/1321/PT000000/ST000000/SE000001/IM000030, The following handlers are available to decode the pixel data however they are missing required dependencies: GDCM (req. ), pylibjpeg (req. )\n",
            "ERROR:root:Error reading DICOM file: /content/drive/MyDrive/capstone/dataset/Echos/LVT/1321/PT000000/ST000000/SE000001/IM000039, The following handlers are available to decode the pixel data however they are missing required dependencies: GDCM (req. ), pylibjpeg (req. )\n",
            "ERROR:root:Error reading DICOM file: /content/drive/MyDrive/capstone/dataset/Echos/LVT/1321/PT000000/ST000000/SE000001/IM000040, The following handlers are available to decode the pixel data however they are missing required dependencies: GDCM (req. ), pylibjpeg (req. )\n",
            "ERROR:root:Error reading DICOM file: /content/drive/MyDrive/capstone/dataset/Echos/LVT/1321/PT000000/ST000000/SE000001/IM000041, The following handlers are available to decode the pixel data however they are missing required dependencies: GDCM (req. ), pylibjpeg (req. )\n",
            "ERROR:root:Error reading DICOM file: /content/drive/MyDrive/capstone/dataset/Echos/LVT/1321/PT000000/ST000000/SE000001/IM000042, The following handlers are available to decode the pixel data however they are missing required dependencies: GDCM (req. ), pylibjpeg (req. )\n",
            "ERROR:root:Error reading DICOM file: /content/drive/MyDrive/capstone/dataset/Echos/LVT/1321/PT000000/ST000000/SE000001/IM000047, The following handlers are available to decode the pixel data however they are missing required dependencies: GDCM (req. ), pylibjpeg (req. )\n",
            "ERROR:root:Error reading DICOM file: /content/drive/MyDrive/capstone/dataset/Echos/LVT/1321/PT000000/ST000000/SE000001/IM000048, The following handlers are available to decode the pixel data however they are missing required dependencies: GDCM (req. ), pylibjpeg (req. )\n",
            "ERROR:root:Error reading DICOM file: /content/drive/MyDrive/capstone/dataset/Echos/LVT/1321/PT000000/ST000000/SE000001/IM000053, The following handlers are available to decode the pixel data however they are missing required dependencies: GDCM (req. ), pylibjpeg (req. )\n",
            "ERROR:root:Error reading DICOM file: /content/drive/MyDrive/capstone/dataset/Echos/LVT/1321/PT000000/ST000000/SE000001/IM000054, The following handlers are available to decode the pixel data however they are missing required dependencies: GDCM (req. ), pylibjpeg (req. )\n",
            "ERROR:root:Error reading DICOM file: /content/drive/MyDrive/capstone/dataset/Echos/LVT/1321/PT000000/ST000000/SE000001/IM000055, The following handlers are available to decode the pixel data however they are missing required dependencies: GDCM (req. ), pylibjpeg (req. )\n",
            "ERROR:root:Error reading DICOM file: /content/drive/MyDrive/capstone/dataset/Echos/LVT/1321/PT000000/ST000000/SE000001/IM000058, The following handlers are available to decode the pixel data however they are missing required dependencies: GDCM (req. ), pylibjpeg (req. )\n",
            "ERROR:root:Error reading DICOM file: /content/drive/MyDrive/capstone/dataset/Echos/LVT/1321/PT000000/ST000000/SE000001/IM000060, The following handlers are available to decode the pixel data however they are missing required dependencies: GDCM (req. ), pylibjpeg (req. )\n",
            "ERROR:root:Error reading DICOM file: /content/drive/MyDrive/capstone/dataset/Echos/LVT/1321/PT000000/ST000000/SE000001/IM000067, The following handlers are available to decode the pixel data however they are missing required dependencies: GDCM (req. ), pylibjpeg (req. )\n",
            "ERROR:root:Error reading DICOM file: /content/drive/MyDrive/capstone/dataset/Echos/LVT/1321/PT000000/ST000000/SE000001/IM000069, The following handlers are available to decode the pixel data however they are missing required dependencies: GDCM (req. ), pylibjpeg (req. )\n",
            "ERROR:root:Error reading DICOM file: /content/drive/MyDrive/capstone/dataset/Echos/LVT/1321/PT000000/ST000000/SE000001/IM000071, The following handlers are available to decode the pixel data however they are missing required dependencies: GDCM (req. ), pylibjpeg (req. )\n",
            "ERROR:root:Error reading DICOM file: /content/drive/MyDrive/capstone/dataset/Echos/LVT/1321/PT000000/ST000000/SE000001/IM000072, The following handlers are available to decode the pixel data however they are missing required dependencies: GDCM (req. ), pylibjpeg (req. )\n",
            "ERROR:root:Error reading DICOM file: /content/drive/MyDrive/capstone/dataset/Echos/LVT/1321/PT000000/ST000000/SE000001/IM000074, The following handlers are available to decode the pixel data however they are missing required dependencies: GDCM (req. ), pylibjpeg (req. )\n",
            "ERROR:root:Error reading DICOM file: /content/drive/MyDrive/capstone/dataset/Echos/LVT/1321/PT000000/ST000000/SE000001/IM000075, The following handlers are available to decode the pixel data however they are missing required dependencies: GDCM (req. ), pylibjpeg (req. )\n",
            "ERROR:root:Error reading DICOM file: /content/drive/MyDrive/capstone/dataset/Echos/LVT/1321/PT000000/ST000000/SE000001/IM000077, The following handlers are available to decode the pixel data however they are missing required dependencies: GDCM (req. ), pylibjpeg (req. )\n",
            "ERROR:root:Error reading DICOM file: /content/drive/MyDrive/capstone/dataset/Echos/LVT/1321/PT000000/ST000000/SE000001/IM000078, The following handlers are available to decode the pixel data however they are missing required dependencies: GDCM (req. ), pylibjpeg (req. )\n",
            "ERROR:root:Error reading DICOM file: /content/drive/MyDrive/capstone/dataset/Echos/LVT/1321/PT000000/ST000000/SE000001/IM000082, The following handlers are available to decode the pixel data however they are missing required dependencies: GDCM (req. ), pylibjpeg (req. )\n",
            "ERROR:root:Error reading DICOM file: /content/drive/MyDrive/capstone/dataset/Echos/LVT/1321/PT000000/ST000000/SE000001/IM000083, The following handlers are available to decode the pixel data however they are missing required dependencies: GDCM (req. ), pylibjpeg (req. )\n",
            "ERROR:root:Error reading DICOM file: /content/drive/MyDrive/capstone/dataset/Echos/LVT/1321/PT000000/ST000000/SE000001/IM000087, The following handlers are available to decode the pixel data however they are missing required dependencies: GDCM (req. ), pylibjpeg (req. )\n",
            "ERROR:root:Error reading DICOM file: /content/drive/MyDrive/capstone/dataset/Echos/LVT/1321/PT000000/ST000000/SE000001/IM000088, The following handlers are available to decode the pixel data however they are missing required dependencies: GDCM (req. ), pylibjpeg (req. )\n",
            "ERROR:root:Error reading DICOM file: /content/drive/MyDrive/capstone/dataset/Echos/LVT/1321/PT000000/ST000000/SE000001/IM000089, The following handlers are available to decode the pixel data however they are missing required dependencies: GDCM (req. ), pylibjpeg (req. )\n",
            "ERROR:root:Error reading DICOM file: /content/drive/MyDrive/capstone/dataset/Echos/LVT/1321/PT000000/ST000000/SE000001/IM000091, The following handlers are available to decode the pixel data however they are missing required dependencies: GDCM (req. ), pylibjpeg (req. )\n",
            "ERROR:root:Error reading DICOM file: /content/drive/MyDrive/capstone/dataset/Echos/LVT/1321/PT000000/ST000000/SE000001/IM000095, The following handlers are available to decode the pixel data however they are missing required dependencies: GDCM (req. ), pylibjpeg (req. )\n",
            "ERROR:root:Error reading DICOM file: /content/drive/MyDrive/capstone/dataset/Echos/LVT/1321/PT000000/ST000000/SE000001/IM000097, The following handlers are available to decode the pixel data however they are missing required dependencies: GDCM (req. ), pylibjpeg (req. )\n",
            "ERROR:root:Error reading DICOM file: /content/drive/MyDrive/capstone/dataset/Echos/LVT/1321/PT000000/ST000000/SE000001/IM000098, The following handlers are available to decode the pixel data however they are missing required dependencies: GDCM (req. ), pylibjpeg (req. )\n",
            "ERROR:root:Error reading DICOM file: /content/drive/MyDrive/capstone/dataset/Echos/LVT/1321/PT000000/ST000000/SE000001/IM000104, The following handlers are available to decode the pixel data however they are missing required dependencies: GDCM (req. ), pylibjpeg (req. )\n",
            "ERROR:root:Error reading DICOM file: /content/drive/MyDrive/capstone/dataset/Echos/LVT/1321/PT000000/ST000000/SE000001/IM000108, The following handlers are available to decode the pixel data however they are missing required dependencies: GDCM (req. ), pylibjpeg (req. )\n",
            "ERROR:root:Error reading DICOM file: /content/drive/MyDrive/capstone/dataset/Echos/LVT/1321/PT000000/ST000000/SE000001/IM000120, The following handlers are available to decode the pixel data however they are missing required dependencies: GDCM (req. ), pylibjpeg (req. )\n",
            "786it [1:55:38,  8.55s/it]"
          ]
        },
        {
          "output_type": "stream",
          "name": "stdout",
          "text": [
            "processing: /content/drive/MyDrive/capstone/dataset/Echos/LVT/1322/PT000000/ST000000/SE000001\n"
          ]
        },
        {
          "output_type": "stream",
          "name": "stderr",
          "text": [
            "790it [1:56:28,  9.25s/it]"
          ]
        },
        {
          "output_type": "stream",
          "name": "stdout",
          "text": [
            "processing: /content/drive/MyDrive/capstone/dataset/Echos/LVT/1323/PT000000/ST000000/SE000000\n"
          ]
        },
        {
          "output_type": "stream",
          "name": "stderr",
          "text": [
            "797it [1:57:13,  5.69s/it]"
          ]
        },
        {
          "output_type": "stream",
          "name": "stdout",
          "text": [
            "processing: /content/drive/MyDrive/capstone/dataset/Echos/LVT/1324/PT000000/ST000000/SE000001\n"
          ]
        },
        {
          "output_type": "stream",
          "name": "stderr",
          "text": [
            "802it [1:57:56,  5.61s/it]"
          ]
        },
        {
          "output_type": "stream",
          "name": "stdout",
          "text": [
            "processing: /content/drive/MyDrive/capstone/dataset/Echos/LVT/1325/PT000000/ST000000/SE000001\n"
          ]
        },
        {
          "output_type": "stream",
          "name": "stderr",
          "text": [
            "806it [1:58:23,  5.01s/it]"
          ]
        },
        {
          "output_type": "stream",
          "name": "stdout",
          "text": [
            "processing: /content/drive/MyDrive/capstone/dataset/Echos/LVT/1326/PT000000/ST000000/SE000000\n"
          ]
        },
        {
          "output_type": "stream",
          "name": "stderr",
          "text": [
            "ERROR:root:Error reading DICOM file: /content/drive/MyDrive/capstone/dataset/Echos/LVT/1326/PT000000/ST000000/SE000000/IM000005, The length of the pixel data in the dataset (75502 bytes) doesn't match the expected length (2359296 bytes). The dataset may be corrupted or there may be an issue with the pixel data handler.\n",
            "ERROR:root:Error reading DICOM file: /content/drive/MyDrive/capstone/dataset/Echos/LVT/1326/PT000000/ST000000/SE000000/IM000007, The length of the pixel data in the dataset (70604 bytes) doesn't match the expected length (2359296 bytes). The dataset may be corrupted or there may be an issue with the pixel data handler.\n",
            "ERROR:root:Error reading DICOM file: /content/drive/MyDrive/capstone/dataset/Echos/LVT/1326/PT000000/ST000000/SE000000/IM000013, The length of the pixel data in the dataset (122634 bytes) doesn't match the expected length (2359296 bytes). The dataset may be corrupted or there may be an issue with the pixel data handler.\n",
            "ERROR:root:Error reading DICOM file: /content/drive/MyDrive/capstone/dataset/Echos/LVT/1326/PT000000/ST000000/SE000000/IM000022, The length of the pixel data in the dataset (96222 bytes) doesn't match the expected length (2359296 bytes). The dataset may be corrupted or there may be an issue with the pixel data handler.\n",
            "ERROR:root:Error reading DICOM file: /content/drive/MyDrive/capstone/dataset/Echos/LVT/1326/PT000000/ST000000/SE000000/IM000025, The length of the pixel data in the dataset (92040 bytes) doesn't match the expected length (2359296 bytes). The dataset may be corrupted or there may be an issue with the pixel data handler.\n",
            "ERROR:root:Error reading DICOM file: /content/drive/MyDrive/capstone/dataset/Echos/LVT/1326/PT000000/ST000000/SE000000/IM000026, The length of the pixel data in the dataset (78644 bytes) doesn't match the expected length (2359296 bytes). The dataset may be corrupted or there may be an issue with the pixel data handler.\n",
            "ERROR:root:Error reading DICOM file: /content/drive/MyDrive/capstone/dataset/Echos/LVT/1326/PT000000/ST000000/SE000000/IM000028, The length of the pixel data in the dataset (93338 bytes) doesn't match the expected length (2359296 bytes). The dataset may be corrupted or there may be an issue with the pixel data handler.\n",
            "ERROR:root:Error reading DICOM file: /content/drive/MyDrive/capstone/dataset/Echos/LVT/1326/PT000000/ST000000/SE000000/IM000031, The length of the pixel data in the dataset (101236 bytes) doesn't match the expected length (2359296 bytes). The dataset may be corrupted or there may be an issue with the pixel data handler.\n",
            "ERROR:root:Error reading DICOM file: /content/drive/MyDrive/capstone/dataset/Echos/LVT/1326/PT000000/ST000000/SE000000/IM000032, The length of the pixel data in the dataset (80188 bytes) doesn't match the expected length (2359296 bytes). The dataset may be corrupted or there may be an issue with the pixel data handler.\n",
            "ERROR:root:Error reading DICOM file: /content/drive/MyDrive/capstone/dataset/Echos/LVT/1326/PT000000/ST000000/SE000000/IM000033, The length of the pixel data in the dataset (98198 bytes) doesn't match the expected length (2359296 bytes). The dataset may be corrupted or there may be an issue with the pixel data handler.\n",
            "ERROR:root:Error reading DICOM file: /content/drive/MyDrive/capstone/dataset/Echos/LVT/1326/PT000000/ST000000/SE000000/IM000042, The length of the pixel data in the dataset (107818 bytes) doesn't match the expected length (2359296 bytes). The dataset may be corrupted or there may be an issue with the pixel data handler.\n",
            "ERROR:root:Error reading DICOM file: /content/drive/MyDrive/capstone/dataset/Echos/LVT/1326/PT000000/ST000000/SE000000/IM000047, The length of the pixel data in the dataset (117294 bytes) doesn't match the expected length (2359296 bytes). The dataset may be corrupted or there may be an issue with the pixel data handler.\n",
            "ERROR:root:Error reading DICOM file: /content/drive/MyDrive/capstone/dataset/Echos/LVT/1326/PT000000/ST000000/SE000000/IM000051, The length of the pixel data in the dataset (112488 bytes) doesn't match the expected length (2359296 bytes). The dataset may be corrupted or there may be an issue with the pixel data handler.\n",
            "ERROR:root:Error reading DICOM file: /content/drive/MyDrive/capstone/dataset/Echos/LVT/1326/PT000000/ST000000/SE000000/IM000067, The length of the pixel data in the dataset (96202 bytes) doesn't match the expected length (2359296 bytes). The dataset may be corrupted or there may be an issue with the pixel data handler.\n",
            "ERROR:root:Error reading DICOM file: /content/drive/MyDrive/capstone/dataset/Echos/LVT/1326/PT000000/ST000000/SE000000/IM000073, The length of the pixel data in the dataset (76124 bytes) doesn't match the expected length (2359296 bytes). The dataset may be corrupted or there may be an issue with the pixel data handler.\n",
            "ERROR:root:Error reading DICOM file: /content/drive/MyDrive/capstone/dataset/Echos/LVT/1326/PT000000/ST000000/SE000000/IM000074, The length of the pixel data in the dataset (90712 bytes) doesn't match the expected length (2359296 bytes). The dataset may be corrupted or there may be an issue with the pixel data handler.\n",
            "ERROR:root:Error reading DICOM file: /content/drive/MyDrive/capstone/dataset/Echos/LVT/1326/PT000000/ST000000/SE000000/IM000075, The length of the pixel data in the dataset (80434 bytes) doesn't match the expected length (2359296 bytes). The dataset may be corrupted or there may be an issue with the pixel data handler.\n",
            "ERROR:root:Error reading DICOM file: /content/drive/MyDrive/capstone/dataset/Echos/LVT/1326/PT000000/ST000000/SE000000/IM000076, The length of the pixel data in the dataset (65664 bytes) doesn't match the expected length (2359296 bytes). The dataset may be corrupted or there may be an issue with the pixel data handler.\n",
            "ERROR:root:Error reading DICOM file: /content/drive/MyDrive/capstone/dataset/Echos/LVT/1326/PT000000/ST000000/SE000000/IM000077, The length of the pixel data in the dataset (64658 bytes) doesn't match the expected length (2359296 bytes). The dataset may be corrupted or there may be an issue with the pixel data handler.\n",
            "ERROR:root:Error reading DICOM file: /content/drive/MyDrive/capstone/dataset/Echos/LVT/1326/PT000000/ST000000/SE000000/IM000078, The length of the pixel data in the dataset (71972 bytes) doesn't match the expected length (2359296 bytes). The dataset may be corrupted or there may be an issue with the pixel data handler.\n",
            "ERROR:root:Error reading DICOM file: /content/drive/MyDrive/capstone/dataset/Echos/LVT/1326/PT000000/ST000000/SE000000/IM000079, The length of the pixel data in the dataset (66854 bytes) doesn't match the expected length (2359296 bytes). The dataset may be corrupted or there may be an issue with the pixel data handler.\n",
            "ERROR:root:Error reading DICOM file: /content/drive/MyDrive/capstone/dataset/Echos/LVT/1326/PT000000/ST000000/SE000000/IM000080, The length of the pixel data in the dataset (88320 bytes) doesn't match the expected length (2359296 bytes). The dataset may be corrupted or there may be an issue with the pixel data handler.\n",
            "ERROR:root:Error reading DICOM file: /content/drive/MyDrive/capstone/dataset/Echos/LVT/1326/PT000000/ST000000/SE000000/IM000111, The length of the pixel data in the dataset (98590 bytes) doesn't match the expected length (2359296 bytes). The dataset may be corrupted or there may be an issue with the pixel data handler.\n",
            "ERROR:root:Error reading DICOM file: /content/drive/MyDrive/capstone/dataset/Echos/LVT/1326/PT000000/ST000000/SE000000/IM000112, The length of the pixel data in the dataset (92310 bytes) doesn't match the expected length (2359296 bytes). The dataset may be corrupted or there may be an issue with the pixel data handler.\n",
            "ERROR:root:Error reading DICOM file: /content/drive/MyDrive/capstone/dataset/Echos/LVT/1326/PT000000/ST000000/SE000000/IM000113, The length of the pixel data in the dataset (99196 bytes) doesn't match the expected length (2359296 bytes). The dataset may be corrupted or there may be an issue with the pixel data handler.\n",
            "ERROR:root:Error reading DICOM file: /content/drive/MyDrive/capstone/dataset/Echos/LVT/1326/PT000000/ST000000/SE000000/IM000131, The length of the pixel data in the dataset (91676 bytes) doesn't match the expected length (2359296 bytes). The dataset may be corrupted or there may be an issue with the pixel data handler.\n",
            "ERROR:root:Error reading DICOM file: /content/drive/MyDrive/capstone/dataset/Echos/LVT/1326/PT000000/ST000000/SE000000/IM000132, The length of the pixel data in the dataset (98424 bytes) doesn't match the expected length (2359296 bytes). The dataset may be corrupted or there may be an issue with the pixel data handler.\n",
            "ERROR:root:Error reading DICOM file: /content/drive/MyDrive/capstone/dataset/Echos/LVT/1326/PT000000/ST000000/SE000000/IM000137, The length of the pixel data in the dataset (62434 bytes) doesn't match the expected length (2359296 bytes). The dataset may be corrupted or there may be an issue with the pixel data handler.\n",
            "ERROR:root:Error reading DICOM file: /content/drive/MyDrive/capstone/dataset/Echos/LVT/1326/PT000000/ST000000/SE000000/IM000150, The length of the pixel data in the dataset (78598 bytes) doesn't match the expected length (2359296 bytes). The dataset may be corrupted or there may be an issue with the pixel data handler.\n",
            "ERROR:root:Error reading DICOM file: /content/drive/MyDrive/capstone/dataset/Echos/LVT/1326/PT000000/ST000000/SE000000/IM000151, The length of the pixel data in the dataset (70020 bytes) doesn't match the expected length (2359296 bytes). The dataset may be corrupted or there may be an issue with the pixel data handler.\n",
            "ERROR:root:Error reading DICOM file: /content/drive/MyDrive/capstone/dataset/Echos/LVT/1326/PT000000/ST000000/SE000000/IM000153, The length of the pixel data in the dataset (67038 bytes) doesn't match the expected length (2359296 bytes). The dataset may be corrupted or there may be an issue with the pixel data handler.\n",
            "ERROR:root:Error reading DICOM file: /content/drive/MyDrive/capstone/dataset/Echos/LVT/1326/PT000000/ST000000/SE000000/IM000156, The length of the pixel data in the dataset (70412 bytes) doesn't match the expected length (2359296 bytes). The dataset may be corrupted or there may be an issue with the pixel data handler.\n",
            "ERROR:root:Error reading DICOM file: /content/drive/MyDrive/capstone/dataset/Echos/LVT/1326/PT000000/ST000000/SE000000/IM000157, The length of the pixel data in the dataset (62164 bytes) doesn't match the expected length (2359296 bytes). The dataset may be corrupted or there may be an issue with the pixel data handler.\n",
            "ERROR:root:Error reading DICOM file: /content/drive/MyDrive/capstone/dataset/Echos/LVT/1326/PT000000/ST000000/SE000000/IM000158, The length of the pixel data in the dataset (77866 bytes) doesn't match the expected length (2359296 bytes). The dataset may be corrupted or there may be an issue with the pixel data handler.\n",
            "ERROR:root:Error reading DICOM file: /content/drive/MyDrive/capstone/dataset/Echos/LVT/1326/PT000000/ST000000/SE000000/IM000160, The length of the pixel data in the dataset (67032 bytes) doesn't match the expected length (2359296 bytes). The dataset may be corrupted or there may be an issue with the pixel data handler.\n",
            "810it [1:59:33,  9.90s/it]"
          ]
        },
        {
          "output_type": "stream",
          "name": "stdout",
          "text": [
            "processing: /content/drive/MyDrive/capstone/dataset/Echos/LVT/1327/PT000000/ST000000/SE000000\n"
          ]
        },
        {
          "output_type": "stream",
          "name": "stderr",
          "text": [
            "ERROR:root:Error reading DICOM file: /content/drive/MyDrive/capstone/dataset/Echos/LVT/1327/PT000000/ST000000/SE000000/IM000008, The length of the pixel data in the dataset (73118 bytes) doesn't match the expected length (2359296 bytes). The dataset may be corrupted or there may be an issue with the pixel data handler.\n",
            "ERROR:root:Error reading DICOM file: /content/drive/MyDrive/capstone/dataset/Echos/LVT/1327/PT000000/ST000000/SE000000/IM000009, The length of the pixel data in the dataset (84300 bytes) doesn't match the expected length (2359296 bytes). The dataset may be corrupted or there may be an issue with the pixel data handler.\n",
            "ERROR:root:Error reading DICOM file: /content/drive/MyDrive/capstone/dataset/Echos/LVT/1327/PT000000/ST000000/SE000000/IM000013, The length of the pixel data in the dataset (74348 bytes) doesn't match the expected length (2359296 bytes). The dataset may be corrupted or there may be an issue with the pixel data handler.\n",
            "ERROR:root:Error reading DICOM file: /content/drive/MyDrive/capstone/dataset/Echos/LVT/1327/PT000000/ST000000/SE000000/IM000016, The length of the pixel data in the dataset (70712 bytes) doesn't match the expected length (2359296 bytes). The dataset may be corrupted or there may be an issue with the pixel data handler.\n",
            "ERROR:root:Error reading DICOM file: /content/drive/MyDrive/capstone/dataset/Echos/LVT/1327/PT000000/ST000000/SE000000/IM000020, The length of the pixel data in the dataset (127516 bytes) doesn't match the expected length (2359296 bytes). The dataset may be corrupted or there may be an issue with the pixel data handler.\n",
            "ERROR:root:Error reading DICOM file: /content/drive/MyDrive/capstone/dataset/Echos/LVT/1327/PT000000/ST000000/SE000000/IM000027, The length of the pixel data in the dataset (76380 bytes) doesn't match the expected length (2359296 bytes). The dataset may be corrupted or there may be an issue with the pixel data handler.\n",
            "ERROR:root:Error reading DICOM file: /content/drive/MyDrive/capstone/dataset/Echos/LVT/1327/PT000000/ST000000/SE000000/IM000032, The length of the pixel data in the dataset (94152 bytes) doesn't match the expected length (2359296 bytes). The dataset may be corrupted or there may be an issue with the pixel data handler.\n",
            "ERROR:root:Error reading DICOM file: /content/drive/MyDrive/capstone/dataset/Echos/LVT/1327/PT000000/ST000000/SE000000/IM000033, The length of the pixel data in the dataset (65430 bytes) doesn't match the expected length (2359296 bytes). The dataset may be corrupted or there may be an issue with the pixel data handler.\n",
            "ERROR:root:Error reading DICOM file: /content/drive/MyDrive/capstone/dataset/Echos/LVT/1327/PT000000/ST000000/SE000000/IM000043, The length of the pixel data in the dataset (106446 bytes) doesn't match the expected length (2359296 bytes). The dataset may be corrupted or there may be an issue with the pixel data handler.\n",
            "ERROR:root:Error reading DICOM file: /content/drive/MyDrive/capstone/dataset/Echos/LVT/1327/PT000000/ST000000/SE000000/IM000048, The length of the pixel data in the dataset (125416 bytes) doesn't match the expected length (2359296 bytes). The dataset may be corrupted or there may be an issue with the pixel data handler.\n",
            "ERROR:root:Error reading DICOM file: /content/drive/MyDrive/capstone/dataset/Echos/LVT/1327/PT000000/ST000000/SE000000/IM000051, The length of the pixel data in the dataset (119106 bytes) doesn't match the expected length (2359296 bytes). The dataset may be corrupted or there may be an issue with the pixel data handler.\n",
            "ERROR:root:Error reading DICOM file: /content/drive/MyDrive/capstone/dataset/Echos/LVT/1327/PT000000/ST000000/SE000000/IM000052, The length of the pixel data in the dataset (121334 bytes) doesn't match the expected length (2359296 bytes). The dataset may be corrupted or there may be an issue with the pixel data handler.\n",
            "810it [1:59:51,  9.90s/it]ERROR:root:Error reading DICOM file: /content/drive/MyDrive/capstone/dataset/Echos/LVT/1327/PT000000/ST000000/SE000000/IM000074, The length of the pixel data in the dataset (92982 bytes) doesn't match the expected length (2359296 bytes). The dataset may be corrupted or there may be an issue with the pixel data handler.\n",
            "ERROR:root:Error reading DICOM file: /content/drive/MyDrive/capstone/dataset/Echos/LVT/1327/PT000000/ST000000/SE000000/IM000075, The length of the pixel data in the dataset (79934 bytes) doesn't match the expected length (2359296 bytes). The dataset may be corrupted or there may be an issue with the pixel data handler.\n",
            "ERROR:root:Error reading DICOM file: /content/drive/MyDrive/capstone/dataset/Echos/LVT/1327/PT000000/ST000000/SE000000/IM000076, The length of the pixel data in the dataset (83482 bytes) doesn't match the expected length (2359296 bytes). The dataset may be corrupted or there may be an issue with the pixel data handler.\n",
            "ERROR:root:Error reading DICOM file: /content/drive/MyDrive/capstone/dataset/Echos/LVT/1327/PT000000/ST000000/SE000000/IM000077, The length of the pixel data in the dataset (81518 bytes) doesn't match the expected length (2359296 bytes). The dataset may be corrupted or there may be an issue with the pixel data handler.\n",
            "ERROR:root:Error reading DICOM file: /content/drive/MyDrive/capstone/dataset/Echos/LVT/1327/PT000000/ST000000/SE000000/IM000078, The length of the pixel data in the dataset (69026 bytes) doesn't match the expected length (2359296 bytes). The dataset may be corrupted or there may be an issue with the pixel data handler.\n",
            "ERROR:root:Error reading DICOM file: /content/drive/MyDrive/capstone/dataset/Echos/LVT/1327/PT000000/ST000000/SE000000/IM000079, The length of the pixel data in the dataset (66692 bytes) doesn't match the expected length (2359296 bytes). The dataset may be corrupted or there may be an issue with the pixel data handler.\n",
            "ERROR:root:Error reading DICOM file: /content/drive/MyDrive/capstone/dataset/Echos/LVT/1327/PT000000/ST000000/SE000000/IM000080, The length of the pixel data in the dataset (66578 bytes) doesn't match the expected length (2359296 bytes). The dataset may be corrupted or there may be an issue with the pixel data handler.\n",
            "ERROR:root:Error reading DICOM file: /content/drive/MyDrive/capstone/dataset/Echos/LVT/1327/PT000000/ST000000/SE000000/IM000083, The length of the pixel data in the dataset (83638 bytes) doesn't match the expected length (2359296 bytes). The dataset may be corrupted or there may be an issue with the pixel data handler.\n",
            "ERROR:root:Error reading DICOM file: /content/drive/MyDrive/capstone/dataset/Echos/LVT/1327/PT000000/ST000000/SE000000/IM000095, The length of the pixel data in the dataset (95164 bytes) doesn't match the expected length (2359296 bytes). The dataset may be corrupted or there may be an issue with the pixel data handler.\n",
            "ERROR:root:Error reading DICOM file: /content/drive/MyDrive/capstone/dataset/Echos/LVT/1327/PT000000/ST000000/SE000000/IM000096, The length of the pixel data in the dataset (97502 bytes) doesn't match the expected length (2359296 bytes). The dataset may be corrupted or there may be an issue with the pixel data handler.\n",
            "ERROR:root:Error reading DICOM file: /content/drive/MyDrive/capstone/dataset/Echos/LVT/1327/PT000000/ST000000/SE000000/IM000097, The length of the pixel data in the dataset (94144 bytes) doesn't match the expected length (2359296 bytes). The dataset may be corrupted or there may be an issue with the pixel data handler.\n",
            "ERROR:root:Error reading DICOM file: /content/drive/MyDrive/capstone/dataset/Echos/LVT/1327/PT000000/ST000000/SE000000/IM000120, The length of the pixel data in the dataset (99910 bytes) doesn't match the expected length (2359296 bytes). The dataset may be corrupted or there may be an issue with the pixel data handler.\n",
            "ERROR:root:Error reading DICOM file: /content/drive/MyDrive/capstone/dataset/Echos/LVT/1327/PT000000/ST000000/SE000000/IM000121, The length of the pixel data in the dataset (102264 bytes) doesn't match the expected length (2359296 bytes). The dataset may be corrupted or there may be an issue with the pixel data handler.\n",
            "ERROR:root:Error reading DICOM file: /content/drive/MyDrive/capstone/dataset/Echos/LVT/1327/PT000000/ST000000/SE000000/IM000122, The length of the pixel data in the dataset (113074 bytes) doesn't match the expected length (2359296 bytes). The dataset may be corrupted or there may be an issue with the pixel data handler.\n",
            "ERROR:root:Error reading DICOM file: /content/drive/MyDrive/capstone/dataset/Echos/LVT/1327/PT000000/ST000000/SE000000/IM000123, The length of the pixel data in the dataset (95988 bytes) doesn't match the expected length (2359296 bytes). The dataset may be corrupted or there may be an issue with the pixel data handler.\n",
            "ERROR:root:Error reading DICOM file: /content/drive/MyDrive/capstone/dataset/Echos/LVT/1327/PT000000/ST000000/SE000000/IM000138, The length of the pixel data in the dataset (69766 bytes) doesn't match the expected length (2359296 bytes). The dataset may be corrupted or there may be an issue with the pixel data handler.\n",
            "ERROR:root:Error reading DICOM file: /content/drive/MyDrive/capstone/dataset/Echos/LVT/1327/PT000000/ST000000/SE000000/IM000139, The length of the pixel data in the dataset (74330 bytes) doesn't match the expected length (2359296 bytes). The dataset may be corrupted or there may be an issue with the pixel data handler.\n",
            "ERROR:root:Error reading DICOM file: /content/drive/MyDrive/capstone/dataset/Echos/LVT/1327/PT000000/ST000000/SE000000/IM000141, The length of the pixel data in the dataset (64788 bytes) doesn't match the expected length (2359296 bytes). The dataset may be corrupted or there may be an issue with the pixel data handler.\n",
            "ERROR:root:Error reading DICOM file: /content/drive/MyDrive/capstone/dataset/Echos/LVT/1327/PT000000/ST000000/SE000000/IM000144, The length of the pixel data in the dataset (93846 bytes) doesn't match the expected length (2359296 bytes). The dataset may be corrupted or there may be an issue with the pixel data handler.\n",
            "ERROR:root:Error reading DICOM file: /content/drive/MyDrive/capstone/dataset/Echos/LVT/1327/PT000000/ST000000/SE000000/IM000145, The length of the pixel data in the dataset (72006 bytes) doesn't match the expected length (2359296 bytes). The dataset may be corrupted or there may be an issue with the pixel data handler.\n",
            "ERROR:root:Error reading DICOM file: /content/drive/MyDrive/capstone/dataset/Echos/LVT/1327/PT000000/ST000000/SE000000/IM000146, The length of the pixel data in the dataset (73068 bytes) doesn't match the expected length (2359296 bytes). The dataset may be corrupted or there may be an issue with the pixel data handler.\n",
            "817it [2:00:23,  6.34s/it]"
          ]
        },
        {
          "output_type": "stream",
          "name": "stdout",
          "text": [
            "processing: /content/drive/MyDrive/capstone/dataset/Echos/LVT/1328/PT000000/ST000000/SE000001\n"
          ]
        },
        {
          "output_type": "stream",
          "name": "stderr",
          "text": [
            "820it [2:01:27, 10.84s/it]"
          ]
        },
        {
          "output_type": "stream",
          "name": "stdout",
          "text": [
            "processing: /content/drive/MyDrive/capstone/dataset/Echos/LVT/1329/PT000000/ST000000/SE000000\n"
          ]
        },
        {
          "output_type": "stream",
          "name": "stderr",
          "text": [
            "ERROR:root:Error reading DICOM file: /content/drive/MyDrive/capstone/dataset/Echos/LVT/1329/PT000000/ST000000/SE000000/IM000009, The following handlers are available to decode the pixel data however they are missing required dependencies: GDCM (req. ), pylibjpeg (req. )\n",
            "820it [2:01:41, 10.84s/it]ERROR:root:Error reading DICOM file: /content/drive/MyDrive/capstone/dataset/Echos/LVT/1329/PT000000/ST000000/SE000000/IM000013, The following handlers are available to decode the pixel data however they are missing required dependencies: GDCM (req. ), pylibjpeg (req. )\n",
            "ERROR:root:Error reading DICOM file: /content/drive/MyDrive/capstone/dataset/Echos/LVT/1329/PT000000/ST000000/SE000000/IM000025, The following handlers are available to decode the pixel data however they are missing required dependencies: GDCM (req. ), pylibjpeg (req. )\n",
            "ERROR:root:Error reading DICOM file: /content/drive/MyDrive/capstone/dataset/Echos/LVT/1329/PT000000/ST000000/SE000000/IM000029, The following handlers are available to decode the pixel data however they are missing required dependencies: GDCM (req. ), pylibjpeg (req. )\n",
            "ERROR:root:Error reading DICOM file: /content/drive/MyDrive/capstone/dataset/Echos/LVT/1329/PT000000/ST000000/SE000000/IM000030, The following handlers are available to decode the pixel data however they are missing required dependencies: GDCM (req. ), pylibjpeg (req. )\n",
            "ERROR:root:Error reading DICOM file: /content/drive/MyDrive/capstone/dataset/Echos/LVT/1329/PT000000/ST000000/SE000000/IM000034, The following handlers are available to decode the pixel data however they are missing required dependencies: GDCM (req. ), pylibjpeg (req. )\n",
            "ERROR:root:Error reading DICOM file: /content/drive/MyDrive/capstone/dataset/Echos/LVT/1329/PT000000/ST000000/SE000000/IM000035, The following handlers are available to decode the pixel data however they are missing required dependencies: GDCM (req. ), pylibjpeg (req. )\n",
            "ERROR:root:Error reading DICOM file: /content/drive/MyDrive/capstone/dataset/Echos/LVT/1329/PT000000/ST000000/SE000000/IM000039, The following handlers are available to decode the pixel data however they are missing required dependencies: GDCM (req. ), pylibjpeg (req. )\n",
            "ERROR:root:Error reading DICOM file: /content/drive/MyDrive/capstone/dataset/Echos/LVT/1329/PT000000/ST000000/SE000000/IM000040, The following handlers are available to decode the pixel data however they are missing required dependencies: GDCM (req. ), pylibjpeg (req. )\n",
            "ERROR:root:Error reading DICOM file: /content/drive/MyDrive/capstone/dataset/Echos/LVT/1329/PT000000/ST000000/SE000000/IM000044, The following handlers are available to decode the pixel data however they are missing required dependencies: GDCM (req. ), pylibjpeg (req. )\n",
            "ERROR:root:Error reading DICOM file: /content/drive/MyDrive/capstone/dataset/Echos/LVT/1329/PT000000/ST000000/SE000000/IM000045, The following handlers are available to decode the pixel data however they are missing required dependencies: GDCM (req. ), pylibjpeg (req. )\n",
            "ERROR:root:Error reading DICOM file: /content/drive/MyDrive/capstone/dataset/Echos/LVT/1329/PT000000/ST000000/SE000000/IM000048, The following handlers are available to decode the pixel data however they are missing required dependencies: GDCM (req. ), pylibjpeg (req. )\n",
            "ERROR:root:Error reading DICOM file: /content/drive/MyDrive/capstone/dataset/Echos/LVT/1329/PT000000/ST000000/SE000000/IM000049, The following handlers are available to decode the pixel data however they are missing required dependencies: GDCM (req. ), pylibjpeg (req. )\n",
            "ERROR:root:Error reading DICOM file: /content/drive/MyDrive/capstone/dataset/Echos/LVT/1329/PT000000/ST000000/SE000000/IM000054, The following handlers are available to decode the pixel data however they are missing required dependencies: GDCM (req. ), pylibjpeg (req. )\n",
            "ERROR:root:Error reading DICOM file: /content/drive/MyDrive/capstone/dataset/Echos/LVT/1329/PT000000/ST000000/SE000000/IM000055, The following handlers are available to decode the pixel data however they are missing required dependencies: GDCM (req. ), pylibjpeg (req. )\n",
            "ERROR:root:Error reading DICOM file: /content/drive/MyDrive/capstone/dataset/Echos/LVT/1329/PT000000/ST000000/SE000000/IM000057, The following handlers are available to decode the pixel data however they are missing required dependencies: GDCM (req. ), pylibjpeg (req. )\n",
            "ERROR:root:Error reading DICOM file: /content/drive/MyDrive/capstone/dataset/Echos/LVT/1329/PT000000/ST000000/SE000000/IM000058, The following handlers are available to decode the pixel data however they are missing required dependencies: GDCM (req. ), pylibjpeg (req. )\n",
            "ERROR:root:Error reading DICOM file: /content/drive/MyDrive/capstone/dataset/Echos/LVT/1329/PT000000/ST000000/SE000000/IM000061, The following handlers are available to decode the pixel data however they are missing required dependencies: GDCM (req. ), pylibjpeg (req. )\n",
            "ERROR:root:Error reading DICOM file: /content/drive/MyDrive/capstone/dataset/Echos/LVT/1329/PT000000/ST000000/SE000000/IM000063, The following handlers are available to decode the pixel data however they are missing required dependencies: GDCM (req. ), pylibjpeg (req. )\n",
            "ERROR:root:Error reading DICOM file: /content/drive/MyDrive/capstone/dataset/Echos/LVT/1329/PT000000/ST000000/SE000000/IM000064, The following handlers are available to decode the pixel data however they are missing required dependencies: GDCM (req. ), pylibjpeg (req. )\n",
            "ERROR:root:Error reading DICOM file: /content/drive/MyDrive/capstone/dataset/Echos/LVT/1329/PT000000/ST000000/SE000000/IM000067, The following handlers are available to decode the pixel data however they are missing required dependencies: GDCM (req. ), pylibjpeg (req. )\n",
            "ERROR:root:Error reading DICOM file: /content/drive/MyDrive/capstone/dataset/Echos/LVT/1329/PT000000/ST000000/SE000000/IM000069, The following handlers are available to decode the pixel data however they are missing required dependencies: GDCM (req. ), pylibjpeg (req. )\n",
            "ERROR:root:Error reading DICOM file: /content/drive/MyDrive/capstone/dataset/Echos/LVT/1329/PT000000/ST000000/SE000000/IM000074, The following handlers are available to decode the pixel data however they are missing required dependencies: GDCM (req. ), pylibjpeg (req. )\n",
            "ERROR:root:Error reading DICOM file: /content/drive/MyDrive/capstone/dataset/Echos/LVT/1329/PT000000/ST000000/SE000000/IM000078, The following handlers are available to decode the pixel data however they are missing required dependencies: GDCM (req. ), pylibjpeg (req. )\n",
            "ERROR:root:Error reading DICOM file: /content/drive/MyDrive/capstone/dataset/Echos/LVT/1329/PT000000/ST000000/SE000000/IM000079, The following handlers are available to decode the pixel data however they are missing required dependencies: GDCM (req. ), pylibjpeg (req. )\n",
            "ERROR:root:Error reading DICOM file: /content/drive/MyDrive/capstone/dataset/Echos/LVT/1329/PT000000/ST000000/SE000000/IM000082, The following handlers are available to decode the pixel data however they are missing required dependencies: GDCM (req. ), pylibjpeg (req. )\n",
            "ERROR:root:Error reading DICOM file: /content/drive/MyDrive/capstone/dataset/Echos/LVT/1329/PT000000/ST000000/SE000000/IM000086, The following handlers are available to decode the pixel data however they are missing required dependencies: GDCM (req. ), pylibjpeg (req. )\n",
            "ERROR:root:Error reading DICOM file: /content/drive/MyDrive/capstone/dataset/Echos/LVT/1329/PT000000/ST000000/SE000000/IM000088, The following handlers are available to decode the pixel data however they are missing required dependencies: GDCM (req. ), pylibjpeg (req. )\n",
            "825it [2:02:58, 13.04s/it]"
          ]
        },
        {
          "output_type": "stream",
          "name": "stdout",
          "text": [
            "processing: /content/drive/MyDrive/capstone/dataset/Echos/LVT/1330/PT000000/ST000000/SE000000\n"
          ]
        },
        {
          "output_type": "stream",
          "name": "stderr",
          "text": [
            "830it [2:03:40,  9.50s/it]"
          ]
        },
        {
          "output_type": "stream",
          "name": "stdout",
          "text": [
            "processing: /content/drive/MyDrive/capstone/dataset/Echos/LVT/1331/PT000000/ST000000/SE000000\n"
          ]
        },
        {
          "output_type": "stream",
          "name": "stderr",
          "text": [
            "837it [2:04:06,  5.01s/it]"
          ]
        },
        {
          "output_type": "stream",
          "name": "stdout",
          "text": [
            "processing: /content/drive/MyDrive/capstone/dataset/Echos/LVT/1332/PT000000/ST000000/SE000001\n"
          ]
        },
        {
          "output_type": "stream",
          "name": "stderr",
          "text": [
            "840it [2:05:02,  9.02s/it]"
          ]
        },
        {
          "output_type": "stream",
          "name": "stdout",
          "text": [
            "processing: /content/drive/MyDrive/capstone/dataset/Echos/LVT/1333/PT000000/ST000000/SE000000\n"
          ]
        },
        {
          "output_type": "stream",
          "name": "stderr",
          "text": [
            "845it [2:05:32,  6.51s/it]"
          ]
        },
        {
          "output_type": "stream",
          "name": "stdout",
          "text": [
            "processing: /content/drive/MyDrive/capstone/dataset/Echos/LVT/1348/PT000000/ST000000/SE000000\n"
          ]
        },
        {
          "output_type": "stream",
          "name": "stderr",
          "text": [
            "ERROR:root:Error reading DICOM file: /content/drive/MyDrive/capstone/dataset/Echos/LVT/1348/PT000000/ST000000/SE000000/IM000007, The length of the pixel data in the dataset (70148 bytes) doesn't match the expected length (2359296 bytes). The dataset may be corrupted or there may be an issue with the pixel data handler.\n",
            "ERROR:root:Error reading DICOM file: /content/drive/MyDrive/capstone/dataset/Echos/LVT/1348/PT000000/ST000000/SE000000/IM000009, The length of the pixel data in the dataset (75786 bytes) doesn't match the expected length (2359296 bytes). The dataset may be corrupted or there may be an issue with the pixel data handler.\n",
            "ERROR:root:Error reading DICOM file: /content/drive/MyDrive/capstone/dataset/Echos/LVT/1348/PT000000/ST000000/SE000000/IM000012, The length of the pixel data in the dataset (69946 bytes) doesn't match the expected length (2359296 bytes). The dataset may be corrupted or there may be an issue with the pixel data handler.\n",
            "ERROR:root:Error reading DICOM file: /content/drive/MyDrive/capstone/dataset/Echos/LVT/1348/PT000000/ST000000/SE000000/IM000015, The length of the pixel data in the dataset (94484 bytes) doesn't match the expected length (2359296 bytes). The dataset may be corrupted or there may be an issue with the pixel data handler.\n",
            "ERROR:root:Error reading DICOM file: /content/drive/MyDrive/capstone/dataset/Echos/LVT/1348/PT000000/ST000000/SE000000/IM000016, The length of the pixel data in the dataset (121998 bytes) doesn't match the expected length (2359296 bytes). The dataset may be corrupted or there may be an issue with the pixel data handler.\n",
            "ERROR:root:Error reading DICOM file: /content/drive/MyDrive/capstone/dataset/Echos/LVT/1348/PT000000/ST000000/SE000000/IM000017, The length of the pixel data in the dataset (116512 bytes) doesn't match the expected length (2359296 bytes). The dataset may be corrupted or there may be an issue with the pixel data handler.\n",
            "ERROR:root:Error reading DICOM file: /content/drive/MyDrive/capstone/dataset/Echos/LVT/1348/PT000000/ST000000/SE000000/IM000018, The length of the pixel data in the dataset (129408 bytes) doesn't match the expected length (2359296 bytes). The dataset may be corrupted or there may be an issue with the pixel data handler.\n",
            "ERROR:root:Error reading DICOM file: /content/drive/MyDrive/capstone/dataset/Echos/LVT/1348/PT000000/ST000000/SE000000/IM000022, The length of the pixel data in the dataset (81924 bytes) doesn't match the expected length (2359296 bytes). The dataset may be corrupted or there may be an issue with the pixel data handler.\n",
            "ERROR:root:Error reading DICOM file: /content/drive/MyDrive/capstone/dataset/Echos/LVT/1348/PT000000/ST000000/SE000000/IM000023, The length of the pixel data in the dataset (99762 bytes) doesn't match the expected length (2359296 bytes). The dataset may be corrupted or there may be an issue with the pixel data handler.\n",
            "ERROR:root:Error reading DICOM file: /content/drive/MyDrive/capstone/dataset/Echos/LVT/1348/PT000000/ST000000/SE000000/IM000024, The length of the pixel data in the dataset (99750 bytes) doesn't match the expected length (2359296 bytes). The dataset may be corrupted or there may be an issue with the pixel data handler.\n",
            "ERROR:root:Error reading DICOM file: /content/drive/MyDrive/capstone/dataset/Echos/LVT/1348/PT000000/ST000000/SE000000/IM000030, The length of the pixel data in the dataset (71324 bytes) doesn't match the expected length (2359296 bytes). The dataset may be corrupted or there may be an issue with the pixel data handler.\n",
            "ERROR:root:Error reading DICOM file: /content/drive/MyDrive/capstone/dataset/Echos/LVT/1348/PT000000/ST000000/SE000000/IM000031, The length of the pixel data in the dataset (99772 bytes) doesn't match the expected length (2359296 bytes). The dataset may be corrupted or there may be an issue with the pixel data handler.\n",
            "ERROR:root:Error reading DICOM file: /content/drive/MyDrive/capstone/dataset/Echos/LVT/1348/PT000000/ST000000/SE000000/IM000035, The length of the pixel data in the dataset (108128 bytes) doesn't match the expected length (2359296 bytes). The dataset may be corrupted or there may be an issue with the pixel data handler.\n",
            "ERROR:root:Error reading DICOM file: /content/drive/MyDrive/capstone/dataset/Echos/LVT/1348/PT000000/ST000000/SE000000/IM000038, The length of the pixel data in the dataset (82288 bytes) doesn't match the expected length (2359296 bytes). The dataset may be corrupted or there may be an issue with the pixel data handler.\n",
            "ERROR:root:Error reading DICOM file: /content/drive/MyDrive/capstone/dataset/Echos/LVT/1348/PT000000/ST000000/SE000000/IM000039, The length of the pixel data in the dataset (90820 bytes) doesn't match the expected length (2359296 bytes). The dataset may be corrupted or there may be an issue with the pixel data handler.\n",
            "ERROR:root:Error reading DICOM file: /content/drive/MyDrive/capstone/dataset/Echos/LVT/1348/PT000000/ST000000/SE000000/IM000044, The length of the pixel data in the dataset (110216 bytes) doesn't match the expected length (2359296 bytes). The dataset may be corrupted or there may be an issue with the pixel data handler.\n",
            "ERROR:root:Error reading DICOM file: /content/drive/MyDrive/capstone/dataset/Echos/LVT/1348/PT000000/ST000000/SE000000/IM000047, The length of the pixel data in the dataset (119192 bytes) doesn't match the expected length (2359296 bytes). The dataset may be corrupted or there may be an issue with the pixel data handler.\n",
            "ERROR:root:Error reading DICOM file: /content/drive/MyDrive/capstone/dataset/Echos/LVT/1348/PT000000/ST000000/SE000000/IM000052, The length of the pixel data in the dataset (82124 bytes) doesn't match the expected length (2359296 bytes). The dataset may be corrupted or there may be an issue with the pixel data handler.\n",
            "ERROR:root:Error reading DICOM file: /content/drive/MyDrive/capstone/dataset/Echos/LVT/1348/PT000000/ST000000/SE000000/IM000054, The length of the pixel data in the dataset (84926 bytes) doesn't match the expected length (2359296 bytes). The dataset may be corrupted or there may be an issue with the pixel data handler.\n",
            "ERROR:root:Error reading DICOM file: /content/drive/MyDrive/capstone/dataset/Echos/LVT/1348/PT000000/ST000000/SE000000/IM000065, The length of the pixel data in the dataset (87410 bytes) doesn't match the expected length (2359296 bytes). The dataset may be corrupted or there may be an issue with the pixel data handler.\n",
            "ERROR:root:Error reading DICOM file: /content/drive/MyDrive/capstone/dataset/Echos/LVT/1348/PT000000/ST000000/SE000000/IM000066, The length of the pixel data in the dataset (95710 bytes) doesn't match the expected length (2359296 bytes). The dataset may be corrupted or there may be an issue with the pixel data handler.\n",
            "ERROR:root:Error reading DICOM file: /content/drive/MyDrive/capstone/dataset/Echos/LVT/1348/PT000000/ST000000/SE000000/IM000067, The length of the pixel data in the dataset (82470 bytes) doesn't match the expected length (2359296 bytes). The dataset may be corrupted or there may be an issue with the pixel data handler.\n",
            "ERROR:root:Error reading DICOM file: /content/drive/MyDrive/capstone/dataset/Echos/LVT/1348/PT000000/ST000000/SE000000/IM000068, The length of the pixel data in the dataset (95844 bytes) doesn't match the expected length (2359296 bytes). The dataset may be corrupted or there may be an issue with the pixel data handler.\n",
            "ERROR:root:Error reading DICOM file: /content/drive/MyDrive/capstone/dataset/Echos/LVT/1348/PT000000/ST000000/SE000000/IM000069, The length of the pixel data in the dataset (107432 bytes) doesn't match the expected length (2359296 bytes). The dataset may be corrupted or there may be an issue with the pixel data handler.\n",
            "ERROR:root:Error reading DICOM file: /content/drive/MyDrive/capstone/dataset/Echos/LVT/1348/PT000000/ST000000/SE000000/IM000070, The length of the pixel data in the dataset (101302 bytes) doesn't match the expected length (2359296 bytes). The dataset may be corrupted or there may be an issue with the pixel data handler.\n",
            "ERROR:root:Error reading DICOM file: /content/drive/MyDrive/capstone/dataset/Echos/LVT/1348/PT000000/ST000000/SE000000/IM000072, The length of the pixel data in the dataset (94284 bytes) doesn't match the expected length (2359296 bytes). The dataset may be corrupted or there may be an issue with the pixel data handler.\n",
            "ERROR:root:Error reading DICOM file: /content/drive/MyDrive/capstone/dataset/Echos/LVT/1348/PT000000/ST000000/SE000000/IM000073, The length of the pixel data in the dataset (105702 bytes) doesn't match the expected length (2359296 bytes). The dataset may be corrupted or there may be an issue with the pixel data handler.\n",
            "ERROR:root:Error reading DICOM file: /content/drive/MyDrive/capstone/dataset/Echos/LVT/1348/PT000000/ST000000/SE000000/IM000083, The length of the pixel data in the dataset (99284 bytes) doesn't match the expected length (2359296 bytes). The dataset may be corrupted or there may be an issue with the pixel data handler.\n",
            "ERROR:root:Error reading DICOM file: /content/drive/MyDrive/capstone/dataset/Echos/LVT/1348/PT000000/ST000000/SE000000/IM000084, The length of the pixel data in the dataset (104186 bytes) doesn't match the expected length (2359296 bytes). The dataset may be corrupted or there may be an issue with the pixel data handler.\n",
            "ERROR:root:Error reading DICOM file: /content/drive/MyDrive/capstone/dataset/Echos/LVT/1348/PT000000/ST000000/SE000000/IM000087, The length of the pixel data in the dataset (104240 bytes) doesn't match the expected length (2359296 bytes). The dataset may be corrupted or there may be an issue with the pixel data handler.\n",
            "ERROR:root:Error reading DICOM file: /content/drive/MyDrive/capstone/dataset/Echos/LVT/1348/PT000000/ST000000/SE000000/IM000088, The length of the pixel data in the dataset (103852 bytes) doesn't match the expected length (2359296 bytes). The dataset may be corrupted or there may be an issue with the pixel data handler.\n",
            "ERROR:root:Error reading DICOM file: /content/drive/MyDrive/capstone/dataset/Echos/LVT/1348/PT000000/ST000000/SE000000/IM000090, The length of the pixel data in the dataset (98520 bytes) doesn't match the expected length (2359296 bytes). The dataset may be corrupted or there may be an issue with the pixel data handler.\n",
            "845it [2:05:51,  6.51s/it]ERROR:root:Error reading DICOM file: /content/drive/MyDrive/capstone/dataset/Echos/LVT/1348/PT000000/ST000000/SE000000/IM000091, The length of the pixel data in the dataset (75810 bytes) doesn't match the expected length (2359296 bytes). The dataset may be corrupted or there may be an issue with the pixel data handler.\n",
            "ERROR:root:Error reading DICOM file: /content/drive/MyDrive/capstone/dataset/Echos/LVT/1348/PT000000/ST000000/SE000000/IM000092, The length of the pixel data in the dataset (72582 bytes) doesn't match the expected length (2359296 bytes). The dataset may be corrupted or there may be an issue with the pixel data handler.\n",
            "ERROR:root:Error reading DICOM file: /content/drive/MyDrive/capstone/dataset/Echos/LVT/1348/PT000000/ST000000/SE000000/IM000093, The length of the pixel data in the dataset (74818 bytes) doesn't match the expected length (2359296 bytes). The dataset may be corrupted or there may be an issue with the pixel data handler.\n",
            "ERROR:root:Error reading DICOM file: /content/drive/MyDrive/capstone/dataset/Echos/LVT/1348/PT000000/ST000000/SE000000/IM000094, The length of the pixel data in the dataset (122346 bytes) doesn't match the expected length (2359296 bytes). The dataset may be corrupted or there may be an issue with the pixel data handler.\n",
            "ERROR:root:Error reading DICOM file: /content/drive/MyDrive/capstone/dataset/Echos/LVT/1348/PT000000/ST000000/SE000000/IM000101, The length of the pixel data in the dataset (83600 bytes) doesn't match the expected length (2359296 bytes). The dataset may be corrupted or there may be an issue with the pixel data handler.\n",
            "ERROR:root:Error reading DICOM file: /content/drive/MyDrive/capstone/dataset/Echos/LVT/1348/PT000000/ST000000/SE000000/IM000106, The length of the pixel data in the dataset (104808 bytes) doesn't match the expected length (2359296 bytes). The dataset may be corrupted or there may be an issue with the pixel data handler.\n",
            "ERROR:root:Error reading DICOM file: /content/drive/MyDrive/capstone/dataset/Echos/LVT/1348/PT000000/ST000000/SE000000/IM000107, The length of the pixel data in the dataset (106684 bytes) doesn't match the expected length (2359296 bytes). The dataset may be corrupted or there may be an issue with the pixel data handler.\n",
            "ERROR:root:Error reading DICOM file: /content/drive/MyDrive/capstone/dataset/Echos/LVT/1348/PT000000/ST000000/SE000000/IM000108, The length of the pixel data in the dataset (96392 bytes) doesn't match the expected length (2359296 bytes). The dataset may be corrupted or there may be an issue with the pixel data handler.\n",
            "ERROR:root:Error reading DICOM file: /content/drive/MyDrive/capstone/dataset/Echos/LVT/1348/PT000000/ST000000/SE000000/IM000109, The length of the pixel data in the dataset (109824 bytes) doesn't match the expected length (2359296 bytes). The dataset may be corrupted or there may be an issue with the pixel data handler.\n",
            "ERROR:root:Error reading DICOM file: /content/drive/MyDrive/capstone/dataset/Echos/LVT/1348/PT000000/ST000000/SE000000/IM000111, The length of the pixel data in the dataset (106494 bytes) doesn't match the expected length (2359296 bytes). The dataset may be corrupted or there may be an issue with the pixel data handler.\n",
            "ERROR:root:Error reading DICOM file: /content/drive/MyDrive/capstone/dataset/Echos/LVT/1348/PT000000/ST000000/SE000000/IM000115, The length of the pixel data in the dataset (72550 bytes) doesn't match the expected length (2359296 bytes). The dataset may be corrupted or there may be an issue with the pixel data handler.\n",
            "ERROR:root:Error reading DICOM file: /content/drive/MyDrive/capstone/dataset/Echos/LVT/1348/PT000000/ST000000/SE000000/IM000121, The length of the pixel data in the dataset (100822 bytes) doesn't match the expected length (2359296 bytes). The dataset may be corrupted or there may be an issue with the pixel data handler.\n",
            "ERROR:root:Error reading DICOM file: /content/drive/MyDrive/capstone/dataset/Echos/LVT/1348/PT000000/ST000000/SE000000/IM000122, The length of the pixel data in the dataset (78590 bytes) doesn't match the expected length (2359296 bytes). The dataset may be corrupted or there may be an issue with the pixel data handler.\n",
            "ERROR:root:Error reading DICOM file: /content/drive/MyDrive/capstone/dataset/Echos/LVT/1348/PT000000/ST000000/SE000000/IM000123, The length of the pixel data in the dataset (77568 bytes) doesn't match the expected length (2359296 bytes). The dataset may be corrupted or there may be an issue with the pixel data handler.\n",
            "ERROR:root:Error reading DICOM file: /content/drive/MyDrive/capstone/dataset/Echos/LVT/1348/PT000000/ST000000/SE000000/IM000125, The length of the pixel data in the dataset (79716 bytes) doesn't match the expected length (2359296 bytes). The dataset may be corrupted or there may be an issue with the pixel data handler.\n",
            "ERROR:root:Error reading DICOM file: /content/drive/MyDrive/capstone/dataset/Echos/LVT/1348/PT000000/ST000000/SE000000/IM000128, The length of the pixel data in the dataset (70994 bytes) doesn't match the expected length (2359296 bytes). The dataset may be corrupted or there may be an issue with the pixel data handler.\n",
            "ERROR:root:Error reading DICOM file: /content/drive/MyDrive/capstone/dataset/Echos/LVT/1348/PT000000/ST000000/SE000000/IM000129, The length of the pixel data in the dataset (77474 bytes) doesn't match the expected length (2359296 bytes). The dataset may be corrupted or there may be an issue with the pixel data handler.\n",
            "ERROR:root:Error reading DICOM file: /content/drive/MyDrive/capstone/dataset/Echos/LVT/1348/PT000000/ST000000/SE000000/IM000130, The length of the pixel data in the dataset (95534 bytes) doesn't match the expected length (2359296 bytes). The dataset may be corrupted or there may be an issue with the pixel data handler.\n",
            "ERROR:root:Error reading DICOM file: /content/drive/MyDrive/capstone/dataset/Echos/LVT/1348/PT000000/ST000000/SE000000/IM000131, The length of the pixel data in the dataset (81696 bytes) doesn't match the expected length (2359296 bytes). The dataset may be corrupted or there may be an issue with the pixel data handler.\n",
            "ERROR:root:Error reading DICOM file: /content/drive/MyDrive/capstone/dataset/Echos/LVT/1348/PT000000/ST000000/SE000000/IM000132, The length of the pixel data in the dataset (102552 bytes) doesn't match the expected length (2359296 bytes). The dataset may be corrupted or there may be an issue with the pixel data handler.\n",
            "ERROR:root:Error reading DICOM file: /content/drive/MyDrive/capstone/dataset/Echos/LVT/1348/PT000000/ST000000/SE000000/IM000133, The length of the pixel data in the dataset (77546 bytes) doesn't match the expected length (2359296 bytes). The dataset may be corrupted or there may be an issue with the pixel data handler.\n",
            "ERROR:root:Error reading DICOM file: /content/drive/MyDrive/capstone/dataset/Echos/LVT/1348/PT000000/ST000000/SE000000/IM000134, The length of the pixel data in the dataset (78658 bytes) doesn't match the expected length (2359296 bytes). The dataset may be corrupted or there may be an issue with the pixel data handler.\n",
            "ERROR:root:Error reading DICOM file: /content/drive/MyDrive/capstone/dataset/Echos/LVT/1348/PT000000/ST000000/SE000000/IM000135, The length of the pixel data in the dataset (91956 bytes) doesn't match the expected length (2359296 bytes). The dataset may be corrupted or there may be an issue with the pixel data handler.\n",
            "850it [2:06:01,  5.48s/it]"
          ]
        },
        {
          "output_type": "stream",
          "name": "stdout",
          "text": [
            "processing: /content/drive/MyDrive/capstone/dataset/Echos/LVT/1349/PT000000/ST000000/SE000000\n"
          ]
        },
        {
          "output_type": "stream",
          "name": "stderr",
          "text": [
            "ERROR:root:Error reading DICOM file: /content/drive/MyDrive/capstone/dataset/Echos/LVT/1349/PT000000/ST000000/SE000000/IM000007, The length of the pixel data in the dataset (66032 bytes) doesn't match the expected length (2359296 bytes). The dataset may be corrupted or there may be an issue with the pixel data handler.\n",
            "ERROR:root:Error reading DICOM file: /content/drive/MyDrive/capstone/dataset/Echos/LVT/1349/PT000000/ST000000/SE000000/IM000009, The length of the pixel data in the dataset (68810 bytes) doesn't match the expected length (2359296 bytes). The dataset may be corrupted or there may be an issue with the pixel data handler.\n",
            "ERROR:root:Error reading DICOM file: /content/drive/MyDrive/capstone/dataset/Echos/LVT/1349/PT000000/ST000000/SE000000/IM000011, The length of the pixel data in the dataset (66584 bytes) doesn't match the expected length (2359296 bytes). The dataset may be corrupted or there may be an issue with the pixel data handler.\n",
            "ERROR:root:Error reading DICOM file: /content/drive/MyDrive/capstone/dataset/Echos/LVT/1349/PT000000/ST000000/SE000000/IM000014, The length of the pixel data in the dataset (112392 bytes) doesn't match the expected length (2359296 bytes). The dataset may be corrupted or there may be an issue with the pixel data handler.\n",
            "ERROR:root:Error reading DICOM file: /content/drive/MyDrive/capstone/dataset/Echos/LVT/1349/PT000000/ST000000/SE000000/IM000015, The length of the pixel data in the dataset (103574 bytes) doesn't match the expected length (2359296 bytes). The dataset may be corrupted or there may be an issue with the pixel data handler.\n",
            "ERROR:root:Error reading DICOM file: /content/drive/MyDrive/capstone/dataset/Echos/LVT/1349/PT000000/ST000000/SE000000/IM000016, The length of the pixel data in the dataset (105756 bytes) doesn't match the expected length (2359296 bytes). The dataset may be corrupted or there may be an issue with the pixel data handler.\n",
            "ERROR:root:Error reading DICOM file: /content/drive/MyDrive/capstone/dataset/Echos/LVT/1349/PT000000/ST000000/SE000000/IM000017, The length of the pixel data in the dataset (94920 bytes) doesn't match the expected length (2359296 bytes). The dataset may be corrupted or there may be an issue with the pixel data handler.\n",
            "ERROR:root:Error reading DICOM file: /content/drive/MyDrive/capstone/dataset/Echos/LVT/1349/PT000000/ST000000/SE000000/IM000021, The length of the pixel data in the dataset (87404 bytes) doesn't match the expected length (2359296 bytes). The dataset may be corrupted or there may be an issue with the pixel data handler.\n",
            "ERROR:root:Error reading DICOM file: /content/drive/MyDrive/capstone/dataset/Echos/LVT/1349/PT000000/ST000000/SE000000/IM000022, The length of the pixel data in the dataset (96422 bytes) doesn't match the expected length (2359296 bytes). The dataset may be corrupted or there may be an issue with the pixel data handler.\n",
            "ERROR:root:Error reading DICOM file: /content/drive/MyDrive/capstone/dataset/Echos/LVT/1349/PT000000/ST000000/SE000000/IM000026, The length of the pixel data in the dataset (112474 bytes) doesn't match the expected length (2359296 bytes). The dataset may be corrupted or there may be an issue with the pixel data handler.\n",
            "ERROR:root:Error reading DICOM file: /content/drive/MyDrive/capstone/dataset/Echos/LVT/1349/PT000000/ST000000/SE000000/IM000029, The length of the pixel data in the dataset (97892 bytes) doesn't match the expected length (2359296 bytes). The dataset may be corrupted or there may be an issue with the pixel data handler.\n",
            "ERROR:root:Error reading DICOM file: /content/drive/MyDrive/capstone/dataset/Echos/LVT/1349/PT000000/ST000000/SE000000/IM000032, The length of the pixel data in the dataset (96242 bytes) doesn't match the expected length (2359296 bytes). The dataset may be corrupted or there may be an issue with the pixel data handler.\n",
            "ERROR:root:Error reading DICOM file: /content/drive/MyDrive/capstone/dataset/Echos/LVT/1349/PT000000/ST000000/SE000000/IM000033, The length of the pixel data in the dataset (94516 bytes) doesn't match the expected length (2359296 bytes). The dataset may be corrupted or there may be an issue with the pixel data handler.\n",
            "ERROR:root:Error reading DICOM file: /content/drive/MyDrive/capstone/dataset/Echos/LVT/1349/PT000000/ST000000/SE000000/IM000034, The length of the pixel data in the dataset (100538 bytes) doesn't match the expected length (2359296 bytes). The dataset may be corrupted or there may be an issue with the pixel data handler.\n",
            "ERROR:root:Error reading DICOM file: /content/drive/MyDrive/capstone/dataset/Echos/LVT/1349/PT000000/ST000000/SE000000/IM000035, The length of the pixel data in the dataset (103796 bytes) doesn't match the expected length (2359296 bytes). The dataset may be corrupted or there may be an issue with the pixel data handler.\n",
            "ERROR:root:Error reading DICOM file: /content/drive/MyDrive/capstone/dataset/Echos/LVT/1349/PT000000/ST000000/SE000000/IM000040, The length of the pixel data in the dataset (112018 bytes) doesn't match the expected length (2359296 bytes). The dataset may be corrupted or there may be an issue with the pixel data handler.\n",
            "ERROR:root:Error reading DICOM file: /content/drive/MyDrive/capstone/dataset/Echos/LVT/1349/PT000000/ST000000/SE000000/IM000043, The length of the pixel data in the dataset (105558 bytes) doesn't match the expected length (2359296 bytes). The dataset may be corrupted or there may be an issue with the pixel data handler.\n",
            "850it [2:06:21,  5.48s/it]ERROR:root:Error reading DICOM file: /content/drive/MyDrive/capstone/dataset/Echos/LVT/1349/PT000000/ST000000/SE000000/IM000058, The length of the pixel data in the dataset (99896 bytes) doesn't match the expected length (2359296 bytes). The dataset may be corrupted or there may be an issue with the pixel data handler.\n",
            "ERROR:root:Error reading DICOM file: /content/drive/MyDrive/capstone/dataset/Echos/LVT/1349/PT000000/ST000000/SE000000/IM000059, The length of the pixel data in the dataset (90362 bytes) doesn't match the expected length (2359296 bytes). The dataset may be corrupted or there may be an issue with the pixel data handler.\n",
            "ERROR:root:Error reading DICOM file: /content/drive/MyDrive/capstone/dataset/Echos/LVT/1349/PT000000/ST000000/SE000000/IM000060, The length of the pixel data in the dataset (86564 bytes) doesn't match the expected length (2359296 bytes). The dataset may be corrupted or there may be an issue with the pixel data handler.\n",
            "ERROR:root:Error reading DICOM file: /content/drive/MyDrive/capstone/dataset/Echos/LVT/1349/PT000000/ST000000/SE000000/IM000061, The length of the pixel data in the dataset (95050 bytes) doesn't match the expected length (2359296 bytes). The dataset may be corrupted or there may be an issue with the pixel data handler.\n",
            "ERROR:root:Error reading DICOM file: /content/drive/MyDrive/capstone/dataset/Echos/LVT/1349/PT000000/ST000000/SE000000/IM000062, The length of the pixel data in the dataset (87846 bytes) doesn't match the expected length (2359296 bytes). The dataset may be corrupted or there may be an issue with the pixel data handler.\n",
            "ERROR:root:Error reading DICOM file: /content/drive/MyDrive/capstone/dataset/Echos/LVT/1349/PT000000/ST000000/SE000000/IM000063, The length of the pixel data in the dataset (108066 bytes) doesn't match the expected length (2359296 bytes). The dataset may be corrupted or there may be an issue with the pixel data handler.\n",
            "ERROR:root:Error reading DICOM file: /content/drive/MyDrive/capstone/dataset/Echos/LVT/1349/PT000000/ST000000/SE000000/IM000064, The length of the pixel data in the dataset (108410 bytes) doesn't match the expected length (2359296 bytes). The dataset may be corrupted or there may be an issue with the pixel data handler.\n",
            "ERROR:root:Error reading DICOM file: /content/drive/MyDrive/capstone/dataset/Echos/LVT/1349/PT000000/ST000000/SE000000/IM000067, The length of the pixel data in the dataset (85110 bytes) doesn't match the expected length (2359296 bytes). The dataset may be corrupted or there may be an issue with the pixel data handler.\n",
            "ERROR:root:Error reading DICOM file: /content/drive/MyDrive/capstone/dataset/Echos/LVT/1349/PT000000/ST000000/SE000000/IM000068, The length of the pixel data in the dataset (87020 bytes) doesn't match the expected length (2359296 bytes). The dataset may be corrupted or there may be an issue with the pixel data handler.\n",
            "ERROR:root:Error reading DICOM file: /content/drive/MyDrive/capstone/dataset/Echos/LVT/1349/PT000000/ST000000/SE000000/IM000076, The length of the pixel data in the dataset (96968 bytes) doesn't match the expected length (2359296 bytes). The dataset may be corrupted or there may be an issue with the pixel data handler.\n",
            "ERROR:root:Error reading DICOM file: /content/drive/MyDrive/capstone/dataset/Echos/LVT/1349/PT000000/ST000000/SE000000/IM000080, The length of the pixel data in the dataset (99328 bytes) doesn't match the expected length (2359296 bytes). The dataset may be corrupted or there may be an issue with the pixel data handler.\n",
            "ERROR:root:Error reading DICOM file: /content/drive/MyDrive/capstone/dataset/Echos/LVT/1349/PT000000/ST000000/SE000000/IM000082, The length of the pixel data in the dataset (74704 bytes) doesn't match the expected length (2359296 bytes). The dataset may be corrupted or there may be an issue with the pixel data handler.\n",
            "ERROR:root:Error reading DICOM file: /content/drive/MyDrive/capstone/dataset/Echos/LVT/1349/PT000000/ST000000/SE000000/IM000084, The length of the pixel data in the dataset (80016 bytes) doesn't match the expected length (2359296 bytes). The dataset may be corrupted or there may be an issue with the pixel data handler.\n",
            "ERROR:root:Error reading DICOM file: /content/drive/MyDrive/capstone/dataset/Echos/LVT/1349/PT000000/ST000000/SE000000/IM000088, The length of the pixel data in the dataset (100168 bytes) doesn't match the expected length (2359296 bytes). The dataset may be corrupted or there may be an issue with the pixel data handler.\n",
            "ERROR:root:Error reading DICOM file: /content/drive/MyDrive/capstone/dataset/Echos/LVT/1349/PT000000/ST000000/SE000000/IM000089, The length of the pixel data in the dataset (108108 bytes) doesn't match the expected length (2359296 bytes). The dataset may be corrupted or there may be an issue with the pixel data handler.\n",
            "ERROR:root:Error reading DICOM file: /content/drive/MyDrive/capstone/dataset/Echos/LVT/1349/PT000000/ST000000/SE000000/IM000090, The length of the pixel data in the dataset (107454 bytes) doesn't match the expected length (2359296 bytes). The dataset may be corrupted or there may be an issue with the pixel data handler.\n",
            "ERROR:root:Error reading DICOM file: /content/drive/MyDrive/capstone/dataset/Echos/LVT/1349/PT000000/ST000000/SE000000/IM000091, The length of the pixel data in the dataset (101724 bytes) doesn't match the expected length (2359296 bytes). The dataset may be corrupted or there may be an issue with the pixel data handler.\n",
            "ERROR:root:Error reading DICOM file: /content/drive/MyDrive/capstone/dataset/Echos/LVT/1349/PT000000/ST000000/SE000000/IM000092, The length of the pixel data in the dataset (111988 bytes) doesn't match the expected length (2359296 bytes). The dataset may be corrupted or there may be an issue with the pixel data handler.\n",
            "ERROR:root:Error reading DICOM file: /content/drive/MyDrive/capstone/dataset/Echos/LVT/1349/PT000000/ST000000/SE000000/IM000093, The length of the pixel data in the dataset (79238 bytes) doesn't match the expected length (2359296 bytes). The dataset may be corrupted or there may be an issue with the pixel data handler.\n",
            "ERROR:root:Error reading DICOM file: /content/drive/MyDrive/capstone/dataset/Echos/LVT/1349/PT000000/ST000000/SE000000/IM000094, The length of the pixel data in the dataset (77884 bytes) doesn't match the expected length (2359296 bytes). The dataset may be corrupted or there may be an issue with the pixel data handler.\n",
            "ERROR:root:Error reading DICOM file: /content/drive/MyDrive/capstone/dataset/Echos/LVT/1349/PT000000/ST000000/SE000000/IM000095, The length of the pixel data in the dataset (72978 bytes) doesn't match the expected length (2359296 bytes). The dataset may be corrupted or there may be an issue with the pixel data handler.\n",
            "ERROR:root:Error reading DICOM file: /content/drive/MyDrive/capstone/dataset/Echos/LVT/1349/PT000000/ST000000/SE000000/IM000096, The length of the pixel data in the dataset (121646 bytes) doesn't match the expected length (2359296 bytes). The dataset may be corrupted or there may be an issue with the pixel data handler.\n",
            "ERROR:root:Error reading DICOM file: /content/drive/MyDrive/capstone/dataset/Echos/LVT/1349/PT000000/ST000000/SE000000/IM000111, The length of the pixel data in the dataset (99056 bytes) doesn't match the expected length (2359296 bytes). The dataset may be corrupted or there may be an issue with the pixel data handler.\n",
            "ERROR:root:Error reading DICOM file: /content/drive/MyDrive/capstone/dataset/Echos/LVT/1349/PT000000/ST000000/SE000000/IM000112, The length of the pixel data in the dataset (93688 bytes) doesn't match the expected length (2359296 bytes). The dataset may be corrupted or there may be an issue with the pixel data handler.\n",
            "ERROR:root:Error reading DICOM file: /content/drive/MyDrive/capstone/dataset/Echos/LVT/1349/PT000000/ST000000/SE000000/IM000113, The length of the pixel data in the dataset (90994 bytes) doesn't match the expected length (2359296 bytes). The dataset may be corrupted or there may be an issue with the pixel data handler.\n",
            "ERROR:root:Error reading DICOM file: /content/drive/MyDrive/capstone/dataset/Echos/LVT/1349/PT000000/ST000000/SE000000/IM000114, The length of the pixel data in the dataset (98332 bytes) doesn't match the expected length (2359296 bytes). The dataset may be corrupted or there may be an issue with the pixel data handler.\n",
            "ERROR:root:Error reading DICOM file: /content/drive/MyDrive/capstone/dataset/Echos/LVT/1349/PT000000/ST000000/SE000000/IM000124, The length of the pixel data in the dataset (76540 bytes) doesn't match the expected length (2359296 bytes). The dataset may be corrupted or there may be an issue with the pixel data handler.\n",
            "ERROR:root:Error reading DICOM file: /content/drive/MyDrive/capstone/dataset/Echos/LVT/1349/PT000000/ST000000/SE000000/IM000125, The length of the pixel data in the dataset (87990 bytes) doesn't match the expected length (2359296 bytes). The dataset may be corrupted or there may be an issue with the pixel data handler.\n",
            "ERROR:root:Error reading DICOM file: /content/drive/MyDrive/capstone/dataset/Echos/LVT/1349/PT000000/ST000000/SE000000/IM000126, The length of the pixel data in the dataset (85168 bytes) doesn't match the expected length (2359296 bytes). The dataset may be corrupted or there may be an issue with the pixel data handler.\n",
            "ERROR:root:Error reading DICOM file: /content/drive/MyDrive/capstone/dataset/Echos/LVT/1349/PT000000/ST000000/SE000000/IM000127, The length of the pixel data in the dataset (87448 bytes) doesn't match the expected length (2359296 bytes). The dataset may be corrupted or there may be an issue with the pixel data handler.\n",
            "ERROR:root:Error reading DICOM file: /content/drive/MyDrive/capstone/dataset/Echos/LVT/1349/PT000000/ST000000/SE000000/IM000134, The length of the pixel data in the dataset (94386 bytes) doesn't match the expected length (2359296 bytes). The dataset may be corrupted or there may be an issue with the pixel data handler.\n",
            "ERROR:root:Error reading DICOM file: /content/drive/MyDrive/capstone/dataset/Echos/LVT/1349/PT000000/ST000000/SE000000/IM000138, The length of the pixel data in the dataset (78166 bytes) doesn't match the expected length (2359296 bytes). The dataset may be corrupted or there may be an issue with the pixel data handler.\n",
            "ERROR:root:Error reading DICOM file: /content/drive/MyDrive/capstone/dataset/Echos/LVT/1349/PT000000/ST000000/SE000000/IM000139, The length of the pixel data in the dataset (85680 bytes) doesn't match the expected length (2359296 bytes). The dataset may be corrupted or there may be an issue with the pixel data handler.\n",
            "855it [2:06:49,  6.67s/it]"
          ]
        },
        {
          "output_type": "stream",
          "name": "stdout",
          "text": [
            "processing: /content/drive/MyDrive/capstone/dataset/Echos/LVT/1350/PT000000/ST000000/SE000000\n"
          ]
        },
        {
          "output_type": "stream",
          "name": "stderr",
          "text": [
            "860it [2:07:21,  5.83s/it]"
          ]
        },
        {
          "output_type": "stream",
          "name": "stdout",
          "text": [
            "processing: /content/drive/MyDrive/capstone/dataset/Echos/LVT/1351/PT000000/ST000000/SE000000\n"
          ]
        },
        {
          "output_type": "stream",
          "name": "stderr",
          "text": [
            "866it [2:08:05,  5.34s/it]"
          ]
        },
        {
          "output_type": "stream",
          "name": "stdout",
          "text": [
            "processing: /content/drive/MyDrive/capstone/dataset/Echos/LVT/1352/PT000000/ST000000/SE000001\n"
          ]
        },
        {
          "output_type": "stream",
          "name": "stderr",
          "text": [
            "871it [2:08:51,  5.67s/it]"
          ]
        },
        {
          "output_type": "stream",
          "name": "stdout",
          "text": [
            "processing: /content/drive/MyDrive/capstone/dataset/Echos/LVT/1353/PT000000/ST000000/SE000001\n"
          ]
        },
        {
          "output_type": "stream",
          "name": "stderr",
          "text": [
            "876it [2:09:52,  6.57s/it]"
          ]
        },
        {
          "output_type": "stream",
          "name": "stdout",
          "text": [
            "processing: /content/drive/MyDrive/capstone/dataset/Echos/LVT/1354/PT000000/ST000000/SE000001\n"
          ]
        },
        {
          "output_type": "stream",
          "name": "stderr",
          "text": [
            "881it [2:10:28,  4.78s/it]"
          ]
        },
        {
          "output_type": "stream",
          "name": "stdout",
          "text": [
            "processing: /content/drive/MyDrive/capstone/dataset/Echos/LVT/1355/PT000000/ST000000/SE000001\n"
          ]
        },
        {
          "output_type": "stream",
          "name": "stderr",
          "text": [
            "886it [2:11:21,  5.81s/it]"
          ]
        },
        {
          "output_type": "stream",
          "name": "stdout",
          "text": [
            "processing: /content/drive/MyDrive/capstone/dataset/Echos/LVT/1357/PT000000/ST000000/SE000001\n"
          ]
        },
        {
          "output_type": "stream",
          "name": "stderr",
          "text": [
            "891it [2:12:59,  9.86s/it]"
          ]
        },
        {
          "output_type": "stream",
          "name": "stdout",
          "text": [
            "processing: /content/drive/MyDrive/capstone/dataset/Echos/LVT/1358/PT000000/ST000000/SE000001\n"
          ]
        },
        {
          "output_type": "stream",
          "name": "stderr",
          "text": [
            "895it [2:13:29,  6.63s/it]"
          ]
        },
        {
          "output_type": "stream",
          "name": "stdout",
          "text": [
            "processing: /content/drive/MyDrive/capstone/dataset/Echos/LVT/1359/PT000000/ST000000/SE000000\n"
          ]
        },
        {
          "output_type": "stream",
          "name": "stderr",
          "text": [
            "899it [2:14:41, 11.08s/it]"
          ]
        },
        {
          "output_type": "stream",
          "name": "stdout",
          "text": [
            "processing: /content/drive/MyDrive/capstone/dataset/Echos/LVT/1360/PT000000/ST000000/SE000000\n"
          ]
        },
        {
          "output_type": "stream",
          "name": "stderr",
          "text": [
            "906it [2:15:46,  7.69s/it]"
          ]
        },
        {
          "output_type": "stream",
          "name": "stdout",
          "text": [
            "processing: /content/drive/MyDrive/capstone/dataset/Echos/LVT/1361/PT000000/ST000000/SE000001\n"
          ]
        },
        {
          "output_type": "stream",
          "name": "stderr",
          "text": [
            "910it [2:16:29,  7.51s/it]"
          ]
        },
        {
          "output_type": "stream",
          "name": "stdout",
          "text": [
            "processing: /content/drive/MyDrive/capstone/dataset/Echos/LVT/1362/PT000000/ST000000/SE000000\n"
          ]
        },
        {
          "output_type": "stream",
          "name": "stderr",
          "text": [
            "914it [2:17:12,  7.79s/it]"
          ]
        },
        {
          "output_type": "stream",
          "name": "stdout",
          "text": [
            "processing: /content/drive/MyDrive/capstone/dataset/Echos/LVT/1363/PT000000/ST000000/SE000000\n"
          ]
        },
        {
          "output_type": "stream",
          "name": "stderr",
          "text": [
            "ERROR:root:Error reading DICOM file: /content/drive/MyDrive/capstone/dataset/Echos/LVT/1363/PT000000/ST000000/SE000000/IM000007, The length of the pixel data in the dataset (68474 bytes) doesn't match the expected length (2359296 bytes). The dataset may be corrupted or there may be an issue with the pixel data handler.\n",
            "ERROR:root:Error reading DICOM file: /content/drive/MyDrive/capstone/dataset/Echos/LVT/1363/PT000000/ST000000/SE000000/IM000010, The length of the pixel data in the dataset (70078 bytes) doesn't match the expected length (2359296 bytes). The dataset may be corrupted or there may be an issue with the pixel data handler.\n",
            "ERROR:root:Error reading DICOM file: /content/drive/MyDrive/capstone/dataset/Echos/LVT/1363/PT000000/ST000000/SE000000/IM000011, The length of the pixel data in the dataset (86068 bytes) doesn't match the expected length (2359296 bytes). The dataset may be corrupted or there may be an issue with the pixel data handler.\n",
            "ERROR:root:Error reading DICOM file: /content/drive/MyDrive/capstone/dataset/Echos/LVT/1363/PT000000/ST000000/SE000000/IM000012, The length of the pixel data in the dataset (101772 bytes) doesn't match the expected length (2359296 bytes). The dataset may be corrupted or there may be an issue with the pixel data handler.\n",
            "ERROR:root:Error reading DICOM file: /content/drive/MyDrive/capstone/dataset/Echos/LVT/1363/PT000000/ST000000/SE000000/IM000014, The length of the pixel data in the dataset (107156 bytes) doesn't match the expected length (2359296 bytes). The dataset may be corrupted or there may be an issue with the pixel data handler.\n",
            "ERROR:root:Error reading DICOM file: /content/drive/MyDrive/capstone/dataset/Echos/LVT/1363/PT000000/ST000000/SE000000/IM000015, The length of the pixel data in the dataset (105310 bytes) doesn't match the expected length (2359296 bytes). The dataset may be corrupted or there may be an issue with the pixel data handler.\n",
            "ERROR:root:Error reading DICOM file: /content/drive/MyDrive/capstone/dataset/Echos/LVT/1363/PT000000/ST000000/SE000000/IM000018, The length of the pixel data in the dataset (107212 bytes) doesn't match the expected length (2359296 bytes). The dataset may be corrupted or there may be an issue with the pixel data handler.\n",
            "ERROR:root:Error reading DICOM file: /content/drive/MyDrive/capstone/dataset/Echos/LVT/1363/PT000000/ST000000/SE000000/IM000019, The length of the pixel data in the dataset (85982 bytes) doesn't match the expected length (2359296 bytes). The dataset may be corrupted or there may be an issue with the pixel data handler.\n",
            "ERROR:root:Error reading DICOM file: /content/drive/MyDrive/capstone/dataset/Echos/LVT/1363/PT000000/ST000000/SE000000/IM000025, The length of the pixel data in the dataset (99596 bytes) doesn't match the expected length (2359296 bytes). The dataset may be corrupted or there may be an issue with the pixel data handler.\n",
            "914it [2:17:31,  7.79s/it]ERROR:root:Error reading DICOM file: /content/drive/MyDrive/capstone/dataset/Echos/LVT/1363/PT000000/ST000000/SE000000/IM000030, The length of the pixel data in the dataset (103660 bytes) doesn't match the expected length (2359296 bytes). The dataset may be corrupted or there may be an issue with the pixel data handler.\n",
            "ERROR:root:Error reading DICOM file: /content/drive/MyDrive/capstone/dataset/Echos/LVT/1363/PT000000/ST000000/SE000000/IM000031, The length of the pixel data in the dataset (103172 bytes) doesn't match the expected length (2359296 bytes). The dataset may be corrupted or there may be an issue with the pixel data handler.\n",
            "ERROR:root:Error reading DICOM file: /content/drive/MyDrive/capstone/dataset/Echos/LVT/1363/PT000000/ST000000/SE000000/IM000033, The length of the pixel data in the dataset (101956 bytes) doesn't match the expected length (2359296 bytes). The dataset may be corrupted or there may be an issue with the pixel data handler.\n",
            "ERROR:root:Error reading DICOM file: /content/drive/MyDrive/capstone/dataset/Echos/LVT/1363/PT000000/ST000000/SE000000/IM000034, The length of the pixel data in the dataset (90188 bytes) doesn't match the expected length (2359296 bytes). The dataset may be corrupted or there may be an issue with the pixel data handler.\n",
            "ERROR:root:Error reading DICOM file: /content/drive/MyDrive/capstone/dataset/Echos/LVT/1363/PT000000/ST000000/SE000000/IM000035, The length of the pixel data in the dataset (89342 bytes) doesn't match the expected length (2359296 bytes). The dataset may be corrupted or there may be an issue with the pixel data handler.\n",
            "ERROR:root:Error reading DICOM file: /content/drive/MyDrive/capstone/dataset/Echos/LVT/1363/PT000000/ST000000/SE000000/IM000045, The length of the pixel data in the dataset (78220 bytes) doesn't match the expected length (2359296 bytes). The dataset may be corrupted or there may be an issue with the pixel data handler.\n",
            "ERROR:root:Error reading DICOM file: /content/drive/MyDrive/capstone/dataset/Echos/LVT/1363/PT000000/ST000000/SE000000/IM000053, The length of the pixel data in the dataset (103360 bytes) doesn't match the expected length (2359296 bytes). The dataset may be corrupted or there may be an issue with the pixel data handler.\n",
            "ERROR:root:Error reading DICOM file: /content/drive/MyDrive/capstone/dataset/Echos/LVT/1363/PT000000/ST000000/SE000000/IM000054, The length of the pixel data in the dataset (92062 bytes) doesn't match the expected length (2359296 bytes). The dataset may be corrupted or there may be an issue with the pixel data handler.\n",
            "ERROR:root:Error reading DICOM file: /content/drive/MyDrive/capstone/dataset/Echos/LVT/1363/PT000000/ST000000/SE000000/IM000055, The length of the pixel data in the dataset (90056 bytes) doesn't match the expected length (2359296 bytes). The dataset may be corrupted or there may be an issue with the pixel data handler.\n",
            "ERROR:root:Error reading DICOM file: /content/drive/MyDrive/capstone/dataset/Echos/LVT/1363/PT000000/ST000000/SE000000/IM000056, The length of the pixel data in the dataset (97370 bytes) doesn't match the expected length (2359296 bytes). The dataset may be corrupted or there may be an issue with the pixel data handler.\n",
            "ERROR:root:Error reading DICOM file: /content/drive/MyDrive/capstone/dataset/Echos/LVT/1363/PT000000/ST000000/SE000000/IM000057, The length of the pixel data in the dataset (82164 bytes) doesn't match the expected length (2359296 bytes). The dataset may be corrupted or there may be an issue with the pixel data handler.\n",
            "ERROR:root:Error reading DICOM file: /content/drive/MyDrive/capstone/dataset/Echos/LVT/1363/PT000000/ST000000/SE000000/IM000058, The length of the pixel data in the dataset (82002 bytes) doesn't match the expected length (2359296 bytes). The dataset may be corrupted or there may be an issue with the pixel data handler.\n",
            "ERROR:root:Error reading DICOM file: /content/drive/MyDrive/capstone/dataset/Echos/LVT/1363/PT000000/ST000000/SE000000/IM000059, The length of the pixel data in the dataset (80080 bytes) doesn't match the expected length (2359296 bytes). The dataset may be corrupted or there may be an issue with the pixel data handler.\n",
            "ERROR:root:Error reading DICOM file: /content/drive/MyDrive/capstone/dataset/Echos/LVT/1363/PT000000/ST000000/SE000000/IM000067, The length of the pixel data in the dataset (72794 bytes) doesn't match the expected length (2359296 bytes). The dataset may be corrupted or there may be an issue with the pixel data handler.\n",
            "ERROR:root:Error reading DICOM file: /content/drive/MyDrive/capstone/dataset/Echos/LVT/1363/PT000000/ST000000/SE000000/IM000068, The length of the pixel data in the dataset (72730 bytes) doesn't match the expected length (2359296 bytes). The dataset may be corrupted or there may be an issue with the pixel data handler.\n",
            "ERROR:root:Error reading DICOM file: /content/drive/MyDrive/capstone/dataset/Echos/LVT/1363/PT000000/ST000000/SE000000/IM000069, The length of the pixel data in the dataset (75364 bytes) doesn't match the expected length (2359296 bytes). The dataset may be corrupted or there may be an issue with the pixel data handler.\n",
            "ERROR:root:Error reading DICOM file: /content/drive/MyDrive/capstone/dataset/Echos/LVT/1363/PT000000/ST000000/SE000000/IM000070, The length of the pixel data in the dataset (115240 bytes) doesn't match the expected length (2359296 bytes). The dataset may be corrupted or there may be an issue with the pixel data handler.\n",
            "ERROR:root:Error reading DICOM file: /content/drive/MyDrive/capstone/dataset/Echos/LVT/1363/PT000000/ST000000/SE000000/IM000071, The length of the pixel data in the dataset (115406 bytes) doesn't match the expected length (2359296 bytes). The dataset may be corrupted or there may be an issue with the pixel data handler.\n",
            "ERROR:root:Error reading DICOM file: /content/drive/MyDrive/capstone/dataset/Echos/LVT/1363/PT000000/ST000000/SE000000/IM000074, The length of the pixel data in the dataset (98140 bytes) doesn't match the expected length (2359296 bytes). The dataset may be corrupted or there may be an issue with the pixel data handler.\n",
            "ERROR:root:Error reading DICOM file: /content/drive/MyDrive/capstone/dataset/Echos/LVT/1363/PT000000/ST000000/SE000000/IM000077, The length of the pixel data in the dataset (100012 bytes) doesn't match the expected length (2359296 bytes). The dataset may be corrupted or there may be an issue with the pixel data handler.\n",
            "ERROR:root:Error reading DICOM file: /content/drive/MyDrive/capstone/dataset/Echos/LVT/1363/PT000000/ST000000/SE000000/IM000078, The length of the pixel data in the dataset (100706 bytes) doesn't match the expected length (2359296 bytes). The dataset may be corrupted or there may be an issue with the pixel data handler.\n",
            "ERROR:root:Error reading DICOM file: /content/drive/MyDrive/capstone/dataset/Echos/LVT/1363/PT000000/ST000000/SE000000/IM000079, The length of the pixel data in the dataset (78498 bytes) doesn't match the expected length (2359296 bytes). The dataset may be corrupted or there may be an issue with the pixel data handler.\n",
            "ERROR:root:Error reading DICOM file: /content/drive/MyDrive/capstone/dataset/Echos/LVT/1363/PT000000/ST000000/SE000000/IM000091, The length of the pixel data in the dataset (100140 bytes) doesn't match the expected length (2359296 bytes). The dataset may be corrupted or there may be an issue with the pixel data handler.\n",
            "ERROR:root:Error reading DICOM file: /content/drive/MyDrive/capstone/dataset/Echos/LVT/1363/PT000000/ST000000/SE000000/IM000092, The length of the pixel data in the dataset (98776 bytes) doesn't match the expected length (2359296 bytes). The dataset may be corrupted or there may be an issue with the pixel data handler.\n",
            "ERROR:root:Error reading DICOM file: /content/drive/MyDrive/capstone/dataset/Echos/LVT/1363/PT000000/ST000000/SE000000/IM000093, The length of the pixel data in the dataset (83724 bytes) doesn't match the expected length (2359296 bytes). The dataset may be corrupted or there may be an issue with the pixel data handler.\n",
            "ERROR:root:Error reading DICOM file: /content/drive/MyDrive/capstone/dataset/Echos/LVT/1363/PT000000/ST000000/SE000000/IM000094, The length of the pixel data in the dataset (81444 bytes) doesn't match the expected length (2359296 bytes). The dataset may be corrupted or there may be an issue with the pixel data handler.\n",
            "ERROR:root:Error reading DICOM file: /content/drive/MyDrive/capstone/dataset/Echos/LVT/1363/PT000000/ST000000/SE000000/IM000105, The length of the pixel data in the dataset (95518 bytes) doesn't match the expected length (2359296 bytes). The dataset may be corrupted or there may be an issue with the pixel data handler.\n",
            "ERROR:root:Error reading DICOM file: /content/drive/MyDrive/capstone/dataset/Echos/LVT/1363/PT000000/ST000000/SE000000/IM000112, The length of the pixel data in the dataset (82992 bytes) doesn't match the expected length (2359296 bytes). The dataset may be corrupted or there may be an issue with the pixel data handler.\n",
            "ERROR:root:Error reading DICOM file: /content/drive/MyDrive/capstone/dataset/Echos/LVT/1363/PT000000/ST000000/SE000000/IM000113, The length of the pixel data in the dataset (92214 bytes) doesn't match the expected length (2359296 bytes). The dataset may be corrupted or there may be an issue with the pixel data handler.\n",
            "ERROR:root:Error reading DICOM file: /content/drive/MyDrive/capstone/dataset/Echos/LVT/1363/PT000000/ST000000/SE000000/IM000115, The length of the pixel data in the dataset (83534 bytes) doesn't match the expected length (2359296 bytes). The dataset may be corrupted or there may be an issue with the pixel data handler.\n",
            "ERROR:root:Error reading DICOM file: /content/drive/MyDrive/capstone/dataset/Echos/LVT/1363/PT000000/ST000000/SE000000/IM000118, The length of the pixel data in the dataset (77116 bytes) doesn't match the expected length (2359296 bytes). The dataset may be corrupted or there may be an issue with the pixel data handler.\n",
            "ERROR:root:Error reading DICOM file: /content/drive/MyDrive/capstone/dataset/Echos/LVT/1363/PT000000/ST000000/SE000000/IM000119, The length of the pixel data in the dataset (87316 bytes) doesn't match the expected length (2359296 bytes). The dataset may be corrupted or there may be an issue with the pixel data handler.\n",
            "919it [2:18:29, 10.45s/it]"
          ]
        },
        {
          "output_type": "stream",
          "name": "stdout",
          "text": [
            "processing: /content/drive/MyDrive/capstone/dataset/Echos/LVT/1364/PT000000/ST000000/SE000000\n"
          ]
        },
        {
          "output_type": "stream",
          "name": "stderr",
          "text": [
            "926it [2:19:11,  6.21s/it]"
          ]
        },
        {
          "output_type": "stream",
          "name": "stdout",
          "text": [
            "processing: /content/drive/MyDrive/capstone/dataset/Echos/LVT/1365/PT000000/ST000000/SE000001\n"
          ]
        },
        {
          "output_type": "stream",
          "name": "stderr",
          "text": [
            "930it [2:19:49,  5.65s/it]"
          ]
        },
        {
          "output_type": "stream",
          "name": "stdout",
          "text": [
            "processing: /content/drive/MyDrive/capstone/dataset/Echos/LVT/1366/PT000000/ST000000/SE000000\n"
          ]
        },
        {
          "output_type": "stream",
          "name": "stderr",
          "text": [
            "934it [2:19:56,  2.80s/it]"
          ]
        },
        {
          "output_type": "stream",
          "name": "stdout",
          "text": [
            "processing: /content/drive/MyDrive/capstone/dataset/Echos/LVT/1367/PT000000/ST000000/SE000000\n"
          ]
        },
        {
          "output_type": "stream",
          "name": "stderr",
          "text": [
            "940it [2:20:16,  2.21s/it]"
          ]
        },
        {
          "output_type": "stream",
          "name": "stdout",
          "text": [
            "processing: /content/drive/MyDrive/capstone/dataset/Echos/LVT/1368/PT000000/ST000000/SE000001\n"
          ]
        },
        {
          "output_type": "stream",
          "name": "stderr",
          "text": [
            "945it [2:21:16,  5.62s/it]"
          ]
        },
        {
          "output_type": "stream",
          "name": "stdout",
          "text": [
            "processing: /content/drive/MyDrive/capstone/dataset/Echos/LVT/1369/PT000000/ST000000/SE000001\n"
          ]
        },
        {
          "output_type": "stream",
          "name": "stderr",
          "text": [
            "950it [2:22:04,  5.55s/it]"
          ]
        },
        {
          "output_type": "stream",
          "name": "stdout",
          "text": [
            "processing: /content/drive/MyDrive/capstone/dataset/Echos/LVT/1370/PT000000/ST000000/SE000001\n"
          ]
        },
        {
          "output_type": "stream",
          "name": "stderr",
          "text": [
            "956it [2:23:14,  6.59s/it]"
          ]
        },
        {
          "output_type": "stream",
          "name": "stdout",
          "text": [
            "processing: /content/drive/MyDrive/capstone/dataset/Echos/LVT/1371/PT000000/ST000000/SE000001\n"
          ]
        },
        {
          "output_type": "stream",
          "name": "stderr",
          "text": [
            "961it [2:23:50,  4.76s/it]"
          ]
        },
        {
          "output_type": "stream",
          "name": "stdout",
          "text": [
            "processing: /content/drive/MyDrive/capstone/dataset/Echos/LVT/1372/PT000000/ST000000/SE000001\n"
          ]
        },
        {
          "output_type": "stream",
          "name": "stderr",
          "text": [
            "965it [2:24:24,  5.54s/it]"
          ]
        },
        {
          "output_type": "stream",
          "name": "stdout",
          "text": [
            "processing: /content/drive/MyDrive/capstone/dataset/Echos/LVT/1373/PT000000/ST000000/SE000000\n"
          ]
        },
        {
          "output_type": "stream",
          "name": "stderr",
          "text": [
            "ERROR:root:Error reading DICOM file: /content/drive/MyDrive/capstone/dataset/Echos/LVT/1373/PT000000/ST000000/SE000000/IM000005, The length of the pixel data in the dataset (68460 bytes) doesn't match the expected length (2359296 bytes). The dataset may be corrupted or there may be an issue with the pixel data handler.\n",
            "ERROR:root:Error reading DICOM file: /content/drive/MyDrive/capstone/dataset/Echos/LVT/1373/PT000000/ST000000/SE000000/IM000008, The length of the pixel data in the dataset (80722 bytes) doesn't match the expected length (2359296 bytes). The dataset may be corrupted or there may be an issue with the pixel data handler.\n",
            "ERROR:root:Error reading DICOM file: /content/drive/MyDrive/capstone/dataset/Echos/LVT/1373/PT000000/ST000000/SE000000/IM000011, The length of the pixel data in the dataset (113654 bytes) doesn't match the expected length (2359296 bytes). The dataset may be corrupted or there may be an issue with the pixel data handler.\n",
            "ERROR:root:Error reading DICOM file: /content/drive/MyDrive/capstone/dataset/Echos/LVT/1373/PT000000/ST000000/SE000000/IM000012, The length of the pixel data in the dataset (118844 bytes) doesn't match the expected length (2359296 bytes). The dataset may be corrupted or there may be an issue with the pixel data handler.\n",
            "ERROR:root:Error reading DICOM file: /content/drive/MyDrive/capstone/dataset/Echos/LVT/1373/PT000000/ST000000/SE000000/IM000013, The length of the pixel data in the dataset (136334 bytes) doesn't match the expected length (2359296 bytes). The dataset may be corrupted or there may be an issue with the pixel data handler.\n",
            "ERROR:root:Error reading DICOM file: /content/drive/MyDrive/capstone/dataset/Echos/LVT/1373/PT000000/ST000000/SE000000/IM000014, The length of the pixel data in the dataset (124706 bytes) doesn't match the expected length (2359296 bytes). The dataset may be corrupted or there may be an issue with the pixel data handler.\n",
            "ERROR:root:Error reading DICOM file: /content/drive/MyDrive/capstone/dataset/Echos/LVT/1373/PT000000/ST000000/SE000000/IM000019, The length of the pixel data in the dataset (86432 bytes) doesn't match the expected length (2359296 bytes). The dataset may be corrupted or there may be an issue with the pixel data handler.\n",
            "ERROR:root:Error reading DICOM file: /content/drive/MyDrive/capstone/dataset/Echos/LVT/1373/PT000000/ST000000/SE000000/IM000020, The length of the pixel data in the dataset (87290 bytes) doesn't match the expected length (2359296 bytes). The dataset may be corrupted or there may be an issue with the pixel data handler.\n",
            "ERROR:root:Error reading DICOM file: /content/drive/MyDrive/capstone/dataset/Echos/LVT/1373/PT000000/ST000000/SE000000/IM000026, The length of the pixel data in the dataset (94056 bytes) doesn't match the expected length (2359296 bytes). The dataset may be corrupted or there may be an issue with the pixel data handler.\n",
            "ERROR:root:Error reading DICOM file: /content/drive/MyDrive/capstone/dataset/Echos/LVT/1373/PT000000/ST000000/SE000000/IM000027, The length of the pixel data in the dataset (85434 bytes) doesn't match the expected length (2359296 bytes). The dataset may be corrupted or there may be an issue with the pixel data handler.\n",
            "ERROR:root:Error reading DICOM file: /content/drive/MyDrive/capstone/dataset/Echos/LVT/1373/PT000000/ST000000/SE000000/IM000030, The length of the pixel data in the dataset (92450 bytes) doesn't match the expected length (2359296 bytes). The dataset may be corrupted or there may be an issue with the pixel data handler.\n",
            "ERROR:root:Error reading DICOM file: /content/drive/MyDrive/capstone/dataset/Echos/LVT/1373/PT000000/ST000000/SE000000/IM000044, The length of the pixel data in the dataset (111804 bytes) doesn't match the expected length (2359296 bytes). The dataset may be corrupted or there may be an issue with the pixel data handler.\n",
            "ERROR:root:Error reading DICOM file: /content/drive/MyDrive/capstone/dataset/Echos/LVT/1373/PT000000/ST000000/SE000000/IM000045, The length of the pixel data in the dataset (96486 bytes) doesn't match the expected length (2359296 bytes). The dataset may be corrupted or there may be an issue with the pixel data handler.\n",
            "ERROR:root:Error reading DICOM file: /content/drive/MyDrive/capstone/dataset/Echos/LVT/1373/PT000000/ST000000/SE000000/IM000046, The length of the pixel data in the dataset (101854 bytes) doesn't match the expected length (2359296 bytes). The dataset may be corrupted or there may be an issue with the pixel data handler.\n",
            "ERROR:root:Error reading DICOM file: /content/drive/MyDrive/capstone/dataset/Echos/LVT/1373/PT000000/ST000000/SE000000/IM000049, The length of the pixel data in the dataset (98260 bytes) doesn't match the expected length (2359296 bytes). The dataset may be corrupted or there may be an issue with the pixel data handler.\n",
            "ERROR:root:Error reading DICOM file: /content/drive/MyDrive/capstone/dataset/Echos/LVT/1373/PT000000/ST000000/SE000000/IM000055, The length of the pixel data in the dataset (110624 bytes) doesn't match the expected length (2359296 bytes). The dataset may be corrupted or there may be an issue with the pixel data handler.\n",
            "ERROR:root:Error reading DICOM file: /content/drive/MyDrive/capstone/dataset/Echos/LVT/1373/PT000000/ST000000/SE000000/IM000063, The length of the pixel data in the dataset (76534 bytes) doesn't match the expected length (2359296 bytes). The dataset may be corrupted or there may be an issue with the pixel data handler.\n",
            "ERROR:root:Error reading DICOM file: /content/drive/MyDrive/capstone/dataset/Echos/LVT/1373/PT000000/ST000000/SE000000/IM000064, The length of the pixel data in the dataset (74820 bytes) doesn't match the expected length (2359296 bytes). The dataset may be corrupted or there may be an issue with the pixel data handler.\n",
            "ERROR:root:Error reading DICOM file: /content/drive/MyDrive/capstone/dataset/Echos/LVT/1373/PT000000/ST000000/SE000000/IM000065, The length of the pixel data in the dataset (73254 bytes) doesn't match the expected length (2359296 bytes). The dataset may be corrupted or there may be an issue with the pixel data handler.\n",
            "ERROR:root:Error reading DICOM file: /content/drive/MyDrive/capstone/dataset/Echos/LVT/1373/PT000000/ST000000/SE000000/IM000068, The length of the pixel data in the dataset (95188 bytes) doesn't match the expected length (2359296 bytes). The dataset may be corrupted or there may be an issue with the pixel data handler.\n",
            "ERROR:root:Error reading DICOM file: /content/drive/MyDrive/capstone/dataset/Echos/LVT/1373/PT000000/ST000000/SE000000/IM000069, The length of the pixel data in the dataset (97578 bytes) doesn't match the expected length (2359296 bytes). The dataset may be corrupted or there may be an issue with the pixel data handler.\n",
            "ERROR:root:Error reading DICOM file: /content/drive/MyDrive/capstone/dataset/Echos/LVT/1373/PT000000/ST000000/SE000000/IM000072, The length of the pixel data in the dataset (112360 bytes) doesn't match the expected length (2359296 bytes). The dataset may be corrupted or there may be an issue with the pixel data handler.\n",
            "ERROR:root:Error reading DICOM file: /content/drive/MyDrive/capstone/dataset/Echos/LVT/1373/PT000000/ST000000/SE000000/IM000073, The length of the pixel data in the dataset (96340 bytes) doesn't match the expected length (2359296 bytes). The dataset may be corrupted or there may be an issue with the pixel data handler.\n",
            "ERROR:root:Error reading DICOM file: /content/drive/MyDrive/capstone/dataset/Echos/LVT/1373/PT000000/ST000000/SE000000/IM000074, The length of the pixel data in the dataset (101614 bytes) doesn't match the expected length (2359296 bytes). The dataset may be corrupted or there may be an issue with the pixel data handler.\n",
            "ERROR:root:Error reading DICOM file: /content/drive/MyDrive/capstone/dataset/Echos/LVT/1373/PT000000/ST000000/SE000000/IM000101, The length of the pixel data in the dataset (74194 bytes) doesn't match the expected length (2359296 bytes). The dataset may be corrupted or there may be an issue with the pixel data handler.\n",
            "ERROR:root:Error reading DICOM file: /content/drive/MyDrive/capstone/dataset/Echos/LVT/1373/PT000000/ST000000/SE000000/IM000102, The length of the pixel data in the dataset (91676 bytes) doesn't match the expected length (2359296 bytes). The dataset may be corrupted or there may be an issue with the pixel data handler.\n",
            "ERROR:root:Error reading DICOM file: /content/drive/MyDrive/capstone/dataset/Echos/LVT/1373/PT000000/ST000000/SE000000/IM000103, The length of the pixel data in the dataset (93834 bytes) doesn't match the expected length (2359296 bytes). The dataset may be corrupted or there may be an issue with the pixel data handler.\n",
            "ERROR:root:Error reading DICOM file: /content/drive/MyDrive/capstone/dataset/Echos/LVT/1373/PT000000/ST000000/SE000000/IM000104, The length of the pixel data in the dataset (92562 bytes) doesn't match the expected length (2359296 bytes). The dataset may be corrupted or there may be an issue with the pixel data handler.\n",
            "ERROR:root:Error reading DICOM file: /content/drive/MyDrive/capstone/dataset/Echos/LVT/1373/PT000000/ST000000/SE000000/IM000105, The length of the pixel data in the dataset (92436 bytes) doesn't match the expected length (2359296 bytes). The dataset may be corrupted or there may be an issue with the pixel data handler.\n",
            "ERROR:root:Error reading DICOM file: /content/drive/MyDrive/capstone/dataset/Echos/LVT/1373/PT000000/ST000000/SE000000/IM000106, The length of the pixel data in the dataset (92050 bytes) doesn't match the expected length (2359296 bytes). The dataset may be corrupted or there may be an issue with the pixel data handler.\n",
            "ERROR:root:Error reading DICOM file: /content/drive/MyDrive/capstone/dataset/Echos/LVT/1373/PT000000/ST000000/SE000000/IM000113, The length of the pixel data in the dataset (80150 bytes) doesn't match the expected length (2359296 bytes). The dataset may be corrupted or there may be an issue with the pixel data handler.\n",
            "ERROR:root:Error reading DICOM file: /content/drive/MyDrive/capstone/dataset/Echos/LVT/1373/PT000000/ST000000/SE000000/IM000114, The length of the pixel data in the dataset (73766 bytes) doesn't match the expected length (2359296 bytes). The dataset may be corrupted or there may be an issue with the pixel data handler.\n",
            "ERROR:root:Error reading DICOM file: /content/drive/MyDrive/capstone/dataset/Echos/LVT/1373/PT000000/ST000000/SE000000/IM000116, The length of the pixel data in the dataset (92584 bytes) doesn't match the expected length (2359296 bytes). The dataset may be corrupted or there may be an issue with the pixel data handler.\n",
            "ERROR:root:Error reading DICOM file: /content/drive/MyDrive/capstone/dataset/Echos/LVT/1373/PT000000/ST000000/SE000000/IM000120, The length of the pixel data in the dataset (75544 bytes) doesn't match the expected length (2359296 bytes). The dataset may be corrupted or there may be an issue with the pixel data handler.\n",
            "ERROR:root:Error reading DICOM file: /content/drive/MyDrive/capstone/dataset/Echos/LVT/1373/PT000000/ST000000/SE000000/IM000121, The length of the pixel data in the dataset (75008 bytes) doesn't match the expected length (2359296 bytes). The dataset may be corrupted or there may be an issue with the pixel data handler.\n",
            "970it [2:25:27,  7.71s/it]"
          ]
        },
        {
          "output_type": "stream",
          "name": "stdout",
          "text": [
            "processing: /content/drive/MyDrive/capstone/dataset/Echos/LVT/1374/PT000000/ST000000/SE000000\n"
          ]
        },
        {
          "output_type": "stream",
          "name": "stderr",
          "text": [
            "ERROR:root:Error reading DICOM file: /content/drive/MyDrive/capstone/dataset/Echos/LVT/1374/PT000000/ST000000/SE000000/IM000007, The length of the pixel data in the dataset (68342 bytes) doesn't match the expected length (2359296 bytes). The dataset may be corrupted or there may be an issue with the pixel data handler.\n",
            "ERROR:root:Error reading DICOM file: /content/drive/MyDrive/capstone/dataset/Echos/LVT/1374/PT000000/ST000000/SE000000/IM000010, The length of the pixel data in the dataset (71592 bytes) doesn't match the expected length (2359296 bytes). The dataset may be corrupted or there may be an issue with the pixel data handler.\n",
            "ERROR:root:Error reading DICOM file: /content/drive/MyDrive/capstone/dataset/Echos/LVT/1374/PT000000/ST000000/SE000000/IM000011, The length of the pixel data in the dataset (67574 bytes) doesn't match the expected length (2359296 bytes). The dataset may be corrupted or there may be an issue with the pixel data handler.\n",
            "ERROR:root:Error reading DICOM file: /content/drive/MyDrive/capstone/dataset/Echos/LVT/1374/PT000000/ST000000/SE000000/IM000012, The length of the pixel data in the dataset (88476 bytes) doesn't match the expected length (2359296 bytes). The dataset may be corrupted or there may be an issue with the pixel data handler.\n",
            "ERROR:root:Error reading DICOM file: /content/drive/MyDrive/capstone/dataset/Echos/LVT/1374/PT000000/ST000000/SE000000/IM000013, The length of the pixel data in the dataset (98776 bytes) doesn't match the expected length (2359296 bytes). The dataset may be corrupted or there may be an issue with the pixel data handler.\n",
            "ERROR:root:Error reading DICOM file: /content/drive/MyDrive/capstone/dataset/Echos/LVT/1374/PT000000/ST000000/SE000000/IM000015, The length of the pixel data in the dataset (124194 bytes) doesn't match the expected length (2359296 bytes). The dataset may be corrupted or there may be an issue with the pixel data handler.\n",
            "ERROR:root:Error reading DICOM file: /content/drive/MyDrive/capstone/dataset/Echos/LVT/1374/PT000000/ST000000/SE000000/IM000019, The length of the pixel data in the dataset (103424 bytes) doesn't match the expected length (2359296 bytes). The dataset may be corrupted or there may be an issue with the pixel data handler.\n",
            "ERROR:root:Error reading DICOM file: /content/drive/MyDrive/capstone/dataset/Echos/LVT/1374/PT000000/ST000000/SE000000/IM000020, The length of the pixel data in the dataset (88248 bytes) doesn't match the expected length (2359296 bytes). The dataset may be corrupted or there may be an issue with the pixel data handler.\n",
            "ERROR:root:Error reading DICOM file: /content/drive/MyDrive/capstone/dataset/Echos/LVT/1374/PT000000/ST000000/SE000000/IM000026, The length of the pixel data in the dataset (105352 bytes) doesn't match the expected length (2359296 bytes). The dataset may be corrupted or there may be an issue with the pixel data handler.\n",
            "ERROR:root:Error reading DICOM file: /content/drive/MyDrive/capstone/dataset/Echos/LVT/1374/PT000000/ST000000/SE000000/IM000027, The length of the pixel data in the dataset (106816 bytes) doesn't match the expected length (2359296 bytes). The dataset may be corrupted or there may be an issue with the pixel data handler.\n",
            "ERROR:root:Error reading DICOM file: /content/drive/MyDrive/capstone/dataset/Echos/LVT/1374/PT000000/ST000000/SE000000/IM000028, The length of the pixel data in the dataset (87680 bytes) doesn't match the expected length (2359296 bytes). The dataset may be corrupted or there may be an issue with the pixel data handler.\n",
            "ERROR:root:Error reading DICOM file: /content/drive/MyDrive/capstone/dataset/Echos/LVT/1374/PT000000/ST000000/SE000000/IM000031, The length of the pixel data in the dataset (111130 bytes) doesn't match the expected length (2359296 bytes). The dataset may be corrupted or there may be an issue with the pixel data handler.\n",
            "ERROR:root:Error reading DICOM file: /content/drive/MyDrive/capstone/dataset/Echos/LVT/1374/PT000000/ST000000/SE000000/IM000050, The length of the pixel data in the dataset (102384 bytes) doesn't match the expected length (2359296 bytes). The dataset may be corrupted or there may be an issue with the pixel data handler.\n",
            "ERROR:root:Error reading DICOM file: /content/drive/MyDrive/capstone/dataset/Echos/LVT/1374/PT000000/ST000000/SE000000/IM000051, The length of the pixel data in the dataset (98996 bytes) doesn't match the expected length (2359296 bytes). The dataset may be corrupted or there may be an issue with the pixel data handler.\n",
            "ERROR:root:Error reading DICOM file: /content/drive/MyDrive/capstone/dataset/Echos/LVT/1374/PT000000/ST000000/SE000000/IM000052, The length of the pixel data in the dataset (88900 bytes) doesn't match the expected length (2359296 bytes). The dataset may be corrupted or there may be an issue with the pixel data handler.\n",
            "ERROR:root:Error reading DICOM file: /content/drive/MyDrive/capstone/dataset/Echos/LVT/1374/PT000000/ST000000/SE000000/IM000056, The length of the pixel data in the dataset (72578 bytes) doesn't match the expected length (2359296 bytes). The dataset may be corrupted or there may be an issue with the pixel data handler.\n",
            "ERROR:root:Error reading DICOM file: /content/drive/MyDrive/capstone/dataset/Echos/LVT/1374/PT000000/ST000000/SE000000/IM000057, The length of the pixel data in the dataset (73658 bytes) doesn't match the expected length (2359296 bytes). The dataset may be corrupted or there may be an issue with the pixel data handler.\n",
            "ERROR:root:Error reading DICOM file: /content/drive/MyDrive/capstone/dataset/Echos/LVT/1374/PT000000/ST000000/SE000000/IM000058, The length of the pixel data in the dataset (74768 bytes) doesn't match the expected length (2359296 bytes). The dataset may be corrupted or there may be an issue with the pixel data handler.\n",
            "ERROR:root:Error reading DICOM file: /content/drive/MyDrive/capstone/dataset/Echos/LVT/1374/PT000000/ST000000/SE000000/IM000059, The length of the pixel data in the dataset (110582 bytes) doesn't match the expected length (2359296 bytes). The dataset may be corrupted or there may be an issue with the pixel data handler.\n",
            "ERROR:root:Error reading DICOM file: /content/drive/MyDrive/capstone/dataset/Echos/LVT/1374/PT000000/ST000000/SE000000/IM000062, The length of the pixel data in the dataset (107610 bytes) doesn't match the expected length (2359296 bytes). The dataset may be corrupted or there may be an issue with the pixel data handler.\n",
            "ERROR:root:Error reading DICOM file: /content/drive/MyDrive/capstone/dataset/Echos/LVT/1374/PT000000/ST000000/SE000000/IM000065, The length of the pixel data in the dataset (100038 bytes) doesn't match the expected length (2359296 bytes). The dataset may be corrupted or there may be an issue with the pixel data handler.\n",
            "ERROR:root:Error reading DICOM file: /content/drive/MyDrive/capstone/dataset/Echos/LVT/1374/PT000000/ST000000/SE000000/IM000066, The length of the pixel data in the dataset (82518 bytes) doesn't match the expected length (2359296 bytes). The dataset may be corrupted or there may be an issue with the pixel data handler.\n",
            "ERROR:root:Error reading DICOM file: /content/drive/MyDrive/capstone/dataset/Echos/LVT/1374/PT000000/ST000000/SE000000/IM000074, The length of the pixel data in the dataset (102238 bytes) doesn't match the expected length (2359296 bytes). The dataset may be corrupted or there may be an issue with the pixel data handler.\n",
            "ERROR:root:Error reading DICOM file: /content/drive/MyDrive/capstone/dataset/Echos/LVT/1374/PT000000/ST000000/SE000000/IM000075, The length of the pixel data in the dataset (91284 bytes) doesn't match the expected length (2359296 bytes). The dataset may be corrupted or there may be an issue with the pixel data handler.\n",
            "ERROR:root:Error reading DICOM file: /content/drive/MyDrive/capstone/dataset/Echos/LVT/1374/PT000000/ST000000/SE000000/IM000076, The length of the pixel data in the dataset (80522 bytes) doesn't match the expected length (2359296 bytes). The dataset may be corrupted or there may be an issue with the pixel data handler.\n",
            "ERROR:root:Error reading DICOM file: /content/drive/MyDrive/capstone/dataset/Echos/LVT/1374/PT000000/ST000000/SE000000/IM000077, The length of the pixel data in the dataset (97190 bytes) doesn't match the expected length (2359296 bytes). The dataset may be corrupted or there may be an issue with the pixel data handler.\n",
            "ERROR:root:Error reading DICOM file: /content/drive/MyDrive/capstone/dataset/Echos/LVT/1374/PT000000/ST000000/SE000000/IM000082, The length of the pixel data in the dataset (75482 bytes) doesn't match the expected length (2359296 bytes). The dataset may be corrupted or there may be an issue with the pixel data handler.\n",
            "ERROR:root:Error reading DICOM file: /content/drive/MyDrive/capstone/dataset/Echos/LVT/1374/PT000000/ST000000/SE000000/IM000087, The length of the pixel data in the dataset (89526 bytes) doesn't match the expected length (2359296 bytes). The dataset may be corrupted or there may be an issue with the pixel data handler.\n",
            "ERROR:root:Error reading DICOM file: /content/drive/MyDrive/capstone/dataset/Echos/LVT/1374/PT000000/ST000000/SE000000/IM000091, The length of the pixel data in the dataset (75696 bytes) doesn't match the expected length (2359296 bytes). The dataset may be corrupted or there may be an issue with the pixel data handler.\n",
            "ERROR:root:Error reading DICOM file: /content/drive/MyDrive/capstone/dataset/Echos/LVT/1374/PT000000/ST000000/SE000000/IM000092, The length of the pixel data in the dataset (92278 bytes) doesn't match the expected length (2359296 bytes). The dataset may be corrupted or there may be an issue with the pixel data handler.\n",
            "975it [2:26:36,  8.86s/it]"
          ]
        },
        {
          "output_type": "stream",
          "name": "stdout",
          "text": [
            "processing: /content/drive/MyDrive/capstone/dataset/Echos/LVT/1375/PT000000/ST000000/SE000000\n"
          ]
        },
        {
          "output_type": "stream",
          "name": "stderr",
          "text": [
            "981it [2:27:01,  4.51s/it]"
          ]
        },
        {
          "output_type": "stream",
          "name": "stdout",
          "text": [
            "processing: /content/drive/MyDrive/capstone/dataset/Echos/LVT/1376/PT000000/ST000000/SE000001\n"
          ]
        },
        {
          "output_type": "stream",
          "name": "stderr",
          "text": [
            "986it [2:27:28,  3.65s/it]"
          ]
        },
        {
          "output_type": "stream",
          "name": "stdout",
          "text": [
            "processing: /content/drive/MyDrive/capstone/dataset/Echos/LVT/1377/PT000000/ST000000/SE000001\n"
          ]
        },
        {
          "output_type": "stream",
          "name": "stderr",
          "text": [
            "991it [2:28:09,  4.42s/it]"
          ]
        },
        {
          "output_type": "stream",
          "name": "stdout",
          "text": [
            "processing: /content/drive/MyDrive/capstone/dataset/Echos/LVT/1378/PT000000/ST000000/SE000001\n"
          ]
        },
        {
          "output_type": "stream",
          "name": "stderr",
          "text": [
            "995it [2:28:42,  5.20s/it]"
          ]
        },
        {
          "output_type": "stream",
          "name": "stdout",
          "text": [
            "processing: /content/drive/MyDrive/capstone/dataset/Echos/LVT/1379/PT000000/ST000000/SE000000\n"
          ]
        },
        {
          "output_type": "stream",
          "name": "stderr",
          "text": [
            "1000it [2:29:07,  4.01s/it]"
          ]
        },
        {
          "output_type": "stream",
          "name": "stdout",
          "text": [
            "processing: /content/drive/MyDrive/capstone/dataset/Echos/LVT/1380/PT000000/ST000000/SE000000\n"
          ]
        },
        {
          "output_type": "stream",
          "name": "stderr",
          "text": [
            "1006it [2:29:35,  3.08s/it]"
          ]
        },
        {
          "output_type": "stream",
          "name": "stdout",
          "text": [
            "processing: /content/drive/MyDrive/capstone/dataset/Echos/LVT/1381/PT000000/ST000000/SE000001\n"
          ]
        },
        {
          "output_type": "stream",
          "name": "stderr",
          "text": [
            "1011it [2:30:06,  3.54s/it]"
          ]
        },
        {
          "output_type": "stream",
          "name": "stdout",
          "text": [
            "processing: /content/drive/MyDrive/capstone/dataset/Echos/LVT/1383/PT000000/ST000000/SE000001\n"
          ]
        },
        {
          "output_type": "stream",
          "name": "stderr",
          "text": [
            "1016it [2:30:31,  3.06s/it]"
          ]
        },
        {
          "output_type": "stream",
          "name": "stdout",
          "text": [
            "processing: /content/drive/MyDrive/capstone/dataset/Echos/LVT/1384/PT000000/ST000000/SE000001\n"
          ]
        },
        {
          "output_type": "stream",
          "name": "stderr",
          "text": [
            "1020it [2:30:54,  3.70s/it]"
          ]
        },
        {
          "output_type": "stream",
          "name": "stdout",
          "text": [
            "processing: /content/drive/MyDrive/capstone/dataset/Echos/LVT/1385/PT000000/ST000000/SE000000\n"
          ]
        },
        {
          "output_type": "stream",
          "name": "stderr",
          "text": [
            "ERROR:root:Error reading DICOM file: /content/drive/MyDrive/capstone/dataset/Echos/LVT/1385/PT000000/ST000000/SE000000/IM000005, The length of the pixel data in the dataset (70862 bytes) doesn't match the expected length (2359296 bytes). The dataset may be corrupted or there may be an issue with the pixel data handler.\n",
            "ERROR:root:Error reading DICOM file: /content/drive/MyDrive/capstone/dataset/Echos/LVT/1385/PT000000/ST000000/SE000000/IM000008, The length of the pixel data in the dataset (66406 bytes) doesn't match the expected length (2359296 bytes). The dataset may be corrupted or there may be an issue with the pixel data handler.\n",
            "ERROR:root:Error reading DICOM file: /content/drive/MyDrive/capstone/dataset/Echos/LVT/1385/PT000000/ST000000/SE000000/IM000010, The length of the pixel data in the dataset (65744 bytes) doesn't match the expected length (2359296 bytes). The dataset may be corrupted or there may be an issue with the pixel data handler.\n",
            "ERROR:root:Error reading DICOM file: /content/drive/MyDrive/capstone/dataset/Echos/LVT/1385/PT000000/ST000000/SE000000/IM000012, The length of the pixel data in the dataset (112570 bytes) doesn't match the expected length (2359296 bytes). The dataset may be corrupted or there may be an issue with the pixel data handler.\n",
            "ERROR:root:Error reading DICOM file: /content/drive/MyDrive/capstone/dataset/Echos/LVT/1385/PT000000/ST000000/SE000000/IM000013, The length of the pixel data in the dataset (106402 bytes) doesn't match the expected length (2359296 bytes). The dataset may be corrupted or there may be an issue with the pixel data handler.\n",
            "ERROR:root:Error reading DICOM file: /content/drive/MyDrive/capstone/dataset/Echos/LVT/1385/PT000000/ST000000/SE000000/IM000014, The length of the pixel data in the dataset (121396 bytes) doesn't match the expected length (2359296 bytes). The dataset may be corrupted or there may be an issue with the pixel data handler.\n",
            "ERROR:root:Error reading DICOM file: /content/drive/MyDrive/capstone/dataset/Echos/LVT/1385/PT000000/ST000000/SE000000/IM000015, The length of the pixel data in the dataset (103920 bytes) doesn't match the expected length (2359296 bytes). The dataset may be corrupted or there may be an issue with the pixel data handler.\n",
            "ERROR:root:Error reading DICOM file: /content/drive/MyDrive/capstone/dataset/Echos/LVT/1385/PT000000/ST000000/SE000000/IM000021, The length of the pixel data in the dataset (100548 bytes) doesn't match the expected length (2359296 bytes). The dataset may be corrupted or there may be an issue with the pixel data handler.\n",
            "ERROR:root:Error reading DICOM file: /content/drive/MyDrive/capstone/dataset/Echos/LVT/1385/PT000000/ST000000/SE000000/IM000022, The length of the pixel data in the dataset (107594 bytes) doesn't match the expected length (2359296 bytes). The dataset may be corrupted or there may be an issue with the pixel data handler.\n",
            "ERROR:root:Error reading DICOM file: /content/drive/MyDrive/capstone/dataset/Echos/LVT/1385/PT000000/ST000000/SE000000/IM000023, The length of the pixel data in the dataset (107674 bytes) doesn't match the expected length (2359296 bytes). The dataset may be corrupted or there may be an issue with the pixel data handler.\n",
            "ERROR:root:Error reading DICOM file: /content/drive/MyDrive/capstone/dataset/Echos/LVT/1385/PT000000/ST000000/SE000000/IM000029, The length of the pixel data in the dataset (95004 bytes) doesn't match the expected length (2359296 bytes). The dataset may be corrupted or there may be an issue with the pixel data handler.\n",
            "ERROR:root:Error reading DICOM file: /content/drive/MyDrive/capstone/dataset/Echos/LVT/1385/PT000000/ST000000/SE000000/IM000030, The length of the pixel data in the dataset (81480 bytes) doesn't match the expected length (2359296 bytes). The dataset may be corrupted or there may be an issue with the pixel data handler.\n",
            "ERROR:root:Error reading DICOM file: /content/drive/MyDrive/capstone/dataset/Echos/LVT/1385/PT000000/ST000000/SE000000/IM000033, The length of the pixel data in the dataset (104144 bytes) doesn't match the expected length (2359296 bytes). The dataset may be corrupted or there may be an issue with the pixel data handler.\n",
            "ERROR:root:Error reading DICOM file: /content/drive/MyDrive/capstone/dataset/Echos/LVT/1385/PT000000/ST000000/SE000000/IM000051, The length of the pixel data in the dataset (112194 bytes) doesn't match the expected length (2359296 bytes). The dataset may be corrupted or there may be an issue with the pixel data handler.\n",
            "ERROR:root:Error reading DICOM file: /content/drive/MyDrive/capstone/dataset/Echos/LVT/1385/PT000000/ST000000/SE000000/IM000052, The length of the pixel data in the dataset (103654 bytes) doesn't match the expected length (2359296 bytes). The dataset may be corrupted or there may be an issue with the pixel data handler.\n",
            "ERROR:root:Error reading DICOM file: /content/drive/MyDrive/capstone/dataset/Echos/LVT/1385/PT000000/ST000000/SE000000/IM000053, The length of the pixel data in the dataset (94972 bytes) doesn't match the expected length (2359296 bytes). The dataset may be corrupted or there may be an issue with the pixel data handler.\n",
            "ERROR:root:Error reading DICOM file: /content/drive/MyDrive/capstone/dataset/Echos/LVT/1385/PT000000/ST000000/SE000000/IM000058, The length of the pixel data in the dataset (112220 bytes) doesn't match the expected length (2359296 bytes). The dataset may be corrupted or there may be an issue with the pixel data handler.\n",
            "ERROR:root:Error reading DICOM file: /content/drive/MyDrive/capstone/dataset/Echos/LVT/1385/PT000000/ST000000/SE000000/IM000059, The length of the pixel data in the dataset (126600 bytes) doesn't match the expected length (2359296 bytes). The dataset may be corrupted or there may be an issue with the pixel data handler.\n",
            "ERROR:root:Error reading DICOM file: /content/drive/MyDrive/capstone/dataset/Echos/LVT/1385/PT000000/ST000000/SE000000/IM000061, The length of the pixel data in the dataset (83212 bytes) doesn't match the expected length (2359296 bytes). The dataset may be corrupted or there may be an issue with the pixel data handler.\n",
            "ERROR:root:Error reading DICOM file: /content/drive/MyDrive/capstone/dataset/Echos/LVT/1385/PT000000/ST000000/SE000000/IM000062, The length of the pixel data in the dataset (80802 bytes) doesn't match the expected length (2359296 bytes). The dataset may be corrupted or there may be an issue with the pixel data handler.\n",
            "ERROR:root:Error reading DICOM file: /content/drive/MyDrive/capstone/dataset/Echos/LVT/1385/PT000000/ST000000/SE000000/IM000063, The length of the pixel data in the dataset (79598 bytes) doesn't match the expected length (2359296 bytes). The dataset may be corrupted or there may be an issue with the pixel data handler.\n",
            "ERROR:root:Error reading DICOM file: /content/drive/MyDrive/capstone/dataset/Echos/LVT/1385/PT000000/ST000000/SE000000/IM000066, The length of the pixel data in the dataset (97282 bytes) doesn't match the expected length (2359296 bytes). The dataset may be corrupted or there may be an issue with the pixel data handler.\n",
            "ERROR:root:Error reading DICOM file: /content/drive/MyDrive/capstone/dataset/Echos/LVT/1385/PT000000/ST000000/SE000000/IM000067, The length of the pixel data in the dataset (98978 bytes) doesn't match the expected length (2359296 bytes). The dataset may be corrupted or there may be an issue with the pixel data handler.\n",
            "ERROR:root:Error reading DICOM file: /content/drive/MyDrive/capstone/dataset/Echos/LVT/1385/PT000000/ST000000/SE000000/IM000079, The length of the pixel data in the dataset (110634 bytes) doesn't match the expected length (2359296 bytes). The dataset may be corrupted or there may be an issue with the pixel data handler.\n",
            "ERROR:root:Error reading DICOM file: /content/drive/MyDrive/capstone/dataset/Echos/LVT/1385/PT000000/ST000000/SE000000/IM000080, The length of the pixel data in the dataset (112110 bytes) doesn't match the expected length (2359296 bytes). The dataset may be corrupted or there may be an issue with the pixel data handler.\n",
            "ERROR:root:Error reading DICOM file: /content/drive/MyDrive/capstone/dataset/Echos/LVT/1385/PT000000/ST000000/SE000000/IM000081, The length of the pixel data in the dataset (84604 bytes) doesn't match the expected length (2359296 bytes). The dataset may be corrupted or there may be an issue with the pixel data handler.\n",
            "ERROR:root:Error reading DICOM file: /content/drive/MyDrive/capstone/dataset/Echos/LVT/1385/PT000000/ST000000/SE000000/IM000082, The length of the pixel data in the dataset (89668 bytes) doesn't match the expected length (2359296 bytes). The dataset may be corrupted or there may be an issue with the pixel data handler.\n",
            "ERROR:root:Error reading DICOM file: /content/drive/MyDrive/capstone/dataset/Echos/LVT/1385/PT000000/ST000000/SE000000/IM000083, The length of the pixel data in the dataset (85406 bytes) doesn't match the expected length (2359296 bytes). The dataset may be corrupted or there may be an issue with the pixel data handler.\n",
            "ERROR:root:Error reading DICOM file: /content/drive/MyDrive/capstone/dataset/Echos/LVT/1385/PT000000/ST000000/SE000000/IM000084, The length of the pixel data in the dataset (88188 bytes) doesn't match the expected length (2359296 bytes). The dataset may be corrupted or there may be an issue with the pixel data handler.\n",
            "ERROR:root:Error reading DICOM file: /content/drive/MyDrive/capstone/dataset/Echos/LVT/1385/PT000000/ST000000/SE000000/IM000085, The length of the pixel data in the dataset (88040 bytes) doesn't match the expected length (2359296 bytes). The dataset may be corrupted or there may be an issue with the pixel data handler.\n",
            "ERROR:root:Error reading DICOM file: /content/drive/MyDrive/capstone/dataset/Echos/LVT/1385/PT000000/ST000000/SE000000/IM000091, The length of the pixel data in the dataset (106094 bytes) doesn't match the expected length (2359296 bytes). The dataset may be corrupted or there may be an issue with the pixel data handler.\n",
            "ERROR:root:Error reading DICOM file: /content/drive/MyDrive/capstone/dataset/Echos/LVT/1385/PT000000/ST000000/SE000000/IM000095, The length of the pixel data in the dataset (74310 bytes) doesn't match the expected length (2359296 bytes). The dataset may be corrupted or there may be an issue with the pixel data handler.\n",
            "1025it [2:31:56,  7.08s/it]"
          ]
        },
        {
          "output_type": "stream",
          "name": "stdout",
          "text": [
            "processing: /content/drive/MyDrive/capstone/dataset/Echos/LVT/1386/PT000000/ST000000/SE000000\n"
          ]
        },
        {
          "output_type": "stream",
          "name": "stderr",
          "text": [
            "1032it [2:32:32,  4.08s/it]"
          ]
        },
        {
          "output_type": "stream",
          "name": "stdout",
          "text": [
            "processing: /content/drive/MyDrive/capstone/dataset/Echos/LVT/1387/PT000000/ST000000/SE000001\n"
          ]
        },
        {
          "output_type": "stream",
          "name": "stderr",
          "text": [
            "1036it [2:33:26,  7.33s/it]"
          ]
        },
        {
          "output_type": "stream",
          "name": "stdout",
          "text": [
            "processing: /content/drive/MyDrive/capstone/dataset/Echos/LVT/1388/PT000000/ST000000/SE000000\n"
          ]
        },
        {
          "output_type": "stream",
          "name": "stderr",
          "text": [
            "1041it [2:34:35,  8.76s/it]"
          ]
        },
        {
          "output_type": "stream",
          "name": "stdout",
          "text": [
            "processing: /content/drive/MyDrive/capstone/dataset/Echos/LVT/1389/PT000000/ST000000/SE000000\n"
          ]
        },
        {
          "output_type": "stream",
          "name": "stderr",
          "text": [
            "1046it [2:36:33, 13.71s/it]"
          ]
        },
        {
          "output_type": "stream",
          "name": "stdout",
          "text": [
            "processing: /content/drive/MyDrive/capstone/dataset/Echos/LVT/1390/PT000000/ST000000/SE000000\n"
          ]
        },
        {
          "output_type": "stream",
          "name": "stderr",
          "text": [
            "1051it [2:37:20,  8.93s/it]"
          ]
        },
        {
          "output_type": "stream",
          "name": "stdout",
          "text": [
            "processing: /content/drive/MyDrive/capstone/dataset/Echos/LVT/1391/PT000000/ST000000/SE000000\n"
          ]
        },
        {
          "output_type": "stream",
          "name": "stderr",
          "text": [
            "1057it [2:38:14,  6.33s/it]"
          ]
        },
        {
          "output_type": "stream",
          "name": "stdout",
          "text": [
            "processing: /content/drive/MyDrive/capstone/dataset/Echos/LVT/1393/PT000000/ST000000/SE000001\n"
          ]
        },
        {
          "output_type": "stream",
          "name": "stderr",
          "text": [
            "1061it [2:38:54,  6.75s/it]"
          ]
        },
        {
          "output_type": "stream",
          "name": "stdout",
          "text": [
            "processing: /content/drive/MyDrive/capstone/dataset/Echos/LVT/1394/PT000000/ST000000/SE000000\n"
          ]
        },
        {
          "output_type": "stream",
          "name": "stderr",
          "text": [
            "1066it [2:39:25,  4.97s/it]"
          ]
        },
        {
          "output_type": "stream",
          "name": "stdout",
          "text": [
            "processing: /content/drive/MyDrive/capstone/dataset/Echos/LVT/1395/PT000000/ST000000/SE000000\n"
          ]
        },
        {
          "output_type": "stream",
          "name": "stderr",
          "text": [
            "ERROR:root:Error reading DICOM file: /content/drive/MyDrive/capstone/dataset/Echos/LVT/1395/PT000000/ST000000/SE000000/IM000002, The following handlers are available to decode the pixel data however they are missing required dependencies: GDCM (req. ), pylibjpeg (req. )\n",
            "ERROR:root:Error reading DICOM file: /content/drive/MyDrive/capstone/dataset/Echos/LVT/1395/PT000000/ST000000/SE000000/IM000008, The following handlers are available to decode the pixel data however they are missing required dependencies: GDCM (req. ), pylibjpeg (req. )\n",
            "ERROR:root:Error reading DICOM file: /content/drive/MyDrive/capstone/dataset/Echos/LVT/1395/PT000000/ST000000/SE000000/IM000012, The following handlers are available to decode the pixel data however they are missing required dependencies: GDCM (req. ), pylibjpeg (req. )\n",
            "ERROR:root:Error reading DICOM file: /content/drive/MyDrive/capstone/dataset/Echos/LVT/1395/PT000000/ST000000/SE000000/IM000015, The following handlers are available to decode the pixel data however they are missing required dependencies: GDCM (req. ), pylibjpeg (req. )\n",
            "ERROR:root:Error reading DICOM file: /content/drive/MyDrive/capstone/dataset/Echos/LVT/1395/PT000000/ST000000/SE000000/IM000018, The following handlers are available to decode the pixel data however they are missing required dependencies: GDCM (req. ), pylibjpeg (req. )\n",
            "ERROR:root:Error reading DICOM file: /content/drive/MyDrive/capstone/dataset/Echos/LVT/1395/PT000000/ST000000/SE000000/IM000029, The following handlers are available to decode the pixel data however they are missing required dependencies: GDCM (req. ), pylibjpeg (req. )\n",
            "ERROR:root:Error reading DICOM file: /content/drive/MyDrive/capstone/dataset/Echos/LVT/1395/PT000000/ST000000/SE000000/IM000033, The following handlers are available to decode the pixel data however they are missing required dependencies: GDCM (req. ), pylibjpeg (req. )\n",
            "ERROR:root:Error reading DICOM file: /content/drive/MyDrive/capstone/dataset/Echos/LVT/1395/PT000000/ST000000/SE000000/IM000035, The following handlers are available to decode the pixel data however they are missing required dependencies: GDCM (req. ), pylibjpeg (req. )\n",
            "ERROR:root:Error reading DICOM file: /content/drive/MyDrive/capstone/dataset/Echos/LVT/1395/PT000000/ST000000/SE000000/IM000040, The following handlers are available to decode the pixel data however they are missing required dependencies: GDCM (req. ), pylibjpeg (req. )\n",
            "ERROR:root:Error reading DICOM file: /content/drive/MyDrive/capstone/dataset/Echos/LVT/1395/PT000000/ST000000/SE000000/IM000047, The following handlers are available to decode the pixel data however they are missing required dependencies: GDCM (req. ), pylibjpeg (req. )\n",
            "ERROR:root:Error reading DICOM file: /content/drive/MyDrive/capstone/dataset/Echos/LVT/1395/PT000000/ST000000/SE000000/IM000051, The following handlers are available to decode the pixel data however they are missing required dependencies: GDCM (req. ), pylibjpeg (req. )\n",
            "ERROR:root:Error reading DICOM file: /content/drive/MyDrive/capstone/dataset/Echos/LVT/1395/PT000000/ST000000/SE000000/IM000057, The following handlers are available to decode the pixel data however they are missing required dependencies: GDCM (req. ), pylibjpeg (req. )\n",
            "ERROR:root:Error reading DICOM file: /content/drive/MyDrive/capstone/dataset/Echos/LVT/1395/PT000000/ST000000/SE000000/IM000058, The following handlers are available to decode the pixel data however they are missing required dependencies: GDCM (req. ), pylibjpeg (req. )\n",
            "ERROR:root:Error reading DICOM file: /content/drive/MyDrive/capstone/dataset/Echos/LVT/1395/PT000000/ST000000/SE000000/IM000061, The following handlers are available to decode the pixel data however they are missing required dependencies: GDCM (req. ), pylibjpeg (req. )\n",
            "ERROR:root:Error reading DICOM file: /content/drive/MyDrive/capstone/dataset/Echos/LVT/1395/PT000000/ST000000/SE000000/IM000065, The following handlers are available to decode the pixel data however they are missing required dependencies: GDCM (req. ), pylibjpeg (req. )\n",
            "ERROR:root:Error reading DICOM file: /content/drive/MyDrive/capstone/dataset/Echos/LVT/1395/PT000000/ST000000/SE000000/IM000069, The following handlers are available to decode the pixel data however they are missing required dependencies: GDCM (req. ), pylibjpeg (req. )\n",
            "ERROR:root:Error reading DICOM file: /content/drive/MyDrive/capstone/dataset/Echos/LVT/1395/PT000000/ST000000/SE000000/IM000076, The following handlers are available to decode the pixel data however they are missing required dependencies: GDCM (req. ), pylibjpeg (req. )\n",
            "ERROR:root:Error reading DICOM file: /content/drive/MyDrive/capstone/dataset/Echos/LVT/1395/PT000000/ST000000/SE000000/IM000079, The following handlers are available to decode the pixel data however they are missing required dependencies: GDCM (req. ), pylibjpeg (req. )\n",
            "ERROR:root:Error reading DICOM file: /content/drive/MyDrive/capstone/dataset/Echos/LVT/1395/PT000000/ST000000/SE000000/IM000086, The following handlers are available to decode the pixel data however they are missing required dependencies: GDCM (req. ), pylibjpeg (req. )\n",
            "ERROR:root:Error reading DICOM file: /content/drive/MyDrive/capstone/dataset/Echos/LVT/1395/PT000000/ST000000/SE000000/IM000090, The following handlers are available to decode the pixel data however they are missing required dependencies: GDCM (req. ), pylibjpeg (req. )\n",
            "ERROR:root:Error reading DICOM file: /content/drive/MyDrive/capstone/dataset/Echos/LVT/1395/PT000000/ST000000/SE000000/IM000092, The following handlers are available to decode the pixel data however they are missing required dependencies: GDCM (req. ), pylibjpeg (req. )\n",
            "ERROR:root:Error reading DICOM file: /content/drive/MyDrive/capstone/dataset/Echos/LVT/1395/PT000000/ST000000/SE000000/IM000093, The following handlers are available to decode the pixel data however they are missing required dependencies: GDCM (req. ), pylibjpeg (req. )\n",
            "ERROR:root:Error reading DICOM file: /content/drive/MyDrive/capstone/dataset/Echos/LVT/1395/PT000000/ST000000/SE000000/IM000094, The following handlers are available to decode the pixel data however they are missing required dependencies: GDCM (req. ), pylibjpeg (req. )\n",
            "1068it [2:41:43,  9.09s/it]\n"
          ]
        }
      ],
      "source": [
        "load_img(ROOT_PATH,SAVE_PATH)"
      ]
    },
    {
      "cell_type": "markdown",
      "metadata": {
        "id": "2mujfxviBeJG"
      },
      "source": [
        "show one image"
      ]
    },
    {
      "cell_type": "code",
      "execution_count": null,
      "metadata": {
        "id": "RcKYoFpXBeJH"
      },
      "outputs": [],
      "source": [
        "def crop_center_square(img):\n",
        "    # 获取长度和宽度\n",
        "    h,w =  img.shape[:2]\n",
        "    # 判断短边，作为正方形的边\n",
        "    square_w = min(h,w)\n",
        "    start_x = w//2 - square_w//2\n",
        "    end_x = start_x + square_w\n",
        "    start_y = h//2 - square_w//2\n",
        "    end_y = start_y + square_w\n",
        "    result = img[start_y+70:end_y-50,start_x:end_x]\n",
        "    return result"
      ]
    },
    {
      "cell_type": "code",
      "source": [
        "# path = \"/content/drive/MyDrive/capstone/dataset/Processed_with_pydicom/1/1270/1.npy\"\n",
        "path = \"/content/drive/MyDrive/capstone/dataset/Processed_with_pydicom/1/1271/27.npy\"\n",
        "\n",
        "data = np.load(path).astype('float32')\n",
        "print(\"视频npy形状:\",data.shape)\n",
        "data = data[10]\n",
        "print(\"图片原来的尺寸:\",data.shape)\n",
        "data = crop_center_square(data)\n",
        "print(\"裁剪后图片尺寸:\",data.shape)\n",
        "\n",
        "# scale_factor = random.uniform(0.6, 1.5)\n",
        "scale_factor = 1.4\n",
        "\n",
        "print(scale_factor)\n",
        "scaled_size = (int(data.shape[1] * scale_factor), int(data.shape[0] * scale_factor))\n",
        "random_offset = (random.randint(-10, 10), random.randint(-10, 10))\n",
        "\n",
        "# 缩放图像\n",
        "scaled_data = cv2.resize(data, scaled_size, interpolation=cv2.INTER_LINEAR)\n",
        "\n",
        "# 进行平移操作\n",
        "center = (data.shape[1] // 2 + random_offset[0], data.shape[0] // 2 + random_offset[1])\n",
        "data = cv2.getRectSubPix(scaled_data, scaled_size, center)\n",
        "\n",
        "data = cv2.resize(data,(224,224))\n",
        "print(\"统一为\",data.shape)\n",
        "\n",
        "data = data.astype('uint8')\n",
        "img = Image.fromarray(data)\n",
        "img"
      ],
      "metadata": {
        "colab": {
          "base_uri": "https://localhost:8080/",
          "height": 331
        },
        "id": "1cJoQ7HB01v9",
        "outputId": "5fe3223b-c8c7-442c-f039-c8c3fe06388a"
      },
      "execution_count": null,
      "outputs": [
        {
          "output_type": "stream",
          "name": "stdout",
          "text": [
            "视频npy形状: (55, 600, 800)\n",
            "图片原来的尺寸: (600, 800)\n",
            "裁剪后图片尺寸: (480, 600)\n",
            "1.4\n",
            "统一为 (224, 224)\n"
          ]
        },
        {
          "output_type": "execute_result",
          "data": {
            "text/plain": [
              "<PIL.Image.Image image mode=L size=224x224 at 0x7FF7D81EED00>"
            ],
            "image/png": "[encoded data removed]"
          },
          "metadata": {},
          "execution_count": 100
        }
      ]
    },
    {
      "cell_type": "code",
      "source": [
        "print(data)"
      ],
      "metadata": {
        "colab": {
          "base_uri": "https://localhost:8080/"
        },
        "id": "3Jol9jny1FDF",
        "outputId": "8cc510eb-323f-478b-f441-27e47078a4dc"
      },
      "execution_count": null,
      "outputs": [
        {
          "output_type": "stream",
          "name": "stdout",
          "text": [
            "[[90 90 90 ... 90 90 90]\n",
            " [90 90 90 ... 90 90 90]\n",
            " [90 90 90 ... 90 90 90]\n",
            " ...\n",
            " [90 90 90 ... 90 90 90]\n",
            " [90 90 90 ... 90 90 90]\n",
            " [90 90 90 ... 90 90 90]]\n"
          ]
        }
      ]
    },
    {
      "cell_type": "code",
      "source": [
        "img = data.copy()\n",
        "img[img<=95] = 0\n",
        "img[img>150] = 255\n",
        "img = ((img - img.min()) / (img.max()- img.min())) * 255\n",
        "img = img.astype('uint8')\n",
        "img = cv2.equalizeHist(img)\n",
        "alpha = 0.8\n",
        "beta = 0.1  # 图像的最小亮度值为50\n",
        "img = cv2.convertScaleAbs(img, alpha=alpha, beta=beta)\n",
        "\n",
        "# angle = np.random.randint(-30, 30)\n",
        "angle = -10\n",
        "M = cv2.getRotationMatrix2D((224/2, 224/2), angle, 1)\n",
        "img = cv2.warpAffine(img, M, (224, 224))\n",
        "\n",
        "\n",
        "# 将数据转换为图像\n",
        "img = Image.fromarray(img)\n",
        "img.save('augumentation2.jpg')"
      ],
      "metadata": {
        "id": "xXTz366XgR8s"
      },
      "execution_count": null,
      "outputs": []
    },
    {
      "cell_type": "markdown",
      "metadata": {
        "id": "wfYDJCfoBeJJ"
      },
      "source": [
        "# statistics the frames counts from all videos\n"
      ]
    },
    {
      "cell_type": "code",
      "execution_count": null,
      "metadata": {
        "id": "YBIfiu5dBeJJ"
      },
      "outputs": [],
      "source": [
        "all_video_path = []\n",
        "for root,dirs,files in os.walk(SAVE_PATH):\n",
        "    for file in files:\n",
        "        video_path = root/Path(file)\n",
        "        video_path = Path(video_path)\n",
        "        all_video_path.append(video_path)\n",
        "all_video_path = list(set(all_video_path))"
      ]
    },
    {
      "cell_type": "code",
      "execution_count": null,
      "metadata": {
        "colab": {
          "base_uri": "https://localhost:8080/"
        },
        "id": "lMeo9aaYDEkb",
        "outputId": "60ba1f83-d8b7-4d04-9ae4-ee0d2c294ca2"
      },
      "outputs": [
        {
          "output_type": "stream",
          "name": "stdout",
          "text": [
            "Dataset has 15776 videos\n"
          ]
        }
      ],
      "source": [
        "print(\"Dataset has %d videos\"%(len(all_video_path))) #Dataset has 22882 videos"
      ]
    },
    {
      "cell_type": "code",
      "execution_count": null,
      "metadata": {
        "colab": {
          "base_uri": "https://localhost:8080/"
        },
        "id": "jpLmVoxuBeJJ",
        "outputId": "ad90d48d-47ba-43c7-c0c4-9143a2a4423c"
      },
      "outputs": [
        {
          "output_type": "execute_result",
          "data": {
            "text/plain": [
              "[PosixPath('/content/drive/MyDrive/capstone/dataset/Processed_with_pydicom/1/1327/45.npy'),\n",
              " PosixPath('/content/drive/MyDrive/capstone/dataset/Processed_with_pydicom/1/1310/59.npy'),\n",
              " PosixPath('/content/drive/MyDrive/capstone/dataset/Processed_with_pydicom/0/0104/52.npy'),\n",
              " PosixPath('/content/drive/MyDrive/capstone/dataset/Processed_with_pydicom/1/1351/9.npy'),\n",
              " PosixPath('/content/drive/MyDrive/capstone/dataset/Processed_with_pydicom/0/0058/51.npy')]"
            ]
          },
          "metadata": {},
          "execution_count": 23
        }
      ],
      "source": [
        "all_video_path[:5]"
      ]
    },
    {
      "cell_type": "code",
      "source": [
        "video_with_label_1 = list(filter(lambda x: str(x).split('/')[-3]=='1',all_video_path))\n",
        "video_with_label_0 = list(filter(lambda x: str(x).split('/')[-3]=='0',all_video_path))\n",
        "print(\"%d videos has the label 1\"%(len(video_with_label_1)))\n",
        "print(\"%d videos has the label 0\"%(len(video_with_label_0)))\n"
      ],
      "metadata": {
        "colab": {
          "base_uri": "https://localhost:8080/"
        },
        "id": "C5VwJ_pl1LMI",
        "outputId": "860ebdee-865e-45e3-e3e6-0c56830cb769"
      },
      "execution_count": null,
      "outputs": [
        {
          "output_type": "stream",
          "name": "stdout",
          "text": [
            "8728 videos has the label 1\n",
            "7048 videos has the label 0\n"
          ]
        }
      ]
    },
    {
      "cell_type": "code",
      "execution_count": null,
      "metadata": {
        "colab": {
          "base_uri": "https://localhost:8080/",
          "height": 484
        },
        "id": "dhfdoKUdBeJK",
        "outputId": "4cafd937-316f-484f-e22c-bc8fd6ec4246"
      },
      "outputs": [
        {
          "output_type": "stream",
          "name": "stderr",
          "text": [
            "100%|██████████| 15776/15776 [1:41:53<00:00,  2.58it/s]\n"
          ]
        },
        {
          "output_type": "stream",
          "name": "stdout",
          "text": [
            "the mean of data is: 32.58519269776876\n",
            "the median of data is: 28.0\n"
          ]
        },
        {
          "output_type": "display_data",
          "data": {
            "text/plain": [
              "<Figure size 640x480 with 1 Axes>"
            ],
            "image/png": "[encoded data removed]"
          },
          "metadata": {}
        }
      ],
      "source": [
        "# statistics the frames counts from all videos\n",
        "length =  []\n",
        "for path in tqdm(all_video_path):\n",
        "    frames = np.load(path)\n",
        "    frames_count = frames.shape[0]\n",
        "    length.append(frames_count)\n",
        "plt.hist(length,50)\n",
        "print('the mean of data is:' ,np.mean(length))\n",
        "print('the median of data is:' ,np.median(length))"
      ]
    },
    {
      "cell_type": "markdown",
      "source": [
        "We will drop the video with only 1 frame  \n",
        "MAX_SEQ_LENGTH = 28  #based on median "
      ],
      "metadata": {
        "id": "HI57wYBkXdLi"
      }
    },
    {
      "cell_type": "markdown",
      "source": [
        "# Data Proprecessing"
      ],
      "metadata": {
        "id": "SCRnBjuuZx_h"
      }
    },
    {
      "cell_type": "markdown",
      "metadata": {
        "id": "-Kjdca_vBeJG"
      },
      "source": [
        "1. crop to square\n",
        "2. resize -> (224,224)\n",
        "3. uniform the length of frames in videos"
      ]
    },
    {
      "cell_type": "code",
      "execution_count": null,
      "metadata": {
        "id": "zh-bkFHZBeJL"
      },
      "outputs": [],
      "source": [
        "MAX_SEQ_LENGTH = 28 # uniform the length of frames in videos \n",
        "NUM_FEATURES = 1024\n",
        "IMG_SIZE = 224\n",
        "class_vocab = ['0','1']"
      ]
    },
    {
      "cell_type": "code",
      "source": [
        "# 统一帧数\n",
        "def uniform_frames(MAX_SEQ_LENGTH, video_arr):\n",
        "    frames_count = len(video_arr)\n",
        "    if frames_count < MAX_SEQ_LENGTH: \n",
        "        diff = MAX_SEQ_LENGTH - frames_count \n",
        "        multiplier = diff//frames_count + 1  \n",
        "        padding = video_arr\n",
        "        for _ in range(multiplier):\n",
        "            video_arr = np.concatenate((video_arr, padding))    \n",
        "    video_arr = video_arr[:MAX_SEQ_LENGTH]\n",
        "    return video_arr"
      ],
      "metadata": {
        "id": "3FuDB4yqbEYr"
      },
      "execution_count": null,
      "outputs": []
    },
    {
      "cell_type": "code",
      "source": [
        "def load_video(video_path):\n",
        "    frames = np.load(video_path)\n",
        "    frames = frames.astype('float32')\n",
        "    res = []\n",
        "    for frame in frames:\n",
        "        frame = crop_center_square(frame)\n",
        "        frame = cv2.resize(frame,(IMG_SIZE,IMG_SIZE))\n",
        "        frame[frame<=95] = 0\n",
        "        frame[frame>160] = 255\n",
        "        frame = ((frame - frame.min()) / (frame.max()- frame.min())) * 255\n",
        "        frame = frame.astype('uint8')\n",
        "        frame = cv2.equalizeHist(frame)\n",
        "        alpha = 0.8\n",
        "        beta = -1# 图像的最小亮度值为50\n",
        "        frame = cv2.convertScaleAbs(frame, alpha=alpha, beta=beta)\n",
        "    \n",
        "        color_img = np.zeros((frame.shape[0], frame.shape[1], 3), dtype=np.uint8)\n",
        "        color_img[:, :, 0] = frame\n",
        "        color_img[:, :, 1] = frame\n",
        "        color_img[:, :, 2] = frame\n",
        "\n",
        "        res.append(color_img)\n",
        "    \n",
        "    frames = uniform_frames(29,res)\n",
        "    frames = np.array(frames)\n",
        "    return frames\n"
      ],
      "metadata": {
        "id": "vPjf79dVbHJB"
      },
      "execution_count": null,
      "outputs": []
    },
    {
      "cell_type": "code",
      "source": [
        "\n",
        "import imageio\n",
        "from IPython.display import Image\n",
        "\n",
        "\n",
        "frames = load_video('/content/drive/MyDrive/capstone/dataset/Processed_with_pydicom/0/0014/7.npy')\n",
        "frames = frames.astype(np.uint8)\n",
        "imageio.mimsave(\"animation.gif\", frames, fps=10)\n",
        "Image(filename='animation.gif',embed=True)"
      ],
      "metadata": {
        "colab": {
          "base_uri": "https://localhost:8080/",
          "height": 241
        },
        "id": "zjl5flWiicwr",
        "outputId": "4ed76101-d798-4a27-94bf-7ce7f48b963b"
      },
      "execution_count": null,
      "outputs": [
        {
          "output_type": "execute_result",
          "data": {
            "image/gif": "[encoded data removed]",
            "text/plain": [
              "<IPython.core.display.Image object>"
            ]
          },
          "metadata": {},
          "execution_count": 32
        }
      ]
    },
    {
      "cell_type": "code",
      "source": [],
      "metadata": {
        "id": "nUkbk7ekra72"
      },
      "execution_count": null,
      "outputs": []
    }
  ],
  "metadata": {
    "colab": {
      "provenance": []
    },
    "kernelspec": {
      "display_name": "capstone_project",
      "language": "python",
      "name": "python3"
    },
    "language_info": {
      "codemirror_mode": {
        "name": "ipython",
        "version": 3
      },
      "file_extension": ".py",
      "mimetype": "text/x-python",
      "name": "python",
      "nbconvert_exporter": "python",
      "pygments_lexer": "ipython3",
      "version": "3.7.16"
    },
    "vscode": {
      "interpreter": {
        "hash": "577fad17edabe24f0e56d57da8563aec9d889288775f1131aa5f7fcea16faf44"
      }
    }
  },
  "nbformat": 4,
  "nbformat_minor": 0
}