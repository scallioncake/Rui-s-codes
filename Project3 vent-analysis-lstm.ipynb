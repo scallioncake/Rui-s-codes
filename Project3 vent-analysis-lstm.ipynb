{
 "cells": [
  {
   "cell_type": "code",
   "execution_count": 1,
   "id": "6a330124",
   "metadata": {
    "execution": {
     "iopub.execute_input": "2023-04-08T17:55:46.601210Z",
     "iopub.status.busy": "2023-04-08T17:55:46.600804Z",
     "iopub.status.idle": "2023-04-08T17:55:58.741208Z",
     "shell.execute_reply": "2023-04-08T17:55:58.739810Z"
    },
    "papermill": {
     "duration": 12.16759,
     "end_time": "2023-04-08T17:55:58.744362",
     "exception": false,
     "start_time": "2023-04-08T17:55:46.576772",
     "status": "completed"
    },
    "tags": []
   },
   "outputs": [],
   "source": [
    "import pandas as pd\n",
    "import seaborn as sns\n",
    "import matplotlib.pyplot as plt\n",
    "import sklearn.preprocessing\n",
    "from sklearn.model_selection import train_test_split\n",
    "import numpy as np\n",
    "import tensorflow as tf\n",
    "from tensorflow import keras\n",
    "from tensorflow.keras import layers\n",
    "from imblearn.over_sampling import SMOTE\n",
    "from sklearn.impute import KNNImputer"
   ]
  },
  {
   "cell_type": "code",
   "execution_count": 2,
   "id": "f29edfad",
   "metadata": {
    "execution": {
     "iopub.execute_input": "2023-04-08T17:55:58.790290Z",
     "iopub.status.busy": "2023-04-08T17:55:58.789418Z",
     "iopub.status.idle": "2023-04-08T17:55:58.889419Z",
     "shell.execute_reply": "2023-04-08T17:55:58.888064Z"
    },
    "papermill": {
     "duration": 0.128657,
     "end_time": "2023-04-08T17:55:58.893048",
     "exception": false,
     "start_time": "2023-04-08T17:55:58.764391",
     "status": "completed"
    },
    "tags": []
   },
   "outputs": [],
   "source": [
    "dynamic = pd.read_csv('../input/intubation-prediction/sph_dynamic.csv')\n",
    "static = pd.read_csv('../input/intubation-prediction/sph_static.csv')"
   ]
  },
  {
   "cell_type": "code",
   "execution_count": 3,
   "id": "8b17483d",
   "metadata": {
    "execution": {
     "iopub.execute_input": "2023-04-08T17:55:58.937474Z",
     "iopub.status.busy": "2023-04-08T17:55:58.937069Z",
     "iopub.status.idle": "2023-04-08T17:55:58.965999Z",
     "shell.execute_reply": "2023-04-08T17:55:58.964979Z"
    },
    "papermill": {
     "duration": 0.055523,
     "end_time": "2023-04-08T17:55:58.969436",
     "exception": false,
     "start_time": "2023-04-08T17:55:58.913913",
     "status": "completed"
    },
    "tags": []
   },
   "outputs": [],
   "source": [
    "merge_df = pd.merge(dynamic, static, on = 'stay_id')"
   ]
  },
  {
   "cell_type": "code",
   "execution_count": 4,
   "id": "fbbd3869",
   "metadata": {
    "execution": {
     "iopub.execute_input": "2023-04-08T17:55:59.010604Z",
     "iopub.status.busy": "2023-04-08T17:55:59.010180Z",
     "iopub.status.idle": "2023-04-08T17:56:10.679613Z",
     "shell.execute_reply": "2023-04-08T17:56:10.678171Z"
    },
    "papermill": {
     "duration": 11.693313,
     "end_time": "2023-04-08T17:56:10.682668",
     "exception": false,
     "start_time": "2023-04-08T17:55:58.989355",
     "status": "completed"
    },
    "tags": []
   },
   "outputs": [],
   "source": [
    "merge_df['icu_intime'] = pd.to_datetime(merge_df['icu_intime'], format = \"%Y-%m-%d %H:%M:%S.%f\")\n",
    "\n",
    "for i in range(len(merge_df)):\n",
    "        merge_df.loc[i, 'vent_start'] = pd.Timestamp(merge_df.loc[i, 'vent_start']).replace(year = merge_df.loc[i, 'icu_intime'].year)\n",
    "        merge_df.loc[i, 'vent_end'] = pd.Timestamp(merge_df.loc[i, 'vent_end']).replace(year = merge_df.loc[i, 'icu_intime'].year)\n",
    "\n",
    "merge_df['vent_start'] = pd.to_datetime(merge_df['vent_start'], format = \"%Y-%m-%d %H:%M:%S.%f\")\n",
    "merge_df['vent_end'] = pd.to_datetime(merge_df['vent_end'], format = \"%Y-%m-%d %H:%M:%S.%f\")\n",
    "merge_df['charttime'] = pd.to_datetime(merge_df['charttime'], format = \"%Y-%m-%d %H:%M:%S.%f\")"
   ]
  },
  {
   "cell_type": "code",
   "execution_count": 5,
   "id": "3ff8f0b2",
   "metadata": {
    "execution": {
     "iopub.execute_input": "2023-04-08T17:56:10.726658Z",
     "iopub.status.busy": "2023-04-08T17:56:10.725960Z",
     "iopub.status.idle": "2023-04-08T17:56:10.744114Z",
     "shell.execute_reply": "2023-04-08T17:56:10.742669Z"
    },
    "papermill": {
     "duration": 0.044613,
     "end_time": "2023-04-08T17:56:10.747454",
     "exception": false,
     "start_time": "2023-04-08T17:56:10.702841",
     "status": "completed"
    },
    "tags": []
   },
   "outputs": [],
   "source": [
    "#Remove the chart data that is done after 12h in ICU\n",
    "merge_df = merge_df[(merge_df['charttime'] - merge_df['icu_intime']).dt.total_seconds() <= 43200]  \n",
    "\n",
    "#Remove the records of the patient that is intubated after 48h in ICU\n",
    "merge_df = merge_df[(merge_df['vent_start'] - merge_df['icu_intime']).dt.total_seconds() <= 172800]\n",
    "\n",
    "#Specific case: Last year of the day\n",
    "merge_df = merge_df[(merge_df['vent_start'] - merge_df['icu_intime']).dt.total_seconds() >= 0]"
   ]
  },
  {
   "cell_type": "code",
   "execution_count": 6,
   "id": "bbec989d",
   "metadata": {
    "execution": {
     "iopub.execute_input": "2023-04-08T17:56:10.789297Z",
     "iopub.status.busy": "2023-04-08T17:56:10.788864Z",
     "iopub.status.idle": "2023-04-08T17:56:10.800534Z",
     "shell.execute_reply": "2023-04-08T17:56:10.799251Z"
    },
    "papermill": {
     "duration": 0.035642,
     "end_time": "2023-04-08T17:56:10.803176",
     "exception": false,
     "start_time": "2023-04-08T17:56:10.767534",
     "status": "completed"
    },
    "tags": []
   },
   "outputs": [],
   "source": [
    "mean = np.mean(merge_df['vent_duration'])\n",
    "std_dev = np.std(merge_df['vent_duration'])\n",
    "\n",
    "merge_df['z_score'] = (merge_df['vent_duration'] - mean) / std_dev\n",
    "\n",
    "merge_df = merge_df.loc[abs(merge_df['z_score']) <= 3]"
   ]
  },
  {
   "cell_type": "code",
   "execution_count": 7,
   "id": "1efa9434",
   "metadata": {
    "execution": {
     "iopub.execute_input": "2023-04-08T17:56:10.845334Z",
     "iopub.status.busy": "2023-04-08T17:56:10.844531Z",
     "iopub.status.idle": "2023-04-08T17:56:10.890586Z",
     "shell.execute_reply": "2023-04-08T17:56:10.889326Z"
    },
    "papermill": {
     "duration": 0.070331,
     "end_time": "2023-04-08T17:56:10.893504",
     "exception": false,
     "start_time": "2023-04-08T17:56:10.823173",
     "status": "completed"
    },
    "tags": []
   },
   "outputs": [],
   "source": [
    "merge_df['vent_icuin'] = (merge_df['vent_start'] - merge_df['icu_intime']).apply(lambda x: x.total_seconds())"
   ]
  },
  {
   "cell_type": "code",
   "execution_count": 8,
   "id": "1ba52420",
   "metadata": {
    "execution": {
     "iopub.execute_input": "2023-04-08T17:56:10.934667Z",
     "iopub.status.busy": "2023-04-08T17:56:10.934244Z",
     "iopub.status.idle": "2023-04-08T17:56:10.946253Z",
     "shell.execute_reply": "2023-04-08T17:56:10.944961Z"
    },
    "papermill": {
     "duration": 0.035993,
     "end_time": "2023-04-08T17:56:10.949114",
     "exception": false,
     "start_time": "2023-04-08T17:56:10.913121",
     "status": "completed"
    },
    "tags": []
   },
   "outputs": [],
   "source": [
    "merge_df = merge_df.sort_values(['stay_id', 'charttime'])"
   ]
  },
  {
   "cell_type": "code",
   "execution_count": 9,
   "id": "0b611f2f",
   "metadata": {
    "execution": {
     "iopub.execute_input": "2023-04-08T17:56:10.992379Z",
     "iopub.status.busy": "2023-04-08T17:56:10.991964Z",
     "iopub.status.idle": "2023-04-08T17:56:11.040372Z",
     "shell.execute_reply": "2023-04-08T17:56:11.038980Z"
    },
    "papermill": {
     "duration": 0.072554,
     "end_time": "2023-04-08T17:56:11.043504",
     "exception": false,
     "start_time": "2023-04-08T17:56:10.970950",
     "status": "completed"
    },
    "tags": []
   },
   "outputs": [],
   "source": [
    "merge_df = merge_df.loc[(merge_df['icu_intime'] - merge_df['charttime']).apply(lambda x: x.total_seconds()) <= 31 * 60 * 60 * 60]"
   ]
  },
  {
   "cell_type": "code",
   "execution_count": 10,
   "id": "c35c17cc",
   "metadata": {
    "execution": {
     "iopub.execute_input": "2023-04-08T17:56:11.084426Z",
     "iopub.status.busy": "2023-04-08T17:56:11.083991Z",
     "iopub.status.idle": "2023-04-08T17:56:11.136511Z",
     "shell.execute_reply": "2023-04-08T17:56:11.135195Z"
    },
    "papermill": {
     "duration": 0.076269,
     "end_time": "2023-04-08T17:56:11.139154",
     "exception": false,
     "start_time": "2023-04-08T17:56:11.062885",
     "status": "completed"
    },
    "tags": []
   },
   "outputs": [
    {
     "data": {
      "text/html": [
       "<div>\n",
       "<style scoped>\n",
       "    .dataframe tbody tr th:only-of-type {\n",
       "        vertical-align: middle;\n",
       "    }\n",
       "\n",
       "    .dataframe tbody tr th {\n",
       "        vertical-align: top;\n",
       "    }\n",
       "\n",
       "    .dataframe thead th {\n",
       "        text-align: right;\n",
       "    }\n",
       "</style>\n",
       "<table border=\"1\" class=\"dataframe\">\n",
       "  <thead>\n",
       "    <tr style=\"text-align: right;\">\n",
       "      <th></th>\n",
       "      <th>stay_id</th>\n",
       "      <th>charttime</th>\n",
       "      <th>total_protein</th>\n",
       "      <th>calcium</th>\n",
       "      <th>creatinine</th>\n",
       "      <th>glucose</th>\n",
       "      <th>sodium</th>\n",
       "      <th>chloride</th>\n",
       "      <th>heart_rate</th>\n",
       "      <th>sbp</th>\n",
       "      <th>...</th>\n",
       "      <th>sofa_liver</th>\n",
       "      <th>sofa_cardiovascular</th>\n",
       "      <th>sofa_cns</th>\n",
       "      <th>sofa_renal</th>\n",
       "      <th>icu_intime</th>\n",
       "      <th>vent_start</th>\n",
       "      <th>vent_end</th>\n",
       "      <th>vent_duration</th>\n",
       "      <th>z_score</th>\n",
       "      <th>vent_icuin</th>\n",
       "    </tr>\n",
       "  </thead>\n",
       "  <tbody>\n",
       "    <tr>\n",
       "      <th>6204</th>\n",
       "      <td>30004144</td>\n",
       "      <td>2126-04-04 09:30:00</td>\n",
       "      <td>NaN</td>\n",
       "      <td>8.0</td>\n",
       "      <td>0.7</td>\n",
       "      <td>114.0</td>\n",
       "      <td>135.0</td>\n",
       "      <td>103.0</td>\n",
       "      <td>NaN</td>\n",
       "      <td>NaN</td>\n",
       "      <td>...</td>\n",
       "      <td>NaN</td>\n",
       "      <td>NaN</td>\n",
       "      <td>NaN</td>\n",
       "      <td>NaN</td>\n",
       "      <td>2126-04-04 13:20:25</td>\n",
       "      <td>2126-04-05 16:00:00</td>\n",
       "      <td>2126-04-06 17:00:00</td>\n",
       "      <td>25.000000</td>\n",
       "      <td>-0.269266</td>\n",
       "      <td>95975.0</td>\n",
       "    </tr>\n",
       "    <tr>\n",
       "      <th>6203</th>\n",
       "      <td>30004144</td>\n",
       "      <td>2126-04-04 13:06:00</td>\n",
       "      <td>NaN</td>\n",
       "      <td>6.8</td>\n",
       "      <td>0.7</td>\n",
       "      <td>133.0</td>\n",
       "      <td>135.0</td>\n",
       "      <td>102.0</td>\n",
       "      <td>NaN</td>\n",
       "      <td>NaN</td>\n",
       "      <td>...</td>\n",
       "      <td>NaN</td>\n",
       "      <td>NaN</td>\n",
       "      <td>NaN</td>\n",
       "      <td>NaN</td>\n",
       "      <td>2126-04-04 13:20:25</td>\n",
       "      <td>2126-04-05 16:00:00</td>\n",
       "      <td>2126-04-06 17:00:00</td>\n",
       "      <td>25.000000</td>\n",
       "      <td>-0.269266</td>\n",
       "      <td>95975.0</td>\n",
       "    </tr>\n",
       "    <tr>\n",
       "      <th>6991</th>\n",
       "      <td>30005366</td>\n",
       "      <td>2202-12-28 02:10:00</td>\n",
       "      <td>NaN</td>\n",
       "      <td>8.8</td>\n",
       "      <td>6.7</td>\n",
       "      <td>41.0</td>\n",
       "      <td>139.0</td>\n",
       "      <td>100.0</td>\n",
       "      <td>NaN</td>\n",
       "      <td>NaN</td>\n",
       "      <td>...</td>\n",
       "      <td>NaN</td>\n",
       "      <td>NaN</td>\n",
       "      <td>NaN</td>\n",
       "      <td>NaN</td>\n",
       "      <td>2202-12-27 17:36:59</td>\n",
       "      <td>2202-12-28 14:00:00</td>\n",
       "      <td>2202-12-28 20:00:00</td>\n",
       "      <td>6.000000</td>\n",
       "      <td>-0.598952</td>\n",
       "      <td>73381.0</td>\n",
       "    </tr>\n",
       "    <tr>\n",
       "      <th>2701</th>\n",
       "      <td>30006983</td>\n",
       "      <td>2159-10-11 13:20:00</td>\n",
       "      <td>NaN</td>\n",
       "      <td>8.0</td>\n",
       "      <td>0.8</td>\n",
       "      <td>156.0</td>\n",
       "      <td>132.0</td>\n",
       "      <td>102.0</td>\n",
       "      <td>NaN</td>\n",
       "      <td>NaN</td>\n",
       "      <td>...</td>\n",
       "      <td>NaN</td>\n",
       "      <td>NaN</td>\n",
       "      <td>NaN</td>\n",
       "      <td>NaN</td>\n",
       "      <td>2159-10-12 03:56:42</td>\n",
       "      <td>2159-10-12 18:00:00</td>\n",
       "      <td>2159-10-14 19:00:00</td>\n",
       "      <td>49.000000</td>\n",
       "      <td>0.147178</td>\n",
       "      <td>50598.0</td>\n",
       "    </tr>\n",
       "    <tr>\n",
       "      <th>2700</th>\n",
       "      <td>30006983</td>\n",
       "      <td>2159-10-12 04:28:00</td>\n",
       "      <td>NaN</td>\n",
       "      <td>7.1</td>\n",
       "      <td>1.0</td>\n",
       "      <td>89.0</td>\n",
       "      <td>136.0</td>\n",
       "      <td>108.0</td>\n",
       "      <td>NaN</td>\n",
       "      <td>NaN</td>\n",
       "      <td>...</td>\n",
       "      <td>NaN</td>\n",
       "      <td>NaN</td>\n",
       "      <td>NaN</td>\n",
       "      <td>NaN</td>\n",
       "      <td>2159-10-12 03:56:42</td>\n",
       "      <td>2159-10-12 18:00:00</td>\n",
       "      <td>2159-10-14 19:00:00</td>\n",
       "      <td>49.000000</td>\n",
       "      <td>0.147178</td>\n",
       "      <td>50598.0</td>\n",
       "    </tr>\n",
       "    <tr>\n",
       "      <th>...</th>\n",
       "      <td>...</td>\n",
       "      <td>...</td>\n",
       "      <td>...</td>\n",
       "      <td>...</td>\n",
       "      <td>...</td>\n",
       "      <td>...</td>\n",
       "      <td>...</td>\n",
       "      <td>...</td>\n",
       "      <td>...</td>\n",
       "      <td>...</td>\n",
       "      <td>...</td>\n",
       "      <td>...</td>\n",
       "      <td>...</td>\n",
       "      <td>...</td>\n",
       "      <td>...</td>\n",
       "      <td>...</td>\n",
       "      <td>...</td>\n",
       "      <td>...</td>\n",
       "      <td>...</td>\n",
       "      <td>...</td>\n",
       "      <td>...</td>\n",
       "    </tr>\n",
       "    <tr>\n",
       "      <th>3897</th>\n",
       "      <td>39985110</td>\n",
       "      <td>2141-03-02 18:40:00</td>\n",
       "      <td>NaN</td>\n",
       "      <td>10.2</td>\n",
       "      <td>5.2</td>\n",
       "      <td>125.0</td>\n",
       "      <td>138.0</td>\n",
       "      <td>98.0</td>\n",
       "      <td>NaN</td>\n",
       "      <td>NaN</td>\n",
       "      <td>...</td>\n",
       "      <td>NaN</td>\n",
       "      <td>NaN</td>\n",
       "      <td>NaN</td>\n",
       "      <td>NaN</td>\n",
       "      <td>2141-03-03 05:57:46</td>\n",
       "      <td>2141-03-04 20:44:00</td>\n",
       "      <td>2141-03-06 04:00:00</td>\n",
       "      <td>31.266667</td>\n",
       "      <td>-0.160528</td>\n",
       "      <td>139574.0</td>\n",
       "    </tr>\n",
       "    <tr>\n",
       "      <th>3898</th>\n",
       "      <td>39985110</td>\n",
       "      <td>2141-03-02 21:35:00</td>\n",
       "      <td>NaN</td>\n",
       "      <td>10.1</td>\n",
       "      <td>5.6</td>\n",
       "      <td>126.0</td>\n",
       "      <td>138.0</td>\n",
       "      <td>98.0</td>\n",
       "      <td>NaN</td>\n",
       "      <td>NaN</td>\n",
       "      <td>...</td>\n",
       "      <td>NaN</td>\n",
       "      <td>NaN</td>\n",
       "      <td>NaN</td>\n",
       "      <td>NaN</td>\n",
       "      <td>2141-03-03 05:57:46</td>\n",
       "      <td>2141-03-04 20:44:00</td>\n",
       "      <td>2141-03-06 04:00:00</td>\n",
       "      <td>31.266667</td>\n",
       "      <td>-0.160528</td>\n",
       "      <td>139574.0</td>\n",
       "    </tr>\n",
       "    <tr>\n",
       "      <th>3896</th>\n",
       "      <td>39985110</td>\n",
       "      <td>2141-03-03 12:37:00</td>\n",
       "      <td>NaN</td>\n",
       "      <td>10.4</td>\n",
       "      <td>6.8</td>\n",
       "      <td>149.0</td>\n",
       "      <td>139.0</td>\n",
       "      <td>98.0</td>\n",
       "      <td>NaN</td>\n",
       "      <td>NaN</td>\n",
       "      <td>...</td>\n",
       "      <td>NaN</td>\n",
       "      <td>NaN</td>\n",
       "      <td>NaN</td>\n",
       "      <td>NaN</td>\n",
       "      <td>2141-03-03 05:57:46</td>\n",
       "      <td>2141-03-04 20:44:00</td>\n",
       "      <td>2141-03-06 04:00:00</td>\n",
       "      <td>31.266667</td>\n",
       "      <td>-0.160528</td>\n",
       "      <td>139574.0</td>\n",
       "    </tr>\n",
       "    <tr>\n",
       "      <th>4182</th>\n",
       "      <td>39992167</td>\n",
       "      <td>2114-06-10 21:12:00</td>\n",
       "      <td>NaN</td>\n",
       "      <td>7.9</td>\n",
       "      <td>0.9</td>\n",
       "      <td>113.0</td>\n",
       "      <td>131.0</td>\n",
       "      <td>100.0</td>\n",
       "      <td>NaN</td>\n",
       "      <td>NaN</td>\n",
       "      <td>...</td>\n",
       "      <td>NaN</td>\n",
       "      <td>NaN</td>\n",
       "      <td>NaN</td>\n",
       "      <td>NaN</td>\n",
       "      <td>2114-06-10 19:00:00</td>\n",
       "      <td>2114-06-11 17:00:00</td>\n",
       "      <td>2114-06-15 05:00:00</td>\n",
       "      <td>84.000000</td>\n",
       "      <td>0.754494</td>\n",
       "      <td>79200.0</td>\n",
       "    </tr>\n",
       "    <tr>\n",
       "      <th>4181</th>\n",
       "      <td>39992167</td>\n",
       "      <td>2114-06-11 01:01:00</td>\n",
       "      <td>NaN</td>\n",
       "      <td>7.5</td>\n",
       "      <td>0.8</td>\n",
       "      <td>136.0</td>\n",
       "      <td>128.0</td>\n",
       "      <td>100.0</td>\n",
       "      <td>NaN</td>\n",
       "      <td>NaN</td>\n",
       "      <td>...</td>\n",
       "      <td>NaN</td>\n",
       "      <td>NaN</td>\n",
       "      <td>NaN</td>\n",
       "      <td>NaN</td>\n",
       "      <td>2114-06-10 19:00:00</td>\n",
       "      <td>2114-06-11 17:00:00</td>\n",
       "      <td>2114-06-15 05:00:00</td>\n",
       "      <td>84.000000</td>\n",
       "      <td>0.754494</td>\n",
       "      <td>79200.0</td>\n",
       "    </tr>\n",
       "  </tbody>\n",
       "</table>\n",
       "<p>5818 rows × 38 columns</p>\n",
       "</div>"
      ],
      "text/plain": [
       "       stay_id           charttime  total_protein  calcium  creatinine  \\\n",
       "6204  30004144 2126-04-04 09:30:00            NaN      8.0         0.7   \n",
       "6203  30004144 2126-04-04 13:06:00            NaN      6.8         0.7   \n",
       "6991  30005366 2202-12-28 02:10:00            NaN      8.8         6.7   \n",
       "2701  30006983 2159-10-11 13:20:00            NaN      8.0         0.8   \n",
       "2700  30006983 2159-10-12 04:28:00            NaN      7.1         1.0   \n",
       "...        ...                 ...            ...      ...         ...   \n",
       "3897  39985110 2141-03-02 18:40:00            NaN     10.2         5.2   \n",
       "3898  39985110 2141-03-02 21:35:00            NaN     10.1         5.6   \n",
       "3896  39985110 2141-03-03 12:37:00            NaN     10.4         6.8   \n",
       "4182  39992167 2114-06-10 21:12:00            NaN      7.9         0.9   \n",
       "4181  39992167 2114-06-11 01:01:00            NaN      7.5         0.8   \n",
       "\n",
       "      glucose  sodium  chloride  heart_rate  sbp  ...  sofa_liver  \\\n",
       "6204    114.0   135.0     103.0         NaN  NaN  ...         NaN   \n",
       "6203    133.0   135.0     102.0         NaN  NaN  ...         NaN   \n",
       "6991     41.0   139.0     100.0         NaN  NaN  ...         NaN   \n",
       "2701    156.0   132.0     102.0         NaN  NaN  ...         NaN   \n",
       "2700     89.0   136.0     108.0         NaN  NaN  ...         NaN   \n",
       "...       ...     ...       ...         ...  ...  ...         ...   \n",
       "3897    125.0   138.0      98.0         NaN  NaN  ...         NaN   \n",
       "3898    126.0   138.0      98.0         NaN  NaN  ...         NaN   \n",
       "3896    149.0   139.0      98.0         NaN  NaN  ...         NaN   \n",
       "4182    113.0   131.0     100.0         NaN  NaN  ...         NaN   \n",
       "4181    136.0   128.0     100.0         NaN  NaN  ...         NaN   \n",
       "\n",
       "      sofa_cardiovascular  sofa_cns  sofa_renal          icu_intime  \\\n",
       "6204                  NaN       NaN         NaN 2126-04-04 13:20:25   \n",
       "6203                  NaN       NaN         NaN 2126-04-04 13:20:25   \n",
       "6991                  NaN       NaN         NaN 2202-12-27 17:36:59   \n",
       "2701                  NaN       NaN         NaN 2159-10-12 03:56:42   \n",
       "2700                  NaN       NaN         NaN 2159-10-12 03:56:42   \n",
       "...                   ...       ...         ...                 ...   \n",
       "3897                  NaN       NaN         NaN 2141-03-03 05:57:46   \n",
       "3898                  NaN       NaN         NaN 2141-03-03 05:57:46   \n",
       "3896                  NaN       NaN         NaN 2141-03-03 05:57:46   \n",
       "4182                  NaN       NaN         NaN 2114-06-10 19:00:00   \n",
       "4181                  NaN       NaN         NaN 2114-06-10 19:00:00   \n",
       "\n",
       "              vent_start            vent_end  vent_duration   z_score  \\\n",
       "6204 2126-04-05 16:00:00 2126-04-06 17:00:00      25.000000 -0.269266   \n",
       "6203 2126-04-05 16:00:00 2126-04-06 17:00:00      25.000000 -0.269266   \n",
       "6991 2202-12-28 14:00:00 2202-12-28 20:00:00       6.000000 -0.598952   \n",
       "2701 2159-10-12 18:00:00 2159-10-14 19:00:00      49.000000  0.147178   \n",
       "2700 2159-10-12 18:00:00 2159-10-14 19:00:00      49.000000  0.147178   \n",
       "...                  ...                 ...            ...       ...   \n",
       "3897 2141-03-04 20:44:00 2141-03-06 04:00:00      31.266667 -0.160528   \n",
       "3898 2141-03-04 20:44:00 2141-03-06 04:00:00      31.266667 -0.160528   \n",
       "3896 2141-03-04 20:44:00 2141-03-06 04:00:00      31.266667 -0.160528   \n",
       "4182 2114-06-11 17:00:00 2114-06-15 05:00:00      84.000000  0.754494   \n",
       "4181 2114-06-11 17:00:00 2114-06-15 05:00:00      84.000000  0.754494   \n",
       "\n",
       "      vent_icuin  \n",
       "6204     95975.0  \n",
       "6203     95975.0  \n",
       "6991     73381.0  \n",
       "2701     50598.0  \n",
       "2700     50598.0  \n",
       "...          ...  \n",
       "3897    139574.0  \n",
       "3898    139574.0  \n",
       "3896    139574.0  \n",
       "4182     79200.0  \n",
       "4181     79200.0  \n",
       "\n",
       "[5818 rows x 38 columns]"
      ]
     },
     "execution_count": 10,
     "metadata": {},
     "output_type": "execute_result"
    }
   ],
   "source": [
    "merge_df"
   ]
  },
  {
   "cell_type": "code",
   "execution_count": 11,
   "id": "da55cd3d",
   "metadata": {
    "execution": {
     "iopub.execute_input": "2023-04-08T17:56:11.182160Z",
     "iopub.status.busy": "2023-04-08T17:56:11.181741Z",
     "iopub.status.idle": "2023-04-08T17:56:11.185864Z",
     "shell.execute_reply": "2023-04-08T17:56:11.184862Z"
    },
    "papermill": {
     "duration": 0.029263,
     "end_time": "2023-04-08T17:56:11.188805",
     "exception": false,
     "start_time": "2023-04-08T17:56:11.159542",
     "status": "completed"
    },
    "tags": []
   },
   "outputs": [],
   "source": [
    "# dynamic['charttime'] = pd.to_datetime(dynamic['charttime'], format = \"%Y-%m-%d %H:%M:%S.%f\")"
   ]
  },
  {
   "cell_type": "code",
   "execution_count": 12,
   "id": "b45bd0a0",
   "metadata": {
    "execution": {
     "iopub.execute_input": "2023-04-08T17:56:11.231901Z",
     "iopub.status.busy": "2023-04-08T17:56:11.231462Z",
     "iopub.status.idle": "2023-04-08T17:56:11.236260Z",
     "shell.execute_reply": "2023-04-08T17:56:11.235149Z"
    },
    "papermill": {
     "duration": 0.028731,
     "end_time": "2023-04-08T17:56:11.238633",
     "exception": false,
     "start_time": "2023-04-08T17:56:11.209902",
     "status": "completed"
    },
    "tags": []
   },
   "outputs": [],
   "source": [
    "# dynamic = dynamic.sort_values(['stay_id', 'charttime'], ascending = True)\n",
    "# dynamic"
   ]
  },
  {
   "cell_type": "code",
   "execution_count": 13,
   "id": "2b9e377b",
   "metadata": {
    "execution": {
     "iopub.execute_input": "2023-04-08T17:56:11.281103Z",
     "iopub.status.busy": "2023-04-08T17:56:11.280375Z",
     "iopub.status.idle": "2023-04-08T17:56:11.285709Z",
     "shell.execute_reply": "2023-04-08T17:56:11.284435Z"
    },
    "papermill": {
     "duration": 0.030283,
     "end_time": "2023-04-08T17:56:11.289302",
     "exception": false,
     "start_time": "2023-04-08T17:56:11.259019",
     "status": "completed"
    },
    "tags": []
   },
   "outputs": [],
   "source": [
    "# pd.Timedelta((dynamic['charttime'].values[1] - dynamic['charttime'].values[0]).astype('timedelta64[m]')).seconds // 60"
   ]
  },
  {
   "cell_type": "code",
   "execution_count": 14,
   "id": "5809892c",
   "metadata": {
    "execution": {
     "iopub.execute_input": "2023-04-08T17:56:11.332278Z",
     "iopub.status.busy": "2023-04-08T17:56:11.331869Z",
     "iopub.status.idle": "2023-04-08T17:56:11.336169Z",
     "shell.execute_reply": "2023-04-08T17:56:11.335229Z"
    },
    "papermill": {
     "duration": 0.029659,
     "end_time": "2023-04-08T17:56:11.340045",
     "exception": false,
     "start_time": "2023-04-08T17:56:11.310386",
     "status": "completed"
    },
    "tags": []
   },
   "outputs": [],
   "source": [
    "# stiatic = static.sort_values(['stay_id'], ascending = True)\n",
    "# static"
   ]
  },
  {
   "cell_type": "markdown",
   "id": "fa60e8f2",
   "metadata": {
    "papermill": {
     "duration": 0.019915,
     "end_time": "2023-04-08T17:56:11.383087",
     "exception": false,
     "start_time": "2023-04-08T17:56:11.363172",
     "status": "completed"
    },
    "tags": []
   },
   "source": [
    "Count the number of unique `stay_id` in each dataframe."
   ]
  },
  {
   "cell_type": "code",
   "execution_count": 15,
   "id": "fe1a17ca",
   "metadata": {
    "execution": {
     "iopub.execute_input": "2023-04-08T17:56:11.425366Z",
     "iopub.status.busy": "2023-04-08T17:56:11.424933Z",
     "iopub.status.idle": "2023-04-08T17:56:11.432564Z",
     "shell.execute_reply": "2023-04-08T17:56:11.431132Z"
    },
    "papermill": {
     "duration": 0.032051,
     "end_time": "2023-04-08T17:56:11.435267",
     "exception": false,
     "start_time": "2023-04-08T17:56:11.403216",
     "status": "completed"
    },
    "tags": []
   },
   "outputs": [
    {
     "name": "stdout",
     "output_type": "stream",
     "text": [
      "Unique ID numbers:  1684\n"
     ]
    }
   ],
   "source": [
    "print('Unique ID numbers: ', len(merge_df['stay_id'].unique()))"
   ]
  },
  {
   "cell_type": "code",
   "execution_count": 16,
   "id": "329bc516",
   "metadata": {
    "execution": {
     "iopub.execute_input": "2023-04-08T17:56:11.477814Z",
     "iopub.status.busy": "2023-04-08T17:56:11.477343Z",
     "iopub.status.idle": "2023-04-08T17:56:11.482862Z",
     "shell.execute_reply": "2023-04-08T17:56:11.481703Z"
    },
    "papermill": {
     "duration": 0.030044,
     "end_time": "2023-04-08T17:56:11.485513",
     "exception": false,
     "start_time": "2023-04-08T17:56:11.455469",
     "status": "completed"
    },
    "tags": []
   },
   "outputs": [],
   "source": [
    "# dynamic[dynamic['stay_id'] == 30004144].iloc[0,:]"
   ]
  },
  {
   "cell_type": "markdown",
   "id": "d427c654",
   "metadata": {
    "papermill": {
     "duration": 0.020557,
     "end_time": "2023-04-08T17:56:11.526291",
     "exception": false,
     "start_time": "2023-04-08T17:56:11.505734",
     "status": "completed"
    },
    "tags": []
   },
   "source": [
    "Extract the first record of each unique `stay_id` in the dynamic dataset"
   ]
  },
  {
   "cell_type": "code",
   "execution_count": 17,
   "id": "a008e42a",
   "metadata": {
    "execution": {
     "iopub.execute_input": "2023-04-08T17:56:11.568347Z",
     "iopub.status.busy": "2023-04-08T17:56:11.567535Z",
     "iopub.status.idle": "2023-04-08T17:56:12.734427Z",
     "shell.execute_reply": "2023-04-08T17:56:12.733448Z"
    },
    "papermill": {
     "duration": 1.19086,
     "end_time": "2023-04-08T17:56:12.737168",
     "exception": false,
     "start_time": "2023-04-08T17:56:11.546308",
     "status": "completed"
    },
    "tags": []
   },
   "outputs": [],
   "source": [
    "first_record = []\n",
    "\n",
    "for i in merge_df['stay_id'].unique():\n",
    "    first_record.append(merge_df[merge_df['stay_id'] == i].iloc[0])"
   ]
  },
  {
   "cell_type": "code",
   "execution_count": 18,
   "id": "18e81ed4",
   "metadata": {
    "execution": {
     "iopub.execute_input": "2023-04-08T17:56:12.781369Z",
     "iopub.status.busy": "2023-04-08T17:56:12.780620Z",
     "iopub.status.idle": "2023-04-08T17:56:12.850453Z",
     "shell.execute_reply": "2023-04-08T17:56:12.849229Z"
    },
    "papermill": {
     "duration": 0.095773,
     "end_time": "2023-04-08T17:56:12.853365",
     "exception": false,
     "start_time": "2023-04-08T17:56:12.757592",
     "status": "completed"
    },
    "tags": []
   },
   "outputs": [],
   "source": [
    "first_record = pd.DataFrame(first_record)"
   ]
  },
  {
   "cell_type": "code",
   "execution_count": 19,
   "id": "f0e36636",
   "metadata": {
    "execution": {
     "iopub.execute_input": "2023-04-08T17:56:12.895926Z",
     "iopub.status.busy": "2023-04-08T17:56:12.895468Z",
     "iopub.status.idle": "2023-04-08T17:56:12.934066Z",
     "shell.execute_reply": "2023-04-08T17:56:12.932823Z"
    },
    "papermill": {
     "duration": 0.062662,
     "end_time": "2023-04-08T17:56:12.936558",
     "exception": false,
     "start_time": "2023-04-08T17:56:12.873896",
     "status": "completed"
    },
    "tags": []
   },
   "outputs": [
    {
     "data": {
      "text/html": [
       "<div>\n",
       "<style scoped>\n",
       "    .dataframe tbody tr th:only-of-type {\n",
       "        vertical-align: middle;\n",
       "    }\n",
       "\n",
       "    .dataframe tbody tr th {\n",
       "        vertical-align: top;\n",
       "    }\n",
       "\n",
       "    .dataframe thead th {\n",
       "        text-align: right;\n",
       "    }\n",
       "</style>\n",
       "<table border=\"1\" class=\"dataframe\">\n",
       "  <thead>\n",
       "    <tr style=\"text-align: right;\">\n",
       "      <th></th>\n",
       "      <th>stay_id</th>\n",
       "      <th>charttime</th>\n",
       "      <th>total_protein</th>\n",
       "      <th>calcium</th>\n",
       "      <th>creatinine</th>\n",
       "      <th>glucose</th>\n",
       "      <th>sodium</th>\n",
       "      <th>chloride</th>\n",
       "      <th>heart_rate</th>\n",
       "      <th>sbp</th>\n",
       "      <th>...</th>\n",
       "      <th>sofa_liver</th>\n",
       "      <th>sofa_cardiovascular</th>\n",
       "      <th>sofa_cns</th>\n",
       "      <th>sofa_renal</th>\n",
       "      <th>icu_intime</th>\n",
       "      <th>vent_start</th>\n",
       "      <th>vent_end</th>\n",
       "      <th>vent_duration</th>\n",
       "      <th>z_score</th>\n",
       "      <th>vent_icuin</th>\n",
       "    </tr>\n",
       "  </thead>\n",
       "  <tbody>\n",
       "    <tr>\n",
       "      <th>6204</th>\n",
       "      <td>30004144</td>\n",
       "      <td>2126-04-04 09:30:00</td>\n",
       "      <td>NaN</td>\n",
       "      <td>8.0</td>\n",
       "      <td>0.7</td>\n",
       "      <td>114.0</td>\n",
       "      <td>135.0</td>\n",
       "      <td>103.0</td>\n",
       "      <td>NaN</td>\n",
       "      <td>NaN</td>\n",
       "      <td>...</td>\n",
       "      <td>NaN</td>\n",
       "      <td>NaN</td>\n",
       "      <td>NaN</td>\n",
       "      <td>NaN</td>\n",
       "      <td>2126-04-04 13:20:25</td>\n",
       "      <td>2126-04-05 16:00:00</td>\n",
       "      <td>2126-04-06 17:00:00</td>\n",
       "      <td>25.000000</td>\n",
       "      <td>-0.269266</td>\n",
       "      <td>95975.0</td>\n",
       "    </tr>\n",
       "    <tr>\n",
       "      <th>6991</th>\n",
       "      <td>30005366</td>\n",
       "      <td>2202-12-28 02:10:00</td>\n",
       "      <td>NaN</td>\n",
       "      <td>8.8</td>\n",
       "      <td>6.7</td>\n",
       "      <td>41.0</td>\n",
       "      <td>139.0</td>\n",
       "      <td>100.0</td>\n",
       "      <td>NaN</td>\n",
       "      <td>NaN</td>\n",
       "      <td>...</td>\n",
       "      <td>NaN</td>\n",
       "      <td>NaN</td>\n",
       "      <td>NaN</td>\n",
       "      <td>NaN</td>\n",
       "      <td>2202-12-27 17:36:59</td>\n",
       "      <td>2202-12-28 14:00:00</td>\n",
       "      <td>2202-12-28 20:00:00</td>\n",
       "      <td>6.000000</td>\n",
       "      <td>-0.598952</td>\n",
       "      <td>73381.0</td>\n",
       "    </tr>\n",
       "    <tr>\n",
       "      <th>2701</th>\n",
       "      <td>30006983</td>\n",
       "      <td>2159-10-11 13:20:00</td>\n",
       "      <td>NaN</td>\n",
       "      <td>8.0</td>\n",
       "      <td>0.8</td>\n",
       "      <td>156.0</td>\n",
       "      <td>132.0</td>\n",
       "      <td>102.0</td>\n",
       "      <td>NaN</td>\n",
       "      <td>NaN</td>\n",
       "      <td>...</td>\n",
       "      <td>NaN</td>\n",
       "      <td>NaN</td>\n",
       "      <td>NaN</td>\n",
       "      <td>NaN</td>\n",
       "      <td>2159-10-12 03:56:42</td>\n",
       "      <td>2159-10-12 18:00:00</td>\n",
       "      <td>2159-10-14 19:00:00</td>\n",
       "      <td>49.000000</td>\n",
       "      <td>0.147178</td>\n",
       "      <td>50598.0</td>\n",
       "    </tr>\n",
       "    <tr>\n",
       "      <th>6456</th>\n",
       "      <td>30023204</td>\n",
       "      <td>2124-07-09 17:15:00</td>\n",
       "      <td>NaN</td>\n",
       "      <td>8.2</td>\n",
       "      <td>1.6</td>\n",
       "      <td>124.0</td>\n",
       "      <td>130.0</td>\n",
       "      <td>100.0</td>\n",
       "      <td>NaN</td>\n",
       "      <td>NaN</td>\n",
       "      <td>...</td>\n",
       "      <td>NaN</td>\n",
       "      <td>NaN</td>\n",
       "      <td>NaN</td>\n",
       "      <td>NaN</td>\n",
       "      <td>2124-07-09 16:43:55</td>\n",
       "      <td>2124-07-11 16:00:00</td>\n",
       "      <td>2124-07-12 16:10:00</td>\n",
       "      <td>24.166667</td>\n",
       "      <td>-0.283726</td>\n",
       "      <td>170165.0</td>\n",
       "    </tr>\n",
       "    <tr>\n",
       "      <th>4098</th>\n",
       "      <td>30034749</td>\n",
       "      <td>2191-04-30 22:10:00</td>\n",
       "      <td>NaN</td>\n",
       "      <td>9.9</td>\n",
       "      <td>0.8</td>\n",
       "      <td>166.0</td>\n",
       "      <td>140.0</td>\n",
       "      <td>100.0</td>\n",
       "      <td>NaN</td>\n",
       "      <td>NaN</td>\n",
       "      <td>...</td>\n",
       "      <td>NaN</td>\n",
       "      <td>NaN</td>\n",
       "      <td>NaN</td>\n",
       "      <td>NaN</td>\n",
       "      <td>2191-05-06 09:56:40</td>\n",
       "      <td>2191-05-07 12:28:00</td>\n",
       "      <td>2191-05-08 08:55:00</td>\n",
       "      <td>20.450000</td>\n",
       "      <td>-0.348217</td>\n",
       "      <td>95480.0</td>\n",
       "    </tr>\n",
       "    <tr>\n",
       "      <th>...</th>\n",
       "      <td>...</td>\n",
       "      <td>...</td>\n",
       "      <td>...</td>\n",
       "      <td>...</td>\n",
       "      <td>...</td>\n",
       "      <td>...</td>\n",
       "      <td>...</td>\n",
       "      <td>...</td>\n",
       "      <td>...</td>\n",
       "      <td>...</td>\n",
       "      <td>...</td>\n",
       "      <td>...</td>\n",
       "      <td>...</td>\n",
       "      <td>...</td>\n",
       "      <td>...</td>\n",
       "      <td>...</td>\n",
       "      <td>...</td>\n",
       "      <td>...</td>\n",
       "      <td>...</td>\n",
       "      <td>...</td>\n",
       "      <td>...</td>\n",
       "    </tr>\n",
       "    <tr>\n",
       "      <th>5120</th>\n",
       "      <td>39972274</td>\n",
       "      <td>2185-03-08 17:10:00</td>\n",
       "      <td>NaN</td>\n",
       "      <td>9.3</td>\n",
       "      <td>0.9</td>\n",
       "      <td>89.0</td>\n",
       "      <td>140.0</td>\n",
       "      <td>106.0</td>\n",
       "      <td>NaN</td>\n",
       "      <td>NaN</td>\n",
       "      <td>...</td>\n",
       "      <td>NaN</td>\n",
       "      <td>NaN</td>\n",
       "      <td>NaN</td>\n",
       "      <td>NaN</td>\n",
       "      <td>2185-03-09 01:32:00</td>\n",
       "      <td>2185-03-09 16:51:00</td>\n",
       "      <td>2185-03-10 11:00:00</td>\n",
       "      <td>18.150000</td>\n",
       "      <td>-0.388127</td>\n",
       "      <td>55140.0</td>\n",
       "    </tr>\n",
       "    <tr>\n",
       "      <th>1192</th>\n",
       "      <td>39977971</td>\n",
       "      <td>2115-12-11 07:00:00</td>\n",
       "      <td>NaN</td>\n",
       "      <td>9.0</td>\n",
       "      <td>1.9</td>\n",
       "      <td>96.0</td>\n",
       "      <td>134.0</td>\n",
       "      <td>98.0</td>\n",
       "      <td>NaN</td>\n",
       "      <td>NaN</td>\n",
       "      <td>...</td>\n",
       "      <td>NaN</td>\n",
       "      <td>NaN</td>\n",
       "      <td>NaN</td>\n",
       "      <td>NaN</td>\n",
       "      <td>2115-12-11 17:42:45</td>\n",
       "      <td>2115-12-12 12:00:00</td>\n",
       "      <td>2115-12-12 16:00:00</td>\n",
       "      <td>4.000000</td>\n",
       "      <td>-0.633656</td>\n",
       "      <td>65835.0</td>\n",
       "    </tr>\n",
       "    <tr>\n",
       "      <th>6531</th>\n",
       "      <td>39982332</td>\n",
       "      <td>2180-03-01 23:46:00</td>\n",
       "      <td>NaN</td>\n",
       "      <td>NaN</td>\n",
       "      <td>1.2</td>\n",
       "      <td>119.0</td>\n",
       "      <td>140.0</td>\n",
       "      <td>103.0</td>\n",
       "      <td>NaN</td>\n",
       "      <td>NaN</td>\n",
       "      <td>...</td>\n",
       "      <td>NaN</td>\n",
       "      <td>NaN</td>\n",
       "      <td>NaN</td>\n",
       "      <td>NaN</td>\n",
       "      <td>2180-03-01 22:35:04</td>\n",
       "      <td>2180-03-02 19:00:00</td>\n",
       "      <td>2180-03-03 08:00:00</td>\n",
       "      <td>13.000000</td>\n",
       "      <td>-0.477489</td>\n",
       "      <td>73496.0</td>\n",
       "    </tr>\n",
       "    <tr>\n",
       "      <th>3897</th>\n",
       "      <td>39985110</td>\n",
       "      <td>2141-03-02 18:40:00</td>\n",
       "      <td>NaN</td>\n",
       "      <td>10.2</td>\n",
       "      <td>5.2</td>\n",
       "      <td>125.0</td>\n",
       "      <td>138.0</td>\n",
       "      <td>98.0</td>\n",
       "      <td>NaN</td>\n",
       "      <td>NaN</td>\n",
       "      <td>...</td>\n",
       "      <td>NaN</td>\n",
       "      <td>NaN</td>\n",
       "      <td>NaN</td>\n",
       "      <td>NaN</td>\n",
       "      <td>2141-03-03 05:57:46</td>\n",
       "      <td>2141-03-04 20:44:00</td>\n",
       "      <td>2141-03-06 04:00:00</td>\n",
       "      <td>31.266667</td>\n",
       "      <td>-0.160528</td>\n",
       "      <td>139574.0</td>\n",
       "    </tr>\n",
       "    <tr>\n",
       "      <th>4182</th>\n",
       "      <td>39992167</td>\n",
       "      <td>2114-06-10 21:12:00</td>\n",
       "      <td>NaN</td>\n",
       "      <td>7.9</td>\n",
       "      <td>0.9</td>\n",
       "      <td>113.0</td>\n",
       "      <td>131.0</td>\n",
       "      <td>100.0</td>\n",
       "      <td>NaN</td>\n",
       "      <td>NaN</td>\n",
       "      <td>...</td>\n",
       "      <td>NaN</td>\n",
       "      <td>NaN</td>\n",
       "      <td>NaN</td>\n",
       "      <td>NaN</td>\n",
       "      <td>2114-06-10 19:00:00</td>\n",
       "      <td>2114-06-11 17:00:00</td>\n",
       "      <td>2114-06-15 05:00:00</td>\n",
       "      <td>84.000000</td>\n",
       "      <td>0.754494</td>\n",
       "      <td>79200.0</td>\n",
       "    </tr>\n",
       "  </tbody>\n",
       "</table>\n",
       "<p>1684 rows × 38 columns</p>\n",
       "</div>"
      ],
      "text/plain": [
       "       stay_id           charttime  total_protein  calcium  creatinine  \\\n",
       "6204  30004144 2126-04-04 09:30:00            NaN      8.0         0.7   \n",
       "6991  30005366 2202-12-28 02:10:00            NaN      8.8         6.7   \n",
       "2701  30006983 2159-10-11 13:20:00            NaN      8.0         0.8   \n",
       "6456  30023204 2124-07-09 17:15:00            NaN      8.2         1.6   \n",
       "4098  30034749 2191-04-30 22:10:00            NaN      9.9         0.8   \n",
       "...        ...                 ...            ...      ...         ...   \n",
       "5120  39972274 2185-03-08 17:10:00            NaN      9.3         0.9   \n",
       "1192  39977971 2115-12-11 07:00:00            NaN      9.0         1.9   \n",
       "6531  39982332 2180-03-01 23:46:00            NaN      NaN         1.2   \n",
       "3897  39985110 2141-03-02 18:40:00            NaN     10.2         5.2   \n",
       "4182  39992167 2114-06-10 21:12:00            NaN      7.9         0.9   \n",
       "\n",
       "      glucose  sodium  chloride  heart_rate  sbp  ...  sofa_liver  \\\n",
       "6204    114.0   135.0     103.0         NaN  NaN  ...         NaN   \n",
       "6991     41.0   139.0     100.0         NaN  NaN  ...         NaN   \n",
       "2701    156.0   132.0     102.0         NaN  NaN  ...         NaN   \n",
       "6456    124.0   130.0     100.0         NaN  NaN  ...         NaN   \n",
       "4098    166.0   140.0     100.0         NaN  NaN  ...         NaN   \n",
       "...       ...     ...       ...         ...  ...  ...         ...   \n",
       "5120     89.0   140.0     106.0         NaN  NaN  ...         NaN   \n",
       "1192     96.0   134.0      98.0         NaN  NaN  ...         NaN   \n",
       "6531    119.0   140.0     103.0         NaN  NaN  ...         NaN   \n",
       "3897    125.0   138.0      98.0         NaN  NaN  ...         NaN   \n",
       "4182    113.0   131.0     100.0         NaN  NaN  ...         NaN   \n",
       "\n",
       "      sofa_cardiovascular  sofa_cns  sofa_renal          icu_intime  \\\n",
       "6204                  NaN       NaN         NaN 2126-04-04 13:20:25   \n",
       "6991                  NaN       NaN         NaN 2202-12-27 17:36:59   \n",
       "2701                  NaN       NaN         NaN 2159-10-12 03:56:42   \n",
       "6456                  NaN       NaN         NaN 2124-07-09 16:43:55   \n",
       "4098                  NaN       NaN         NaN 2191-05-06 09:56:40   \n",
       "...                   ...       ...         ...                 ...   \n",
       "5120                  NaN       NaN         NaN 2185-03-09 01:32:00   \n",
       "1192                  NaN       NaN         NaN 2115-12-11 17:42:45   \n",
       "6531                  NaN       NaN         NaN 2180-03-01 22:35:04   \n",
       "3897                  NaN       NaN         NaN 2141-03-03 05:57:46   \n",
       "4182                  NaN       NaN         NaN 2114-06-10 19:00:00   \n",
       "\n",
       "              vent_start            vent_end  vent_duration   z_score  \\\n",
       "6204 2126-04-05 16:00:00 2126-04-06 17:00:00      25.000000 -0.269266   \n",
       "6991 2202-12-28 14:00:00 2202-12-28 20:00:00       6.000000 -0.598952   \n",
       "2701 2159-10-12 18:00:00 2159-10-14 19:00:00      49.000000  0.147178   \n",
       "6456 2124-07-11 16:00:00 2124-07-12 16:10:00      24.166667 -0.283726   \n",
       "4098 2191-05-07 12:28:00 2191-05-08 08:55:00      20.450000 -0.348217   \n",
       "...                  ...                 ...            ...       ...   \n",
       "5120 2185-03-09 16:51:00 2185-03-10 11:00:00      18.150000 -0.388127   \n",
       "1192 2115-12-12 12:00:00 2115-12-12 16:00:00       4.000000 -0.633656   \n",
       "6531 2180-03-02 19:00:00 2180-03-03 08:00:00      13.000000 -0.477489   \n",
       "3897 2141-03-04 20:44:00 2141-03-06 04:00:00      31.266667 -0.160528   \n",
       "4182 2114-06-11 17:00:00 2114-06-15 05:00:00      84.000000  0.754494   \n",
       "\n",
       "      vent_icuin  \n",
       "6204     95975.0  \n",
       "6991     73381.0  \n",
       "2701     50598.0  \n",
       "6456    170165.0  \n",
       "4098     95480.0  \n",
       "...          ...  \n",
       "5120     55140.0  \n",
       "1192     65835.0  \n",
       "6531     73496.0  \n",
       "3897    139574.0  \n",
       "4182     79200.0  \n",
       "\n",
       "[1684 rows x 38 columns]"
      ]
     },
     "execution_count": 19,
     "metadata": {},
     "output_type": "execute_result"
    }
   ],
   "source": [
    "first_record"
   ]
  },
  {
   "cell_type": "code",
   "execution_count": 20,
   "id": "1dce0d5a",
   "metadata": {
    "execution": {
     "iopub.execute_input": "2023-04-08T17:56:12.980645Z",
     "iopub.status.busy": "2023-04-08T17:56:12.980227Z",
     "iopub.status.idle": "2023-04-08T17:56:19.867951Z",
     "shell.execute_reply": "2023-04-08T17:56:19.866672Z"
    },
    "papermill": {
     "duration": 6.913122,
     "end_time": "2023-04-08T17:56:19.871264",
     "exception": false,
     "start_time": "2023-04-08T17:56:12.958142",
     "status": "completed"
    },
    "tags": []
   },
   "outputs": [],
   "source": [
    "minutes_l = []\n",
    "for i in range(merge_df.shape[0]):\n",
    "    stay_id = merge_df.iloc[i,:]['stay_id']\n",
    "    minutes_l.append((merge_df.iloc[i,:]['charttime'] - first_record[first_record['stay_id'] == stay_id]['charttime'].values[0]).seconds // 60)"
   ]
  },
  {
   "cell_type": "code",
   "execution_count": 21,
   "id": "60da0f06",
   "metadata": {
    "execution": {
     "iopub.execute_input": "2023-04-08T17:56:19.915638Z",
     "iopub.status.busy": "2023-04-08T17:56:19.915194Z",
     "iopub.status.idle": "2023-04-08T17:56:19.920429Z",
     "shell.execute_reply": "2023-04-08T17:56:19.919222Z"
    },
    "papermill": {
     "duration": 0.030808,
     "end_time": "2023-04-08T17:56:19.922819",
     "exception": false,
     "start_time": "2023-04-08T17:56:19.892011",
     "status": "completed"
    },
    "tags": []
   },
   "outputs": [],
   "source": [
    "# merge_df.iloc[0,:]['charttime']"
   ]
  },
  {
   "cell_type": "code",
   "execution_count": 22,
   "id": "1fe807c8",
   "metadata": {
    "execution": {
     "iopub.execute_input": "2023-04-08T17:56:19.966790Z",
     "iopub.status.busy": "2023-04-08T17:56:19.966323Z",
     "iopub.status.idle": "2023-04-08T17:56:19.971496Z",
     "shell.execute_reply": "2023-04-08T17:56:19.970264Z"
    },
    "papermill": {
     "duration": 0.030512,
     "end_time": "2023-04-08T17:56:19.974077",
     "exception": false,
     "start_time": "2023-04-08T17:56:19.943565",
     "status": "completed"
    },
    "tags": []
   },
   "outputs": [],
   "source": [
    "# first_record[first_record['stay_id'] == 30004144]['charttime']"
   ]
  },
  {
   "cell_type": "code",
   "execution_count": 23,
   "id": "cff6b9f9",
   "metadata": {
    "execution": {
     "iopub.execute_input": "2023-04-08T17:56:20.018591Z",
     "iopub.status.busy": "2023-04-08T17:56:20.018184Z",
     "iopub.status.idle": "2023-04-08T17:56:20.059793Z",
     "shell.execute_reply": "2023-04-08T17:56:20.058563Z"
    },
    "papermill": {
     "duration": 0.066865,
     "end_time": "2023-04-08T17:56:20.062400",
     "exception": false,
     "start_time": "2023-04-08T17:56:19.995535",
     "status": "completed"
    },
    "tags": []
   },
   "outputs": [
    {
     "data": {
      "text/html": [
       "<div>\n",
       "<style scoped>\n",
       "    .dataframe tbody tr th:only-of-type {\n",
       "        vertical-align: middle;\n",
       "    }\n",
       "\n",
       "    .dataframe tbody tr th {\n",
       "        vertical-align: top;\n",
       "    }\n",
       "\n",
       "    .dataframe thead th {\n",
       "        text-align: right;\n",
       "    }\n",
       "</style>\n",
       "<table border=\"1\" class=\"dataframe\">\n",
       "  <thead>\n",
       "    <tr style=\"text-align: right;\">\n",
       "      <th></th>\n",
       "      <th>stay_id</th>\n",
       "      <th>charttime</th>\n",
       "      <th>total_protein</th>\n",
       "      <th>calcium</th>\n",
       "      <th>creatinine</th>\n",
       "      <th>glucose</th>\n",
       "      <th>sodium</th>\n",
       "      <th>chloride</th>\n",
       "      <th>heart_rate</th>\n",
       "      <th>sbp</th>\n",
       "      <th>...</th>\n",
       "      <th>sofa_cardiovascular</th>\n",
       "      <th>sofa_cns</th>\n",
       "      <th>sofa_renal</th>\n",
       "      <th>icu_intime</th>\n",
       "      <th>vent_start</th>\n",
       "      <th>vent_end</th>\n",
       "      <th>vent_duration</th>\n",
       "      <th>z_score</th>\n",
       "      <th>vent_icuin</th>\n",
       "      <th>minutes</th>\n",
       "    </tr>\n",
       "  </thead>\n",
       "  <tbody>\n",
       "    <tr>\n",
       "      <th>6204</th>\n",
       "      <td>30004144</td>\n",
       "      <td>2126-04-04 09:30:00</td>\n",
       "      <td>NaN</td>\n",
       "      <td>8.0</td>\n",
       "      <td>0.7</td>\n",
       "      <td>114.0</td>\n",
       "      <td>135.0</td>\n",
       "      <td>103.0</td>\n",
       "      <td>NaN</td>\n",
       "      <td>NaN</td>\n",
       "      <td>...</td>\n",
       "      <td>NaN</td>\n",
       "      <td>NaN</td>\n",
       "      <td>NaN</td>\n",
       "      <td>2126-04-04 13:20:25</td>\n",
       "      <td>2126-04-05 16:00:00</td>\n",
       "      <td>2126-04-06 17:00:00</td>\n",
       "      <td>25.000000</td>\n",
       "      <td>-0.269266</td>\n",
       "      <td>95975.0</td>\n",
       "      <td>0</td>\n",
       "    </tr>\n",
       "    <tr>\n",
       "      <th>6203</th>\n",
       "      <td>30004144</td>\n",
       "      <td>2126-04-04 13:06:00</td>\n",
       "      <td>NaN</td>\n",
       "      <td>6.8</td>\n",
       "      <td>0.7</td>\n",
       "      <td>133.0</td>\n",
       "      <td>135.0</td>\n",
       "      <td>102.0</td>\n",
       "      <td>NaN</td>\n",
       "      <td>NaN</td>\n",
       "      <td>...</td>\n",
       "      <td>NaN</td>\n",
       "      <td>NaN</td>\n",
       "      <td>NaN</td>\n",
       "      <td>2126-04-04 13:20:25</td>\n",
       "      <td>2126-04-05 16:00:00</td>\n",
       "      <td>2126-04-06 17:00:00</td>\n",
       "      <td>25.000000</td>\n",
       "      <td>-0.269266</td>\n",
       "      <td>95975.0</td>\n",
       "      <td>216</td>\n",
       "    </tr>\n",
       "    <tr>\n",
       "      <th>6991</th>\n",
       "      <td>30005366</td>\n",
       "      <td>2202-12-28 02:10:00</td>\n",
       "      <td>NaN</td>\n",
       "      <td>8.8</td>\n",
       "      <td>6.7</td>\n",
       "      <td>41.0</td>\n",
       "      <td>139.0</td>\n",
       "      <td>100.0</td>\n",
       "      <td>NaN</td>\n",
       "      <td>NaN</td>\n",
       "      <td>...</td>\n",
       "      <td>NaN</td>\n",
       "      <td>NaN</td>\n",
       "      <td>NaN</td>\n",
       "      <td>2202-12-27 17:36:59</td>\n",
       "      <td>2202-12-28 14:00:00</td>\n",
       "      <td>2202-12-28 20:00:00</td>\n",
       "      <td>6.000000</td>\n",
       "      <td>-0.598952</td>\n",
       "      <td>73381.0</td>\n",
       "      <td>0</td>\n",
       "    </tr>\n",
       "    <tr>\n",
       "      <th>2701</th>\n",
       "      <td>30006983</td>\n",
       "      <td>2159-10-11 13:20:00</td>\n",
       "      <td>NaN</td>\n",
       "      <td>8.0</td>\n",
       "      <td>0.8</td>\n",
       "      <td>156.0</td>\n",
       "      <td>132.0</td>\n",
       "      <td>102.0</td>\n",
       "      <td>NaN</td>\n",
       "      <td>NaN</td>\n",
       "      <td>...</td>\n",
       "      <td>NaN</td>\n",
       "      <td>NaN</td>\n",
       "      <td>NaN</td>\n",
       "      <td>2159-10-12 03:56:42</td>\n",
       "      <td>2159-10-12 18:00:00</td>\n",
       "      <td>2159-10-14 19:00:00</td>\n",
       "      <td>49.000000</td>\n",
       "      <td>0.147178</td>\n",
       "      <td>50598.0</td>\n",
       "      <td>0</td>\n",
       "    </tr>\n",
       "    <tr>\n",
       "      <th>2700</th>\n",
       "      <td>30006983</td>\n",
       "      <td>2159-10-12 04:28:00</td>\n",
       "      <td>NaN</td>\n",
       "      <td>7.1</td>\n",
       "      <td>1.0</td>\n",
       "      <td>89.0</td>\n",
       "      <td>136.0</td>\n",
       "      <td>108.0</td>\n",
       "      <td>NaN</td>\n",
       "      <td>NaN</td>\n",
       "      <td>...</td>\n",
       "      <td>NaN</td>\n",
       "      <td>NaN</td>\n",
       "      <td>NaN</td>\n",
       "      <td>2159-10-12 03:56:42</td>\n",
       "      <td>2159-10-12 18:00:00</td>\n",
       "      <td>2159-10-14 19:00:00</td>\n",
       "      <td>49.000000</td>\n",
       "      <td>0.147178</td>\n",
       "      <td>50598.0</td>\n",
       "      <td>908</td>\n",
       "    </tr>\n",
       "    <tr>\n",
       "      <th>...</th>\n",
       "      <td>...</td>\n",
       "      <td>...</td>\n",
       "      <td>...</td>\n",
       "      <td>...</td>\n",
       "      <td>...</td>\n",
       "      <td>...</td>\n",
       "      <td>...</td>\n",
       "      <td>...</td>\n",
       "      <td>...</td>\n",
       "      <td>...</td>\n",
       "      <td>...</td>\n",
       "      <td>...</td>\n",
       "      <td>...</td>\n",
       "      <td>...</td>\n",
       "      <td>...</td>\n",
       "      <td>...</td>\n",
       "      <td>...</td>\n",
       "      <td>...</td>\n",
       "      <td>...</td>\n",
       "      <td>...</td>\n",
       "      <td>...</td>\n",
       "    </tr>\n",
       "    <tr>\n",
       "      <th>3897</th>\n",
       "      <td>39985110</td>\n",
       "      <td>2141-03-02 18:40:00</td>\n",
       "      <td>NaN</td>\n",
       "      <td>10.2</td>\n",
       "      <td>5.2</td>\n",
       "      <td>125.0</td>\n",
       "      <td>138.0</td>\n",
       "      <td>98.0</td>\n",
       "      <td>NaN</td>\n",
       "      <td>NaN</td>\n",
       "      <td>...</td>\n",
       "      <td>NaN</td>\n",
       "      <td>NaN</td>\n",
       "      <td>NaN</td>\n",
       "      <td>2141-03-03 05:57:46</td>\n",
       "      <td>2141-03-04 20:44:00</td>\n",
       "      <td>2141-03-06 04:00:00</td>\n",
       "      <td>31.266667</td>\n",
       "      <td>-0.160528</td>\n",
       "      <td>139574.0</td>\n",
       "      <td>0</td>\n",
       "    </tr>\n",
       "    <tr>\n",
       "      <th>3898</th>\n",
       "      <td>39985110</td>\n",
       "      <td>2141-03-02 21:35:00</td>\n",
       "      <td>NaN</td>\n",
       "      <td>10.1</td>\n",
       "      <td>5.6</td>\n",
       "      <td>126.0</td>\n",
       "      <td>138.0</td>\n",
       "      <td>98.0</td>\n",
       "      <td>NaN</td>\n",
       "      <td>NaN</td>\n",
       "      <td>...</td>\n",
       "      <td>NaN</td>\n",
       "      <td>NaN</td>\n",
       "      <td>NaN</td>\n",
       "      <td>2141-03-03 05:57:46</td>\n",
       "      <td>2141-03-04 20:44:00</td>\n",
       "      <td>2141-03-06 04:00:00</td>\n",
       "      <td>31.266667</td>\n",
       "      <td>-0.160528</td>\n",
       "      <td>139574.0</td>\n",
       "      <td>175</td>\n",
       "    </tr>\n",
       "    <tr>\n",
       "      <th>3896</th>\n",
       "      <td>39985110</td>\n",
       "      <td>2141-03-03 12:37:00</td>\n",
       "      <td>NaN</td>\n",
       "      <td>10.4</td>\n",
       "      <td>6.8</td>\n",
       "      <td>149.0</td>\n",
       "      <td>139.0</td>\n",
       "      <td>98.0</td>\n",
       "      <td>NaN</td>\n",
       "      <td>NaN</td>\n",
       "      <td>...</td>\n",
       "      <td>NaN</td>\n",
       "      <td>NaN</td>\n",
       "      <td>NaN</td>\n",
       "      <td>2141-03-03 05:57:46</td>\n",
       "      <td>2141-03-04 20:44:00</td>\n",
       "      <td>2141-03-06 04:00:00</td>\n",
       "      <td>31.266667</td>\n",
       "      <td>-0.160528</td>\n",
       "      <td>139574.0</td>\n",
       "      <td>1077</td>\n",
       "    </tr>\n",
       "    <tr>\n",
       "      <th>4182</th>\n",
       "      <td>39992167</td>\n",
       "      <td>2114-06-10 21:12:00</td>\n",
       "      <td>NaN</td>\n",
       "      <td>7.9</td>\n",
       "      <td>0.9</td>\n",
       "      <td>113.0</td>\n",
       "      <td>131.0</td>\n",
       "      <td>100.0</td>\n",
       "      <td>NaN</td>\n",
       "      <td>NaN</td>\n",
       "      <td>...</td>\n",
       "      <td>NaN</td>\n",
       "      <td>NaN</td>\n",
       "      <td>NaN</td>\n",
       "      <td>2114-06-10 19:00:00</td>\n",
       "      <td>2114-06-11 17:00:00</td>\n",
       "      <td>2114-06-15 05:00:00</td>\n",
       "      <td>84.000000</td>\n",
       "      <td>0.754494</td>\n",
       "      <td>79200.0</td>\n",
       "      <td>0</td>\n",
       "    </tr>\n",
       "    <tr>\n",
       "      <th>4181</th>\n",
       "      <td>39992167</td>\n",
       "      <td>2114-06-11 01:01:00</td>\n",
       "      <td>NaN</td>\n",
       "      <td>7.5</td>\n",
       "      <td>0.8</td>\n",
       "      <td>136.0</td>\n",
       "      <td>128.0</td>\n",
       "      <td>100.0</td>\n",
       "      <td>NaN</td>\n",
       "      <td>NaN</td>\n",
       "      <td>...</td>\n",
       "      <td>NaN</td>\n",
       "      <td>NaN</td>\n",
       "      <td>NaN</td>\n",
       "      <td>2114-06-10 19:00:00</td>\n",
       "      <td>2114-06-11 17:00:00</td>\n",
       "      <td>2114-06-15 05:00:00</td>\n",
       "      <td>84.000000</td>\n",
       "      <td>0.754494</td>\n",
       "      <td>79200.0</td>\n",
       "      <td>229</td>\n",
       "    </tr>\n",
       "  </tbody>\n",
       "</table>\n",
       "<p>5818 rows × 39 columns</p>\n",
       "</div>"
      ],
      "text/plain": [
       "       stay_id           charttime  total_protein  calcium  creatinine  \\\n",
       "6204  30004144 2126-04-04 09:30:00            NaN      8.0         0.7   \n",
       "6203  30004144 2126-04-04 13:06:00            NaN      6.8         0.7   \n",
       "6991  30005366 2202-12-28 02:10:00            NaN      8.8         6.7   \n",
       "2701  30006983 2159-10-11 13:20:00            NaN      8.0         0.8   \n",
       "2700  30006983 2159-10-12 04:28:00            NaN      7.1         1.0   \n",
       "...        ...                 ...            ...      ...         ...   \n",
       "3897  39985110 2141-03-02 18:40:00            NaN     10.2         5.2   \n",
       "3898  39985110 2141-03-02 21:35:00            NaN     10.1         5.6   \n",
       "3896  39985110 2141-03-03 12:37:00            NaN     10.4         6.8   \n",
       "4182  39992167 2114-06-10 21:12:00            NaN      7.9         0.9   \n",
       "4181  39992167 2114-06-11 01:01:00            NaN      7.5         0.8   \n",
       "\n",
       "      glucose  sodium  chloride  heart_rate  sbp  ...  sofa_cardiovascular  \\\n",
       "6204    114.0   135.0     103.0         NaN  NaN  ...                  NaN   \n",
       "6203    133.0   135.0     102.0         NaN  NaN  ...                  NaN   \n",
       "6991     41.0   139.0     100.0         NaN  NaN  ...                  NaN   \n",
       "2701    156.0   132.0     102.0         NaN  NaN  ...                  NaN   \n",
       "2700     89.0   136.0     108.0         NaN  NaN  ...                  NaN   \n",
       "...       ...     ...       ...         ...  ...  ...                  ...   \n",
       "3897    125.0   138.0      98.0         NaN  NaN  ...                  NaN   \n",
       "3898    126.0   138.0      98.0         NaN  NaN  ...                  NaN   \n",
       "3896    149.0   139.0      98.0         NaN  NaN  ...                  NaN   \n",
       "4182    113.0   131.0     100.0         NaN  NaN  ...                  NaN   \n",
       "4181    136.0   128.0     100.0         NaN  NaN  ...                  NaN   \n",
       "\n",
       "      sofa_cns  sofa_renal          icu_intime          vent_start  \\\n",
       "6204       NaN         NaN 2126-04-04 13:20:25 2126-04-05 16:00:00   \n",
       "6203       NaN         NaN 2126-04-04 13:20:25 2126-04-05 16:00:00   \n",
       "6991       NaN         NaN 2202-12-27 17:36:59 2202-12-28 14:00:00   \n",
       "2701       NaN         NaN 2159-10-12 03:56:42 2159-10-12 18:00:00   \n",
       "2700       NaN         NaN 2159-10-12 03:56:42 2159-10-12 18:00:00   \n",
       "...        ...         ...                 ...                 ...   \n",
       "3897       NaN         NaN 2141-03-03 05:57:46 2141-03-04 20:44:00   \n",
       "3898       NaN         NaN 2141-03-03 05:57:46 2141-03-04 20:44:00   \n",
       "3896       NaN         NaN 2141-03-03 05:57:46 2141-03-04 20:44:00   \n",
       "4182       NaN         NaN 2114-06-10 19:00:00 2114-06-11 17:00:00   \n",
       "4181       NaN         NaN 2114-06-10 19:00:00 2114-06-11 17:00:00   \n",
       "\n",
       "                vent_end  vent_duration   z_score  vent_icuin  minutes  \n",
       "6204 2126-04-06 17:00:00      25.000000 -0.269266     95975.0        0  \n",
       "6203 2126-04-06 17:00:00      25.000000 -0.269266     95975.0      216  \n",
       "6991 2202-12-28 20:00:00       6.000000 -0.598952     73381.0        0  \n",
       "2701 2159-10-14 19:00:00      49.000000  0.147178     50598.0        0  \n",
       "2700 2159-10-14 19:00:00      49.000000  0.147178     50598.0      908  \n",
       "...                  ...            ...       ...         ...      ...  \n",
       "3897 2141-03-06 04:00:00      31.266667 -0.160528    139574.0        0  \n",
       "3898 2141-03-06 04:00:00      31.266667 -0.160528    139574.0      175  \n",
       "3896 2141-03-06 04:00:00      31.266667 -0.160528    139574.0     1077  \n",
       "4182 2114-06-15 05:00:00      84.000000  0.754494     79200.0        0  \n",
       "4181 2114-06-15 05:00:00      84.000000  0.754494     79200.0      229  \n",
       "\n",
       "[5818 rows x 39 columns]"
      ]
     },
     "execution_count": 23,
     "metadata": {},
     "output_type": "execute_result"
    }
   ],
   "source": [
    "merge_df['minutes'] = minutes_l\n",
    "merge_df"
   ]
  },
  {
   "cell_type": "code",
   "execution_count": 24,
   "id": "51dd13d3",
   "metadata": {
    "execution": {
     "iopub.execute_input": "2023-04-08T17:56:20.108416Z",
     "iopub.status.busy": "2023-04-08T17:56:20.108004Z",
     "iopub.status.idle": "2023-04-08T17:56:20.474326Z",
     "shell.execute_reply": "2023-04-08T17:56:20.472827Z"
    },
    "papermill": {
     "duration": 0.394409,
     "end_time": "2023-04-08T17:56:20.478162",
     "exception": false,
     "start_time": "2023-04-08T17:56:20.083753",
     "status": "completed"
    },
    "tags": []
   },
   "outputs": [
    {
     "data": {
      "image/png": "[encoded data removed]",
      "text/plain": [
       "<Figure size 640x480 with 1 Axes>"
      ]
     },
     "metadata": {},
     "output_type": "display_data"
    }
   ],
   "source": [
    "sns.histplot(data = merge_df, x = merge_df['vent_duration'])\n",
    "plt.title('Hours in ICU for Living Patients')\n",
    "plt.show()"
   ]
  },
  {
   "cell_type": "markdown",
   "id": "86137ed3",
   "metadata": {
    "papermill": {
     "duration": 0.021698,
     "end_time": "2023-04-08T17:56:20.523072",
     "exception": false,
     "start_time": "2023-04-08T17:56:20.501374",
     "status": "completed"
    },
    "tags": []
   },
   "source": [
    "Create a dictionary to store the number of records in the `dynamic` dataframe for each `stay_id`"
   ]
  },
  {
   "cell_type": "code",
   "execution_count": 25,
   "id": "ed7fe61c",
   "metadata": {
    "execution": {
     "iopub.execute_input": "2023-04-08T17:56:20.568410Z",
     "iopub.status.busy": "2023-04-08T17:56:20.567993Z",
     "iopub.status.idle": "2023-04-08T17:56:20.577997Z",
     "shell.execute_reply": "2023-04-08T17:56:20.576588Z"
    },
    "papermill": {
     "duration": 0.035733,
     "end_time": "2023-04-08T17:56:20.580941",
     "exception": false,
     "start_time": "2023-04-08T17:56:20.545208",
     "status": "completed"
    },
    "tags": []
   },
   "outputs": [],
   "source": [
    "dict_ = {i:0 for i in set(merge_df['stay_id'].unique())}\n",
    "\n",
    "for i in merge_df['stay_id']:\n",
    "    dict_[i] += 1"
   ]
  },
  {
   "cell_type": "code",
   "execution_count": 26,
   "id": "07a70e2e",
   "metadata": {
    "execution": {
     "iopub.execute_input": "2023-04-08T17:56:20.625949Z",
     "iopub.status.busy": "2023-04-08T17:56:20.625323Z",
     "iopub.status.idle": "2023-04-08T17:56:21.491472Z",
     "shell.execute_reply": "2023-04-08T17:56:21.489809Z"
    },
    "papermill": {
     "duration": 0.892513,
     "end_time": "2023-04-08T17:56:21.494918",
     "exception": false,
     "start_time": "2023-04-08T17:56:20.602405",
     "status": "completed"
    },
    "tags": []
   },
   "outputs": [
    {
     "data": {
      "image/png": "[encoded data removed]",
      "text/plain": [
       "<Figure size 2000x2000 with 1 Axes>"
      ]
     },
     "metadata": {},
     "output_type": "display_data"
    }
   ],
   "source": [
    "fig, ax = plt.subplots(figsize = (20, 20))\n",
    "sns.histplot(data = dict_, x = dict_.values(), ax = ax)\n",
    "plt.title('Distribution of number of records for each patient')\n",
    "plt.xlim((min(dict_.values()), max(dict_.values())))\n",
    "plt.show()"
   ]
  },
  {
   "cell_type": "code",
   "execution_count": 27,
   "id": "a8ae7466",
   "metadata": {
    "execution": {
     "iopub.execute_input": "2023-04-08T17:56:21.545823Z",
     "iopub.status.busy": "2023-04-08T17:56:21.545356Z",
     "iopub.status.idle": "2023-04-08T17:56:21.558176Z",
     "shell.execute_reply": "2023-04-08T17:56:21.556928Z"
    },
    "papermill": {
     "duration": 0.040884,
     "end_time": "2023-04-08T17:56:21.560783",
     "exception": false,
     "start_time": "2023-04-08T17:56:21.519899",
     "status": "completed"
    },
    "tags": []
   },
   "outputs": [
    {
     "name": "stdout",
     "output_type": "stream",
     "text": [
      "The missing rate of each column:\n"
     ]
    },
    {
     "data": {
      "text/plain": [
       "stay_id                0.000000\n",
       "z_score                0.000000\n",
       "vent_duration          0.000000\n",
       "vent_end               0.000000\n",
       "vent_start             0.000000\n",
       "icu_intime             0.000000\n",
       "vent_icuin             0.000000\n",
       "minutes                0.000000\n",
       "charttime              0.000000\n",
       "sodium                 0.028017\n",
       "chloride               0.031282\n",
       "creatinine             0.036095\n",
       "glucose                0.056377\n",
       "calcium                0.129942\n",
       "hemoglobin             0.163630\n",
       "wbc                    0.167068\n",
       "pt                     0.436061\n",
       "ast                    0.579065\n",
       "bilirubin_total        0.581643\n",
       "alt                    0.582846\n",
       "alp                    0.585253\n",
       "bilirubin_direct       0.970780\n",
       "bilirubin_indirect     0.971124\n",
       "resp_rate              0.971468\n",
       "heart_rate             0.971640\n",
       "sofa_cardiovascular    0.977484\n",
       "mbp                    0.979202\n",
       "dbp                    0.980406\n",
       "sbp                    0.980406\n",
       "total_protein          0.987109\n",
       "urineoutput            0.987796\n",
       "temperature            0.992609\n",
       "sofa_cns               0.992953\n",
       "ph                     0.996734\n",
       "sofa_respiration       0.997594\n",
       "lactate                0.998109\n",
       "sofa_coagulation       0.999828\n",
       "sofa_liver             0.999828\n",
       "sofa_renal             1.000000\n",
       "dtype: float64"
      ]
     },
     "execution_count": 27,
     "metadata": {},
     "output_type": "execute_result"
    }
   ],
   "source": [
    "print('The missing rate of each column:')\n",
    "merge_df.isna().mean().sort_values()"
   ]
  },
  {
   "cell_type": "code",
   "execution_count": 28,
   "id": "08e33758",
   "metadata": {
    "execution": {
     "iopub.execute_input": "2023-04-08T17:56:21.607357Z",
     "iopub.status.busy": "2023-04-08T17:56:21.606385Z",
     "iopub.status.idle": "2023-04-08T17:56:21.617079Z",
     "shell.execute_reply": "2023-04-08T17:56:21.615793Z"
    },
    "papermill": {
     "duration": 0.037522,
     "end_time": "2023-04-08T17:56:21.620418",
     "exception": false,
     "start_time": "2023-04-08T17:56:21.582896",
     "status": "completed"
    },
    "tags": []
   },
   "outputs": [],
   "source": [
    "missing_percent = merge_df.isna().sum() / len(merge_df)\n",
    "\n",
    "df = merge_df.drop(columns = missing_percent[missing_percent > 0.4].index)"
   ]
  },
  {
   "cell_type": "code",
   "execution_count": 29,
   "id": "b81f02a2",
   "metadata": {
    "execution": {
     "iopub.execute_input": "2023-04-08T17:56:21.671638Z",
     "iopub.status.busy": "2023-04-08T17:56:21.671220Z",
     "iopub.status.idle": "2023-04-08T17:56:21.676224Z",
     "shell.execute_reply": "2023-04-08T17:56:21.674808Z"
    },
    "papermill": {
     "duration": 0.033819,
     "end_time": "2023-04-08T17:56:21.678899",
     "exception": false,
     "start_time": "2023-04-08T17:56:21.645080",
     "status": "completed"
    },
    "tags": []
   },
   "outputs": [],
   "source": [
    "# df = df.fillna(df.mean())"
   ]
  },
  {
   "cell_type": "code",
   "execution_count": 30,
   "id": "edd070bc",
   "metadata": {
    "execution": {
     "iopub.execute_input": "2023-04-08T17:56:21.725625Z",
     "iopub.status.busy": "2023-04-08T17:56:21.725212Z",
     "iopub.status.idle": "2023-04-08T17:56:21.730252Z",
     "shell.execute_reply": "2023-04-08T17:56:21.728982Z"
    },
    "papermill": {
     "duration": 0.031709,
     "end_time": "2023-04-08T17:56:21.732657",
     "exception": false,
     "start_time": "2023-04-08T17:56:21.700948",
     "status": "completed"
    },
    "tags": []
   },
   "outputs": [],
   "source": [
    "# df = df.fillna(df.median())"
   ]
  },
  {
   "cell_type": "code",
   "execution_count": 31,
   "id": "2b39de47",
   "metadata": {
    "execution": {
     "iopub.execute_input": "2023-04-08T17:56:21.780818Z",
     "iopub.status.busy": "2023-04-08T17:56:21.780363Z",
     "iopub.status.idle": "2023-04-08T17:56:22.633426Z",
     "shell.execute_reply": "2023-04-08T17:56:22.631451Z"
    },
    "papermill": {
     "duration": 0.880857,
     "end_time": "2023-04-08T17:56:22.636361",
     "exception": false,
     "start_time": "2023-04-08T17:56:21.755504",
     "status": "completed"
    },
    "tags": []
   },
   "outputs": [],
   "source": [
    "durations = []\n",
    "for i in df['stay_id'].unique():\n",
    "    durations.append(df[df['stay_id'] == i]['vent_duration'].values[0])"
   ]
  },
  {
   "cell_type": "code",
   "execution_count": 32,
   "id": "09b9c73a",
   "metadata": {
    "execution": {
     "iopub.execute_input": "2023-04-08T17:56:22.685858Z",
     "iopub.status.busy": "2023-04-08T17:56:22.685373Z",
     "iopub.status.idle": "2023-04-08T17:56:22.698590Z",
     "shell.execute_reply": "2023-04-08T17:56:22.697338Z"
    },
    "papermill": {
     "duration": 0.04135,
     "end_time": "2023-04-08T17:56:22.701442",
     "exception": false,
     "start_time": "2023-04-08T17:56:22.660092",
     "status": "completed"
    },
    "tags": []
   },
   "outputs": [],
   "source": [
    "def normalize_data(df, column):\n",
    "    min_max_scaler = sklearn.preprocessing.MinMaxScaler()\n",
    "    df[column] = min_max_scaler.fit_transform(df[column].values.reshape(-1,1))\n",
    "    return df\n",
    "\n",
    "numeric_features = ['calcium', 'creatinine', 'glucose', 'sodium', 'chloride', 'hemoglobin', 'wbc', 'vent_icuin']\n",
    "\n",
    "for c in numeric_features:\n",
    "    normalize_data(df, c)"
   ]
  },
  {
   "cell_type": "code",
   "execution_count": 33,
   "id": "9078218b",
   "metadata": {
    "execution": {
     "iopub.execute_input": "2023-04-08T17:56:22.750746Z",
     "iopub.status.busy": "2023-04-08T17:56:22.750273Z",
     "iopub.status.idle": "2023-04-08T17:56:23.555213Z",
     "shell.execute_reply": "2023-04-08T17:56:23.554199Z"
    },
    "papermill": {
     "duration": 0.832869,
     "end_time": "2023-04-08T17:56:23.558176",
     "exception": false,
     "start_time": "2023-04-08T17:56:22.725307",
     "status": "completed"
    },
    "tags": []
   },
   "outputs": [],
   "source": [
    "imputer = KNNImputer(n_neighbors = 5)\n",
    "\n",
    "df[numeric_features] = imputer.fit_transform(df[numeric_features])"
   ]
  },
  {
   "cell_type": "code",
   "execution_count": 34,
   "id": "f282180c",
   "metadata": {
    "execution": {
     "iopub.execute_input": "2023-04-08T17:56:23.604604Z",
     "iopub.status.busy": "2023-04-08T17:56:23.604213Z",
     "iopub.status.idle": "2023-04-08T17:56:23.611426Z",
     "shell.execute_reply": "2023-04-08T17:56:23.610532Z"
    },
    "papermill": {
     "duration": 0.0337,
     "end_time": "2023-04-08T17:56:23.614099",
     "exception": false,
     "start_time": "2023-04-08T17:56:23.580399",
     "status": "completed"
    },
    "tags": []
   },
   "outputs": [
    {
     "data": {
      "text/plain": [
       "1684"
      ]
     },
     "execution_count": 34,
     "metadata": {},
     "output_type": "execute_result"
    }
   ],
   "source": [
    "len(df['stay_id'].unique())"
   ]
  },
  {
   "cell_type": "code",
   "execution_count": 35,
   "id": "a7ea0959",
   "metadata": {
    "execution": {
     "iopub.execute_input": "2023-04-08T17:56:23.662596Z",
     "iopub.status.busy": "2023-04-08T17:56:23.661766Z",
     "iopub.status.idle": "2023-04-08T17:56:30.470977Z",
     "shell.execute_reply": "2023-04-08T17:56:30.469662Z"
    },
    "papermill": {
     "duration": 6.837673,
     "end_time": "2023-04-08T17:56:30.474041",
     "exception": false,
     "start_time": "2023-04-08T17:56:23.636368",
     "status": "completed"
    },
    "tags": []
   },
   "outputs": [],
   "source": [
    "time_df = [[0 for _ in range(max(minutes_l) + 1)] for i in range(len(df['stay_id'].unique()))] \n",
    "row = 0\n",
    "for unique_id in df['stay_id'].unique():\n",
    "    for i in range(df[df['stay_id'] == unique_id].shape[0]):\n",
    "        time_df[row][minutes_l[i]] = list(df[df['stay_id'] == unique_id][numeric_features].values[i])\n",
    "    row += 1"
   ]
  },
  {
   "cell_type": "code",
   "execution_count": 36,
   "id": "8aceb326",
   "metadata": {
    "execution": {
     "iopub.execute_input": "2023-04-08T17:56:30.521142Z",
     "iopub.status.busy": "2023-04-08T17:56:30.520507Z",
     "iopub.status.idle": "2023-04-08T17:56:31.159796Z",
     "shell.execute_reply": "2023-04-08T17:56:31.158481Z"
    },
    "papermill": {
     "duration": 0.666254,
     "end_time": "2023-04-08T17:56:31.162828",
     "exception": false,
     "start_time": "2023-04-08T17:56:30.496574",
     "status": "completed"
    },
    "tags": []
   },
   "outputs": [],
   "source": [
    "df_time = pd.DataFrame(time_df)"
   ]
  },
  {
   "cell_type": "code",
   "execution_count": 37,
   "id": "da7b8975",
   "metadata": {
    "execution": {
     "iopub.execute_input": "2023-04-08T17:56:31.210493Z",
     "iopub.status.busy": "2023-04-08T17:56:31.210066Z",
     "iopub.status.idle": "2023-04-08T17:56:31.237424Z",
     "shell.execute_reply": "2023-04-08T17:56:31.235678Z"
    },
    "papermill": {
     "duration": 0.05481,
     "end_time": "2023-04-08T17:56:31.240793",
     "exception": false,
     "start_time": "2023-04-08T17:56:31.185983",
     "status": "completed"
    },
    "tags": []
   },
   "outputs": [
    {
     "data": {
      "text/html": [
       "<div>\n",
       "<style scoped>\n",
       "    .dataframe tbody tr th:only-of-type {\n",
       "        vertical-align: middle;\n",
       "    }\n",
       "\n",
       "    .dataframe tbody tr th {\n",
       "        vertical-align: top;\n",
       "    }\n",
       "\n",
       "    .dataframe thead th {\n",
       "        text-align: right;\n",
       "    }\n",
       "</style>\n",
       "<table border=\"1\" class=\"dataframe\">\n",
       "  <thead>\n",
       "    <tr style=\"text-align: right;\">\n",
       "      <th></th>\n",
       "      <th>0</th>\n",
       "      <th>1</th>\n",
       "      <th>2</th>\n",
       "      <th>3</th>\n",
       "      <th>4</th>\n",
       "      <th>5</th>\n",
       "      <th>6</th>\n",
       "      <th>7</th>\n",
       "      <th>8</th>\n",
       "      <th>9</th>\n",
       "      <th>...</th>\n",
       "      <th>1430</th>\n",
       "      <th>1431</th>\n",
       "      <th>1432</th>\n",
       "      <th>1433</th>\n",
       "      <th>1434</th>\n",
       "      <th>1435</th>\n",
       "      <th>1436</th>\n",
       "      <th>1437</th>\n",
       "      <th>1438</th>\n",
       "      <th>1439</th>\n",
       "    </tr>\n",
       "  </thead>\n",
       "  <tbody>\n",
       "    <tr>\n",
       "      <th>0</th>\n",
       "      <td>[0.46913580246913567, 0.030612244897959186, 0....</td>\n",
       "      <td>0</td>\n",
       "      <td>0</td>\n",
       "      <td>0</td>\n",
       "      <td>0</td>\n",
       "      <td>0</td>\n",
       "      <td>0</td>\n",
       "      <td>0</td>\n",
       "      <td>0</td>\n",
       "      <td>0</td>\n",
       "      <td>...</td>\n",
       "      <td>0</td>\n",
       "      <td>0</td>\n",
       "      <td>0</td>\n",
       "      <td>0</td>\n",
       "      <td>0</td>\n",
       "      <td>0</td>\n",
       "      <td>0</td>\n",
       "      <td>0</td>\n",
       "      <td>0</td>\n",
       "      <td>0</td>\n",
       "    </tr>\n",
       "    <tr>\n",
       "      <th>1</th>\n",
       "      <td>[0.5679012345679012, 0.33673469387755106, 0.00...</td>\n",
       "      <td>0</td>\n",
       "      <td>0</td>\n",
       "      <td>0</td>\n",
       "      <td>0</td>\n",
       "      <td>0</td>\n",
       "      <td>0</td>\n",
       "      <td>0</td>\n",
       "      <td>0</td>\n",
       "      <td>0</td>\n",
       "      <td>...</td>\n",
       "      <td>0</td>\n",
       "      <td>0</td>\n",
       "      <td>0</td>\n",
       "      <td>0</td>\n",
       "      <td>0</td>\n",
       "      <td>0</td>\n",
       "      <td>0</td>\n",
       "      <td>0</td>\n",
       "      <td>0</td>\n",
       "      <td>0</td>\n",
       "    </tr>\n",
       "    <tr>\n",
       "      <th>2</th>\n",
       "      <td>[0.46913580246913567, 0.035714285714285726, 0....</td>\n",
       "      <td>0</td>\n",
       "      <td>0</td>\n",
       "      <td>0</td>\n",
       "      <td>0</td>\n",
       "      <td>0</td>\n",
       "      <td>0</td>\n",
       "      <td>0</td>\n",
       "      <td>0</td>\n",
       "      <td>0</td>\n",
       "      <td>...</td>\n",
       "      <td>0</td>\n",
       "      <td>0</td>\n",
       "      <td>0</td>\n",
       "      <td>0</td>\n",
       "      <td>0</td>\n",
       "      <td>0</td>\n",
       "      <td>0</td>\n",
       "      <td>0</td>\n",
       "      <td>0</td>\n",
       "      <td>0</td>\n",
       "    </tr>\n",
       "    <tr>\n",
       "      <th>3</th>\n",
       "      <td>[0.530864197530864, 0.0663265306122449, 0.0261...</td>\n",
       "      <td>0</td>\n",
       "      <td>0</td>\n",
       "      <td>0</td>\n",
       "      <td>0</td>\n",
       "      <td>0</td>\n",
       "      <td>0</td>\n",
       "      <td>0</td>\n",
       "      <td>0</td>\n",
       "      <td>0</td>\n",
       "      <td>...</td>\n",
       "      <td>0</td>\n",
       "      <td>0</td>\n",
       "      <td>0</td>\n",
       "      <td>0</td>\n",
       "      <td>0</td>\n",
       "      <td>0</td>\n",
       "      <td>0</td>\n",
       "      <td>0</td>\n",
       "      <td>0</td>\n",
       "      <td>0</td>\n",
       "    </tr>\n",
       "    <tr>\n",
       "      <th>4</th>\n",
       "      <td>[0.6666666666666664, 0.035714285714285726, 0.0...</td>\n",
       "      <td>0</td>\n",
       "      <td>0</td>\n",
       "      <td>0</td>\n",
       "      <td>0</td>\n",
       "      <td>0</td>\n",
       "      <td>0</td>\n",
       "      <td>0</td>\n",
       "      <td>0</td>\n",
       "      <td>0</td>\n",
       "      <td>...</td>\n",
       "      <td>0</td>\n",
       "      <td>0</td>\n",
       "      <td>0</td>\n",
       "      <td>0</td>\n",
       "      <td>0</td>\n",
       "      <td>0</td>\n",
       "      <td>0</td>\n",
       "      <td>0</td>\n",
       "      <td>0</td>\n",
       "      <td>0</td>\n",
       "    </tr>\n",
       "    <tr>\n",
       "      <th>...</th>\n",
       "      <td>...</td>\n",
       "      <td>...</td>\n",
       "      <td>...</td>\n",
       "      <td>...</td>\n",
       "      <td>...</td>\n",
       "      <td>...</td>\n",
       "      <td>...</td>\n",
       "      <td>...</td>\n",
       "      <td>...</td>\n",
       "      <td>...</td>\n",
       "      <td>...</td>\n",
       "      <td>...</td>\n",
       "      <td>...</td>\n",
       "      <td>...</td>\n",
       "      <td>...</td>\n",
       "      <td>...</td>\n",
       "      <td>...</td>\n",
       "      <td>...</td>\n",
       "      <td>...</td>\n",
       "      <td>...</td>\n",
       "      <td>...</td>\n",
       "    </tr>\n",
       "    <tr>\n",
       "      <th>1679</th>\n",
       "      <td>[0.6296296296296297, 0.040816326530612256, 0.0...</td>\n",
       "      <td>0</td>\n",
       "      <td>0</td>\n",
       "      <td>0</td>\n",
       "      <td>0</td>\n",
       "      <td>0</td>\n",
       "      <td>0</td>\n",
       "      <td>0</td>\n",
       "      <td>0</td>\n",
       "      <td>0</td>\n",
       "      <td>...</td>\n",
       "      <td>0</td>\n",
       "      <td>0</td>\n",
       "      <td>0</td>\n",
       "      <td>0</td>\n",
       "      <td>0</td>\n",
       "      <td>0</td>\n",
       "      <td>0</td>\n",
       "      <td>0</td>\n",
       "      <td>0</td>\n",
       "      <td>0</td>\n",
       "    </tr>\n",
       "    <tr>\n",
       "      <th>1680</th>\n",
       "      <td>[0.5802469135802467, 0.10714285714285716, 0.02...</td>\n",
       "      <td>0</td>\n",
       "      <td>0</td>\n",
       "      <td>0</td>\n",
       "      <td>0</td>\n",
       "      <td>0</td>\n",
       "      <td>0</td>\n",
       "      <td>0</td>\n",
       "      <td>0</td>\n",
       "      <td>0</td>\n",
       "      <td>...</td>\n",
       "      <td>0</td>\n",
       "      <td>0</td>\n",
       "      <td>0</td>\n",
       "      <td>0</td>\n",
       "      <td>0</td>\n",
       "      <td>0</td>\n",
       "      <td>0</td>\n",
       "      <td>0</td>\n",
       "      <td>0</td>\n",
       "      <td>0</td>\n",
       "    </tr>\n",
       "    <tr>\n",
       "      <th>1681</th>\n",
       "      <td>[0.5530864197530863, 0.056122448979591844, 0.0...</td>\n",
       "      <td>0</td>\n",
       "      <td>0</td>\n",
       "      <td>0</td>\n",
       "      <td>0</td>\n",
       "      <td>0</td>\n",
       "      <td>0</td>\n",
       "      <td>0</td>\n",
       "      <td>0</td>\n",
       "      <td>0</td>\n",
       "      <td>...</td>\n",
       "      <td>0</td>\n",
       "      <td>0</td>\n",
       "      <td>0</td>\n",
       "      <td>0</td>\n",
       "      <td>0</td>\n",
       "      <td>0</td>\n",
       "      <td>0</td>\n",
       "      <td>0</td>\n",
       "      <td>0</td>\n",
       "      <td>0</td>\n",
       "    </tr>\n",
       "    <tr>\n",
       "      <th>1682</th>\n",
       "      <td>[0.7654320987654321, 0.3418367346938776, 0.040...</td>\n",
       "      <td>0</td>\n",
       "      <td>0</td>\n",
       "      <td>0</td>\n",
       "      <td>0</td>\n",
       "      <td>0</td>\n",
       "      <td>0</td>\n",
       "      <td>0</td>\n",
       "      <td>0</td>\n",
       "      <td>0</td>\n",
       "      <td>...</td>\n",
       "      <td>0</td>\n",
       "      <td>0</td>\n",
       "      <td>0</td>\n",
       "      <td>0</td>\n",
       "      <td>0</td>\n",
       "      <td>0</td>\n",
       "      <td>0</td>\n",
       "      <td>0</td>\n",
       "      <td>0</td>\n",
       "      <td>0</td>\n",
       "    </tr>\n",
       "    <tr>\n",
       "      <th>1683</th>\n",
       "      <td>[0.45679012345679004, 0.040816326530612256, 0....</td>\n",
       "      <td>0</td>\n",
       "      <td>0</td>\n",
       "      <td>0</td>\n",
       "      <td>0</td>\n",
       "      <td>0</td>\n",
       "      <td>0</td>\n",
       "      <td>0</td>\n",
       "      <td>0</td>\n",
       "      <td>0</td>\n",
       "      <td>...</td>\n",
       "      <td>0</td>\n",
       "      <td>0</td>\n",
       "      <td>0</td>\n",
       "      <td>0</td>\n",
       "      <td>0</td>\n",
       "      <td>0</td>\n",
       "      <td>0</td>\n",
       "      <td>0</td>\n",
       "      <td>0</td>\n",
       "      <td>0</td>\n",
       "    </tr>\n",
       "  </tbody>\n",
       "</table>\n",
       "<p>1684 rows × 1440 columns</p>\n",
       "</div>"
      ],
      "text/plain": [
       "                                                   0     1     2     3     \\\n",
       "0     [0.46913580246913567, 0.030612244897959186, 0....     0     0     0   \n",
       "1     [0.5679012345679012, 0.33673469387755106, 0.00...     0     0     0   \n",
       "2     [0.46913580246913567, 0.035714285714285726, 0....     0     0     0   \n",
       "3     [0.530864197530864, 0.0663265306122449, 0.0261...     0     0     0   \n",
       "4     [0.6666666666666664, 0.035714285714285726, 0.0...     0     0     0   \n",
       "...                                                 ...   ...   ...   ...   \n",
       "1679  [0.6296296296296297, 0.040816326530612256, 0.0...     0     0     0   \n",
       "1680  [0.5802469135802467, 0.10714285714285716, 0.02...     0     0     0   \n",
       "1681  [0.5530864197530863, 0.056122448979591844, 0.0...     0     0     0   \n",
       "1682  [0.7654320987654321, 0.3418367346938776, 0.040...     0     0     0   \n",
       "1683  [0.45679012345679004, 0.040816326530612256, 0....     0     0     0   \n",
       "\n",
       "      4     5     6     7     8     9     ...  1430 1431  1432  1433  1434  \\\n",
       "0        0     0     0     0     0     0  ...     0    0     0     0     0   \n",
       "1        0     0     0     0     0     0  ...     0    0     0     0     0   \n",
       "2        0     0     0     0     0     0  ...     0    0     0     0     0   \n",
       "3        0     0     0     0     0     0  ...     0    0     0     0     0   \n",
       "4        0     0     0     0     0     0  ...     0    0     0     0     0   \n",
       "...    ...   ...   ...   ...   ...   ...  ...   ...  ...   ...   ...   ...   \n",
       "1679     0     0     0     0     0     0  ...     0    0     0     0     0   \n",
       "1680     0     0     0     0     0     0  ...     0    0     0     0     0   \n",
       "1681     0     0     0     0     0     0  ...     0    0     0     0     0   \n",
       "1682     0     0     0     0     0     0  ...     0    0     0     0     0   \n",
       "1683     0     0     0     0     0     0  ...     0    0     0     0     0   \n",
       "\n",
       "      1435  1436  1437  1438  1439  \n",
       "0        0     0     0     0     0  \n",
       "1        0     0     0     0     0  \n",
       "2        0     0     0     0     0  \n",
       "3        0     0     0     0     0  \n",
       "4        0     0     0     0     0  \n",
       "...    ...   ...   ...   ...   ...  \n",
       "1679     0     0     0     0     0  \n",
       "1680     0     0     0     0     0  \n",
       "1681     0     0     0     0     0  \n",
       "1682     0     0     0     0     0  \n",
       "1683     0     0     0     0     0  \n",
       "\n",
       "[1684 rows x 1440 columns]"
      ]
     },
     "execution_count": 37,
     "metadata": {},
     "output_type": "execute_result"
    }
   ],
   "source": [
    "df_time"
   ]
  },
  {
   "cell_type": "code",
   "execution_count": 38,
   "id": "83c5676f",
   "metadata": {
    "execution": {
     "iopub.execute_input": "2023-04-08T17:56:31.290278Z",
     "iopub.status.busy": "2023-04-08T17:56:31.289876Z",
     "iopub.status.idle": "2023-04-08T17:56:31.320345Z",
     "shell.execute_reply": "2023-04-08T17:56:31.319023Z"
    },
    "papermill": {
     "duration": 0.058721,
     "end_time": "2023-04-08T17:56:31.323043",
     "exception": false,
     "start_time": "2023-04-08T17:56:31.264322",
     "status": "completed"
    },
    "tags": []
   },
   "outputs": [
    {
     "data": {
      "text/html": [
       "<div>\n",
       "<style scoped>\n",
       "    .dataframe tbody tr th:only-of-type {\n",
       "        vertical-align: middle;\n",
       "    }\n",
       "\n",
       "    .dataframe tbody tr th {\n",
       "        vertical-align: top;\n",
       "    }\n",
       "\n",
       "    .dataframe thead th {\n",
       "        text-align: right;\n",
       "    }\n",
       "</style>\n",
       "<table border=\"1\" class=\"dataframe\">\n",
       "  <thead>\n",
       "    <tr style=\"text-align: right;\">\n",
       "      <th></th>\n",
       "      <th>0</th>\n",
       "      <th>1</th>\n",
       "      <th>2</th>\n",
       "      <th>3</th>\n",
       "      <th>4</th>\n",
       "      <th>5</th>\n",
       "      <th>6</th>\n",
       "      <th>7</th>\n",
       "      <th>8</th>\n",
       "      <th>9</th>\n",
       "      <th>...</th>\n",
       "      <th>1431</th>\n",
       "      <th>1432</th>\n",
       "      <th>1433</th>\n",
       "      <th>1434</th>\n",
       "      <th>1435</th>\n",
       "      <th>1436</th>\n",
       "      <th>1437</th>\n",
       "      <th>1438</th>\n",
       "      <th>1439</th>\n",
       "      <th>vent_duration</th>\n",
       "    </tr>\n",
       "  </thead>\n",
       "  <tbody>\n",
       "    <tr>\n",
       "      <th>0</th>\n",
       "      <td>[0.46913580246913567, 0.030612244897959186, 0....</td>\n",
       "      <td>0</td>\n",
       "      <td>0</td>\n",
       "      <td>0</td>\n",
       "      <td>0</td>\n",
       "      <td>0</td>\n",
       "      <td>0</td>\n",
       "      <td>0</td>\n",
       "      <td>0</td>\n",
       "      <td>0</td>\n",
       "      <td>...</td>\n",
       "      <td>0</td>\n",
       "      <td>0</td>\n",
       "      <td>0</td>\n",
       "      <td>0</td>\n",
       "      <td>0</td>\n",
       "      <td>0</td>\n",
       "      <td>0</td>\n",
       "      <td>0</td>\n",
       "      <td>0</td>\n",
       "      <td>25.000000</td>\n",
       "    </tr>\n",
       "    <tr>\n",
       "      <th>1</th>\n",
       "      <td>[0.5679012345679012, 0.33673469387755106, 0.00...</td>\n",
       "      <td>0</td>\n",
       "      <td>0</td>\n",
       "      <td>0</td>\n",
       "      <td>0</td>\n",
       "      <td>0</td>\n",
       "      <td>0</td>\n",
       "      <td>0</td>\n",
       "      <td>0</td>\n",
       "      <td>0</td>\n",
       "      <td>...</td>\n",
       "      <td>0</td>\n",
       "      <td>0</td>\n",
       "      <td>0</td>\n",
       "      <td>0</td>\n",
       "      <td>0</td>\n",
       "      <td>0</td>\n",
       "      <td>0</td>\n",
       "      <td>0</td>\n",
       "      <td>0</td>\n",
       "      <td>6.000000</td>\n",
       "    </tr>\n",
       "    <tr>\n",
       "      <th>2</th>\n",
       "      <td>[0.46913580246913567, 0.035714285714285726, 0....</td>\n",
       "      <td>0</td>\n",
       "      <td>0</td>\n",
       "      <td>0</td>\n",
       "      <td>0</td>\n",
       "      <td>0</td>\n",
       "      <td>0</td>\n",
       "      <td>0</td>\n",
       "      <td>0</td>\n",
       "      <td>0</td>\n",
       "      <td>...</td>\n",
       "      <td>0</td>\n",
       "      <td>0</td>\n",
       "      <td>0</td>\n",
       "      <td>0</td>\n",
       "      <td>0</td>\n",
       "      <td>0</td>\n",
       "      <td>0</td>\n",
       "      <td>0</td>\n",
       "      <td>0</td>\n",
       "      <td>49.000000</td>\n",
       "    </tr>\n",
       "    <tr>\n",
       "      <th>3</th>\n",
       "      <td>[0.530864197530864, 0.0663265306122449, 0.0261...</td>\n",
       "      <td>0</td>\n",
       "      <td>0</td>\n",
       "      <td>0</td>\n",
       "      <td>0</td>\n",
       "      <td>0</td>\n",
       "      <td>0</td>\n",
       "      <td>0</td>\n",
       "      <td>0</td>\n",
       "      <td>0</td>\n",
       "      <td>...</td>\n",
       "      <td>0</td>\n",
       "      <td>0</td>\n",
       "      <td>0</td>\n",
       "      <td>0</td>\n",
       "      <td>0</td>\n",
       "      <td>0</td>\n",
       "      <td>0</td>\n",
       "      <td>0</td>\n",
       "      <td>0</td>\n",
       "      <td>24.166667</td>\n",
       "    </tr>\n",
       "    <tr>\n",
       "      <th>4</th>\n",
       "      <td>[0.6666666666666664, 0.035714285714285726, 0.0...</td>\n",
       "      <td>0</td>\n",
       "      <td>0</td>\n",
       "      <td>0</td>\n",
       "      <td>0</td>\n",
       "      <td>0</td>\n",
       "      <td>0</td>\n",
       "      <td>0</td>\n",
       "      <td>0</td>\n",
       "      <td>0</td>\n",
       "      <td>...</td>\n",
       "      <td>0</td>\n",
       "      <td>0</td>\n",
       "      <td>0</td>\n",
       "      <td>0</td>\n",
       "      <td>0</td>\n",
       "      <td>0</td>\n",
       "      <td>0</td>\n",
       "      <td>0</td>\n",
       "      <td>0</td>\n",
       "      <td>20.450000</td>\n",
       "    </tr>\n",
       "    <tr>\n",
       "      <th>...</th>\n",
       "      <td>...</td>\n",
       "      <td>...</td>\n",
       "      <td>...</td>\n",
       "      <td>...</td>\n",
       "      <td>...</td>\n",
       "      <td>...</td>\n",
       "      <td>...</td>\n",
       "      <td>...</td>\n",
       "      <td>...</td>\n",
       "      <td>...</td>\n",
       "      <td>...</td>\n",
       "      <td>...</td>\n",
       "      <td>...</td>\n",
       "      <td>...</td>\n",
       "      <td>...</td>\n",
       "      <td>...</td>\n",
       "      <td>...</td>\n",
       "      <td>...</td>\n",
       "      <td>...</td>\n",
       "      <td>...</td>\n",
       "      <td>...</td>\n",
       "    </tr>\n",
       "    <tr>\n",
       "      <th>1679</th>\n",
       "      <td>[0.6296296296296297, 0.040816326530612256, 0.0...</td>\n",
       "      <td>0</td>\n",
       "      <td>0</td>\n",
       "      <td>0</td>\n",
       "      <td>0</td>\n",
       "      <td>0</td>\n",
       "      <td>0</td>\n",
       "      <td>0</td>\n",
       "      <td>0</td>\n",
       "      <td>0</td>\n",
       "      <td>...</td>\n",
       "      <td>0</td>\n",
       "      <td>0</td>\n",
       "      <td>0</td>\n",
       "      <td>0</td>\n",
       "      <td>0</td>\n",
       "      <td>0</td>\n",
       "      <td>0</td>\n",
       "      <td>0</td>\n",
       "      <td>0</td>\n",
       "      <td>18.150000</td>\n",
       "    </tr>\n",
       "    <tr>\n",
       "      <th>1680</th>\n",
       "      <td>[0.5802469135802467, 0.10714285714285716, 0.02...</td>\n",
       "      <td>0</td>\n",
       "      <td>0</td>\n",
       "      <td>0</td>\n",
       "      <td>0</td>\n",
       "      <td>0</td>\n",
       "      <td>0</td>\n",
       "      <td>0</td>\n",
       "      <td>0</td>\n",
       "      <td>0</td>\n",
       "      <td>...</td>\n",
       "      <td>0</td>\n",
       "      <td>0</td>\n",
       "      <td>0</td>\n",
       "      <td>0</td>\n",
       "      <td>0</td>\n",
       "      <td>0</td>\n",
       "      <td>0</td>\n",
       "      <td>0</td>\n",
       "      <td>0</td>\n",
       "      <td>4.000000</td>\n",
       "    </tr>\n",
       "    <tr>\n",
       "      <th>1681</th>\n",
       "      <td>[0.5530864197530863, 0.056122448979591844, 0.0...</td>\n",
       "      <td>0</td>\n",
       "      <td>0</td>\n",
       "      <td>0</td>\n",
       "      <td>0</td>\n",
       "      <td>0</td>\n",
       "      <td>0</td>\n",
       "      <td>0</td>\n",
       "      <td>0</td>\n",
       "      <td>0</td>\n",
       "      <td>...</td>\n",
       "      <td>0</td>\n",
       "      <td>0</td>\n",
       "      <td>0</td>\n",
       "      <td>0</td>\n",
       "      <td>0</td>\n",
       "      <td>0</td>\n",
       "      <td>0</td>\n",
       "      <td>0</td>\n",
       "      <td>0</td>\n",
       "      <td>13.000000</td>\n",
       "    </tr>\n",
       "    <tr>\n",
       "      <th>1682</th>\n",
       "      <td>[0.7654320987654321, 0.3418367346938776, 0.040...</td>\n",
       "      <td>0</td>\n",
       "      <td>0</td>\n",
       "      <td>0</td>\n",
       "      <td>0</td>\n",
       "      <td>0</td>\n",
       "      <td>0</td>\n",
       "      <td>0</td>\n",
       "      <td>0</td>\n",
       "      <td>0</td>\n",
       "      <td>...</td>\n",
       "      <td>0</td>\n",
       "      <td>0</td>\n",
       "      <td>0</td>\n",
       "      <td>0</td>\n",
       "      <td>0</td>\n",
       "      <td>0</td>\n",
       "      <td>0</td>\n",
       "      <td>0</td>\n",
       "      <td>0</td>\n",
       "      <td>31.266667</td>\n",
       "    </tr>\n",
       "    <tr>\n",
       "      <th>1683</th>\n",
       "      <td>[0.45679012345679004, 0.040816326530612256, 0....</td>\n",
       "      <td>0</td>\n",
       "      <td>0</td>\n",
       "      <td>0</td>\n",
       "      <td>0</td>\n",
       "      <td>0</td>\n",
       "      <td>0</td>\n",
       "      <td>0</td>\n",
       "      <td>0</td>\n",
       "      <td>0</td>\n",
       "      <td>...</td>\n",
       "      <td>0</td>\n",
       "      <td>0</td>\n",
       "      <td>0</td>\n",
       "      <td>0</td>\n",
       "      <td>0</td>\n",
       "      <td>0</td>\n",
       "      <td>0</td>\n",
       "      <td>0</td>\n",
       "      <td>0</td>\n",
       "      <td>84.000000</td>\n",
       "    </tr>\n",
       "  </tbody>\n",
       "</table>\n",
       "<p>1684 rows × 1441 columns</p>\n",
       "</div>"
      ],
      "text/plain": [
       "                                                      0  1  2  3  4  5  6  7  \\\n",
       "0     [0.46913580246913567, 0.030612244897959186, 0....  0  0  0  0  0  0  0   \n",
       "1     [0.5679012345679012, 0.33673469387755106, 0.00...  0  0  0  0  0  0  0   \n",
       "2     [0.46913580246913567, 0.035714285714285726, 0....  0  0  0  0  0  0  0   \n",
       "3     [0.530864197530864, 0.0663265306122449, 0.0261...  0  0  0  0  0  0  0   \n",
       "4     [0.6666666666666664, 0.035714285714285726, 0.0...  0  0  0  0  0  0  0   \n",
       "...                                                 ... .. .. .. .. .. .. ..   \n",
       "1679  [0.6296296296296297, 0.040816326530612256, 0.0...  0  0  0  0  0  0  0   \n",
       "1680  [0.5802469135802467, 0.10714285714285716, 0.02...  0  0  0  0  0  0  0   \n",
       "1681  [0.5530864197530863, 0.056122448979591844, 0.0...  0  0  0  0  0  0  0   \n",
       "1682  [0.7654320987654321, 0.3418367346938776, 0.040...  0  0  0  0  0  0  0   \n",
       "1683  [0.45679012345679004, 0.040816326530612256, 0....  0  0  0  0  0  0  0   \n",
       "\n",
       "      8  9  ...  1431 1432  1433  1434  1435  1436  1437  1438  1439  \\\n",
       "0     0  0  ...     0    0     0     0     0     0     0     0     0   \n",
       "1     0  0  ...     0    0     0     0     0     0     0     0     0   \n",
       "2     0  0  ...     0    0     0     0     0     0     0     0     0   \n",
       "3     0  0  ...     0    0     0     0     0     0     0     0     0   \n",
       "4     0  0  ...     0    0     0     0     0     0     0     0     0   \n",
       "...  .. ..  ...   ...  ...   ...   ...   ...   ...   ...   ...   ...   \n",
       "1679  0  0  ...     0    0     0     0     0     0     0     0     0   \n",
       "1680  0  0  ...     0    0     0     0     0     0     0     0     0   \n",
       "1681  0  0  ...     0    0     0     0     0     0     0     0     0   \n",
       "1682  0  0  ...     0    0     0     0     0     0     0     0     0   \n",
       "1683  0  0  ...     0    0     0     0     0     0     0     0     0   \n",
       "\n",
       "      vent_duration  \n",
       "0         25.000000  \n",
       "1          6.000000  \n",
       "2         49.000000  \n",
       "3         24.166667  \n",
       "4         20.450000  \n",
       "...             ...  \n",
       "1679      18.150000  \n",
       "1680       4.000000  \n",
       "1681      13.000000  \n",
       "1682      31.266667  \n",
       "1683      84.000000  \n",
       "\n",
       "[1684 rows x 1441 columns]"
      ]
     },
     "execution_count": 38,
     "metadata": {},
     "output_type": "execute_result"
    }
   ],
   "source": [
    "df_time['vent_duration'] = durations\n",
    "df_time"
   ]
  },
  {
   "cell_type": "code",
   "execution_count": 39,
   "id": "e3123a41",
   "metadata": {
    "execution": {
     "iopub.execute_input": "2023-04-08T17:56:31.378710Z",
     "iopub.status.busy": "2023-04-08T17:56:31.378256Z",
     "iopub.status.idle": "2023-04-08T17:56:31.383265Z",
     "shell.execute_reply": "2023-04-08T17:56:31.382005Z"
    },
    "papermill": {
     "duration": 0.032686,
     "end_time": "2023-04-08T17:56:31.385859",
     "exception": false,
     "start_time": "2023-04-08T17:56:31.353173",
     "status": "completed"
    },
    "tags": []
   },
   "outputs": [],
   "source": [
    "# df_time = df_time.loc[df_time['vent_duration'] <= 104]"
   ]
  },
  {
   "cell_type": "code",
   "execution_count": 40,
   "id": "6b69e3e9",
   "metadata": {
    "execution": {
     "iopub.execute_input": "2023-04-08T17:56:31.434747Z",
     "iopub.status.busy": "2023-04-08T17:56:31.434303Z",
     "iopub.status.idle": "2023-04-08T17:56:31.439250Z",
     "shell.execute_reply": "2023-04-08T17:56:31.437994Z"
    },
    "papermill": {
     "duration": 0.032673,
     "end_time": "2023-04-08T17:56:31.441736",
     "exception": false,
     "start_time": "2023-04-08T17:56:31.409063",
     "status": "completed"
    },
    "tags": []
   },
   "outputs": [],
   "source": [
    "# df_time.to_csv('df_time.csv')"
   ]
  },
  {
   "cell_type": "code",
   "execution_count": 41,
   "id": "fd2ee480",
   "metadata": {
    "execution": {
     "iopub.execute_input": "2023-04-08T17:56:31.490664Z",
     "iopub.status.busy": "2023-04-08T17:56:31.490271Z",
     "iopub.status.idle": "2023-04-08T17:56:31.495740Z",
     "shell.execute_reply": "2023-04-08T17:56:31.494229Z"
    },
    "papermill": {
     "duration": 0.034399,
     "end_time": "2023-04-08T17:56:31.498830",
     "exception": false,
     "start_time": "2023-04-08T17:56:31.464431",
     "status": "completed"
    },
    "tags": []
   },
   "outputs": [],
   "source": [
    "# df_time = df_time.fillna(0)"
   ]
  },
  {
   "cell_type": "code",
   "execution_count": 42,
   "id": "1a09d8b5",
   "metadata": {
    "execution": {
     "iopub.execute_input": "2023-04-08T17:56:31.547415Z",
     "iopub.status.busy": "2023-04-08T17:56:31.547035Z",
     "iopub.status.idle": "2023-04-08T17:56:31.551624Z",
     "shell.execute_reply": "2023-04-08T17:56:31.550387Z"
    },
    "papermill": {
     "duration": 0.031805,
     "end_time": "2023-04-08T17:56:31.554112",
     "exception": false,
     "start_time": "2023-04-08T17:56:31.522307",
     "status": "completed"
    },
    "tags": []
   },
   "outputs": [],
   "source": [
    "# df_time = df_time.drop(df_time[df_time['vent_duration'] > 200].index)"
   ]
  },
  {
   "cell_type": "code",
   "execution_count": 43,
   "id": "8778b74f",
   "metadata": {
    "execution": {
     "iopub.execute_input": "2023-04-08T17:56:31.602181Z",
     "iopub.status.busy": "2023-04-08T17:56:31.601405Z",
     "iopub.status.idle": "2023-04-08T17:56:31.633134Z",
     "shell.execute_reply": "2023-04-08T17:56:31.631984Z"
    },
    "papermill": {
     "duration": 0.058887,
     "end_time": "2023-04-08T17:56:31.635910",
     "exception": false,
     "start_time": "2023-04-08T17:56:31.577023",
     "status": "completed"
    },
    "tags": []
   },
   "outputs": [],
   "source": [
    "# x_train = df_time.iloc[:1244,:]\n",
    "# y_train = static['vent_duration'].values[:1244]\n",
    "\n",
    "# x_test = df_time.iloc[534:,:]\n",
    "# y_test = static['vent_duration'].values[534:]\n",
    "x_train, x_test, y_train, y_test = train_test_split(df_time.iloc[:, :-1], df_time['vent_duration'], random_state = 42)"
   ]
  },
  {
   "cell_type": "code",
   "execution_count": 44,
   "id": "421f211d",
   "metadata": {
    "execution": {
     "iopub.execute_input": "2023-04-08T17:56:31.688617Z",
     "iopub.status.busy": "2023-04-08T17:56:31.687827Z",
     "iopub.status.idle": "2023-04-08T17:56:31.998726Z",
     "shell.execute_reply": "2023-04-08T17:56:31.996730Z"
    },
    "papermill": {
     "duration": 0.340736,
     "end_time": "2023-04-08T17:56:32.001835",
     "exception": false,
     "start_time": "2023-04-08T17:56:31.661099",
     "status": "completed"
    },
    "tags": []
   },
   "outputs": [
    {
     "data": {
      "text/plain": [
       "<AxesSubplot:xlabel='vent_duration', ylabel='Count'>"
      ]
     },
     "execution_count": 44,
     "metadata": {},
     "output_type": "execute_result"
    },
    {
     "data": {
      "image/png": "[encoded data removed]",
      "text/plain": [
       "<Figure size 640x480 with 1 Axes>"
      ]
     },
     "metadata": {},
     "output_type": "display_data"
    }
   ],
   "source": [
    "sns.histplot(y_train)"
   ]
  },
  {
   "cell_type": "code",
   "execution_count": 45,
   "id": "66f37024",
   "metadata": {
    "execution": {
     "iopub.execute_input": "2023-04-08T17:56:32.054337Z",
     "iopub.status.busy": "2023-04-08T17:56:32.053894Z",
     "iopub.status.idle": "2023-04-08T17:56:32.058961Z",
     "shell.execute_reply": "2023-04-08T17:56:32.057611Z"
    },
    "papermill": {
     "duration": 0.034675,
     "end_time": "2023-04-08T17:56:32.061677",
     "exception": false,
     "start_time": "2023-04-08T17:56:32.027002",
     "status": "completed"
    },
    "tags": []
   },
   "outputs": [],
   "source": [
    "# int_l = [int(i) for i in y_train]\n",
    "# dict_ = {x:0 for x in set(int_l)}\n",
    "# for i in int_l:\n",
    "#     dict_[i] += 1\n",
    "# tmp = []\n",
    "# for k, v in dict_.items():\n",
    "#     tmp.append((k, v))\n",
    "\n",
    "# sorted([x for x in zip(dict_.keys(), dict_.values())], key = lambda zipped: zipped[1], reverse = True)"
   ]
  },
  {
   "cell_type": "code",
   "execution_count": 46,
   "id": "04257578",
   "metadata": {
    "execution": {
     "iopub.execute_input": "2023-04-08T17:56:32.114607Z",
     "iopub.status.busy": "2023-04-08T17:56:32.114211Z",
     "iopub.status.idle": "2023-04-08T17:56:32.120617Z",
     "shell.execute_reply": "2023-04-08T17:56:32.118899Z"
    },
    "papermill": {
     "duration": 0.036321,
     "end_time": "2023-04-08T17:56:32.124139",
     "exception": false,
     "start_time": "2023-04-08T17:56:32.087818",
     "status": "completed"
    },
    "tags": []
   },
   "outputs": [],
   "source": [
    "# from scipy import stats\n",
    "\n",
    "# fitted_ytrain, fitted_lambda = stats.boxcox(y_train)\n",
    "# sns.histplot(fitted_ytrain)"
   ]
  },
  {
   "cell_type": "code",
   "execution_count": 47,
   "id": "45bd58f8",
   "metadata": {
    "execution": {
     "iopub.execute_input": "2023-04-08T17:56:32.176330Z",
     "iopub.status.busy": "2023-04-08T17:56:32.175488Z",
     "iopub.status.idle": "2023-04-08T17:56:38.218861Z",
     "shell.execute_reply": "2023-04-08T17:56:38.217316Z"
    },
    "papermill": {
     "duration": 6.072514,
     "end_time": "2023-04-08T17:56:38.221858",
     "exception": false,
     "start_time": "2023-04-08T17:56:32.149344",
     "status": "completed"
    },
    "tags": []
   },
   "outputs": [],
   "source": [
    "x_train = x_train.values.tolist()\n",
    "x_train = [[x if isinstance(x, list) else [x] * 8 for x in row] for row in x_train]\n",
    "x_train = np.array(x_train)"
   ]
  },
  {
   "cell_type": "code",
   "execution_count": 48,
   "id": "b0c04630",
   "metadata": {
    "execution": {
     "iopub.execute_input": "2023-04-08T17:56:38.270857Z",
     "iopub.status.busy": "2023-04-08T17:56:38.270447Z",
     "iopub.status.idle": "2023-04-08T17:56:39.791124Z",
     "shell.execute_reply": "2023-04-08T17:56:39.789593Z"
    },
    "papermill": {
     "duration": 1.548942,
     "end_time": "2023-04-08T17:56:39.794373",
     "exception": false,
     "start_time": "2023-04-08T17:56:38.245431",
     "status": "completed"
    },
    "tags": []
   },
   "outputs": [],
   "source": [
    "x_test = x_test.values.tolist()\n",
    "x_test = [[x if isinstance(x, list) else [x] * 8 for x in row] for row in x_test]\n",
    "x_test = np.array(x_test)"
   ]
  },
  {
   "cell_type": "markdown",
   "id": "b6ff4223",
   "metadata": {
    "papermill": {
     "duration": 0.023934,
     "end_time": "2023-04-08T17:56:39.843323",
     "exception": false,
     "start_time": "2023-04-08T17:56:39.819389",
     "status": "completed"
    },
    "tags": []
   },
   "source": [
    "# SimpleRNN"
   ]
  },
  {
   "cell_type": "code",
   "execution_count": 49,
   "id": "5cbc8ad6",
   "metadata": {
    "execution": {
     "iopub.execute_input": "2023-04-08T17:56:39.895021Z",
     "iopub.status.busy": "2023-04-08T17:56:39.894540Z",
     "iopub.status.idle": "2023-04-08T17:56:39.900835Z",
     "shell.execute_reply": "2023-04-08T17:56:39.898877Z"
    },
    "papermill": {
     "duration": 0.035877,
     "end_time": "2023-04-08T17:56:39.904124",
     "exception": false,
     "start_time": "2023-04-08T17:56:39.868247",
     "status": "completed"
    },
    "tags": []
   },
   "outputs": [],
   "source": [
    "# model = keras.Sequential()\n",
    "# model.add(layers.Masking(mask_value = [0, 0, 0, 0, 0, 0, 0]))\n",
    "# model.add(layers.SimpleRNN(32))\n",
    "# model.add(layers.Dense(1))\n",
    "\n",
    "# model.compile(loss = 'mse', optimizer = 'rmsprop')"
   ]
  },
  {
   "cell_type": "code",
   "execution_count": 50,
   "id": "f4349493",
   "metadata": {
    "execution": {
     "iopub.execute_input": "2023-04-08T17:56:39.957537Z",
     "iopub.status.busy": "2023-04-08T17:56:39.957084Z",
     "iopub.status.idle": "2023-04-08T17:56:39.962800Z",
     "shell.execute_reply": "2023-04-08T17:56:39.961325Z"
    },
    "papermill": {
     "duration": 0.035684,
     "end_time": "2023-04-08T17:56:39.965866",
     "exception": false,
     "start_time": "2023-04-08T17:56:39.930182",
     "status": "completed"
    },
    "tags": []
   },
   "outputs": [],
   "source": [
    "# history = model.fit(x_train, y_train, epochs = 100, batch_size = 32, validation_split = 0.2)\n",
    "\n",
    "# plt.plot(history.history['loss'], label = 'Training Loss')\n",
    "# plt.plot(history.history['val_loss'], label = 'Validation Loss')\n",
    "# plt.xlabel('Epoch')\n",
    "# plt.ylabel('MSE')\n",
    "# plt.legend()\n",
    "# plt.show()"
   ]
  },
  {
   "cell_type": "code",
   "execution_count": 51,
   "id": "3ef734cd",
   "metadata": {
    "execution": {
     "iopub.execute_input": "2023-04-08T17:56:40.019190Z",
     "iopub.status.busy": "2023-04-08T17:56:40.018792Z",
     "iopub.status.idle": "2023-04-08T17:56:40.027915Z",
     "shell.execute_reply": "2023-04-08T17:56:40.026445Z"
    },
    "papermill": {
     "duration": 0.039765,
     "end_time": "2023-04-08T17:56:40.031295",
     "exception": false,
     "start_time": "2023-04-08T17:56:39.991530",
     "status": "completed"
    },
    "tags": []
   },
   "outputs": [
    {
     "data": {
      "text/plain": [
       "(208.6666667, 0.016666667)"
      ]
     },
     "execution_count": 51,
     "metadata": {},
     "output_type": "execute_result"
    }
   ],
   "source": [
    "max(y_train), min(y_train)"
   ]
  },
  {
   "cell_type": "code",
   "execution_count": 52,
   "id": "cd24efb2",
   "metadata": {
    "execution": {
     "iopub.execute_input": "2023-04-08T17:56:40.086254Z",
     "iopub.status.busy": "2023-04-08T17:56:40.085820Z",
     "iopub.status.idle": "2023-04-08T17:56:40.360958Z",
     "shell.execute_reply": "2023-04-08T17:56:40.359581Z"
    },
    "papermill": {
     "duration": 0.306273,
     "end_time": "2023-04-08T17:56:40.363758",
     "exception": false,
     "start_time": "2023-04-08T17:56:40.057485",
     "status": "completed"
    },
    "tags": []
   },
   "outputs": [
    {
     "data": {
      "text/plain": [
       "[<matplotlib.lines.Line2D at 0x757528f750d0>]"
      ]
     },
     "execution_count": 52,
     "metadata": {},
     "output_type": "execute_result"
    },
    {
     "data": {
      "image/png": "[encoded data removed]",
      "text/plain": [
       "<Figure size 640x480 with 1 Axes>"
      ]
     },
     "metadata": {},
     "output_type": "display_data"
    }
   ],
   "source": [
    "plt.plot(y_train.values)"
   ]
  },
  {
   "cell_type": "markdown",
   "id": "03fb0404",
   "metadata": {
    "papermill": {
     "duration": 0.025532,
     "end_time": "2023-04-08T17:56:40.414400",
     "exception": false,
     "start_time": "2023-04-08T17:56:40.388868",
     "status": "completed"
    },
    "tags": []
   },
   "source": [
    "# LSTM"
   ]
  },
  {
   "cell_type": "code",
   "execution_count": 53,
   "id": "bb4e48a5",
   "metadata": {
    "execution": {
     "iopub.execute_input": "2023-04-08T17:56:40.470479Z",
     "iopub.status.busy": "2023-04-08T17:56:40.469270Z",
     "iopub.status.idle": "2023-04-08T17:56:40.636426Z",
     "shell.execute_reply": "2023-04-08T17:56:40.635173Z"
    },
    "papermill": {
     "duration": 0.200355,
     "end_time": "2023-04-08T17:56:40.639581",
     "exception": false,
     "start_time": "2023-04-08T17:56:40.439226",
     "status": "completed"
    },
    "tags": []
   },
   "outputs": [],
   "source": [
    "import tensorflow as tf\n",
    "from tensorflow.keras import layers\n",
    "from tensorflow.keras.models import Sequential\n",
    "from tensorflow.keras import optimizers,regularizers\n",
    "from keras.layers import LeakyReLU\n",
    "import keras.backend as K\n",
    "from sklearn.model_selection import GridSearchCV\n",
    "from sklearn.metrics import mean_squared_error\n",
    "from keras.wrappers.scikit_learn import KerasRegressor\n",
    "\n",
    "\n",
    "def weighted_mse(y_true, y_pred):\n",
    "    # Calculate the median value of y_true\n",
    "\n",
    "    # Calculate the weights based on the distance from the median\n",
    "    #weights = K.cast(K.less(y_true, 25), K.floatx()) * 10 + K.cast(K.greater_equal(y_true, 125), K.floatx()) * 25 \n",
    "    weights = K.cast(K.less(y_true, 25), K.floatx()) * 10 + K.cast(K.greater_equal(y_true, 200), K.floatx()) * 35\n",
    "    # Normalize the weights to have a maximum value of 1\n",
    "\n",
    "    # Calculate the weighted mean squared error loss\n",
    "    mse = K.mean(K.square(y_pred - y_true) * weights)\n",
    "\n",
    "    return mse\n",
    "\n",
    "# def multi_loss(y_true, y_pred):\n",
    "#     # Calculate the median value of y_true\n",
    "\n",
    "#     # Calculate the weights based on the distance from the median\n",
    "#     #weights = K.cast(K.less(y_true, 25), K.floatx()) * 10 + K.cast(K.greater_equal(y_true, 125), K.floatx()) * 25 \n",
    "#     weights = K.cast(K.greater_equal(y_true, 200), K.floatx()) * 10\n",
    "#     # Calculate the weighted mean squared error loss\n",
    "#     weight_mse = K.mean(K.square(y_pred - y_true) * weights)\n",
    "#     # Normalize the weights to have a maximum value of 1\n",
    "#     mse = K.mean(K.square(y_pred - y_true))\n",
    "\n",
    "\n",
    "#     return 0.9 * mse + 0.1 * weight_mse\n",
    "\n",
    "# def create_model(optimizer='adam', activation='relu'):\n",
    "#     model = keras.Sequential([\n",
    "#         layers.Masking(mask_value = 0),\n",
    "#         layers.LSTM(64, return_sequences = False ,activation = 'softsign'), \n",
    "#         layers.BatchNormalization(),\n",
    "#         layers.Dense(10,activation = 'relu'),\n",
    "#         layers.Dense(1)  \n",
    "#     ])\n",
    "#     model.compile(loss = weighted_mse, optimizer = 'adam', metrics = ['mse', 'mae'])\n",
    "#     return model\n",
    "\n",
    "# model = KerasRegressor(build_fn=create_model, verbose=0)\n",
    "\n",
    "model = keras.Sequential([\n",
    "    layers.Masking(mask_value = 0),\n",
    "    layers.LSTM(64, return_sequences = False ,activation = 'softsign'), \n",
    "    layers.BatchNormalization(),\n",
    "    layers.Dense(10,activation = 'relu'),\n",
    "    layers.Dense(1)\n",
    "])\n",
    "\n",
    "# model = keras.Sequential([\n",
    "#     layers.Masking(mask_value = 0),\n",
    "#     layers.LSTM(128, return_sequences = True ,activation = 'softsign'), \n",
    "#     layers.BatchNormalization(),\n",
    "#     layers.LSTM(64, return_sequences = True ,activation = 'softsign'), \n",
    "#     layers.BatchNormalization(),\n",
    "#     layers.LSTM(32, return_sequences = True ,activation = 'softsign'), \n",
    "#     layers.BatchNormalization(),\n",
    "#     layers.LSTM(16, return_sequences = False ,activation = 'softsign'), \n",
    "#     layers.BatchNormalization(),\n",
    "#     layers.Dense(10,activation = 'relu'),\n",
    "#     layers.Dense(1)\n",
    "    \n",
    "# ])\n",
    "\n",
    "model.compile(loss = weighted_mse, optimizer = 'adam', metrics = ['mse', 'mae'])"
   ]
  },
  {
   "cell_type": "code",
   "execution_count": 54,
   "id": "5ba3c8d7",
   "metadata": {
    "execution": {
     "iopub.execute_input": "2023-04-08T17:56:40.692675Z",
     "iopub.status.busy": "2023-04-08T17:56:40.692267Z",
     "iopub.status.idle": "2023-04-08T17:56:40.698715Z",
     "shell.execute_reply": "2023-04-08T17:56:40.696871Z"
    },
    "papermill": {
     "duration": 0.035804,
     "end_time": "2023-04-08T17:56:40.701775",
     "exception": false,
     "start_time": "2023-04-08T17:56:40.665971",
     "status": "completed"
    },
    "tags": []
   },
   "outputs": [],
   "source": [
    "# def huber_loss(y_true, y_pred, clip_delta = 50):\n",
    "#     error = y_true - y_pred\n",
    "#     cond  = tf.keras.backend.abs(error) > clip_delta\n",
    "\n",
    "#     squared_loss = 0.5 * tf.keras.backend.square(error)\n",
    "#     linear_loss  = clip_delta * (tf.keras.backend.abs(error) - 0.5 * clip_delta)\n",
    "\n",
    "#     return tf.where(cond, squared_loss, linear_loss)\n",
    "\n",
    "# model = keras.Sequential([\n",
    "#     layers.Masking(mask_value = 0),\n",
    "#     layers.GRU(64, return_sequences = False ,activation = 'softsign'), \n",
    "#     layers.BatchNormalization(),\n",
    "#     layers.Dense(10,activation = 'relu'),\n",
    "#     layers.Dense(1)\n",
    "    \n",
    "# ])\n",
    "\n",
    "# model.compile(loss = huber_loss, optimizer = 'adam', metrics = ['mse', 'mae'])"
   ]
  },
  {
   "cell_type": "code",
   "execution_count": 55,
   "id": "3003fae9",
   "metadata": {
    "execution": {
     "iopub.execute_input": "2023-04-08T17:56:40.756183Z",
     "iopub.status.busy": "2023-04-08T17:56:40.755765Z",
     "iopub.status.idle": "2023-04-08T17:56:40.761523Z",
     "shell.execute_reply": "2023-04-08T17:56:40.760063Z"
    },
    "papermill": {
     "duration": 0.036717,
     "end_time": "2023-04-08T17:56:40.764344",
     "exception": false,
     "start_time": "2023-04-08T17:56:40.727627",
     "status": "completed"
    },
    "tags": []
   },
   "outputs": [],
   "source": [
    "# model = keras.Sequential([\n",
    "#     layers.Masking(mask_value = 0),\n",
    "#     layers.LSTM(64, return_sequences = False ,activation = 'softsign'), \n",
    "#     layers.BatchNormalization(),\n",
    "#     layers.Dense(10,activation = 'relu'),\n",
    "#     layers.Dense(1)\n",
    "    \n",
    "# ])\n",
    "\n",
    "# model.compile(loss = 'mse', optimizer = 'adam')"
   ]
  },
  {
   "cell_type": "code",
   "execution_count": 56,
   "id": "9cae96f1",
   "metadata": {
    "execution": {
     "iopub.execute_input": "2023-04-08T17:56:40.816802Z",
     "iopub.status.busy": "2023-04-08T17:56:40.816358Z",
     "iopub.status.idle": "2023-04-08T17:56:40.822344Z",
     "shell.execute_reply": "2023-04-08T17:56:40.820514Z"
    },
    "papermill": {
     "duration": 0.035575,
     "end_time": "2023-04-08T17:56:40.825060",
     "exception": false,
     "start_time": "2023-04-08T17:56:40.789485",
     "status": "completed"
    },
    "tags": []
   },
   "outputs": [],
   "source": [
    "# param_grid = {\n",
    "#     'batch_size': [16, 32, 64],\n",
    "#     'epochs': [10, 20, 30],\n",
    "#     'optimizer': ['adam', 'rmsprop'],\n",
    "# }\n",
    "\n",
    "# grid_search = GridSearchCV(estimator = model, param_grid = param_grid, cv = 3, scoring = mean_squared_error)\n",
    "# result = grid_search.fit(x_train, y_train)"
   ]
  },
  {
   "cell_type": "code",
   "execution_count": 57,
   "id": "a08e5109",
   "metadata": {
    "execution": {
     "iopub.execute_input": "2023-04-08T17:56:40.880810Z",
     "iopub.status.busy": "2023-04-08T17:56:40.879504Z",
     "iopub.status.idle": "2023-04-08T18:16:06.328992Z",
     "shell.execute_reply": "2023-04-08T18:16:06.327691Z"
    },
    "papermill": {
     "duration": 1165.481281,
     "end_time": "2023-04-08T18:16:06.331876",
     "exception": false,
     "start_time": "2023-04-08T17:56:40.850595",
     "status": "completed"
    },
    "tags": []
   },
   "outputs": [
    {
     "name": "stdout",
     "output_type": "stream",
     "text": [
      "Epoch 1/25\n",
      "64/64 [==============================] - 50s 739ms/step - loss: 8022.2607 - mse: 2350.9695 - mae: 30.6815 - val_loss: 6767.0396 - val_mse: 2465.1106 - val_mae: 32.8502\n",
      "Epoch 2/25\n",
      "64/64 [==============================] - 47s 732ms/step - loss: 7631.0503 - mse: 2188.6104 - mae: 28.3246 - val_loss: 6591.3057 - val_mse: 2395.4922 - val_mae: 31.8439\n",
      "Epoch 3/25\n",
      "64/64 [==============================] - 45s 709ms/step - loss: 7360.4546 - mse: 2049.6040 - mae: 26.7507 - val_loss: 6328.5205 - val_mse: 2285.7314 - val_mae: 30.3004\n",
      "Epoch 4/25\n",
      "64/64 [==============================] - 46s 721ms/step - loss: 7149.0522 - mse: 1951.9049 - mae: 25.7064 - val_loss: 5985.4092 - val_mse: 2124.6206 - val_mae: 28.2626\n",
      "Epoch 5/25\n",
      "64/64 [==============================] - 46s 725ms/step - loss: 7050.0859 - mse: 1905.0771 - mae: 25.2727 - val_loss: 5857.6963 - val_mse: 2050.6016 - val_mae: 27.5097\n",
      "Epoch 6/25\n",
      "64/64 [==============================] - 47s 742ms/step - loss: 6904.0215 - mse: 1883.5315 - mae: 24.9126 - val_loss: 5712.0098 - val_mse: 1962.2286 - val_mae: 26.6070\n",
      "Epoch 7/25\n",
      "64/64 [==============================] - 47s 733ms/step - loss: 6842.7080 - mse: 1835.1936 - mae: 24.5773 - val_loss: 5538.2559 - val_mse: 1832.2178 - val_mae: 25.4916\n",
      "Epoch 8/25\n",
      "64/64 [==============================] - 46s 726ms/step - loss: 6614.1597 - mse: 1794.1593 - mae: 24.1019 - val_loss: 5486.2700 - val_mse: 1758.5579 - val_mae: 25.1256\n",
      "Epoch 9/25\n",
      "64/64 [==============================] - 48s 752ms/step - loss: 6357.1226 - mse: 1725.6711 - mae: 23.7209 - val_loss: 5488.3281 - val_mse: 1768.4730 - val_mae: 25.2091\n",
      "Epoch 10/25\n",
      "64/64 [==============================] - 46s 719ms/step - loss: 6479.8926 - mse: 1716.1677 - mae: 24.0425 - val_loss: 5506.7837 - val_mse: 1635.4066 - val_mae: 24.9697\n",
      "Epoch 11/25\n",
      "64/64 [==============================] - 46s 725ms/step - loss: 6316.7832 - mse: 1741.9369 - mae: 24.1641 - val_loss: 5468.3853 - val_mse: 1707.2693 - val_mae: 25.1053\n",
      "Epoch 12/25\n",
      "64/64 [==============================] - 47s 727ms/step - loss: 6341.5884 - mse: 1704.8389 - mae: 24.0400 - val_loss: 5470.3306 - val_mse: 1719.3657 - val_mae: 25.1961\n",
      "Epoch 13/25\n",
      "64/64 [==============================] - 46s 723ms/step - loss: 6189.1758 - mse: 1676.8491 - mae: 24.0242 - val_loss: 5509.7217 - val_mse: 1756.3168 - val_mae: 25.4079\n",
      "Epoch 14/25\n",
      "64/64 [==============================] - 46s 715ms/step - loss: 6240.9502 - mse: 1688.2333 - mae: 24.0824 - val_loss: 5546.1064 - val_mse: 1819.1283 - val_mae: 25.7273\n",
      "Epoch 15/25\n",
      "64/64 [==============================] - 46s 721ms/step - loss: 6302.4062 - mse: 1720.6541 - mae: 23.9575 - val_loss: 5522.6001 - val_mse: 1712.3616 - val_mae: 25.3962\n",
      "Epoch 16/25\n",
      "64/64 [==============================] - 48s 751ms/step - loss: 6142.4360 - mse: 1702.6016 - mae: 23.9827 - val_loss: 5456.2163 - val_mse: 1742.2207 - val_mae: 25.5124\n",
      "Epoch 17/25\n",
      "64/64 [==============================] - 46s 725ms/step - loss: 6072.1431 - mse: 1695.8303 - mae: 24.1159 - val_loss: 5473.8838 - val_mse: 1779.9872 - val_mae: 25.6890\n",
      "Epoch 18/25\n",
      "64/64 [==============================] - 47s 727ms/step - loss: 6033.6206 - mse: 1704.3396 - mae: 23.9181 - val_loss: 5504.5264 - val_mse: 1701.6671 - val_mae: 25.5587\n",
      "Epoch 19/25\n",
      "64/64 [==============================] - 46s 720ms/step - loss: 5845.5303 - mse: 1711.9136 - mae: 24.3731 - val_loss: 5540.0571 - val_mse: 1850.4728 - val_mae: 26.2192\n",
      "Epoch 20/25\n",
      "64/64 [==============================] - 46s 718ms/step - loss: 6053.5435 - mse: 1712.7073 - mae: 24.2260 - val_loss: 5517.6909 - val_mse: 1786.1467 - val_mae: 25.9816\n",
      "Epoch 21/25\n",
      "64/64 [==============================] - 46s 722ms/step - loss: 5757.5972 - mse: 1703.9670 - mae: 24.1882 - val_loss: 5538.3481 - val_mse: 1846.1202 - val_mae: 26.2945\n",
      "Epoch 22/25\n",
      "64/64 [==============================] - 46s 713ms/step - loss: 5756.7324 - mse: 1682.4755 - mae: 24.1541 - val_loss: 5525.4453 - val_mse: 1735.1240 - val_mae: 25.9248\n",
      "Epoch 23/25\n",
      "64/64 [==============================] - 46s 720ms/step - loss: 5751.1724 - mse: 1701.3876 - mae: 24.2964 - val_loss: 5823.3579 - val_mse: 1634.2041 - val_mae: 26.2969\n",
      "Epoch 24/25\n",
      "64/64 [==============================] - 46s 717ms/step - loss: 5946.2637 - mse: 1707.1576 - mae: 24.6092 - val_loss: 5583.6904 - val_mse: 1860.3395 - val_mae: 26.5111\n",
      "Epoch 25/25\n",
      "64/64 [==============================] - 46s 723ms/step - loss: 5662.8608 - mse: 1703.9557 - mae: 24.7502 - val_loss: 5632.2715 - val_mse: 1768.4281 - val_mae: 26.2068\n"
     ]
    },
    {
     "data": {
      "image/png": "[encoded data removed]",
      "text/plain": [
       "<Figure size 640x480 with 1 Axes>"
      ]
     },
     "metadata": {},
     "output_type": "display_data"
    }
   ],
   "source": [
    "history = model.fit(x_train, y_train, epochs = 25, batch_size = 16, validation_split = 0.2)\n",
    "\n",
    "plt.plot(history.history['loss'], label = 'Training Loss')\n",
    "plt.plot(history.history['val_loss'], label = 'Validation Loss')\n",
    "plt.xlabel('Epoch')\n",
    "plt.ylabel('MSE')\n",
    "plt.legend()\n",
    "plt.show()\n",
    "\n",
    "# history = model.fit(x_train, fitted_ytrain, epochs = 20, batch_size = 32, validation_split = 0.2)\n",
    "\n",
    "# plt.plot(history.history['loss'], label = 'Training Loss')\n",
    "# plt.plot(history.history['val_loss'], label = 'Validation Loss')\n",
    "# plt.xlabel('Epoch')\n",
    "# plt.ylabel('MSE')\n",
    "# plt.legend()\n",
    "# plt.show()"
   ]
  },
  {
   "cell_type": "code",
   "execution_count": 58,
   "id": "8da530b9",
   "metadata": {
    "execution": {
     "iopub.execute_input": "2023-04-08T18:16:06.596445Z",
     "iopub.status.busy": "2023-04-08T18:16:06.596012Z",
     "iopub.status.idle": "2023-04-08T18:16:10.043794Z",
     "shell.execute_reply": "2023-04-08T18:16:10.042831Z"
    },
    "papermill": {
     "duration": 3.582954,
     "end_time": "2023-04-08T18:16:10.046622",
     "exception": false,
     "start_time": "2023-04-08T18:16:06.463668",
     "status": "completed"
    },
    "tags": []
   },
   "outputs": [
    {
     "name": "stdout",
     "output_type": "stream",
     "text": [
      "14/14 [==============================] - 3s 218ms/step\n"
     ]
    }
   ],
   "source": [
    "y_pred = model.predict(x_test)"
   ]
  },
  {
   "cell_type": "code",
   "execution_count": 59,
   "id": "fca3abf3",
   "metadata": {
    "execution": {
     "iopub.execute_input": "2023-04-08T18:16:10.316944Z",
     "iopub.status.busy": "2023-04-08T18:16:10.316529Z",
     "iopub.status.idle": "2023-04-08T18:16:10.707518Z",
     "shell.execute_reply": "2023-04-08T18:16:10.705766Z"
    },
    "papermill": {
     "duration": 0.528022,
     "end_time": "2023-04-08T18:16:10.709360",
     "exception": true,
     "start_time": "2023-04-08T18:16:10.181338",
     "status": "failed"
    },
    "tags": []
   },
   "outputs": [
    {
     "ename": "ModuleNotFoundError",
     "evalue": "No module named 'mapie'",
     "output_type": "error",
     "traceback": [
      "\u001b[0;31m---------------------------------------------------------------------------\u001b[0m",
      "\u001b[0;31mModuleNotFoundError\u001b[0m                       Traceback (most recent call last)",
      "\u001b[0;32m/tmp/ipykernel_19/459537115.py\u001b[0m in \u001b[0;36m<module>\u001b[0;34m\u001b[0m\n\u001b[1;32m      4\u001b[0m \u001b[0;32mfrom\u001b[0m \u001b[0msklearn\u001b[0m\u001b[0;34m.\u001b[0m\u001b[0mmetrics\u001b[0m \u001b[0;32mimport\u001b[0m \u001b[0mmean_squared_error\u001b[0m\u001b[0;34m\u001b[0m\u001b[0;34m\u001b[0m\u001b[0m\n\u001b[1;32m      5\u001b[0m \u001b[0;34m\u001b[0m\u001b[0m\n\u001b[0;32m----> 6\u001b[0;31m \u001b[0;32mfrom\u001b[0m \u001b[0mmapie\u001b[0m\u001b[0;34m.\u001b[0m\u001b[0mmetrics\u001b[0m \u001b[0;32mimport\u001b[0m \u001b[0mregression_coverage_score\u001b[0m\u001b[0;34m,\u001b[0m \u001b[0mregression_mean_width_score\u001b[0m\u001b[0;34m\u001b[0m\u001b[0;34m\u001b[0m\u001b[0m\n\u001b[0m\u001b[1;32m      7\u001b[0m \u001b[0;32mfrom\u001b[0m \u001b[0mmapie\u001b[0m\u001b[0;34m.\u001b[0m\u001b[0mregression\u001b[0m \u001b[0;32mimport\u001b[0m \u001b[0mMapieRegressor\u001b[0m\u001b[0;34m\u001b[0m\u001b[0;34m\u001b[0m\u001b[0m\n",
      "\u001b[0;31mModuleNotFoundError\u001b[0m: No module named 'mapie'"
     ]
    }
   ],
   "source": [
    "from sklearn.model_selection import TimeSeriesSplit\n",
    "from sklearn.pipeline import Pipeline\n",
    "from sklearn.preprocessing import MinMaxScaler\n",
    "from sklearn.metrics import mean_squared_error\n",
    "\n",
    "from mapie.metrics import regression_coverage_score, regression_mean_width_score\n",
    "from mapie.regression import MapieRegressor"
   ]
  },
  {
   "cell_type": "code",
   "execution_count": null,
   "id": "9618a3a7",
   "metadata": {
    "execution": {
     "iopub.execute_input": "2023-04-08T16:42:11.401730Z",
     "iopub.status.busy": "2023-04-08T16:42:11.400886Z",
     "iopub.status.idle": "2023-04-08T16:45:24.470965Z",
     "shell.execute_reply": "2023-04-08T16:45:24.469719Z",
     "shell.execute_reply.started": "2023-04-08T16:42:11.401678Z"
    },
    "papermill": {
     "duration": null,
     "end_time": null,
     "exception": null,
     "start_time": null,
     "status": "pending"
    },
    "tags": []
   },
   "outputs": [],
   "source": [
    "median_pipeline = Pipeline([('median_model', model)])\n",
    "median_pipeline.fit(x_train, y_train)\n",
    "pred_median = median_pipeline.predict(x_test)\n",
    "\n",
    "\n",
    "# Evaluate model performance at record level\n",
    "\n",
    "print('RMSE = ' + str(mean_squared_error(y_test, pred_median, squared=False)))\n",
    "\n",
    "# Fit estimated prediction intervals\n",
    "\n",
    "mapie = MapieRegressor(\n",
    "    median_pipeline, method=\"naive\", cv=TimeSeriesSplit(), agg_function=None, n_jobs=-1\n",
    ")\n",
    "\n",
    "mapie.fit(x_train, y_train)\n",
    "pred_median, y_pis = mapie.predict(x_test, alpha=0.05)\n",
    "coverage = regression_coverage_score(y_test, y_pis[:, 0, 0], y_pis[:, 1, 0])\n",
    "width = regression_mean_width_score(y_pis[:, 0, 0], y_pis[:, 1, 0])"
   ]
  },
  {
   "cell_type": "code",
   "execution_count": null,
   "id": "f1f25791",
   "metadata": {
    "execution": {
     "iopub.execute_input": "2023-04-08T16:56:15.045175Z",
     "iopub.status.busy": "2023-04-08T16:56:15.044725Z",
     "iopub.status.idle": "2023-04-08T16:56:15.466133Z",
     "shell.execute_reply": "2023-04-08T16:56:15.465153Z",
     "shell.execute_reply.started": "2023-04-08T16:56:15.045136Z"
    },
    "papermill": {
     "duration": null,
     "end_time": null,
     "exception": null,
     "start_time": null,
     "status": "pending"
    },
    "tags": []
   },
   "outputs": [],
   "source": [
    "fig = plt.figure(figsize=(15, 10))\n",
    "ax = fig.add_subplot(1, 1, 1)\n",
    "plt.ylabel(\"vent_duration (h)\")\n",
    "ax.plot(y_test.values, lw=2, label=\"Actual\", c=\"C0\")\n",
    "ax.plot(pred_median, lw=2, c=\"C1\", label=\"Predicted\")\n",
    "ax.set_ylim(bottom=0)\n",
    "ax.fill_between(\n",
    "    [i for i in range(len(y_test))],\n",
    "    y_pis[:, 0, 0],\n",
    "    y_pis[:, 1, 0],\n",
    "    color=\"C1\",\n",
    "    alpha=0.2,\n",
    "    label=\"Prediction Interval\",\n",
    ")\n",
    "plt.title(\"Our model: ventilation duration (hrs) - actual vs predicted\")\n",
    "ax.legend()\n",
    "plt.show()"
   ]
  },
  {
   "cell_type": "code",
   "execution_count": null,
   "id": "1d435873",
   "metadata": {
    "execution": {
     "iopub.execute_input": "2023-04-08T16:48:13.621729Z",
     "iopub.status.busy": "2023-04-08T16:48:13.619648Z",
     "iopub.status.idle": "2023-04-08T16:48:13.831308Z",
     "shell.execute_reply": "2023-04-08T16:48:13.829642Z",
     "shell.execute_reply.started": "2023-04-08T16:48:13.621650Z"
    },
    "papermill": {
     "duration": null,
     "end_time": null,
     "exception": null,
     "start_time": null,
     "status": "pending"
    },
    "tags": []
   },
   "outputs": [],
   "source": [
    "#fig, ax = plt.subplots(figsize = (20, 5))\n",
    "plt.plot(y_test.values)\n",
    "plt.plot(y_pred)\n",
    "plt.show"
   ]
  },
  {
   "cell_type": "code",
   "execution_count": null,
   "id": "af5ed602",
   "metadata": {
    "execution": {
     "iopub.status.busy": "2023-04-08T15:56:21.652952Z",
     "iopub.status.idle": "2023-04-08T15:56:21.653598Z",
     "shell.execute_reply": "2023-04-08T15:56:21.653315Z",
     "shell.execute_reply.started": "2023-04-08T15:56:21.653279Z"
    },
    "papermill": {
     "duration": null,
     "end_time": null,
     "exception": null,
     "start_time": null,
     "status": "pending"
    },
    "tags": []
   },
   "outputs": [],
   "source": [
    "fig, ax = plt.subplots(figsize = (20, 5))\n",
    "plt.plot(y_test.values)\n",
    "plt.plot(lst)\n",
    "plt.show"
   ]
  },
  {
   "cell_type": "code",
   "execution_count": null,
   "id": "6aca3839",
   "metadata": {
    "execution": {
     "iopub.status.busy": "2023-04-08T15:56:21.655466Z",
     "iopub.status.idle": "2023-04-08T15:56:21.656065Z",
     "shell.execute_reply": "2023-04-08T15:56:21.655791Z",
     "shell.execute_reply.started": "2023-04-08T15:56:21.655758Z"
    },
    "papermill": {
     "duration": null,
     "end_time": null,
     "exception": null,
     "start_time": null,
     "status": "pending"
    },
    "tags": []
   },
   "outputs": [],
   "source": [
    "rmse = mean_squared_error(y_test.values, y_pred) ** 0.5\n",
    "print(rmse)"
   ]
  },
  {
   "cell_type": "code",
   "execution_count": null,
   "id": "c56b10a5",
   "metadata": {
    "execution": {
     "iopub.status.busy": "2023-04-08T15:56:21.657848Z",
     "iopub.status.idle": "2023-04-08T15:56:21.658500Z",
     "shell.execute_reply": "2023-04-08T15:56:21.658175Z",
     "shell.execute_reply.started": "2023-04-08T15:56:21.658143Z"
    },
    "papermill": {
     "duration": null,
     "end_time": null,
     "exception": null,
     "start_time": null,
     "status": "pending"
    },
    "tags": []
   },
   "outputs": [],
   "source": [
    "rmse = mean_squared_error(y_test.values, lst) ** 0.5\n",
    "print(rmse)"
   ]
  },
  {
   "cell_type": "code",
   "execution_count": null,
   "id": "7f150215",
   "metadata": {
    "execution": {
     "iopub.execute_input": "2023-04-08T16:48:36.637255Z",
     "iopub.status.busy": "2023-04-08T16:48:36.636791Z",
     "iopub.status.idle": "2023-04-08T16:48:36.649309Z",
     "shell.execute_reply": "2023-04-08T16:48:36.647349Z",
     "shell.execute_reply.started": "2023-04-08T16:48:36.637197Z"
    },
    "papermill": {
     "duration": null,
     "end_time": null,
     "exception": null,
     "start_time": null,
     "status": "pending"
    },
    "tags": []
   },
   "outputs": [],
   "source": [
    "tmp = pd.DataFrame()\n",
    "tmp['y_test'] = y_test.values\n",
    "tmp['y_pred'] = y_pred\n",
    "\n",
    "tmp = tmp.loc[tmp['y_test'] <= 48]"
   ]
  },
  {
   "cell_type": "code",
   "execution_count": null,
   "id": "308e2a10",
   "metadata": {
    "execution": {
     "iopub.execute_input": "2023-04-08T16:48:38.471403Z",
     "iopub.status.busy": "2023-04-08T16:48:38.469737Z",
     "iopub.status.idle": "2023-04-08T16:48:38.751079Z",
     "shell.execute_reply": "2023-04-08T16:48:38.749861Z",
     "shell.execute_reply.started": "2023-04-08T16:48:38.471339Z"
    },
    "papermill": {
     "duration": null,
     "end_time": null,
     "exception": null,
     "start_time": null,
     "status": "pending"
    },
    "tags": []
   },
   "outputs": [],
   "source": [
    "plt.plot(tmp['y_test'])\n",
    "plt.plot(tmp['y_pred'])\n",
    "plt.show"
   ]
  },
  {
   "cell_type": "code",
   "execution_count": null,
   "id": "9f938f5e",
   "metadata": {
    "execution": {
     "iopub.execute_input": "2023-04-08T16:48:58.077753Z",
     "iopub.status.busy": "2023-04-08T16:48:58.077290Z",
     "iopub.status.idle": "2023-04-08T16:48:58.087108Z",
     "shell.execute_reply": "2023-04-08T16:48:58.085049Z",
     "shell.execute_reply.started": "2023-04-08T16:48:58.077713Z"
    },
    "papermill": {
     "duration": null,
     "end_time": null,
     "exception": null,
     "start_time": null,
     "status": "pending"
    },
    "tags": []
   },
   "outputs": [],
   "source": [
    "from sklearn.metrics import mean_squared_error\n",
    "\n",
    "mse = mean_squared_error(tmp['y_test'], tmp['y_pred'])\n",
    "\n",
    "print(mse)"
   ]
  },
  {
   "cell_type": "code",
   "execution_count": null,
   "id": "54475732",
   "metadata": {
    "execution": {
     "iopub.status.busy": "2023-04-08T15:56:21.667627Z",
     "iopub.status.idle": "2023-04-08T15:56:21.668157Z",
     "shell.execute_reply": "2023-04-08T15:56:21.667953Z",
     "shell.execute_reply.started": "2023-04-08T15:56:21.667897Z"
    },
    "papermill": {
     "duration": null,
     "end_time": null,
     "exception": null,
     "start_time": null,
     "status": "pending"
    },
    "tags": []
   },
   "outputs": [],
   "source": [
    "1450 ** (1 / 2)"
   ]
  },
  {
   "cell_type": "code",
   "execution_count": null,
   "id": "726f6014",
   "metadata": {
    "execution": {
     "iopub.status.busy": "2023-04-08T15:56:21.669935Z",
     "iopub.status.idle": "2023-04-08T15:56:21.670595Z",
     "shell.execute_reply": "2023-04-08T15:56:21.670306Z",
     "shell.execute_reply.started": "2023-04-08T15:56:21.670269Z"
    },
    "papermill": {
     "duration": null,
     "end_time": null,
     "exception": null,
     "start_time": null,
     "status": "pending"
    },
    "tags": []
   },
   "outputs": [],
   "source": [
    "def bin_fun(x):\n",
    "    if 0 <= x <= 24:\n",
    "        return 1\n",
    "    elif 24 <= x <= 48:\n",
    "        return 2\n",
    "    elif 48 <= x <= 72:\n",
    "        return 3\n",
    "    else:\n",
    "        return 4\n",
    "\n",
    "# def bin_fun(x):\n",
    "#     if 0 <= x <= 24:\n",
    "#         return 1\n",
    "#     else:\n",
    "#         return 2"
   ]
  },
  {
   "cell_type": "code",
   "execution_count": null,
   "id": "c0956102",
   "metadata": {
    "execution": {
     "iopub.status.busy": "2023-04-08T15:56:21.671966Z",
     "iopub.status.idle": "2023-04-08T15:56:21.672582Z",
     "shell.execute_reply": "2023-04-08T15:56:21.672304Z",
     "shell.execute_reply.started": "2023-04-08T15:56:21.672269Z"
    },
    "papermill": {
     "duration": null,
     "end_time": null,
     "exception": null,
     "start_time": null,
     "status": "pending"
    },
    "tags": []
   },
   "outputs": [],
   "source": [
    "df_time = pd.DataFrame(time_df)"
   ]
  },
  {
   "cell_type": "code",
   "execution_count": null,
   "id": "a1c496a2",
   "metadata": {
    "execution": {
     "iopub.status.busy": "2023-04-08T15:56:21.674939Z",
     "iopub.status.idle": "2023-04-08T15:56:21.675548Z",
     "shell.execute_reply": "2023-04-08T15:56:21.675271Z",
     "shell.execute_reply.started": "2023-04-08T15:56:21.675238Z"
    },
    "papermill": {
     "duration": null,
     "end_time": null,
     "exception": null,
     "start_time": null,
     "status": "pending"
    },
    "tags": []
   },
   "outputs": [],
   "source": [
    "df_time['vent_duration'] = durations"
   ]
  },
  {
   "cell_type": "code",
   "execution_count": null,
   "id": "39ac7d3a",
   "metadata": {
    "execution": {
     "iopub.status.busy": "2023-04-08T15:56:21.678345Z",
     "iopub.status.idle": "2023-04-08T15:56:21.679030Z",
     "shell.execute_reply": "2023-04-08T15:56:21.678728Z",
     "shell.execute_reply.started": "2023-04-08T15:56:21.678689Z"
    },
    "papermill": {
     "duration": null,
     "end_time": null,
     "exception": null,
     "start_time": null,
     "status": "pending"
    },
    "tags": []
   },
   "outputs": [],
   "source": [
    "df_time['vent_duration'] = df_time['vent_duration'].apply(bin_fun)"
   ]
  },
  {
   "cell_type": "code",
   "execution_count": null,
   "id": "483372d5",
   "metadata": {
    "execution": {
     "iopub.status.busy": "2023-04-08T15:56:21.680792Z",
     "iopub.status.idle": "2023-04-08T15:56:21.681464Z",
     "shell.execute_reply": "2023-04-08T15:56:21.681160Z",
     "shell.execute_reply.started": "2023-04-08T15:56:21.681122Z"
    },
    "papermill": {
     "duration": null,
     "end_time": null,
     "exception": null,
     "start_time": null,
     "status": "pending"
    },
    "tags": []
   },
   "outputs": [],
   "source": [
    "df_time['vent_duration'].value_counts()"
   ]
  },
  {
   "cell_type": "code",
   "execution_count": null,
   "id": "b3856400",
   "metadata": {
    "execution": {
     "iopub.status.busy": "2023-04-08T15:56:21.683494Z",
     "iopub.status.idle": "2023-04-08T15:56:21.684188Z",
     "shell.execute_reply": "2023-04-08T15:56:21.683878Z",
     "shell.execute_reply.started": "2023-04-08T15:56:21.683842Z"
    },
    "papermill": {
     "duration": null,
     "end_time": null,
     "exception": null,
     "start_time": null,
     "status": "pending"
    },
    "tags": []
   },
   "outputs": [],
   "source": [
    "# X = df_time.iloc[:, :-1]\n",
    "# y = df_time['vent_duration']\n",
    "\n",
    "# from imblearn.under_sampling import RandomUnderSampler\n",
    "\n",
    "# rus = RandomUnderSampler(random_state = 42)\n",
    "# X_resampled, y_resampled = rus.fit_resample(X, y)"
   ]
  },
  {
   "cell_type": "code",
   "execution_count": null,
   "id": "c2478bd8",
   "metadata": {
    "execution": {
     "iopub.status.busy": "2023-04-08T15:56:21.686262Z",
     "iopub.status.idle": "2023-04-08T15:56:21.686947Z",
     "shell.execute_reply": "2023-04-08T15:56:21.686622Z",
     "shell.execute_reply.started": "2023-04-08T15:56:21.686586Z"
    },
    "papermill": {
     "duration": null,
     "end_time": null,
     "exception": null,
     "start_time": null,
     "status": "pending"
    },
    "tags": []
   },
   "outputs": [],
   "source": [
    "# x_train, x_test, y_train, y_test = train_test_split(X_resampled, y_resampled, random_state = 42)"
   ]
  },
  {
   "cell_type": "code",
   "execution_count": null,
   "id": "fe694f5f",
   "metadata": {
    "execution": {
     "iopub.status.busy": "2023-04-08T15:56:21.689020Z",
     "iopub.status.idle": "2023-04-08T15:56:21.689641Z",
     "shell.execute_reply": "2023-04-08T15:56:21.689415Z",
     "shell.execute_reply.started": "2023-04-08T15:56:21.689377Z"
    },
    "papermill": {
     "duration": null,
     "end_time": null,
     "exception": null,
     "start_time": null,
     "status": "pending"
    },
    "tags": []
   },
   "outputs": [],
   "source": [
    "x_train, x_test, y_train, y_test = train_test_split(df_time.iloc[:, :-1], df_time['vent_duration'], random_state = 42)"
   ]
  },
  {
   "cell_type": "code",
   "execution_count": null,
   "id": "477b2c96",
   "metadata": {
    "execution": {
     "iopub.status.busy": "2023-04-08T15:56:21.690964Z",
     "iopub.status.idle": "2023-04-08T15:56:21.691646Z",
     "shell.execute_reply": "2023-04-08T15:56:21.691338Z",
     "shell.execute_reply.started": "2023-04-08T15:56:21.691296Z"
    },
    "papermill": {
     "duration": null,
     "end_time": null,
     "exception": null,
     "start_time": null,
     "status": "pending"
    },
    "tags": []
   },
   "outputs": [],
   "source": [
    "from sklearn.preprocessing import OneHotEncoder\n",
    "\n",
    "encoder = OneHotEncoder()\n",
    "encoder.fit(y_train.values.reshape(-1, 1))\n",
    "\n",
    "one_hot_y_train = encoder.transform(y_train.values.reshape(-1 ,1)).toarray()\n",
    "one_hot_y_test = encoder.transform(y_test.values.reshape(-1 ,1)).toarray()"
   ]
  },
  {
   "cell_type": "code",
   "execution_count": null,
   "id": "a0fc5a99",
   "metadata": {
    "execution": {
     "iopub.status.busy": "2023-04-08T15:56:21.693268Z",
     "iopub.status.idle": "2023-04-08T15:56:21.693902Z",
     "shell.execute_reply": "2023-04-08T15:56:21.693598Z",
     "shell.execute_reply.started": "2023-04-08T15:56:21.693565Z"
    },
    "papermill": {
     "duration": null,
     "end_time": null,
     "exception": null,
     "start_time": null,
     "status": "pending"
    },
    "tags": []
   },
   "outputs": [],
   "source": [
    "x_train = x_train.values.tolist()\n",
    "x_train = [[x if isinstance(x, list) else [x] * 8 for x in row] for row in x_train]\n",
    "x_train = np.array(x_train)"
   ]
  },
  {
   "cell_type": "code",
   "execution_count": null,
   "id": "ec062879",
   "metadata": {
    "execution": {
     "iopub.status.busy": "2023-04-08T15:56:21.695422Z",
     "iopub.status.idle": "2023-04-08T15:56:21.696036Z",
     "shell.execute_reply": "2023-04-08T15:56:21.695760Z",
     "shell.execute_reply.started": "2023-04-08T15:56:21.695727Z"
    },
    "papermill": {
     "duration": null,
     "end_time": null,
     "exception": null,
     "start_time": null,
     "status": "pending"
    },
    "tags": []
   },
   "outputs": [],
   "source": [
    "x_test = x_test.values.tolist()\n",
    "x_test = [[x if isinstance(x, list) else [x] * 8 for x in row] for row in x_test]\n",
    "x_test = np.array(x_test)"
   ]
  },
  {
   "cell_type": "code",
   "execution_count": null,
   "id": "6b68a5a0",
   "metadata": {
    "execution": {
     "iopub.status.busy": "2023-04-08T15:56:21.698078Z",
     "iopub.status.idle": "2023-04-08T15:56:21.698714Z",
     "shell.execute_reply": "2023-04-08T15:56:21.698424Z",
     "shell.execute_reply.started": "2023-04-08T15:56:21.698390Z"
    },
    "papermill": {
     "duration": null,
     "end_time": null,
     "exception": null,
     "start_time": null,
     "status": "pending"
    },
    "tags": []
   },
   "outputs": [],
   "source": [
    "model = keras.Sequential([\n",
    "    layers.Masking(mask_value = 0),\n",
    "    layers.LSTM(64, return_sequences = False ,activation = 'softsign'), \n",
    "    layers.BatchNormalization(),\n",
    "    layers.Dense(4, activation = 'softmax')\n",
    "])\n",
    "\n",
    "model.compile(loss = 'categorical_crossentropy', optimizer = 'adam', metrics = ['accuracy'])"
   ]
  },
  {
   "cell_type": "code",
   "execution_count": null,
   "id": "bc835814",
   "metadata": {
    "execution": {
     "iopub.status.busy": "2023-04-08T15:56:21.700309Z",
     "iopub.status.idle": "2023-04-08T15:56:21.700940Z",
     "shell.execute_reply": "2023-04-08T15:56:21.700651Z",
     "shell.execute_reply.started": "2023-04-08T15:56:21.700617Z"
    },
    "papermill": {
     "duration": null,
     "end_time": null,
     "exception": null,
     "start_time": null,
     "status": "pending"
    },
    "tags": []
   },
   "outputs": [],
   "source": [
    "history = model.fit(x_train, one_hot_y_train, epochs = 10, batch_size = 64, validation_split = 0.1)"
   ]
  },
  {
   "cell_type": "code",
   "execution_count": null,
   "id": "36ffe081",
   "metadata": {
    "execution": {
     "iopub.status.busy": "2023-04-08T15:56:21.702753Z",
     "iopub.status.idle": "2023-04-08T15:56:21.703365Z",
     "shell.execute_reply": "2023-04-08T15:56:21.703068Z",
     "shell.execute_reply.started": "2023-04-08T15:56:21.703036Z"
    },
    "papermill": {
     "duration": null,
     "end_time": null,
     "exception": null,
     "start_time": null,
     "status": "pending"
    },
    "tags": []
   },
   "outputs": [],
   "source": [
    "y_pred = model.predict(x_test)"
   ]
  },
  {
   "cell_type": "code",
   "execution_count": null,
   "id": "0db9da80",
   "metadata": {
    "execution": {
     "iopub.status.busy": "2023-04-08T15:56:21.705027Z",
     "iopub.status.idle": "2023-04-08T15:56:21.705632Z",
     "shell.execute_reply": "2023-04-08T15:56:21.705359Z",
     "shell.execute_reply.started": "2023-04-08T15:56:21.705326Z"
    },
    "papermill": {
     "duration": null,
     "end_time": null,
     "exception": null,
     "start_time": null,
     "status": "pending"
    },
    "tags": []
   },
   "outputs": [],
   "source": [
    "#fig, ax = plt.subplots(figsize = (20, 5))\n",
    "plt.plot(y_test.values)\n",
    "plt.plot(y_pred)\n",
    "plt.show"
   ]
  },
  {
   "cell_type": "code",
   "execution_count": null,
   "id": "4028fda3",
   "metadata": {
    "papermill": {
     "duration": null,
     "end_time": null,
     "exception": null,
     "start_time": null,
     "status": "pending"
    },
    "tags": []
   },
   "outputs": [],
   "source": []
  }
 ],
 "metadata": {
  "kernelspec": {
   "display_name": "Python 3",
   "language": "python",
   "name": "python3"
  },
  "language_info": {
   "codemirror_mode": {
    "name": "ipython",
    "version": 3
   },
   "file_extension": ".py",
   "mimetype": "text/x-python",
   "name": "python",
   "nbconvert_exporter": "python",
   "pygments_lexer": "ipython3",
   "version": "3.7.12"
  },
  "papermill": {
   "default_parameters": {},
   "duration": 1238.68787,
   "end_time": "2023-04-08T18:16:13.618372",
   "environment_variables": {},
   "exception": true,
   "input_path": "__notebook__.ipynb",
   "output_path": "__notebook__.ipynb",
   "parameters": {},
   "start_time": "2023-04-08T17:55:34.930502",
   "version": "2.4.0"
  }
 },
 "nbformat": 4,
 "nbformat_minor": 5
}
